{
 "cells": [
  {
   "cell_type": "markdown",
   "metadata": {},
   "source": [
    "# Определение стоимости автомобилей для «Не бит, не крашен»"
   ]
  },
  {
   "cell_type": "markdown",
   "metadata": {},
   "source": [
    "Сервис по продаже автомобилей с пробегом «Не бит, не крашен» разрабатывает приложение для привлечения новых клиентов. В нем можно быстро узнать рыночную стоимость своего автомобиля.\n",
    "\n",
    "**Цель исследования:** построение модели для определения рыночной стоимости автомобиля\n",
    "\n",
    "Заказчик предоставляет в распоряжение исторические данные, содержащие технические характеристики, комплектации и цены автомобилей.\n",
    "\n",
    "**Заказчику важны следующие показатели:**\n",
    "1. Качество предсказания\n",
    "2. Скорость предсказания\n",
    "3. Время обучения\n",
    "\n",
    "**Этапы исследования:**\n",
    "1. Загрузка и обзор данных\n",
    "2. Предобработка данных\n",
    "3. Подготовка данных для обучения моделей\n",
    "4. Обучение моделей\n",
    "5. Анализ времени обучения, времени предсказания и качества моделей\n",
    "6. Выбор лучшей модели\n",
    "7. Написание общего вывода"
   ]
  },
  {
   "cell_type": "markdown",
   "metadata": {},
   "source": [
    "## Загрузка данных"
   ]
  },
  {
   "cell_type": "markdown",
   "metadata": {},
   "source": [
    "Установим и импортируем необходимые для исследования библиотеки:"
   ]
  },
  {
   "cell_type": "code",
   "execution_count": 1,
   "metadata": {},
   "outputs": [],
   "source": [
    "#!pip install scikit-learn==1.6 -q"
   ]
  },
  {
   "cell_type": "code",
   "execution_count": 62,
   "metadata": {},
   "outputs": [],
   "source": [
    "import pandas as pd\n",
    "import numpy as np\n",
    "from numpy.random import RandomState\n",
    "import matplotlib.pyplot as plt\n",
    "import seaborn as sns\n",
    "import sklearn\n",
    "from sklearn.model_selection import (\n",
    "    train_test_split,\n",
    "    GridSearchCV,\n",
    "    cross_val_score\n",
    ")\n",
    "from sklearn.pipeline import Pipeline\n",
    "from sklearn.preprocessing import (\n",
    "    StandardScaler,\n",
    "    OneHotEncoder,\n",
    "    OrdinalEncoder,\n",
    "    MinMaxScaler\n",
    ")\n",
    "from sklearn.impute import SimpleImputer\n",
    "from sklearn.compose import ColumnTransformer\n",
    "from sklearn.linear_model import LinearRegression\n",
    "from sklearn.metrics import mean_squared_error\n",
    "from lightgbm import LGBMRegressor\n",
    "from catboost import CatBoostRegressor\n",
    "import time"
   ]
  },
  {
   "cell_type": "markdown",
   "metadata": {},
   "source": [
    "Откроем файл с датасетом:"
   ]
  },
  {
   "cell_type": "code",
   "execution_count": 3,
   "metadata": {},
   "outputs": [],
   "source": [
    "try:\n",
    "    autos = pd.read_csv('/datasets/autos.csv')\n",
    "except:\n",
    "    autos = pd.read_csv('https://code.s3.yandex.net/datasets/autos.csv')"
   ]
  },
  {
   "cell_type": "markdown",
   "metadata": {},
   "source": [
    "Выведем первые строки и общую информацию о датасете `autos`:"
   ]
  },
  {
   "cell_type": "code",
   "execution_count": 4,
   "metadata": {},
   "outputs": [
    {
     "data": {
      "text/html": [
       "<div>\n",
       "<style scoped>\n",
       "    .dataframe tbody tr th:only-of-type {\n",
       "        vertical-align: middle;\n",
       "    }\n",
       "\n",
       "    .dataframe tbody tr th {\n",
       "        vertical-align: top;\n",
       "    }\n",
       "\n",
       "    .dataframe thead th {\n",
       "        text-align: right;\n",
       "    }\n",
       "</style>\n",
       "<table border=\"1\" class=\"dataframe\">\n",
       "  <thead>\n",
       "    <tr style=\"text-align: right;\">\n",
       "      <th></th>\n",
       "      <th>DateCrawled</th>\n",
       "      <th>Price</th>\n",
       "      <th>VehicleType</th>\n",
       "      <th>RegistrationYear</th>\n",
       "      <th>Gearbox</th>\n",
       "      <th>Power</th>\n",
       "      <th>Model</th>\n",
       "      <th>Kilometer</th>\n",
       "      <th>RegistrationMonth</th>\n",
       "      <th>FuelType</th>\n",
       "      <th>Brand</th>\n",
       "      <th>Repaired</th>\n",
       "      <th>DateCreated</th>\n",
       "      <th>NumberOfPictures</th>\n",
       "      <th>PostalCode</th>\n",
       "      <th>LastSeen</th>\n",
       "    </tr>\n",
       "  </thead>\n",
       "  <tbody>\n",
       "    <tr>\n",
       "      <th>0</th>\n",
       "      <td>2016-03-24 11:52:17</td>\n",
       "      <td>480</td>\n",
       "      <td>NaN</td>\n",
       "      <td>1993</td>\n",
       "      <td>manual</td>\n",
       "      <td>0</td>\n",
       "      <td>golf</td>\n",
       "      <td>150000</td>\n",
       "      <td>0</td>\n",
       "      <td>petrol</td>\n",
       "      <td>volkswagen</td>\n",
       "      <td>NaN</td>\n",
       "      <td>2016-03-24 00:00:00</td>\n",
       "      <td>0</td>\n",
       "      <td>70435</td>\n",
       "      <td>2016-04-07 03:16:57</td>\n",
       "    </tr>\n",
       "    <tr>\n",
       "      <th>1</th>\n",
       "      <td>2016-03-24 10:58:45</td>\n",
       "      <td>18300</td>\n",
       "      <td>coupe</td>\n",
       "      <td>2011</td>\n",
       "      <td>manual</td>\n",
       "      <td>190</td>\n",
       "      <td>NaN</td>\n",
       "      <td>125000</td>\n",
       "      <td>5</td>\n",
       "      <td>gasoline</td>\n",
       "      <td>audi</td>\n",
       "      <td>yes</td>\n",
       "      <td>2016-03-24 00:00:00</td>\n",
       "      <td>0</td>\n",
       "      <td>66954</td>\n",
       "      <td>2016-04-07 01:46:50</td>\n",
       "    </tr>\n",
       "    <tr>\n",
       "      <th>2</th>\n",
       "      <td>2016-03-14 12:52:21</td>\n",
       "      <td>9800</td>\n",
       "      <td>suv</td>\n",
       "      <td>2004</td>\n",
       "      <td>auto</td>\n",
       "      <td>163</td>\n",
       "      <td>grand</td>\n",
       "      <td>125000</td>\n",
       "      <td>8</td>\n",
       "      <td>gasoline</td>\n",
       "      <td>jeep</td>\n",
       "      <td>NaN</td>\n",
       "      <td>2016-03-14 00:00:00</td>\n",
       "      <td>0</td>\n",
       "      <td>90480</td>\n",
       "      <td>2016-04-05 12:47:46</td>\n",
       "    </tr>\n",
       "    <tr>\n",
       "      <th>3</th>\n",
       "      <td>2016-03-17 16:54:04</td>\n",
       "      <td>1500</td>\n",
       "      <td>small</td>\n",
       "      <td>2001</td>\n",
       "      <td>manual</td>\n",
       "      <td>75</td>\n",
       "      <td>golf</td>\n",
       "      <td>150000</td>\n",
       "      <td>6</td>\n",
       "      <td>petrol</td>\n",
       "      <td>volkswagen</td>\n",
       "      <td>no</td>\n",
       "      <td>2016-03-17 00:00:00</td>\n",
       "      <td>0</td>\n",
       "      <td>91074</td>\n",
       "      <td>2016-03-17 17:40:17</td>\n",
       "    </tr>\n",
       "    <tr>\n",
       "      <th>4</th>\n",
       "      <td>2016-03-31 17:25:20</td>\n",
       "      <td>3600</td>\n",
       "      <td>small</td>\n",
       "      <td>2008</td>\n",
       "      <td>manual</td>\n",
       "      <td>69</td>\n",
       "      <td>fabia</td>\n",
       "      <td>90000</td>\n",
       "      <td>7</td>\n",
       "      <td>gasoline</td>\n",
       "      <td>skoda</td>\n",
       "      <td>no</td>\n",
       "      <td>2016-03-31 00:00:00</td>\n",
       "      <td>0</td>\n",
       "      <td>60437</td>\n",
       "      <td>2016-04-06 10:17:21</td>\n",
       "    </tr>\n",
       "  </tbody>\n",
       "</table>\n",
       "</div>"
      ],
      "text/plain": [
       "           DateCrawled  Price VehicleType  RegistrationYear Gearbox  Power  \\\n",
       "0  2016-03-24 11:52:17    480         NaN              1993  manual      0   \n",
       "1  2016-03-24 10:58:45  18300       coupe              2011  manual    190   \n",
       "2  2016-03-14 12:52:21   9800         suv              2004    auto    163   \n",
       "3  2016-03-17 16:54:04   1500       small              2001  manual     75   \n",
       "4  2016-03-31 17:25:20   3600       small              2008  manual     69   \n",
       "\n",
       "   Model  Kilometer  RegistrationMonth  FuelType       Brand Repaired  \\\n",
       "0   golf     150000                  0    petrol  volkswagen      NaN   \n",
       "1    NaN     125000                  5  gasoline        audi      yes   \n",
       "2  grand     125000                  8  gasoline        jeep      NaN   \n",
       "3   golf     150000                  6    petrol  volkswagen       no   \n",
       "4  fabia      90000                  7  gasoline       skoda       no   \n",
       "\n",
       "           DateCreated  NumberOfPictures  PostalCode             LastSeen  \n",
       "0  2016-03-24 00:00:00                 0       70435  2016-04-07 03:16:57  \n",
       "1  2016-03-24 00:00:00                 0       66954  2016-04-07 01:46:50  \n",
       "2  2016-03-14 00:00:00                 0       90480  2016-04-05 12:47:46  \n",
       "3  2016-03-17 00:00:00                 0       91074  2016-03-17 17:40:17  \n",
       "4  2016-03-31 00:00:00                 0       60437  2016-04-06 10:17:21  "
      ]
     },
     "execution_count": 4,
     "metadata": {},
     "output_type": "execute_result"
    }
   ],
   "source": [
    "autos.head()"
   ]
  },
  {
   "cell_type": "markdown",
   "metadata": {},
   "source": [
    "Датасет содержит следующие данные:\n",
    "* `DateCrawled` - дата скачивания анкеты из базы\n",
    "* `VehicleType` - тип автомобильного кузова\n",
    "* `RegistrationYear` - год регистрации автомобиля\n",
    "* `Gearbox` - тип коробки передач\n",
    "* `Power` - мощность (л.с.)\n",
    "* `Model` - модель автомобиля\n",
    "* `Kilometer` - пробег (км)\n",
    "* `RegistrationMonth` - месяц регистрации автомобиля\n",
    "* `FuelType` - тип топлива\n",
    "* `Brand` - марка автомобиля\n",
    "* `Repaired` - была машина в ремонте или нет\n",
    "* `DateCreated` - дата создания анкеты\n",
    "* `NumberOfPictures` - количество фотографий автомобиля\n",
    "* `PostalCode` - почтовый индекс владельца анкеты (пользователя)\n",
    "* `LastSeen` - дата последней активности пользователя\n",
    "* `Price` - цена (евро), целевой признак"
   ]
  },
  {
   "cell_type": "markdown",
   "metadata": {},
   "source": [
    "Определим функцию для отображения информации о датасете:"
   ]
  },
  {
   "cell_type": "code",
   "execution_count": 5,
   "metadata": {},
   "outputs": [],
   "source": [
    "def get_info(df):\n",
    "    print(df.info())\n",
    "    print(50 * '-')\n",
    "    display(df.describe().T)"
   ]
  },
  {
   "cell_type": "markdown",
   "metadata": {},
   "source": [
    "Выведем информацию о датасете `autos`:"
   ]
  },
  {
   "cell_type": "code",
   "execution_count": 6,
   "metadata": {},
   "outputs": [
    {
     "name": "stdout",
     "output_type": "stream",
     "text": [
      "<class 'pandas.core.frame.DataFrame'>\n",
      "RangeIndex: 354369 entries, 0 to 354368\n",
      "Data columns (total 16 columns):\n",
      " #   Column             Non-Null Count   Dtype \n",
      "---  ------             --------------   ----- \n",
      " 0   DateCrawled        354369 non-null  object\n",
      " 1   Price              354369 non-null  int64 \n",
      " 2   VehicleType        316879 non-null  object\n",
      " 3   RegistrationYear   354369 non-null  int64 \n",
      " 4   Gearbox            334536 non-null  object\n",
      " 5   Power              354369 non-null  int64 \n",
      " 6   Model              334664 non-null  object\n",
      " 7   Kilometer          354369 non-null  int64 \n",
      " 8   RegistrationMonth  354369 non-null  int64 \n",
      " 9   FuelType           321474 non-null  object\n",
      " 10  Brand              354369 non-null  object\n",
      " 11  Repaired           283215 non-null  object\n",
      " 12  DateCreated        354369 non-null  object\n",
      " 13  NumberOfPictures   354369 non-null  int64 \n",
      " 14  PostalCode         354369 non-null  int64 \n",
      " 15  LastSeen           354369 non-null  object\n",
      "dtypes: int64(7), object(9)\n",
      "memory usage: 43.3+ MB\n",
      "None\n",
      "--------------------------------------------------\n"
     ]
    },
    {
     "data": {
      "text/html": [
       "<div>\n",
       "<style scoped>\n",
       "    .dataframe tbody tr th:only-of-type {\n",
       "        vertical-align: middle;\n",
       "    }\n",
       "\n",
       "    .dataframe tbody tr th {\n",
       "        vertical-align: top;\n",
       "    }\n",
       "\n",
       "    .dataframe thead th {\n",
       "        text-align: right;\n",
       "    }\n",
       "</style>\n",
       "<table border=\"1\" class=\"dataframe\">\n",
       "  <thead>\n",
       "    <tr style=\"text-align: right;\">\n",
       "      <th></th>\n",
       "      <th>count</th>\n",
       "      <th>mean</th>\n",
       "      <th>std</th>\n",
       "      <th>min</th>\n",
       "      <th>25%</th>\n",
       "      <th>50%</th>\n",
       "      <th>75%</th>\n",
       "      <th>max</th>\n",
       "    </tr>\n",
       "  </thead>\n",
       "  <tbody>\n",
       "    <tr>\n",
       "      <th>Price</th>\n",
       "      <td>354369.0</td>\n",
       "      <td>4416.656776</td>\n",
       "      <td>4514.158514</td>\n",
       "      <td>0.0</td>\n",
       "      <td>1050.0</td>\n",
       "      <td>2700.0</td>\n",
       "      <td>6400.0</td>\n",
       "      <td>20000.0</td>\n",
       "    </tr>\n",
       "    <tr>\n",
       "      <th>RegistrationYear</th>\n",
       "      <td>354369.0</td>\n",
       "      <td>2004.234448</td>\n",
       "      <td>90.227958</td>\n",
       "      <td>1000.0</td>\n",
       "      <td>1999.0</td>\n",
       "      <td>2003.0</td>\n",
       "      <td>2008.0</td>\n",
       "      <td>9999.0</td>\n",
       "    </tr>\n",
       "    <tr>\n",
       "      <th>Power</th>\n",
       "      <td>354369.0</td>\n",
       "      <td>110.094337</td>\n",
       "      <td>189.850405</td>\n",
       "      <td>0.0</td>\n",
       "      <td>69.0</td>\n",
       "      <td>105.0</td>\n",
       "      <td>143.0</td>\n",
       "      <td>20000.0</td>\n",
       "    </tr>\n",
       "    <tr>\n",
       "      <th>Kilometer</th>\n",
       "      <td>354369.0</td>\n",
       "      <td>128211.172535</td>\n",
       "      <td>37905.341530</td>\n",
       "      <td>5000.0</td>\n",
       "      <td>125000.0</td>\n",
       "      <td>150000.0</td>\n",
       "      <td>150000.0</td>\n",
       "      <td>150000.0</td>\n",
       "    </tr>\n",
       "    <tr>\n",
       "      <th>RegistrationMonth</th>\n",
       "      <td>354369.0</td>\n",
       "      <td>5.714645</td>\n",
       "      <td>3.726421</td>\n",
       "      <td>0.0</td>\n",
       "      <td>3.0</td>\n",
       "      <td>6.0</td>\n",
       "      <td>9.0</td>\n",
       "      <td>12.0</td>\n",
       "    </tr>\n",
       "    <tr>\n",
       "      <th>NumberOfPictures</th>\n",
       "      <td>354369.0</td>\n",
       "      <td>0.000000</td>\n",
       "      <td>0.000000</td>\n",
       "      <td>0.0</td>\n",
       "      <td>0.0</td>\n",
       "      <td>0.0</td>\n",
       "      <td>0.0</td>\n",
       "      <td>0.0</td>\n",
       "    </tr>\n",
       "    <tr>\n",
       "      <th>PostalCode</th>\n",
       "      <td>354369.0</td>\n",
       "      <td>50508.689087</td>\n",
       "      <td>25783.096248</td>\n",
       "      <td>1067.0</td>\n",
       "      <td>30165.0</td>\n",
       "      <td>49413.0</td>\n",
       "      <td>71083.0</td>\n",
       "      <td>99998.0</td>\n",
       "    </tr>\n",
       "  </tbody>\n",
       "</table>\n",
       "</div>"
      ],
      "text/plain": [
       "                      count           mean           std     min       25%  \\\n",
       "Price              354369.0    4416.656776   4514.158514     0.0    1050.0   \n",
       "RegistrationYear   354369.0    2004.234448     90.227958  1000.0    1999.0   \n",
       "Power              354369.0     110.094337    189.850405     0.0      69.0   \n",
       "Kilometer          354369.0  128211.172535  37905.341530  5000.0  125000.0   \n",
       "RegistrationMonth  354369.0       5.714645      3.726421     0.0       3.0   \n",
       "NumberOfPictures   354369.0       0.000000      0.000000     0.0       0.0   \n",
       "PostalCode         354369.0   50508.689087  25783.096248  1067.0   30165.0   \n",
       "\n",
       "                        50%       75%       max  \n",
       "Price                2700.0    6400.0   20000.0  \n",
       "RegistrationYear     2003.0    2008.0    9999.0  \n",
       "Power                 105.0     143.0   20000.0  \n",
       "Kilometer          150000.0  150000.0  150000.0  \n",
       "RegistrationMonth       6.0       9.0      12.0  \n",
       "NumberOfPictures        0.0       0.0       0.0  \n",
       "PostalCode          49413.0   71083.0   99998.0  "
      ]
     },
     "metadata": {},
     "output_type": "display_data"
    }
   ],
   "source": [
    "get_info(autos)"
   ]
  },
  {
   "cell_type": "markdown",
   "metadata": {},
   "source": [
    "В датафрейме имеются пропуски данных, а также некорректные значения и аномалии в столбцах, поэтому необходима предобработка данных."
   ]
  },
  {
   "cell_type": "markdown",
   "metadata": {},
   "source": [
    "## Предобработка и исследовательский анализ данных"
   ]
  },
  {
   "cell_type": "markdown",
   "metadata": {},
   "source": [
    "Посчитаем количество и долю пропусков в данных:"
   ]
  },
  {
   "cell_type": "code",
   "execution_count": 7,
   "metadata": {},
   "outputs": [
    {
     "data": {
      "text/plain": [
       "DateCrawled              0\n",
       "Price                    0\n",
       "VehicleType          37490\n",
       "RegistrationYear         0\n",
       "Gearbox              19833\n",
       "Power                    0\n",
       "Model                19705\n",
       "Kilometer                0\n",
       "RegistrationMonth        0\n",
       "FuelType             32895\n",
       "Brand                    0\n",
       "Repaired             71154\n",
       "DateCreated              0\n",
       "NumberOfPictures         0\n",
       "PostalCode               0\n",
       "LastSeen                 0\n",
       "dtype: int64"
      ]
     },
     "execution_count": 7,
     "metadata": {},
     "output_type": "execute_result"
    }
   ],
   "source": [
    "autos.isna().sum()"
   ]
  },
  {
   "cell_type": "code",
   "execution_count": 8,
   "metadata": {},
   "outputs": [
    {
     "data": {
      "text/plain": [
       "DateCrawled           0.00\n",
       "Price                 0.00\n",
       "VehicleType          10.58\n",
       "RegistrationYear      0.00\n",
       "Gearbox               5.60\n",
       "Power                 0.00\n",
       "Model                 5.56\n",
       "Kilometer             0.00\n",
       "RegistrationMonth     0.00\n",
       "FuelType              9.28\n",
       "Brand                 0.00\n",
       "Repaired             20.08\n",
       "DateCreated           0.00\n",
       "NumberOfPictures      0.00\n",
       "PostalCode            0.00\n",
       "LastSeen              0.00\n",
       "dtype: float64"
      ]
     },
     "execution_count": 8,
     "metadata": {},
     "output_type": "execute_result"
    }
   ],
   "source": [
    "round(autos.isna().mean() * 100, 2)"
   ]
  },
  {
   "cell_type": "markdown",
   "metadata": {},
   "source": [
    "Пропуски данных имеют пять столбцов, доля пропусков достаточно высокая, чтобы просто удалить эти данные из датафрейма. Далее попробуем решить проблему с пропусками."
   ]
  },
  {
   "cell_type": "markdown",
   "metadata": {},
   "source": [
    "Определим функцию для нахождения категориальных и количественных признаков в датафрейме:"
   ]
  },
  {
   "cell_type": "code",
   "execution_count": 9,
   "metadata": {},
   "outputs": [],
   "source": [
    "def get_columns(df):\n",
    "    return {\n",
    "        'cat_col_names': df.select_dtypes(exclude='number').columns.tolist(),\n",
    "        'num_col_names': df.select_dtypes(include='number').columns.tolist()\n",
    "    }"
   ]
  },
  {
   "cell_type": "markdown",
   "metadata": {},
   "source": [
    "Произведем проверку текстовых столбцов датафрейма (за исключением дат) на наличие неявных дубликатов и пропусков данных:"
   ]
  },
  {
   "cell_type": "code",
   "execution_count": 10,
   "metadata": {},
   "outputs": [
    {
     "data": {
      "text/plain": [
       "['DateCrawled',\n",
       " 'VehicleType',\n",
       " 'Gearbox',\n",
       " 'Model',\n",
       " 'FuelType',\n",
       " 'Brand',\n",
       " 'Repaired',\n",
       " 'DateCreated',\n",
       " 'LastSeen']"
      ]
     },
     "execution_count": 10,
     "metadata": {},
     "output_type": "execute_result"
    }
   ],
   "source": [
    "get_columns(autos)['cat_col_names']"
   ]
  },
  {
   "cell_type": "markdown",
   "metadata": {},
   "source": [
    "Проверим значения в столбце `VehicleType`:"
   ]
  },
  {
   "cell_type": "code",
   "execution_count": 11,
   "metadata": {},
   "outputs": [
    {
     "data": {
      "text/plain": [
       "['bus', 'convertible', 'coupe', 'other', 'sedan', 'small', 'suv', 'wagon', nan]"
      ]
     },
     "execution_count": 11,
     "metadata": {},
     "output_type": "execute_result"
    }
   ],
   "source": [
    "autos['VehicleType'].sort_values().unique().tolist()"
   ]
  },
  {
   "cell_type": "markdown",
   "metadata": {},
   "source": [
    "Неявных дубликатов в типах автомобильного кузова не выявлено, пропуски заменим на значение `other`:"
   ]
  },
  {
   "cell_type": "code",
   "execution_count": 12,
   "metadata": {},
   "outputs": [],
   "source": [
    "autos['VehicleType'] = autos['VehicleType'].fillna('other')"
   ]
  },
  {
   "cell_type": "markdown",
   "metadata": {},
   "source": [
    "Проверим значения в столбце `Gearbox`:"
   ]
  },
  {
   "cell_type": "code",
   "execution_count": 13,
   "metadata": {},
   "outputs": [
    {
     "data": {
      "text/plain": [
       "['auto', 'manual', nan]"
      ]
     },
     "execution_count": 13,
     "metadata": {},
     "output_type": "execute_result"
    }
   ],
   "source": [
    "autos['Gearbox'].sort_values().unique().tolist()"
   ]
  },
  {
   "cell_type": "markdown",
   "metadata": {},
   "source": [
    "Неявных дубликатов в типах коробки передач не выявлено. Заполнять пропуски по моде некорректно, т.к. одни и те же модели автомобилей могут иметь разные типы КПП в зависимости от комплектации. Поэтому заменим пропуски на `unknown`:"
   ]
  },
  {
   "cell_type": "code",
   "execution_count": 14,
   "metadata": {},
   "outputs": [],
   "source": [
    "autos['Gearbox'] = autos['Gearbox'].fillna('unknown')"
   ]
  },
  {
   "cell_type": "markdown",
   "metadata": {},
   "source": [
    "Проверим значения в столбце `Model`:"
   ]
  },
  {
   "cell_type": "code",
   "execution_count": 15,
   "metadata": {},
   "outputs": [
    {
     "name": "stdout",
     "output_type": "stream",
     "text": [
      "['100', '145', '147', '156', '159', '1_reihe', '1er', '200', '2_reihe', '300c', '3_reihe', '3er', '4_reihe', '500', '5_reihe', '5er', '601', '6_reihe', '6er', '7er', '80', '850', '90', '900', '9000', '911', 'a1', 'a2', 'a3', 'a4', 'a5', 'a6', 'a8', 'a_klasse', 'accord', 'agila', 'alhambra', 'almera', 'altea', 'amarok', 'antara', 'arosa', 'astra', 'auris', 'avensis', 'aveo', 'aygo', 'b_klasse', 'b_max', 'beetle', 'berlingo', 'bora', 'boxster', 'bravo', 'c1', 'c2', 'c3', 'c4', 'c5', 'c_klasse', 'c_max', 'c_reihe', 'caddy', 'calibra', 'captiva', 'carisma', 'carnival', 'cayenne', 'cc', 'ceed', 'charade', 'cherokee', 'citigo', 'civic', 'cl', 'clio', 'clk', 'clubman', 'colt', 'combo', 'cooper', 'cordoba', 'corolla', 'corsa', 'cr_reihe', 'croma', 'crossfire', 'cuore', 'cx_reihe', 'defender', 'delta', 'discovery', 'doblo', 'ducato', 'duster', 'e_klasse', 'elefantino', 'eos', 'escort', 'espace', 'exeo', 'fabia', 'fiesta', 'focus', 'forester', 'forfour', 'fortwo', 'fox', 'freelander', 'fusion', 'g_klasse', 'galant', 'galaxy', 'getz', 'gl', 'glk', 'golf', 'grand', 'i3', 'i_reihe', 'ibiza', 'impreza', 'insignia', 'jazz', 'jetta', 'jimny', 'juke', 'justy', 'ka', 'kadett', 'kaefer', 'kalina', 'kalos', 'kangoo', 'kappa', 'kuga', 'laguna', 'lancer', 'lanos', 'legacy', 'leon', 'lodgy', 'logan', 'lupo', 'lybra', 'm_klasse', 'm_reihe', 'materia', 'matiz', 'megane', 'meriva', 'micra', 'mii', 'modus', 'mondeo', 'move', 'musa', 'mustang', 'mx_reihe', 'navara', 'niva', 'note', 'nubira', 'octavia', 'omega', 'one', 'other', 'outlander', 'pajero', 'panda', 'passat', 'phaeton', 'picanto', 'polo', 'primera', 'ptcruiser', 'punto', 'q3', 'q5', 'q7', 'qashqai', 'r19', 'range_rover', 'range_rover_evoque', 'range_rover_sport', 'rangerover', 'rav', 'rio', 'roadster', 'roomster', 'rx_reihe', 's60', 's_klasse', 's_max', 's_type', 'samara', 'sandero', 'santa', 'scenic', 'scirocco', 'seicento', 'serie_1', 'serie_2', 'serie_3', 'sharan', 'signum', 'sirion', 'sl', 'slk', 'sorento', 'spark', 'spider', 'sportage', 'sprinter', 'stilo', 'superb', 'swift', 'terios', 'tigra', 'tiguan', 'toledo', 'touareg', 'touran', 'transit', 'transporter', 'tt', 'tucson', 'twingo', 'up', 'v40', 'v50', 'v60', 'v70', 'v_klasse', 'vectra', 'verso', 'viano', 'vito', 'vivaro', 'voyager', 'wrangler', 'x_reihe', 'x_trail', 'x_type', 'xc_reihe', 'yaris', 'yeti', 'ypsilon', 'z_reihe', 'zafira', nan]\n"
     ]
    }
   ],
   "source": [
    "print(autos['Model'].sort_values().unique().tolist())"
   ]
  },
  {
   "cell_type": "markdown",
   "metadata": {},
   "source": [
    "Неявных дубликатов в моделях автомобилей не выявлено. Как и в предыдущем случае заменим пропуски на `unknown`:"
   ]
  },
  {
   "cell_type": "code",
   "execution_count": 16,
   "metadata": {},
   "outputs": [],
   "source": [
    "autos['Model'] = autos['Model'].fillna('unknown')"
   ]
  },
  {
   "cell_type": "markdown",
   "metadata": {},
   "source": [
    "Проверим значения в столбце `FuelType`:"
   ]
  },
  {
   "cell_type": "code",
   "execution_count": 17,
   "metadata": {},
   "outputs": [
    {
     "data": {
      "text/plain": [
       "['cng', 'electric', 'gasoline', 'hybrid', 'lpg', 'other', 'petrol', nan]"
      ]
     },
     "execution_count": 17,
     "metadata": {},
     "output_type": "execute_result"
    }
   ],
   "source": [
    "autos['FuelType'].sort_values().unique().tolist()"
   ]
  },
  {
   "cell_type": "markdown",
   "metadata": {},
   "source": [
    "Неявных дубликатов в типах топлива не выявлено, заменим пропуски на имеющееся в списке значение `other`:"
   ]
  },
  {
   "cell_type": "code",
   "execution_count": 18,
   "metadata": {},
   "outputs": [],
   "source": [
    "autos['FuelType'] = autos['FuelType'].fillna('other')"
   ]
  },
  {
   "cell_type": "markdown",
   "metadata": {},
   "source": [
    "В столбце `FuelType` некоторые категории можно объединить:"
   ]
  },
  {
   "cell_type": "code",
   "execution_count": 19,
   "metadata": {},
   "outputs": [],
   "source": [
    "autos['FuelType'] = autos['FuelType'].replace('gasoline', 'petrol')"
   ]
  },
  {
   "cell_type": "markdown",
   "metadata": {},
   "source": [
    "Проверим значения в столбце `Brand`:"
   ]
  },
  {
   "cell_type": "code",
   "execution_count": 20,
   "metadata": {},
   "outputs": [
    {
     "name": "stdout",
     "output_type": "stream",
     "text": [
      "['alfa_romeo', 'audi', 'bmw', 'chevrolet', 'chrysler', 'citroen', 'dacia', 'daewoo', 'daihatsu', 'fiat', 'ford', 'honda', 'hyundai', 'jaguar', 'jeep', 'kia', 'lada', 'lancia', 'land_rover', 'mazda', 'mercedes_benz', 'mini', 'mitsubishi', 'nissan', 'opel', 'peugeot', 'porsche', 'renault', 'rover', 'saab', 'seat', 'skoda', 'smart', 'sonstige_autos', 'subaru', 'suzuki', 'toyota', 'trabant', 'volkswagen', 'volvo']\n"
     ]
    }
   ],
   "source": [
    "print(autos['Brand'].sort_values().unique().tolist())"
   ]
  },
  {
   "cell_type": "markdown",
   "metadata": {},
   "source": [
    "Неявных дубликатов в марках автомобилей не выявлено."
   ]
  },
  {
   "cell_type": "markdown",
   "metadata": {},
   "source": [
    "Проверим значения в столбце `Repaired`:"
   ]
  },
  {
   "cell_type": "code",
   "execution_count": 21,
   "metadata": {},
   "outputs": [
    {
     "data": {
      "text/plain": [
       "['no', 'yes', nan]"
      ]
     },
     "execution_count": 21,
     "metadata": {},
     "output_type": "execute_result"
    }
   ],
   "source": [
    "autos['Repaired'].sort_values().unique().tolist()"
   ]
  },
  {
   "cell_type": "markdown",
   "metadata": {},
   "source": [
    "Неявных дубликатов в столбце не выявлено. Имеющиеся пропуски данных логичнее заменить на значение `no`, т. к., возможно, автомобилисты просто не указывали этот параметр в случае, если их автомобиль не был в ремонте:"
   ]
  },
  {
   "cell_type": "code",
   "execution_count": 22,
   "metadata": {},
   "outputs": [],
   "source": [
    "autos['Repaired'] = autos['Repaired'].fillna('no')"
   ]
  },
  {
   "cell_type": "markdown",
   "metadata": {},
   "source": [
    "Далее произведем проверку числовых столбцов датафрейма на наличие аномалий и некорректных данных."
   ]
  },
  {
   "cell_type": "code",
   "execution_count": 23,
   "metadata": {},
   "outputs": [
    {
     "data": {
      "text/plain": [
       "['Price',\n",
       " 'RegistrationYear',\n",
       " 'Power',\n",
       " 'Kilometer',\n",
       " 'RegistrationMonth',\n",
       " 'NumberOfPictures',\n",
       " 'PostalCode']"
      ]
     },
     "execution_count": 23,
     "metadata": {},
     "output_type": "execute_result"
    }
   ],
   "source": [
    "get_columns(autos)['num_col_names']"
   ]
  },
  {
   "cell_type": "markdown",
   "metadata": {},
   "source": [
    "Для отображения количественных признаков из датафреймов в виде гистограмм и диаграмм размаха (\"ящик с усами\") определим функцию:"
   ]
  },
  {
   "cell_type": "code",
   "execution_count": 24,
   "metadata": {},
   "outputs": [],
   "source": [
    "def show_graph_1(data, column, hist_title, box_title, xlabel):\n",
    "    fig, axes = plt.subplots(1, 2, figsize=(16, 6))\n",
    "    histplot = sns.histplot(\n",
    "        data=data,\n",
    "        x=column,\n",
    "        bins=50,\n",
    "        color='darkcyan',\n",
    "        kde=True,\n",
    "        ax=axes[0]\n",
    "    )\n",
    "    histplot.set(\n",
    "        title=hist_title,\n",
    "        xlabel=xlabel,\n",
    "        ylabel='Количество'\n",
    "    )\n",
    "    boxplot = sns.boxplot(\n",
    "        data=data,\n",
    "        x=column,\n",
    "        color='salmon',\n",
    "        ax=axes[1]\n",
    "    )\n",
    "    boxplot.set(\n",
    "        title=box_title,\n",
    "        xlabel=xlabel\n",
    "    )"
   ]
  },
  {
   "cell_type": "markdown",
   "metadata": {},
   "source": [
    "Отобразим гистограмму и \"ящик с усами\" для столбца `Price`:"
   ]
  },
  {
   "cell_type": "code",
   "execution_count": 25,
   "metadata": {},
   "outputs": [
    {
     "data": {
      "image/png": "[encoded data removed]",
      "text/plain": [
       "<Figure size 1152x432 with 2 Axes>"
      ]
     },
     "metadata": {
      "needs_background": "light"
     },
     "output_type": "display_data"
    }
   ],
   "source": [
    "show_graph_1(\n",
    "    autos,\n",
    "    'Price',\n",
    "    'Распределение цены автомобилей (в евро)',\n",
    "    'Диаграмма размаха цены автомобилей (в евро)',\n",
    "    'Цена (в евро)'\n",
    ")"
   ]
  },
  {
   "cell_type": "markdown",
   "metadata": {},
   "source": [
    "Цена автомобиля меньше 100 евро вызывает подозрение, там более нулевая цена - таких данных не должно быть в датафрейме. С другой стороны, имеются очень дорогие автомобили, но тут каждый владелец вправе устанавливать цену выше средней цены в зависимости от различных факторов. Поэтому удалим из датафрейма строки с ценой автомобиля меньше 100 евро:"
   ]
  },
  {
   "cell_type": "code",
   "execution_count": 26,
   "metadata": {},
   "outputs": [],
   "source": [
    "autos = autos[autos['Price'] >= 100]"
   ]
  },
  {
   "cell_type": "markdown",
   "metadata": {},
   "source": [
    "Отобразим гистограмму и \"ящик с усами\" для столбца `RegistrationYear`:"
   ]
  },
  {
   "cell_type": "code",
   "execution_count": 27,
   "metadata": {},
   "outputs": [
    {
     "data": {
      "image/png": "[encoded data removed]",
      "text/plain": [
       "<Figure size 1152x432 with 2 Axes>"
      ]
     },
     "metadata": {
      "needs_background": "light"
     },
     "output_type": "display_data"
    }
   ],
   "source": [
    "show_graph_1(\n",
    "    autos,\n",
    "    'RegistrationYear',\n",
    "    'Распределение номеров года регистрации автомобиля',\n",
    "    'Диаграмма размаха номеров года регистрации автомобиля',\n",
    "    'Год'\n",
    ")"
   ]
  },
  {
   "cell_type": "markdown",
   "metadata": {},
   "source": [
    "Много данных с явно некорректным годом регистрации автомобиля. Ограничим этот параметр логичным диапазоном от 1900 до 2025 года и отобразим гистограмму и \"ящик с усами\":"
   ]
  },
  {
   "cell_type": "code",
   "execution_count": 28,
   "metadata": {},
   "outputs": [
    {
     "data": {
      "image/png": "[encoded data removed]",
      "text/plain": [
       "<Figure size 1152x432 with 2 Axes>"
      ]
     },
     "metadata": {
      "needs_background": "light"
     },
     "output_type": "display_data"
    }
   ],
   "source": [
    "show_graph_1(\n",
    "    autos[(autos['RegistrationYear'] >= 1900) & (autos['RegistrationYear'] <= 2025)],\n",
    "    'RegistrationYear',\n",
    "    'Распределение номеров года регистрации автомобиля',\n",
    "    'Диаграмма размаха номеров года регистрации автомобиля',\n",
    "    'Год'\n",
    ")"
   ]
  },
  {
   "cell_type": "markdown",
   "metadata": {},
   "source": [
    "По полученной гистограмме виден длинный \"хвост\" до 1980 года, который по идее можно отсечь без значимой потери данных. Проверим, какая доля данных в этом \"хвосте\":"
   ]
  },
  {
   "cell_type": "code",
   "execution_count": 29,
   "metadata": {},
   "outputs": [
    {
     "name": "stdout",
     "output_type": "stream",
     "text": [
      "Доля - 0.89%\n"
     ]
    }
   ],
   "source": [
    "ry_1900_1980 = autos[(autos['RegistrationYear'] >= 1900) & (autos['RegistrationYear'] < 1980)]\n",
    "ry_1900_2025 = autos[(autos['RegistrationYear'] >= 1900) & (autos['RegistrationYear'] <= 2025)]\n",
    "print(f'Доля - {(len(ry_1900_1980) / len(ry_1900_2025)):.2%}')"
   ]
  },
  {
   "cell_type": "markdown",
   "metadata": {},
   "source": [
    "Доля таких строк менее 1%, поэтому можно усекать исходные данные диапазоном 1980-2025 гг.:"
   ]
  },
  {
   "cell_type": "code",
   "execution_count": 30,
   "metadata": {},
   "outputs": [],
   "source": [
    "autos = autos[(autos['RegistrationYear'] >= 1980) & (autos['RegistrationYear'] <= 2025)]"
   ]
  },
  {
   "cell_type": "markdown",
   "metadata": {},
   "source": [
    "Отобразим гистограмму и \"ящик с усами\" для столбца `Power`:"
   ]
  },
  {
   "cell_type": "code",
   "execution_count": 31,
   "metadata": {},
   "outputs": [
    {
     "data": {
      "image/png": "[encoded data removed]",
      "text/plain": [
       "<Figure size 1152x432 with 2 Axes>"
      ]
     },
     "metadata": {
      "needs_background": "light"
     },
     "output_type": "display_data"
    }
   ],
   "source": [
    "show_graph_1(\n",
    "    autos,\n",
    "    'Power',\n",
    "    'Распределение мощности автомобилей (л.с.)',\n",
    "    'Диаграмма размаха мощности автомобилей (л.с.)',\n",
    "    'Мощность (л.с.)'\n",
    ")"
   ]
  },
  {
   "cell_type": "markdown",
   "metadata": {},
   "source": [
    "Здесь так же много данных с явно некорректным значением мощности автомобиля - имеются данные как по автомобилям с нулевой мощностью, так и по автомобилям с явно завышенной мощностью. Ограничим этот параметр логичным диапазоном мощности серийных автомобилей - больше 30 и меньше 300:"
   ]
  },
  {
   "cell_type": "code",
   "execution_count": 32,
   "metadata": {},
   "outputs": [],
   "source": [
    "autos = autos[(autos['Power'] >= 30) & (autos['Power'] <= 300)]"
   ]
  },
  {
   "cell_type": "markdown",
   "metadata": {},
   "source": [
    "Проверим полученные данные с помощью гистограммы и \"ящика с усами\":"
   ]
  },
  {
   "cell_type": "code",
   "execution_count": 33,
   "metadata": {},
   "outputs": [
    {
     "data": {
      "image/png": "[encoded data removed]",
      "text/plain": [
       "<Figure size 1152x432 with 2 Axes>"
      ]
     },
     "metadata": {
      "needs_background": "light"
     },
     "output_type": "display_data"
    }
   ],
   "source": [
    "show_graph_1(\n",
    "    autos,\n",
    "    'Power',\n",
    "    'Распределение мощности автомобилей (л.с.)',\n",
    "    'Диаграмма размаха мощности автомобилей (л.с.)',\n",
    "    'Мощность (л.с.)'\n",
    ")"
   ]
  },
  {
   "cell_type": "markdown",
   "metadata": {},
   "source": [
    "Отобразим гистограмму и \"ящик с усами\" для столбца `Kilometer`:"
   ]
  },
  {
   "cell_type": "code",
   "execution_count": 34,
   "metadata": {},
   "outputs": [
    {
     "data": {
      "image/png": "[encoded data removed]",
      "text/plain": [
       "<Figure size 1152x432 with 2 Axes>"
      ]
     },
     "metadata": {
      "needs_background": "light"
     },
     "output_type": "display_data"
    }
   ],
   "source": [
    "show_graph_1(\n",
    "    autos,\n",
    "    'Kilometer',\n",
    "    'Распределение пробега автомобилей (км)',\n",
    "    'Диаграмма размаха пробега автомобилей (км)',\n",
    "    'Пробег (км)'\n",
    ")"
   ]
  },
  {
   "cell_type": "markdown",
   "metadata": {},
   "source": [
    "По пробегу никаких аномалий выявлено не было, большая часть автомобилей имеет пробег более 100000 км."
   ]
  },
  {
   "cell_type": "markdown",
   "metadata": {},
   "source": [
    "Для столбцов `RegistrationMonth`, `NumberOfPictures` и `PostalCode` нет смысла проводить аналогичный анализ, т.к. эти данные в дальнейшем не будут участовать в построении модели."
   ]
  },
  {
   "cell_type": "markdown",
   "metadata": {},
   "source": [
    "Проверим данные на наличие явных дубликатов:"
   ]
  },
  {
   "cell_type": "code",
   "execution_count": 35,
   "metadata": {},
   "outputs": [
    {
     "data": {
      "text/plain": [
       "5"
      ]
     },
     "execution_count": 35,
     "metadata": {},
     "output_type": "execute_result"
    }
   ],
   "source": [
    "autos.duplicated().sum()"
   ]
  },
  {
   "cell_type": "markdown",
   "metadata": {},
   "source": [
    "Удалим из датафрейма обнаруженные 5 явных дубликатов:"
   ]
  },
  {
   "cell_type": "code",
   "execution_count": 36,
   "metadata": {},
   "outputs": [],
   "source": [
    "autos = autos.drop_duplicates()"
   ]
  },
  {
   "cell_type": "markdown",
   "metadata": {},
   "source": [
    "Данные подготовлены для формирования выборок и обучения моделей."
   ]
  },
  {
   "cell_type": "markdown",
   "metadata": {},
   "source": [
    "## Подготовка данных для обучения моделей"
   ]
  },
  {
   "cell_type": "markdown",
   "metadata": {},
   "source": [
    "Удалим из датасета неактуальные столбцы:"
   ]
  },
  {
   "cell_type": "code",
   "execution_count": 37,
   "metadata": {},
   "outputs": [],
   "source": [
    "autos = autos.drop([\n",
    "    'DateCrawled',\n",
    "    'RegistrationMonth',\n",
    "    'DateCreated',\n",
    "    'NumberOfPictures',\n",
    "    'PostalCode',\n",
    "    'LastSeen'\n",
    "], axis=1)"
   ]
  },
  {
   "cell_type": "markdown",
   "metadata": {},
   "source": [
    "После удаления неактульных данных повторно проверим наличие дубликатов:"
   ]
  },
  {
   "cell_type": "code",
   "execution_count": 38,
   "metadata": {},
   "outputs": [
    {
     "data": {
      "text/plain": [
       "46361"
      ]
     },
     "execution_count": 38,
     "metadata": {},
     "output_type": "execute_result"
    }
   ],
   "source": [
    "autos.duplicated().sum()"
   ]
  },
  {
   "cell_type": "markdown",
   "metadata": {},
   "source": [
    "Удалим вновь образовавшиеся дубликаты:"
   ]
  },
  {
   "cell_type": "code",
   "execution_count": 39,
   "metadata": {},
   "outputs": [],
   "source": [
    "autos = autos.drop_duplicates()"
   ]
  },
  {
   "cell_type": "markdown",
   "metadata": {},
   "source": [
    "Определим переменные:"
   ]
  },
  {
   "cell_type": "code",
   "execution_count": 40,
   "metadata": {},
   "outputs": [],
   "source": [
    "RANDOM_STATE = 42\n",
    "TEST_SIZE = 0.25"
   ]
  },
  {
   "cell_type": "markdown",
   "metadata": {},
   "source": [
    "Сформируем тренировочные и тестовые выборки:"
   ]
  },
  {
   "cell_type": "code",
   "execution_count": 41,
   "metadata": {},
   "outputs": [
    {
     "name": "stdout",
     "output_type": "stream",
     "text": [
      "X_train: (190098, 9)\n",
      "X_test: (63366, 9)\n",
      "y_train: (190098,)\n",
      "y_test: (63366,)\n"
     ]
    }
   ],
   "source": [
    "X = autos.drop('Price', axis=1)\n",
    "y = autos['Price']\n",
    "\n",
    "X_train, X_test, y_train, y_test = train_test_split(X, y, test_size=TEST_SIZE, random_state=RANDOM_STATE)\n",
    "\n",
    "print(f'X_train: {X_train.shape}')\n",
    "print(f'X_test: {X_test.shape}')\n",
    "print(f'y_train: {y_train.shape}')\n",
    "print(f'y_test: {y_test.shape}')"
   ]
  },
  {
   "cell_type": "markdown",
   "metadata": {},
   "source": [
    "## Обучение моделей"
   ]
  },
  {
   "cell_type": "markdown",
   "metadata": {},
   "source": [
    "Используя пайплайны, применим следующие модели:\n",
    "* Модель LinearRegression (линейная регрессия)\n",
    "* Модель LightGBMRegressor (деревья принятия решений с градиентным бустингом)\n",
    "* Модель CatBoostRegressor (градиентный бустинг)"
   ]
  },
  {
   "cell_type": "markdown",
   "metadata": {},
   "source": [
    "Создадим списки с названиями признаков:"
   ]
  },
  {
   "cell_type": "code",
   "execution_count": 42,
   "metadata": {},
   "outputs": [],
   "source": [
    "ohe_columns = ['VehicleType', 'Gearbox', 'FuelType', 'Brand']\n",
    "ord_columns = ['Repaired', 'Model']\n",
    "num_columns = ['RegistrationYear', 'Power', 'Kilometer']"
   ]
  },
  {
   "cell_type": "markdown",
   "metadata": {},
   "source": [
    "Создадим пайплайны для подготовки признаков:"
   ]
  },
  {
   "cell_type": "code",
   "execution_count": 43,
   "metadata": {},
   "outputs": [],
   "source": [
    "ohe_pipe = Pipeline([\n",
    "    ('simpleImputer_ohe', SimpleImputer(missing_values=np.nan, strategy='most_frequent')),\n",
    "    ('ohe', OneHotEncoder(drop='first', handle_unknown='ignore'))\n",
    "])"
   ]
  },
  {
   "cell_type": "code",
   "execution_count": 44,
   "metadata": {},
   "outputs": [],
   "source": [
    "ord_pipe = Pipeline([\n",
    "    ('simpleImputer_before_ord', SimpleImputer(missing_values=np.nan, strategy='most_frequent')),\n",
    "    ('ord', OrdinalEncoder(\n",
    "        categories=[\n",
    "            ['no', 'yes'],\n",
    "            X['Model'].sort_values().unique().tolist()\n",
    "        ],\n",
    "        handle_unknown='use_encoded_value',\n",
    "        unknown_value=np.nan)\n",
    "    ),\n",
    "    ('simpleImputer_after_ord', SimpleImputer(missing_values=np.nan, strategy='most_frequent'))\n",
    "])"
   ]
  },
  {
   "cell_type": "code",
   "execution_count": 45,
   "metadata": {},
   "outputs": [],
   "source": [
    "num_pipe = Pipeline([\n",
    "    ('scaler', StandardScaler()),\n",
    "    ('minmax', MinMaxScaler())\n",
    "])"
   ]
  },
  {
   "cell_type": "markdown",
   "metadata": {},
   "source": [
    "Создадим общий пайплайн для обработки данных:"
   ]
  },
  {
   "cell_type": "code",
   "execution_count": 46,
   "metadata": {},
   "outputs": [],
   "source": [
    "data_preprocessor = ColumnTransformer(\n",
    "    [('ohe', ohe_pipe, ohe_columns),\n",
    "     ('ord', ord_pipe, ord_columns),\n",
    "     ('num', num_pipe, num_columns)\n",
    "    ], \n",
    "    remainder='passthrough'\n",
    ")"
   ]
  },
  {
   "cell_type": "markdown",
   "metadata": {},
   "source": [
    "### Модель LinearRegression"
   ]
  },
  {
   "cell_type": "markdown",
   "metadata": {},
   "source": [
    "Создадим итоговый пайплайн - подготовка данных и модель:"
   ]
  },
  {
   "cell_type": "code",
   "execution_count": 47,
   "metadata": {},
   "outputs": [],
   "source": [
    "pipe_final_lr = Pipeline([\n",
    "    ('preprocessor', data_preprocessor),\n",
    "    ('models', LinearRegression())\n",
    "])"
   ]
  },
  {
   "cell_type": "markdown",
   "metadata": {},
   "source": [
    "Создадим словарь со значениями гиперпараметров:"
   ]
  },
  {
   "cell_type": "code",
   "execution_count": 48,
   "metadata": {},
   "outputs": [],
   "source": [
    "param_grid_lr = [\n",
    "    {\n",
    "        'models': [LinearRegression()],\n",
    "        'preprocessor__num': [StandardScaler(), MinMaxScaler(), 'passthrough']  \n",
    "    }\n",
    "]"
   ]
  },
  {
   "cell_type": "markdown",
   "metadata": {},
   "source": [
    "Для поиска лучшей модели будем использовать GridSearchCV:"
   ]
  },
  {
   "cell_type": "code",
   "execution_count": 49,
   "metadata": {},
   "outputs": [
    {
     "name": "stdout",
     "output_type": "stream",
     "text": [
      "Лучшая модель и ее параметры:\n",
      "\n",
      " Pipeline(steps=[('preprocessor',\n",
      "                 ColumnTransformer(remainder='passthrough',\n",
      "                                   transformers=[('ohe',\n",
      "                                                  Pipeline(steps=[('simpleImputer_ohe',\n",
      "                                                                   SimpleImputer(strategy='most_frequent')),\n",
      "                                                                  ('ohe',\n",
      "                                                                   OneHotEncoder(drop='first',\n",
      "                                                                                 handle_unknown='ignore'))]),\n",
      "                                                  ['VehicleType', 'Gearbox',\n",
      "                                                   'FuelType', 'Brand']),\n",
      "                                                 ('ord',\n",
      "                                                  Pipeline(steps=[('simpleImputer_before_ord',\n",
      "                                                                   SimpleImputer(stra...\n",
      "                                                                                               '5_reihe',\n",
      "                                                                                               '5er',\n",
      "                                                                                               '601',\n",
      "                                                                                               '6_reihe',\n",
      "                                                                                               '6er',\n",
      "                                                                                               '7er',\n",
      "                                                                                               '80',\n",
      "                                                                                               '850',\n",
      "                                                                                               '90',\n",
      "                                                                                               '900',\n",
      "                                                                                               '9000',\n",
      "                                                                                               '911',\n",
      "                                                                                               'a1',\n",
      "                                                                                               'a2',\n",
      "                                                                                               'a3',\n",
      "                                                                                               'a4', ...]],\n",
      "                                                                                  handle_unknown='use_encoded_value',\n",
      "                                                                                  unknown_value=nan)),\n",
      "                                                                  ('simpleImputer_after_ord',\n",
      "                                                                   SimpleImputer(strategy='most_frequent'))]),\n",
      "                                                  ['Repaired', 'Model']),\n",
      "                                                 ('num', MinMaxScaler(),\n",
      "                                                  ['RegistrationYear', 'Power',\n",
      "                                                   'Kilometer'])])),\n",
      "                ('models', LinearRegression())])\n",
      "Метрика RMSE лучшей модели на кросс-валидации: 2679.055637313242\n",
      "Среднее время обучения: 2.377373202641805 сек.\n"
     ]
    }
   ],
   "source": [
    "gs_lr = GridSearchCV(\n",
    "    pipe_final_lr, \n",
    "    param_grid_lr, \n",
    "    cv=5,\n",
    "    scoring='neg_root_mean_squared_error',\n",
    "    n_jobs=-1\n",
    ")\n",
    "\n",
    "gs_lr.fit(X_train, y_train)\n",
    "lr_train_rmse = (-1) * gs_lr.best_score_\n",
    "lr_train_time = gs_lr.cv_results_['mean_fit_time'].mean()\n",
    "\n",
    "print(f'Лучшая модель и ее параметры:\\n\\n {gs_lr.best_estimator_}')\n",
    "print(f'Метрика RMSE лучшей модели на кросс-валидации: {lr_train_rmse}')\n",
    "print(f'Среднее время обучения: {lr_train_time} сек.')"
   ]
  },
  {
   "cell_type": "markdown",
   "metadata": {},
   "source": [
    "Рассчитаем время предсказания на тренировочной выборке:"
   ]
  },
  {
   "cell_type": "code",
   "execution_count": 50,
   "metadata": {},
   "outputs": [
    {
     "name": "stdout",
     "output_type": "stream",
     "text": [
      "Время предсказания 0.3680758476257324 сек.\n",
      "CPU times: user 345 ms, sys: 9.76 ms, total: 355 ms\n",
      "Wall time: 368 ms\n"
     ]
    }
   ],
   "source": [
    "%%time\n",
    "\n",
    "start = time.time()\n",
    "y_pred = gs_lr.best_estimator_.predict(X_train)\n",
    "end = time.time()\n",
    "lr_pred_time = end - start\n",
    "print(f'Время предсказания {lr_pred_time} сек.')"
   ]
  },
  {
   "cell_type": "markdown",
   "metadata": {},
   "source": [
    "### Модель LGBMRegressor"
   ]
  },
  {
   "cell_type": "markdown",
   "metadata": {},
   "source": [
    "Создадим итоговый пайплайн - подготовка данных и модель:"
   ]
  },
  {
   "cell_type": "code",
   "execution_count": 51,
   "metadata": {},
   "outputs": [],
   "source": [
    "pipe_final_lgbmr = Pipeline([\n",
    "    ('preprocessor', data_preprocessor),\n",
    "    ('models', LGBMRegressor(random_state=RANDOM_STATE, verbose=-1))\n",
    "])"
   ]
  },
  {
   "cell_type": "markdown",
   "metadata": {},
   "source": [
    "Создадим словарь со значениями гиперпараметров:"
   ]
  },
  {
   "cell_type": "code",
   "execution_count": 52,
   "metadata": {},
   "outputs": [],
   "source": [
    "param_grid_lgbmr = [\n",
    "    {\n",
    "        'models': [LGBMRegressor(random_state=RANDOM_STATE, verbose=-1)],\n",
    "        'models__n_estimators': range(90, 100, 10),#range(50, 100, 10)\n",
    "        'models__max_depth': range(7, 8),#range(3, 8)\n",
    "        'models__num_leaves': range(40, 50, 10),#range(5, 50, 5),\n",
    "        'preprocessor__num': [StandardScaler(), MinMaxScaler(), 'passthrough']  \n",
    "    }\n",
    "]"
   ]
  },
  {
   "cell_type": "markdown",
   "metadata": {},
   "source": [
    "Для поиска лучшей модели будем использовать GridSearchCV:"
   ]
  },
  {
   "cell_type": "code",
   "execution_count": 53,
   "metadata": {},
   "outputs": [
    {
     "name": "stdout",
     "output_type": "stream",
     "text": [
      "Fitting 5 folds for each of 3 candidates, totalling 15 fits\n"
     ]
    },
    {
     "name": "stderr",
     "output_type": "stream",
     "text": [
      "/opt/conda/lib/python3.9/site-packages/sklearn/utils/_tags.py:354: FutureWarning: The LGBMRegressor or classes from which it inherits use `_get_tags` and `_more_tags`. Please define the `__sklearn_tags__` method, or inherit from `sklearn.base.BaseEstimator` and/or other appropriate mixins such as `sklearn.base.TransformerMixin`, `sklearn.base.ClassifierMixin`, `sklearn.base.RegressorMixin`, and `sklearn.base.OutlierMixin`. From scikit-learn 1.7, not defining `__sklearn_tags__` will raise an error.\n",
      "  warnings.warn(\n",
      "/opt/conda/lib/python3.9/site-packages/sklearn/utils/deprecation.py:151: FutureWarning: 'force_all_finite' was renamed to 'ensure_all_finite' in 1.6 and will be removed in 1.8.\n",
      "  warnings.warn(\n",
      "/opt/conda/lib/python3.9/site-packages/sklearn/utils/_tags.py:354: FutureWarning: The LGBMRegressor or classes from which it inherits use `_get_tags` and `_more_tags`. Please define the `__sklearn_tags__` method, or inherit from `sklearn.base.BaseEstimator` and/or other appropriate mixins such as `sklearn.base.TransformerMixin`, `sklearn.base.ClassifierMixin`, `sklearn.base.RegressorMixin`, and `sklearn.base.OutlierMixin`. From scikit-learn 1.7, not defining `__sklearn_tags__` will raise an error.\n",
      "  warnings.warn(\n",
      "/opt/conda/lib/python3.9/site-packages/sklearn/utils/deprecation.py:151: FutureWarning: 'force_all_finite' was renamed to 'ensure_all_finite' in 1.6 and will be removed in 1.8.\n",
      "  warnings.warn(\n",
      "/opt/conda/lib/python3.9/site-packages/sklearn/utils/_tags.py:354: FutureWarning: The LGBMRegressor or classes from which it inherits use `_get_tags` and `_more_tags`. Please define the `__sklearn_tags__` method, or inherit from `sklearn.base.BaseEstimator` and/or other appropriate mixins such as `sklearn.base.TransformerMixin`, `sklearn.base.ClassifierMixin`, `sklearn.base.RegressorMixin`, and `sklearn.base.OutlierMixin`. From scikit-learn 1.7, not defining `__sklearn_tags__` will raise an error.\n",
      "  warnings.warn(\n",
      "/opt/conda/lib/python3.9/site-packages/sklearn/utils/_tags.py:354: FutureWarning: The LGBMRegressor or classes from which it inherits use `_get_tags` and `_more_tags`. Please define the `__sklearn_tags__` method, or inherit from `sklearn.base.BaseEstimator` and/or other appropriate mixins such as `sklearn.base.TransformerMixin`, `sklearn.base.ClassifierMixin`, `sklearn.base.RegressorMixin`, and `sklearn.base.OutlierMixin`. From scikit-learn 1.7, not defining `__sklearn_tags__` will raise an error.\n",
      "  warnings.warn(\n"
     ]
    },
    {
     "name": "stdout",
     "output_type": "stream",
     "text": [
      "[CV 1/5] END models=LGBMRegressor(random_state=42, verbose=-1), models__max_depth=7, models__n_estimators=90, models__num_leaves=40, preprocessor__num=StandardScaler();, score=-1669.217 total time=  37.8s\n"
     ]
    },
    {
     "name": "stderr",
     "output_type": "stream",
     "text": [
      "/opt/conda/lib/python3.9/site-packages/sklearn/utils/deprecation.py:151: FutureWarning: 'force_all_finite' was renamed to 'ensure_all_finite' in 1.6 and will be removed in 1.8.\n",
      "  warnings.warn(\n",
      "/opt/conda/lib/python3.9/site-packages/sklearn/utils/_tags.py:354: FutureWarning: The LGBMRegressor or classes from which it inherits use `_get_tags` and `_more_tags`. Please define the `__sklearn_tags__` method, or inherit from `sklearn.base.BaseEstimator` and/or other appropriate mixins such as `sklearn.base.TransformerMixin`, `sklearn.base.ClassifierMixin`, `sklearn.base.RegressorMixin`, and `sklearn.base.OutlierMixin`. From scikit-learn 1.7, not defining `__sklearn_tags__` will raise an error.\n",
      "  warnings.warn(\n",
      "/opt/conda/lib/python3.9/site-packages/sklearn/utils/deprecation.py:151: FutureWarning: 'force_all_finite' was renamed to 'ensure_all_finite' in 1.6 and will be removed in 1.8.\n",
      "  warnings.warn(\n",
      "/opt/conda/lib/python3.9/site-packages/sklearn/utils/_tags.py:354: FutureWarning: The LGBMRegressor or classes from which it inherits use `_get_tags` and `_more_tags`. Please define the `__sklearn_tags__` method, or inherit from `sklearn.base.BaseEstimator` and/or other appropriate mixins such as `sklearn.base.TransformerMixin`, `sklearn.base.ClassifierMixin`, `sklearn.base.RegressorMixin`, and `sklearn.base.OutlierMixin`. From scikit-learn 1.7, not defining `__sklearn_tags__` will raise an error.\n",
      "  warnings.warn(\n",
      "/opt/conda/lib/python3.9/site-packages/sklearn/utils/_tags.py:354: FutureWarning: The LGBMRegressor or classes from which it inherits use `_get_tags` and `_more_tags`. Please define the `__sklearn_tags__` method, or inherit from `sklearn.base.BaseEstimator` and/or other appropriate mixins such as `sklearn.base.TransformerMixin`, `sklearn.base.ClassifierMixin`, `sklearn.base.RegressorMixin`, and `sklearn.base.OutlierMixin`. From scikit-learn 1.7, not defining `__sklearn_tags__` will raise an error.\n",
      "  warnings.warn(\n"
     ]
    },
    {
     "name": "stdout",
     "output_type": "stream",
     "text": [
      "[CV 2/5] END models=LGBMRegressor(random_state=42, verbose=-1), models__max_depth=7, models__n_estimators=90, models__num_leaves=40, preprocessor__num=StandardScaler();, score=-1685.138 total time= 2.8min\n"
     ]
    },
    {
     "name": "stderr",
     "output_type": "stream",
     "text": [
      "/opt/conda/lib/python3.9/site-packages/sklearn/utils/deprecation.py:151: FutureWarning: 'force_all_finite' was renamed to 'ensure_all_finite' in 1.6 and will be removed in 1.8.\n",
      "  warnings.warn(\n",
      "/opt/conda/lib/python3.9/site-packages/sklearn/utils/_tags.py:354: FutureWarning: The LGBMRegressor or classes from which it inherits use `_get_tags` and `_more_tags`. Please define the `__sklearn_tags__` method, or inherit from `sklearn.base.BaseEstimator` and/or other appropriate mixins such as `sklearn.base.TransformerMixin`, `sklearn.base.ClassifierMixin`, `sklearn.base.RegressorMixin`, and `sklearn.base.OutlierMixin`. From scikit-learn 1.7, not defining `__sklearn_tags__` will raise an error.\n",
      "  warnings.warn(\n",
      "/opt/conda/lib/python3.9/site-packages/sklearn/utils/deprecation.py:151: FutureWarning: 'force_all_finite' was renamed to 'ensure_all_finite' in 1.6 and will be removed in 1.8.\n",
      "  warnings.warn(\n",
      "/opt/conda/lib/python3.9/site-packages/sklearn/utils/_tags.py:354: FutureWarning: The LGBMRegressor or classes from which it inherits use `_get_tags` and `_more_tags`. Please define the `__sklearn_tags__` method, or inherit from `sklearn.base.BaseEstimator` and/or other appropriate mixins such as `sklearn.base.TransformerMixin`, `sklearn.base.ClassifierMixin`, `sklearn.base.RegressorMixin`, and `sklearn.base.OutlierMixin`. From scikit-learn 1.7, not defining `__sklearn_tags__` will raise an error.\n",
      "  warnings.warn(\n",
      "/opt/conda/lib/python3.9/site-packages/sklearn/utils/_tags.py:354: FutureWarning: The LGBMRegressor or classes from which it inherits use `_get_tags` and `_more_tags`. Please define the `__sklearn_tags__` method, or inherit from `sklearn.base.BaseEstimator` and/or other appropriate mixins such as `sklearn.base.TransformerMixin`, `sklearn.base.ClassifierMixin`, `sklearn.base.RegressorMixin`, and `sklearn.base.OutlierMixin`. From scikit-learn 1.7, not defining `__sklearn_tags__` will raise an error.\n",
      "  warnings.warn(\n"
     ]
    },
    {
     "name": "stdout",
     "output_type": "stream",
     "text": [
      "[CV 3/5] END models=LGBMRegressor(random_state=42, verbose=-1), models__max_depth=7, models__n_estimators=90, models__num_leaves=40, preprocessor__num=StandardScaler();, score=-1729.554 total time=  51.6s\n"
     ]
    },
    {
     "name": "stderr",
     "output_type": "stream",
     "text": [
      "/opt/conda/lib/python3.9/site-packages/sklearn/utils/deprecation.py:151: FutureWarning: 'force_all_finite' was renamed to 'ensure_all_finite' in 1.6 and will be removed in 1.8.\n",
      "  warnings.warn(\n",
      "/opt/conda/lib/python3.9/site-packages/sklearn/utils/_tags.py:354: FutureWarning: The LGBMRegressor or classes from which it inherits use `_get_tags` and `_more_tags`. Please define the `__sklearn_tags__` method, or inherit from `sklearn.base.BaseEstimator` and/or other appropriate mixins such as `sklearn.base.TransformerMixin`, `sklearn.base.ClassifierMixin`, `sklearn.base.RegressorMixin`, and `sklearn.base.OutlierMixin`. From scikit-learn 1.7, not defining `__sklearn_tags__` will raise an error.\n",
      "  warnings.warn(\n",
      "/opt/conda/lib/python3.9/site-packages/sklearn/utils/deprecation.py:151: FutureWarning: 'force_all_finite' was renamed to 'ensure_all_finite' in 1.6 and will be removed in 1.8.\n",
      "  warnings.warn(\n",
      "/opt/conda/lib/python3.9/site-packages/sklearn/utils/_tags.py:354: FutureWarning: The LGBMRegressor or classes from which it inherits use `_get_tags` and `_more_tags`. Please define the `__sklearn_tags__` method, or inherit from `sklearn.base.BaseEstimator` and/or other appropriate mixins such as `sklearn.base.TransformerMixin`, `sklearn.base.ClassifierMixin`, `sklearn.base.RegressorMixin`, and `sklearn.base.OutlierMixin`. From scikit-learn 1.7, not defining `__sklearn_tags__` will raise an error.\n",
      "  warnings.warn(\n",
      "/opt/conda/lib/python3.9/site-packages/sklearn/utils/_tags.py:354: FutureWarning: The LGBMRegressor or classes from which it inherits use `_get_tags` and `_more_tags`. Please define the `__sklearn_tags__` method, or inherit from `sklearn.base.BaseEstimator` and/or other appropriate mixins such as `sklearn.base.TransformerMixin`, `sklearn.base.ClassifierMixin`, `sklearn.base.RegressorMixin`, and `sklearn.base.OutlierMixin`. From scikit-learn 1.7, not defining `__sklearn_tags__` will raise an error.\n",
      "  warnings.warn(\n"
     ]
    },
    {
     "name": "stdout",
     "output_type": "stream",
     "text": [
      "[CV 4/5] END models=LGBMRegressor(random_state=42, verbose=-1), models__max_depth=7, models__n_estimators=90, models__num_leaves=40, preprocessor__num=StandardScaler();, score=-1695.073 total time= 3.2min\n"
     ]
    },
    {
     "name": "stderr",
     "output_type": "stream",
     "text": [
      "/opt/conda/lib/python3.9/site-packages/sklearn/utils/deprecation.py:151: FutureWarning: 'force_all_finite' was renamed to 'ensure_all_finite' in 1.6 and will be removed in 1.8.\n",
      "  warnings.warn(\n",
      "/opt/conda/lib/python3.9/site-packages/sklearn/utils/_tags.py:354: FutureWarning: The LGBMRegressor or classes from which it inherits use `_get_tags` and `_more_tags`. Please define the `__sklearn_tags__` method, or inherit from `sklearn.base.BaseEstimator` and/or other appropriate mixins such as `sklearn.base.TransformerMixin`, `sklearn.base.ClassifierMixin`, `sklearn.base.RegressorMixin`, and `sklearn.base.OutlierMixin`. From scikit-learn 1.7, not defining `__sklearn_tags__` will raise an error.\n",
      "  warnings.warn(\n",
      "/opt/conda/lib/python3.9/site-packages/sklearn/utils/deprecation.py:151: FutureWarning: 'force_all_finite' was renamed to 'ensure_all_finite' in 1.6 and will be removed in 1.8.\n",
      "  warnings.warn(\n",
      "/opt/conda/lib/python3.9/site-packages/sklearn/utils/_tags.py:354: FutureWarning: The LGBMRegressor or classes from which it inherits use `_get_tags` and `_more_tags`. Please define the `__sklearn_tags__` method, or inherit from `sklearn.base.BaseEstimator` and/or other appropriate mixins such as `sklearn.base.TransformerMixin`, `sklearn.base.ClassifierMixin`, `sklearn.base.RegressorMixin`, and `sklearn.base.OutlierMixin`. From scikit-learn 1.7, not defining `__sklearn_tags__` will raise an error.\n",
      "  warnings.warn(\n",
      "/opt/conda/lib/python3.9/site-packages/sklearn/utils/_tags.py:354: FutureWarning: The LGBMRegressor or classes from which it inherits use `_get_tags` and `_more_tags`. Please define the `__sklearn_tags__` method, or inherit from `sklearn.base.BaseEstimator` and/or other appropriate mixins such as `sklearn.base.TransformerMixin`, `sklearn.base.ClassifierMixin`, `sklearn.base.RegressorMixin`, and `sklearn.base.OutlierMixin`. From scikit-learn 1.7, not defining `__sklearn_tags__` will raise an error.\n",
      "  warnings.warn(\n"
     ]
    },
    {
     "name": "stdout",
     "output_type": "stream",
     "text": [
      "[CV 5/5] END models=LGBMRegressor(random_state=42, verbose=-1), models__max_depth=7, models__n_estimators=90, models__num_leaves=40, preprocessor__num=StandardScaler();, score=-1696.265 total time=  47.0s\n"
     ]
    },
    {
     "name": "stderr",
     "output_type": "stream",
     "text": [
      "/opt/conda/lib/python3.9/site-packages/sklearn/utils/deprecation.py:151: FutureWarning: 'force_all_finite' was renamed to 'ensure_all_finite' in 1.6 and will be removed in 1.8.\n",
      "  warnings.warn(\n",
      "/opt/conda/lib/python3.9/site-packages/sklearn/utils/_tags.py:354: FutureWarning: The LGBMRegressor or classes from which it inherits use `_get_tags` and `_more_tags`. Please define the `__sklearn_tags__` method, or inherit from `sklearn.base.BaseEstimator` and/or other appropriate mixins such as `sklearn.base.TransformerMixin`, `sklearn.base.ClassifierMixin`, `sklearn.base.RegressorMixin`, and `sklearn.base.OutlierMixin`. From scikit-learn 1.7, not defining `__sklearn_tags__` will raise an error.\n",
      "  warnings.warn(\n",
      "/opt/conda/lib/python3.9/site-packages/sklearn/utils/deprecation.py:151: FutureWarning: 'force_all_finite' was renamed to 'ensure_all_finite' in 1.6 and will be removed in 1.8.\n",
      "  warnings.warn(\n",
      "/opt/conda/lib/python3.9/site-packages/sklearn/utils/_tags.py:354: FutureWarning: The LGBMRegressor or classes from which it inherits use `_get_tags` and `_more_tags`. Please define the `__sklearn_tags__` method, or inherit from `sklearn.base.BaseEstimator` and/or other appropriate mixins such as `sklearn.base.TransformerMixin`, `sklearn.base.ClassifierMixin`, `sklearn.base.RegressorMixin`, and `sklearn.base.OutlierMixin`. From scikit-learn 1.7, not defining `__sklearn_tags__` will raise an error.\n",
      "  warnings.warn(\n",
      "/opt/conda/lib/python3.9/site-packages/sklearn/utils/_tags.py:354: FutureWarning: The LGBMRegressor or classes from which it inherits use `_get_tags` and `_more_tags`. Please define the `__sklearn_tags__` method, or inherit from `sklearn.base.BaseEstimator` and/or other appropriate mixins such as `sklearn.base.TransformerMixin`, `sklearn.base.ClassifierMixin`, `sklearn.base.RegressorMixin`, and `sklearn.base.OutlierMixin`. From scikit-learn 1.7, not defining `__sklearn_tags__` will raise an error.\n",
      "  warnings.warn(\n"
     ]
    },
    {
     "name": "stdout",
     "output_type": "stream",
     "text": [
      "[CV 1/5] END models=LGBMRegressor(random_state=42, verbose=-1), models__max_depth=7, models__n_estimators=90, models__num_leaves=40, preprocessor__num=MinMaxScaler();, score=-1670.307 total time=  43.3s\n"
     ]
    },
    {
     "name": "stderr",
     "output_type": "stream",
     "text": [
      "/opt/conda/lib/python3.9/site-packages/sklearn/utils/deprecation.py:151: FutureWarning: 'force_all_finite' was renamed to 'ensure_all_finite' in 1.6 and will be removed in 1.8.\n",
      "  warnings.warn(\n",
      "/opt/conda/lib/python3.9/site-packages/sklearn/utils/_tags.py:354: FutureWarning: The LGBMRegressor or classes from which it inherits use `_get_tags` and `_more_tags`. Please define the `__sklearn_tags__` method, or inherit from `sklearn.base.BaseEstimator` and/or other appropriate mixins such as `sklearn.base.TransformerMixin`, `sklearn.base.ClassifierMixin`, `sklearn.base.RegressorMixin`, and `sklearn.base.OutlierMixin`. From scikit-learn 1.7, not defining `__sklearn_tags__` will raise an error.\n",
      "  warnings.warn(\n",
      "/opt/conda/lib/python3.9/site-packages/sklearn/utils/deprecation.py:151: FutureWarning: 'force_all_finite' was renamed to 'ensure_all_finite' in 1.6 and will be removed in 1.8.\n",
      "  warnings.warn(\n",
      "/opt/conda/lib/python3.9/site-packages/sklearn/utils/_tags.py:354: FutureWarning: The LGBMRegressor or classes from which it inherits use `_get_tags` and `_more_tags`. Please define the `__sklearn_tags__` method, or inherit from `sklearn.base.BaseEstimator` and/or other appropriate mixins such as `sklearn.base.TransformerMixin`, `sklearn.base.ClassifierMixin`, `sklearn.base.RegressorMixin`, and `sklearn.base.OutlierMixin`. From scikit-learn 1.7, not defining `__sklearn_tags__` will raise an error.\n",
      "  warnings.warn(\n",
      "/opt/conda/lib/python3.9/site-packages/sklearn/utils/_tags.py:354: FutureWarning: The LGBMRegressor or classes from which it inherits use `_get_tags` and `_more_tags`. Please define the `__sklearn_tags__` method, or inherit from `sklearn.base.BaseEstimator` and/or other appropriate mixins such as `sklearn.base.TransformerMixin`, `sklearn.base.ClassifierMixin`, `sklearn.base.RegressorMixin`, and `sklearn.base.OutlierMixin`. From scikit-learn 1.7, not defining `__sklearn_tags__` will raise an error.\n",
      "  warnings.warn(\n"
     ]
    },
    {
     "name": "stdout",
     "output_type": "stream",
     "text": [
      "[CV 2/5] END models=LGBMRegressor(random_state=42, verbose=-1), models__max_depth=7, models__n_estimators=90, models__num_leaves=40, preprocessor__num=MinMaxScaler();, score=-1688.320 total time=  40.8s\n"
     ]
    },
    {
     "name": "stderr",
     "output_type": "stream",
     "text": [
      "/opt/conda/lib/python3.9/site-packages/sklearn/utils/deprecation.py:151: FutureWarning: 'force_all_finite' was renamed to 'ensure_all_finite' in 1.6 and will be removed in 1.8.\n",
      "  warnings.warn(\n",
      "/opt/conda/lib/python3.9/site-packages/sklearn/utils/_tags.py:354: FutureWarning: The LGBMRegressor or classes from which it inherits use `_get_tags` and `_more_tags`. Please define the `__sklearn_tags__` method, or inherit from `sklearn.base.BaseEstimator` and/or other appropriate mixins such as `sklearn.base.TransformerMixin`, `sklearn.base.ClassifierMixin`, `sklearn.base.RegressorMixin`, and `sklearn.base.OutlierMixin`. From scikit-learn 1.7, not defining `__sklearn_tags__` will raise an error.\n",
      "  warnings.warn(\n",
      "/opt/conda/lib/python3.9/site-packages/sklearn/utils/deprecation.py:151: FutureWarning: 'force_all_finite' was renamed to 'ensure_all_finite' in 1.6 and will be removed in 1.8.\n",
      "  warnings.warn(\n",
      "/opt/conda/lib/python3.9/site-packages/sklearn/utils/_tags.py:354: FutureWarning: The LGBMRegressor or classes from which it inherits use `_get_tags` and `_more_tags`. Please define the `__sklearn_tags__` method, or inherit from `sklearn.base.BaseEstimator` and/or other appropriate mixins such as `sklearn.base.TransformerMixin`, `sklearn.base.ClassifierMixin`, `sklearn.base.RegressorMixin`, and `sklearn.base.OutlierMixin`. From scikit-learn 1.7, not defining `__sklearn_tags__` will raise an error.\n",
      "  warnings.warn(\n",
      "/opt/conda/lib/python3.9/site-packages/sklearn/utils/_tags.py:354: FutureWarning: The LGBMRegressor or classes from which it inherits use `_get_tags` and `_more_tags`. Please define the `__sklearn_tags__` method, or inherit from `sklearn.base.BaseEstimator` and/or other appropriate mixins such as `sklearn.base.TransformerMixin`, `sklearn.base.ClassifierMixin`, `sklearn.base.RegressorMixin`, and `sklearn.base.OutlierMixin`. From scikit-learn 1.7, not defining `__sklearn_tags__` will raise an error.\n",
      "  warnings.warn(\n"
     ]
    },
    {
     "name": "stdout",
     "output_type": "stream",
     "text": [
      "[CV 3/5] END models=LGBMRegressor(random_state=42, verbose=-1), models__max_depth=7, models__n_estimators=90, models__num_leaves=40, preprocessor__num=MinMaxScaler();, score=-1726.486 total time=  43.0s\n"
     ]
    },
    {
     "name": "stderr",
     "output_type": "stream",
     "text": [
      "/opt/conda/lib/python3.9/site-packages/sklearn/utils/deprecation.py:151: FutureWarning: 'force_all_finite' was renamed to 'ensure_all_finite' in 1.6 and will be removed in 1.8.\n",
      "  warnings.warn(\n",
      "/opt/conda/lib/python3.9/site-packages/sklearn/utils/_tags.py:354: FutureWarning: The LGBMRegressor or classes from which it inherits use `_get_tags` and `_more_tags`. Please define the `__sklearn_tags__` method, or inherit from `sklearn.base.BaseEstimator` and/or other appropriate mixins such as `sklearn.base.TransformerMixin`, `sklearn.base.ClassifierMixin`, `sklearn.base.RegressorMixin`, and `sklearn.base.OutlierMixin`. From scikit-learn 1.7, not defining `__sklearn_tags__` will raise an error.\n",
      "  warnings.warn(\n",
      "/opt/conda/lib/python3.9/site-packages/sklearn/utils/deprecation.py:151: FutureWarning: 'force_all_finite' was renamed to 'ensure_all_finite' in 1.6 and will be removed in 1.8.\n",
      "  warnings.warn(\n",
      "/opt/conda/lib/python3.9/site-packages/sklearn/utils/_tags.py:354: FutureWarning: The LGBMRegressor or classes from which it inherits use `_get_tags` and `_more_tags`. Please define the `__sklearn_tags__` method, or inherit from `sklearn.base.BaseEstimator` and/or other appropriate mixins such as `sklearn.base.TransformerMixin`, `sklearn.base.ClassifierMixin`, `sklearn.base.RegressorMixin`, and `sklearn.base.OutlierMixin`. From scikit-learn 1.7, not defining `__sklearn_tags__` will raise an error.\n",
      "  warnings.warn(\n",
      "/opt/conda/lib/python3.9/site-packages/sklearn/utils/_tags.py:354: FutureWarning: The LGBMRegressor or classes from which it inherits use `_get_tags` and `_more_tags`. Please define the `__sklearn_tags__` method, or inherit from `sklearn.base.BaseEstimator` and/or other appropriate mixins such as `sklearn.base.TransformerMixin`, `sklearn.base.ClassifierMixin`, `sklearn.base.RegressorMixin`, and `sklearn.base.OutlierMixin`. From scikit-learn 1.7, not defining `__sklearn_tags__` will raise an error.\n",
      "  warnings.warn(\n"
     ]
    },
    {
     "name": "stdout",
     "output_type": "stream",
     "text": [
      "[CV 4/5] END models=LGBMRegressor(random_state=42, verbose=-1), models__max_depth=7, models__n_estimators=90, models__num_leaves=40, preprocessor__num=MinMaxScaler();, score=-1691.332 total time=  44.0s\n"
     ]
    },
    {
     "name": "stderr",
     "output_type": "stream",
     "text": [
      "/opt/conda/lib/python3.9/site-packages/sklearn/utils/deprecation.py:151: FutureWarning: 'force_all_finite' was renamed to 'ensure_all_finite' in 1.6 and will be removed in 1.8.\n",
      "  warnings.warn(\n",
      "/opt/conda/lib/python3.9/site-packages/sklearn/utils/_tags.py:354: FutureWarning: The LGBMRegressor or classes from which it inherits use `_get_tags` and `_more_tags`. Please define the `__sklearn_tags__` method, or inherit from `sklearn.base.BaseEstimator` and/or other appropriate mixins such as `sklearn.base.TransformerMixin`, `sklearn.base.ClassifierMixin`, `sklearn.base.RegressorMixin`, and `sklearn.base.OutlierMixin`. From scikit-learn 1.7, not defining `__sklearn_tags__` will raise an error.\n",
      "  warnings.warn(\n",
      "/opt/conda/lib/python3.9/site-packages/sklearn/utils/deprecation.py:151: FutureWarning: 'force_all_finite' was renamed to 'ensure_all_finite' in 1.6 and will be removed in 1.8.\n",
      "  warnings.warn(\n",
      "/opt/conda/lib/python3.9/site-packages/sklearn/utils/_tags.py:354: FutureWarning: The LGBMRegressor or classes from which it inherits use `_get_tags` and `_more_tags`. Please define the `__sklearn_tags__` method, or inherit from `sklearn.base.BaseEstimator` and/or other appropriate mixins such as `sklearn.base.TransformerMixin`, `sklearn.base.ClassifierMixin`, `sklearn.base.RegressorMixin`, and `sklearn.base.OutlierMixin`. From scikit-learn 1.7, not defining `__sklearn_tags__` will raise an error.\n",
      "  warnings.warn(\n",
      "/opt/conda/lib/python3.9/site-packages/sklearn/utils/_tags.py:354: FutureWarning: The LGBMRegressor or classes from which it inherits use `_get_tags` and `_more_tags`. Please define the `__sklearn_tags__` method, or inherit from `sklearn.base.BaseEstimator` and/or other appropriate mixins such as `sklearn.base.TransformerMixin`, `sklearn.base.ClassifierMixin`, `sklearn.base.RegressorMixin`, and `sklearn.base.OutlierMixin`. From scikit-learn 1.7, not defining `__sklearn_tags__` will raise an error.\n",
      "  warnings.warn(\n"
     ]
    },
    {
     "name": "stdout",
     "output_type": "stream",
     "text": [
      "[CV 5/5] END models=LGBMRegressor(random_state=42, verbose=-1), models__max_depth=7, models__n_estimators=90, models__num_leaves=40, preprocessor__num=MinMaxScaler();, score=-1696.410 total time=  51.6s\n"
     ]
    },
    {
     "name": "stderr",
     "output_type": "stream",
     "text": [
      "/opt/conda/lib/python3.9/site-packages/sklearn/utils/deprecation.py:151: FutureWarning: 'force_all_finite' was renamed to 'ensure_all_finite' in 1.6 and will be removed in 1.8.\n",
      "  warnings.warn(\n",
      "/opt/conda/lib/python3.9/site-packages/sklearn/utils/_tags.py:354: FutureWarning: The LGBMRegressor or classes from which it inherits use `_get_tags` and `_more_tags`. Please define the `__sklearn_tags__` method, or inherit from `sklearn.base.BaseEstimator` and/or other appropriate mixins such as `sklearn.base.TransformerMixin`, `sklearn.base.ClassifierMixin`, `sklearn.base.RegressorMixin`, and `sklearn.base.OutlierMixin`. From scikit-learn 1.7, not defining `__sklearn_tags__` will raise an error.\n",
      "  warnings.warn(\n",
      "/opt/conda/lib/python3.9/site-packages/sklearn/utils/deprecation.py:151: FutureWarning: 'force_all_finite' was renamed to 'ensure_all_finite' in 1.6 and will be removed in 1.8.\n",
      "  warnings.warn(\n",
      "/opt/conda/lib/python3.9/site-packages/sklearn/utils/_tags.py:354: FutureWarning: The LGBMRegressor or classes from which it inherits use `_get_tags` and `_more_tags`. Please define the `__sklearn_tags__` method, or inherit from `sklearn.base.BaseEstimator` and/or other appropriate mixins such as `sklearn.base.TransformerMixin`, `sklearn.base.ClassifierMixin`, `sklearn.base.RegressorMixin`, and `sklearn.base.OutlierMixin`. From scikit-learn 1.7, not defining `__sklearn_tags__` will raise an error.\n",
      "  warnings.warn(\n",
      "/opt/conda/lib/python3.9/site-packages/sklearn/utils/_tags.py:354: FutureWarning: The LGBMRegressor or classes from which it inherits use `_get_tags` and `_more_tags`. Please define the `__sklearn_tags__` method, or inherit from `sklearn.base.BaseEstimator` and/or other appropriate mixins such as `sklearn.base.TransformerMixin`, `sklearn.base.ClassifierMixin`, `sklearn.base.RegressorMixin`, and `sklearn.base.OutlierMixin`. From scikit-learn 1.7, not defining `__sklearn_tags__` will raise an error.\n",
      "  warnings.warn(\n"
     ]
    },
    {
     "name": "stdout",
     "output_type": "stream",
     "text": [
      "[CV 1/5] END models=LGBMRegressor(random_state=42, verbose=-1), models__max_depth=7, models__n_estimators=90, models__num_leaves=40, preprocessor__num=passthrough;, score=-1670.307 total time=  35.5s\n"
     ]
    },
    {
     "name": "stderr",
     "output_type": "stream",
     "text": [
      "/opt/conda/lib/python3.9/site-packages/sklearn/utils/deprecation.py:151: FutureWarning: 'force_all_finite' was renamed to 'ensure_all_finite' in 1.6 and will be removed in 1.8.\n",
      "  warnings.warn(\n",
      "/opt/conda/lib/python3.9/site-packages/sklearn/utils/_tags.py:354: FutureWarning: The LGBMRegressor or classes from which it inherits use `_get_tags` and `_more_tags`. Please define the `__sklearn_tags__` method, or inherit from `sklearn.base.BaseEstimator` and/or other appropriate mixins such as `sklearn.base.TransformerMixin`, `sklearn.base.ClassifierMixin`, `sklearn.base.RegressorMixin`, and `sklearn.base.OutlierMixin`. From scikit-learn 1.7, not defining `__sklearn_tags__` will raise an error.\n",
      "  warnings.warn(\n",
      "/opt/conda/lib/python3.9/site-packages/sklearn/utils/deprecation.py:151: FutureWarning: 'force_all_finite' was renamed to 'ensure_all_finite' in 1.6 and will be removed in 1.8.\n",
      "  warnings.warn(\n",
      "/opt/conda/lib/python3.9/site-packages/sklearn/utils/_tags.py:354: FutureWarning: The LGBMRegressor or classes from which it inherits use `_get_tags` and `_more_tags`. Please define the `__sklearn_tags__` method, or inherit from `sklearn.base.BaseEstimator` and/or other appropriate mixins such as `sklearn.base.TransformerMixin`, `sklearn.base.ClassifierMixin`, `sklearn.base.RegressorMixin`, and `sklearn.base.OutlierMixin`. From scikit-learn 1.7, not defining `__sklearn_tags__` will raise an error.\n",
      "  warnings.warn(\n",
      "/opt/conda/lib/python3.9/site-packages/sklearn/utils/_tags.py:354: FutureWarning: The LGBMRegressor or classes from which it inherits use `_get_tags` and `_more_tags`. Please define the `__sklearn_tags__` method, or inherit from `sklearn.base.BaseEstimator` and/or other appropriate mixins such as `sklearn.base.TransformerMixin`, `sklearn.base.ClassifierMixin`, `sklearn.base.RegressorMixin`, and `sklearn.base.OutlierMixin`. From scikit-learn 1.7, not defining `__sklearn_tags__` will raise an error.\n",
      "  warnings.warn(\n"
     ]
    },
    {
     "name": "stdout",
     "output_type": "stream",
     "text": [
      "[CV 2/5] END models=LGBMRegressor(random_state=42, verbose=-1), models__max_depth=7, models__n_estimators=90, models__num_leaves=40, preprocessor__num=passthrough;, score=-1688.320 total time=  49.9s\n"
     ]
    },
    {
     "name": "stderr",
     "output_type": "stream",
     "text": [
      "/opt/conda/lib/python3.9/site-packages/sklearn/utils/deprecation.py:151: FutureWarning: 'force_all_finite' was renamed to 'ensure_all_finite' in 1.6 and will be removed in 1.8.\n",
      "  warnings.warn(\n",
      "/opt/conda/lib/python3.9/site-packages/sklearn/utils/_tags.py:354: FutureWarning: The LGBMRegressor or classes from which it inherits use `_get_tags` and `_more_tags`. Please define the `__sklearn_tags__` method, or inherit from `sklearn.base.BaseEstimator` and/or other appropriate mixins such as `sklearn.base.TransformerMixin`, `sklearn.base.ClassifierMixin`, `sklearn.base.RegressorMixin`, and `sklearn.base.OutlierMixin`. From scikit-learn 1.7, not defining `__sklearn_tags__` will raise an error.\n",
      "  warnings.warn(\n",
      "/opt/conda/lib/python3.9/site-packages/sklearn/utils/deprecation.py:151: FutureWarning: 'force_all_finite' was renamed to 'ensure_all_finite' in 1.6 and will be removed in 1.8.\n",
      "  warnings.warn(\n",
      "/opt/conda/lib/python3.9/site-packages/sklearn/utils/_tags.py:354: FutureWarning: The LGBMRegressor or classes from which it inherits use `_get_tags` and `_more_tags`. Please define the `__sklearn_tags__` method, or inherit from `sklearn.base.BaseEstimator` and/or other appropriate mixins such as `sklearn.base.TransformerMixin`, `sklearn.base.ClassifierMixin`, `sklearn.base.RegressorMixin`, and `sklearn.base.OutlierMixin`. From scikit-learn 1.7, not defining `__sklearn_tags__` will raise an error.\n",
      "  warnings.warn(\n",
      "/opt/conda/lib/python3.9/site-packages/sklearn/utils/_tags.py:354: FutureWarning: The LGBMRegressor or classes from which it inherits use `_get_tags` and `_more_tags`. Please define the `__sklearn_tags__` method, or inherit from `sklearn.base.BaseEstimator` and/or other appropriate mixins such as `sklearn.base.TransformerMixin`, `sklearn.base.ClassifierMixin`, `sklearn.base.RegressorMixin`, and `sklearn.base.OutlierMixin`. From scikit-learn 1.7, not defining `__sklearn_tags__` will raise an error.\n",
      "  warnings.warn(\n"
     ]
    },
    {
     "name": "stdout",
     "output_type": "stream",
     "text": [
      "[CV 3/5] END models=LGBMRegressor(random_state=42, verbose=-1), models__max_depth=7, models__n_estimators=90, models__num_leaves=40, preprocessor__num=passthrough;, score=-1726.486 total time=   6.3s\n"
     ]
    },
    {
     "name": "stderr",
     "output_type": "stream",
     "text": [
      "/opt/conda/lib/python3.9/site-packages/sklearn/utils/deprecation.py:151: FutureWarning: 'force_all_finite' was renamed to 'ensure_all_finite' in 1.6 and will be removed in 1.8.\n",
      "  warnings.warn(\n",
      "/opt/conda/lib/python3.9/site-packages/sklearn/utils/_tags.py:354: FutureWarning: The LGBMRegressor or classes from which it inherits use `_get_tags` and `_more_tags`. Please define the `__sklearn_tags__` method, or inherit from `sklearn.base.BaseEstimator` and/or other appropriate mixins such as `sklearn.base.TransformerMixin`, `sklearn.base.ClassifierMixin`, `sklearn.base.RegressorMixin`, and `sklearn.base.OutlierMixin`. From scikit-learn 1.7, not defining `__sklearn_tags__` will raise an error.\n",
      "  warnings.warn(\n",
      "/opt/conda/lib/python3.9/site-packages/sklearn/utils/deprecation.py:151: FutureWarning: 'force_all_finite' was renamed to 'ensure_all_finite' in 1.6 and will be removed in 1.8.\n",
      "  warnings.warn(\n",
      "/opt/conda/lib/python3.9/site-packages/sklearn/utils/_tags.py:354: FutureWarning: The LGBMRegressor or classes from which it inherits use `_get_tags` and `_more_tags`. Please define the `__sklearn_tags__` method, or inherit from `sklearn.base.BaseEstimator` and/or other appropriate mixins such as `sklearn.base.TransformerMixin`, `sklearn.base.ClassifierMixin`, `sklearn.base.RegressorMixin`, and `sklearn.base.OutlierMixin`. From scikit-learn 1.7, not defining `__sklearn_tags__` will raise an error.\n",
      "  warnings.warn(\n",
      "/opt/conda/lib/python3.9/site-packages/sklearn/utils/_tags.py:354: FutureWarning: The LGBMRegressor or classes from which it inherits use `_get_tags` and `_more_tags`. Please define the `__sklearn_tags__` method, or inherit from `sklearn.base.BaseEstimator` and/or other appropriate mixins such as `sklearn.base.TransformerMixin`, `sklearn.base.ClassifierMixin`, `sklearn.base.RegressorMixin`, and `sklearn.base.OutlierMixin`. From scikit-learn 1.7, not defining `__sklearn_tags__` will raise an error.\n",
      "  warnings.warn(\n"
     ]
    },
    {
     "name": "stdout",
     "output_type": "stream",
     "text": [
      "[CV 4/5] END models=LGBMRegressor(random_state=42, verbose=-1), models__max_depth=7, models__n_estimators=90, models__num_leaves=40, preprocessor__num=passthrough;, score=-1691.332 total time=   3.1s\n"
     ]
    },
    {
     "name": "stderr",
     "output_type": "stream",
     "text": [
      "/opt/conda/lib/python3.9/site-packages/sklearn/utils/deprecation.py:151: FutureWarning: 'force_all_finite' was renamed to 'ensure_all_finite' in 1.6 and will be removed in 1.8.\n",
      "  warnings.warn(\n",
      "/opt/conda/lib/python3.9/site-packages/sklearn/utils/_tags.py:354: FutureWarning: The LGBMRegressor or classes from which it inherits use `_get_tags` and `_more_tags`. Please define the `__sklearn_tags__` method, or inherit from `sklearn.base.BaseEstimator` and/or other appropriate mixins such as `sklearn.base.TransformerMixin`, `sklearn.base.ClassifierMixin`, `sklearn.base.RegressorMixin`, and `sklearn.base.OutlierMixin`. From scikit-learn 1.7, not defining `__sklearn_tags__` will raise an error.\n",
      "  warnings.warn(\n",
      "/opt/conda/lib/python3.9/site-packages/sklearn/utils/deprecation.py:151: FutureWarning: 'force_all_finite' was renamed to 'ensure_all_finite' in 1.6 and will be removed in 1.8.\n",
      "  warnings.warn(\n",
      "/opt/conda/lib/python3.9/site-packages/sklearn/utils/_tags.py:354: FutureWarning: The LGBMRegressor or classes from which it inherits use `_get_tags` and `_more_tags`. Please define the `__sklearn_tags__` method, or inherit from `sklearn.base.BaseEstimator` and/or other appropriate mixins such as `sklearn.base.TransformerMixin`, `sklearn.base.ClassifierMixin`, `sklearn.base.RegressorMixin`, and `sklearn.base.OutlierMixin`. From scikit-learn 1.7, not defining `__sklearn_tags__` will raise an error.\n",
      "  warnings.warn(\n"
     ]
    },
    {
     "name": "stdout",
     "output_type": "stream",
     "text": [
      "[CV 5/5] END models=LGBMRegressor(random_state=42, verbose=-1), models__max_depth=7, models__n_estimators=90, models__num_leaves=40, preprocessor__num=passthrough;, score=-1696.410 total time=   3.5s\n"
     ]
    },
    {
     "name": "stderr",
     "output_type": "stream",
     "text": [
      "/opt/conda/lib/python3.9/site-packages/sklearn/utils/deprecation.py:151: FutureWarning: 'force_all_finite' was renamed to 'ensure_all_finite' in 1.6 and will be removed in 1.8.\n",
      "  warnings.warn(\n"
     ]
    },
    {
     "name": "stdout",
     "output_type": "stream",
     "text": [
      "Лучшая модель и ее параметры:\n",
      "\n",
      " Pipeline(steps=[('preprocessor',\n",
      "                 ColumnTransformer(remainder='passthrough',\n",
      "                                   transformers=[('ohe',\n",
      "                                                  Pipeline(steps=[('simpleImputer_ohe',\n",
      "                                                                   SimpleImputer(strategy='most_frequent')),\n",
      "                                                                  ('ohe',\n",
      "                                                                   OneHotEncoder(drop='first',\n",
      "                                                                                 handle_unknown='ignore'))]),\n",
      "                                                  ['VehicleType', 'Gearbox',\n",
      "                                                   'FuelType', 'Brand']),\n",
      "                                                 ('ord',\n",
      "                                                  Pipeline(steps=[('simpleImputer_before_ord',\n",
      "                                                                   SimpleImputer(stra...\n",
      "                                                                                               '900',\n",
      "                                                                                               '9000',\n",
      "                                                                                               '911',\n",
      "                                                                                               'a1',\n",
      "                                                                                               'a2',\n",
      "                                                                                               'a3',\n",
      "                                                                                               'a4', ...]],\n",
      "                                                                                  handle_unknown='use_encoded_value',\n",
      "                                                                                  unknown_value=nan)),\n",
      "                                                                  ('simpleImputer_after_ord',\n",
      "                                                                   SimpleImputer(strategy='most_frequent'))]),\n",
      "                                                  ['Repaired', 'Model']),\n",
      "                                                 ('num', MinMaxScaler(),\n",
      "                                                  ['RegistrationYear', 'Power',\n",
      "                                                   'Kilometer'])])),\n",
      "                ('models',\n",
      "                 LGBMRegressor(max_depth=7, n_estimators=90, num_leaves=40,\n",
      "                               random_state=42, verbose=-1))])\n",
      "Метрика RMSE лучшей модели на кросс-валидации: 1694.5709036178025\n",
      "Среднее время обучения 54.20870547294616 сек.\n"
     ]
    }
   ],
   "source": [
    "gs_lgbmr = GridSearchCV(\n",
    "    pipe_final_lgbmr, \n",
    "    param_grid_lgbmr, \n",
    "    cv=5,\n",
    "    scoring='neg_root_mean_squared_error',\n",
    "    n_jobs=-1,\n",
    "    verbose=5\n",
    ")\n",
    "\n",
    "gs_lgbmr.fit(X_train, y_train)\n",
    "lgbmr_train_rmse = (-1) * gs_lgbmr.best_score_\n",
    "lgbmr_train_time = gs_lgbmr.cv_results_['mean_fit_time'].mean()\n",
    "\n",
    "print(f'Лучшая модель и ее параметры:\\n\\n {gs_lgbmr.best_estimator_}')\n",
    "print(f'Метрика RMSE лучшей модели на кросс-валидации: {lgbmr_train_rmse}')\n",
    "print(f'Среднее время обучения {lgbmr_train_time} сек.')"
   ]
  },
  {
   "cell_type": "markdown",
   "metadata": {},
   "source": [
    "Рассчитаем время предсказания на тренировочной выборке:"
   ]
  },
  {
   "cell_type": "code",
   "execution_count": 54,
   "metadata": {},
   "outputs": [
    {
     "name": "stderr",
     "output_type": "stream",
     "text": [
      "/opt/conda/lib/python3.9/site-packages/sklearn/utils/deprecation.py:151: FutureWarning: 'force_all_finite' was renamed to 'ensure_all_finite' in 1.6 and will be removed in 1.8.\n",
      "  warnings.warn(\n"
     ]
    },
    {
     "name": "stdout",
     "output_type": "stream",
     "text": [
      "Время предсказания 1.4789440631866455 сек.\n",
      "CPU times: user 1.48 s, sys: 6.9 ms, total: 1.49 s\n",
      "Wall time: 1.48 s\n"
     ]
    },
    {
     "name": "stderr",
     "output_type": "stream",
     "text": [
      "/opt/conda/lib/python3.9/site-packages/sklearn/utils/_tags.py:354: FutureWarning: The LGBMRegressor or classes from which it inherits use `_get_tags` and `_more_tags`. Please define the `__sklearn_tags__` method, or inherit from `sklearn.base.BaseEstimator` and/or other appropriate mixins such as `sklearn.base.TransformerMixin`, `sklearn.base.ClassifierMixin`, `sklearn.base.RegressorMixin`, and `sklearn.base.OutlierMixin`. From scikit-learn 1.7, not defining `__sklearn_tags__` will raise an error.\n",
      "  warnings.warn(\n"
     ]
    }
   ],
   "source": [
    "%%time\n",
    "\n",
    "start = time.time()\n",
    "y_pred = gs_lgbmr.best_estimator_.predict(X_train)\n",
    "end = time.time()\n",
    "lgbmr_pred_time = end - start\n",
    "print(f'Время предсказания {lgbmr_pred_time} сек.')"
   ]
  },
  {
   "cell_type": "markdown",
   "metadata": {},
   "source": [
    "### Модель CatBoostRegressor"
   ]
  },
  {
   "cell_type": "markdown",
   "metadata": {},
   "source": [
    "Создадим итоговый пайплайн - подготовка данных и модель:"
   ]
  },
  {
   "cell_type": "code",
   "execution_count": 55,
   "metadata": {},
   "outputs": [],
   "source": [
    "pipe_final_cbr = Pipeline([\n",
    "    ('preprocessor', data_preprocessor),\n",
    "    ('models', CatBoostRegressor(random_state=RANDOM_STATE, cat_features=ohe_columns, verbose=False))\n",
    "])"
   ]
  },
  {
   "cell_type": "markdown",
   "metadata": {},
   "source": [
    "Создадим словарь со значениями гиперпараметров:"
   ]
  },
  {
   "cell_type": "code",
   "execution_count": 56,
   "metadata": {},
   "outputs": [],
   "source": [
    "param_grid_cbr = [\n",
    "    {\n",
    "        'models': [CatBoostRegressor(verbose=False)],\n",
    "        'preprocessor__num': [StandardScaler(), MinMaxScaler(), 'passthrough']  \n",
    "    }\n",
    "]"
   ]
  },
  {
   "cell_type": "markdown",
   "metadata": {},
   "source": [
    "Для поиска лучшей модели будем использовать GridSearchCV:"
   ]
  },
  {
   "cell_type": "code",
   "execution_count": 57,
   "metadata": {},
   "outputs": [
    {
     "name": "stdout",
     "output_type": "stream",
     "text": [
      "Лучшая модель и ее параметры:\n",
      "\n",
      " Pipeline(steps=[('preprocessor',\n",
      "                 ColumnTransformer(remainder='passthrough',\n",
      "                                   transformers=[('ohe',\n",
      "                                                  Pipeline(steps=[('simpleImputer_ohe',\n",
      "                                                                   SimpleImputer(strategy='most_frequent')),\n",
      "                                                                  ('ohe',\n",
      "                                                                   OneHotEncoder(drop='first',\n",
      "                                                                                 handle_unknown='ignore'))]),\n",
      "                                                  ['VehicleType', 'Gearbox',\n",
      "                                                   'FuelType', 'Brand']),\n",
      "                                                 ('ord',\n",
      "                                                  Pipeline(steps=[('simpleImputer_before_ord',\n",
      "                                                                   SimpleImputer(stra...\n",
      "                                                                                               '7er',\n",
      "                                                                                               '80',\n",
      "                                                                                               '850',\n",
      "                                                                                               '90',\n",
      "                                                                                               '900',\n",
      "                                                                                               '9000',\n",
      "                                                                                               '911',\n",
      "                                                                                               'a1',\n",
      "                                                                                               'a2',\n",
      "                                                                                               'a3',\n",
      "                                                                                               'a4', ...]],\n",
      "                                                                                  handle_unknown='use_encoded_value',\n",
      "                                                                                  unknown_value=nan)),\n",
      "                                                                  ('simpleImputer_after_ord',\n",
      "                                                                   SimpleImputer(strategy='most_frequent'))]),\n",
      "                                                  ['Repaired', 'Model']),\n",
      "                                                 ('num', StandardScaler(),\n",
      "                                                  ['RegistrationYear', 'Power',\n",
      "                                                   'Kilometer'])])),\n",
      "                ('models',\n",
      "                 <catboost.core.CatBoostRegressor object at 0x7f2c84f77d60>)])\n",
      "Метрика RMSE лучшей модели на кросс-валидации: 1611.3803252924215\n",
      "Среднее время обучения 17.655917898813883 сек.\n"
     ]
    }
   ],
   "source": [
    "gs_cbr = GridSearchCV(\n",
    "    pipe_final_cbr, \n",
    "    param_grid_cbr, \n",
    "    cv=5,\n",
    "    scoring='neg_root_mean_squared_error',\n",
    "    n_jobs=-1\n",
    ")\n",
    "\n",
    "gs_cbr.fit(X_train, y_train)\n",
    "cbr_train_rmse = (-1) * gs_cbr.best_score_\n",
    "cbr_train_time = gs_cbr.cv_results_['mean_fit_time'].mean()\n",
    "\n",
    "print(f'Лучшая модель и ее параметры:\\n\\n {gs_cbr.best_estimator_}')\n",
    "print(f'Метрика RMSE лучшей модели на кросс-валидации: {cbr_train_rmse}')\n",
    "print(f'Среднее время обучения {cbr_train_time} сек.')"
   ]
  },
  {
   "cell_type": "markdown",
   "metadata": {},
   "source": [
    "Рассчитаем время предсказания на тренировочной выборке:"
   ]
  },
  {
   "cell_type": "code",
   "execution_count": 58,
   "metadata": {},
   "outputs": [
    {
     "name": "stdout",
     "output_type": "stream",
     "text": [
      "Время предсказания 0.5306878089904785 сек.\n",
      "CPU times: user 513 ms, sys: 16.1 ms, total: 529 ms\n",
      "Wall time: 531 ms\n"
     ]
    }
   ],
   "source": [
    "%%time\n",
    "\n",
    "start = time.time()\n",
    "y_pred = gs_cbr.best_estimator_.predict(X_train)\n",
    "end = time.time()\n",
    "cbr_pred_time = end - start\n",
    "print(f'Время предсказания {cbr_pred_time} сек.')"
   ]
  },
  {
   "cell_type": "markdown",
   "metadata": {},
   "source": [
    "## Анализ моделей"
   ]
  },
  {
   "cell_type": "markdown",
   "metadata": {},
   "source": [
    "Сведем все полученные показатели по моделям в одной таблице:"
   ]
  },
  {
   "cell_type": "code",
   "execution_count": 59,
   "metadata": {},
   "outputs": [
    {
     "data": {
      "text/html": [
       "<div>\n",
       "<style scoped>\n",
       "    .dataframe tbody tr th:only-of-type {\n",
       "        vertical-align: middle;\n",
       "    }\n",
       "\n",
       "    .dataframe tbody tr th {\n",
       "        vertical-align: top;\n",
       "    }\n",
       "\n",
       "    .dataframe thead th {\n",
       "        text-align: right;\n",
       "    }\n",
       "</style>\n",
       "<table border=\"1\" class=\"dataframe\">\n",
       "  <thead>\n",
       "    <tr style=\"text-align: right;\">\n",
       "      <th></th>\n",
       "      <th>Модель</th>\n",
       "      <th>Метрика RMSE на кросс-валидации</th>\n",
       "      <th>Время обучения (сек.)</th>\n",
       "      <th>Время предсказания (сек.)</th>\n",
       "    </tr>\n",
       "  </thead>\n",
       "  <tbody>\n",
       "    <tr>\n",
       "      <th>0</th>\n",
       "      <td>LinearRegression</td>\n",
       "      <td>2679.055637</td>\n",
       "      <td>2.377373</td>\n",
       "      <td>0.368076</td>\n",
       "    </tr>\n",
       "    <tr>\n",
       "      <th>1</th>\n",
       "      <td>LGBMRegressor</td>\n",
       "      <td>1694.570904</td>\n",
       "      <td>54.208705</td>\n",
       "      <td>1.478944</td>\n",
       "    </tr>\n",
       "    <tr>\n",
       "      <th>2</th>\n",
       "      <td>CatBoostRegressor</td>\n",
       "      <td>1611.380325</td>\n",
       "      <td>17.655918</td>\n",
       "      <td>0.530688</td>\n",
       "    </tr>\n",
       "  </tbody>\n",
       "</table>\n",
       "</div>"
      ],
      "text/plain": [
       "              Модель  Метрика RMSE на кросс-валидации  Время обучения (сек.)  \\\n",
       "0   LinearRegression                      2679.055637               2.377373   \n",
       "1      LGBMRegressor                      1694.570904              54.208705   \n",
       "2  CatBoostRegressor                      1611.380325              17.655918   \n",
       "\n",
       "   Время предсказания (сек.)  \n",
       "0                   0.368076  \n",
       "1                   1.478944  \n",
       "2                   0.530688  "
      ]
     },
     "execution_count": 59,
     "metadata": {},
     "output_type": "execute_result"
    }
   ],
   "source": [
    "compare_table = pd.DataFrame({\n",
    "    'Модель': ['LinearRegression', 'LGBMRegressor', 'CatBoostRegressor'],\n",
    "    'Метрика RMSE на кросс-валидации': [lr_train_rmse, lgbmr_train_rmse, cbr_train_rmse],\n",
    "    'Время обучения (сек.)': [lr_train_time, lgbmr_train_time, cbr_train_time],\n",
    "    'Время предсказания (сек.)': [lr_pred_time, lgbmr_pred_time, cbr_pred_time]\n",
    "})\n",
    "compare_table"
   ]
  },
  {
   "cell_type": "markdown",
   "metadata": {},
   "source": [
    "Модель LinearRegression проигрывает моделям с бустингом в точности прогноза. Если выбирать из моделей LGBMRegressor и CatBoostRegressor, то у первой больше время обучения и менее точный прогноз. Т.к. время предсказания у всех моделей составляет 1-2 секунды, то предпочтение стоит отдать модели CatBoostRegressor как более точной."
   ]
  },
  {
   "cell_type": "markdown",
   "metadata": {},
   "source": [
    "Проверим работу модели CatBoostRegressor на тестовой выборке:"
   ]
  },
  {
   "cell_type": "code",
   "execution_count": 61,
   "metadata": {},
   "outputs": [
    {
     "name": "stdout",
     "output_type": "stream",
     "text": [
      "Метрика RMSE на тестовой выборке: 1587.6257607004595\n",
      "Время предсказания 0.21189165115356445 сек.\n",
      "CPU times: user 207 ms, sys: 7.96 ms, total: 215 ms\n",
      "Wall time: 213 ms\n"
     ]
    }
   ],
   "source": [
    "%%time\n",
    "\n",
    "start = time.time()\n",
    "y_pred = gs_cbr.best_estimator_.predict(X_test)\n",
    "end = time.time()\n",
    "cbr_test_pred_time = end - start\n",
    "cbr_test_rmse = np.sqrt(mean_squared_error(y_test, y_pred))\n",
    "print(f'Метрика RMSE на тестовой выборке: {cbr_test_rmse}')\n",
    "print(f'Время предсказания {cbr_test_pred_time} сек.')"
   ]
  },
  {
   "cell_type": "markdown",
   "metadata": {},
   "source": [
    "## Итоговые выводы"
   ]
  },
  {
   "cell_type": "markdown",
   "metadata": {},
   "source": [
    "В рамках исследования было необходимо проанализировать данные, предоставленные сервисом по продаже автомобилей с пробегом «Не бит, не крашен» с техническими характеристиками, комплектациями и ценами автомобилей. Цель бизнеса - привлечь новых клиентов, для чего необходимо разработать приложение с определенным функционалом.\n",
    "\n",
    "В рамках исследования было необходимо решить следующие задачи:\n",
    "* Построить несколько моделей машинного обучения для определения рыночной стоимости автомобиля\n",
    "* На основе времени обучения, времени предсказания и точности результата выбрать подходящую модель.\n",
    "\n",
    "В ходе исследования при решении данных задач были реализованы следующие этапы:\n",
    "* Загрузка и обзор данных\n",
    "* Предобработка и исследовательский анализ данных\n",
    "* Подготовка данных и обучение моделей\n",
    "* Анализ моделей\n",
    "\n",
    "Опираясь на условия выбора модели, предоставленные бизнесом, и на результаты исследования, сервису по продаже автомобилей с пробегом «Не бит, не крашен» из трех представленных моделей стоит выбрать CatBoostRegressor, т.к. она обеспечивает наиболее точный прогноз при сопоставимых временных показателях."
   ]
  }
 ],
 "metadata": {
  "ExecuteTimeLog": [
   {
    "duration": 4,
    "start_time": "2025-03-17T12:51:28.224Z"
   },
   {
    "duration": 442,
    "start_time": "2025-03-17T12:52:17.235Z"
   },
   {
    "duration": 3050,
    "start_time": "2025-03-17T12:53:39.939Z"
   },
   {
    "duration": 936,
    "start_time": "2025-03-17T12:53:49.307Z"
   },
   {
    "duration": 20,
    "start_time": "2025-03-17T12:53:56.882Z"
   },
   {
    "duration": 909,
    "start_time": "2025-03-17T12:54:11.906Z"
   },
   {
    "duration": 14,
    "start_time": "2025-03-17T12:54:14.116Z"
   },
   {
    "duration": 915,
    "start_time": "2025-03-17T12:54:35.171Z"
   },
   {
    "duration": 63,
    "start_time": "2025-03-17T12:59:21.738Z"
   },
   {
    "duration": 141,
    "start_time": "2025-03-17T13:01:24.152Z"
   },
   {
    "duration": 3,
    "start_time": "2025-03-17T13:05:15.810Z"
   },
   {
    "duration": 254,
    "start_time": "2025-03-17T13:07:12.210Z"
   },
   {
    "duration": 1595,
    "start_time": "2025-03-17T13:10:12.767Z"
   },
   {
    "duration": 13,
    "start_time": "2025-03-17T13:10:17.157Z"
   },
   {
    "duration": 844,
    "start_time": "2025-03-17T13:10:23.764Z"
   },
   {
    "duration": 14,
    "start_time": "2025-03-17T13:10:27.413Z"
   },
   {
    "duration": 150,
    "start_time": "2025-03-17T13:19:46.065Z"
   },
   {
    "duration": 151,
    "start_time": "2025-03-17T13:20:38.667Z"
   },
   {
    "duration": 149,
    "start_time": "2025-03-17T13:20:55.699Z"
   },
   {
    "duration": 150,
    "start_time": "2025-03-17T13:21:17.787Z"
   },
   {
    "duration": 4,
    "start_time": "2025-03-17T13:22:20.099Z"
   },
   {
    "duration": 4,
    "start_time": "2025-03-17T13:22:29.523Z"
   },
   {
    "duration": 153,
    "start_time": "2025-03-17T13:22:38.107Z"
   },
   {
    "duration": 148,
    "start_time": "2025-03-17T13:22:51.373Z"
   },
   {
    "duration": 150,
    "start_time": "2025-03-17T13:23:14.477Z"
   },
   {
    "duration": 156,
    "start_time": "2025-03-17T13:23:20.899Z"
   },
   {
    "duration": 153,
    "start_time": "2025-03-17T13:23:28.132Z"
   },
   {
    "duration": 150,
    "start_time": "2025-03-17T13:24:34.925Z"
   },
   {
    "duration": 449,
    "start_time": "2025-03-17T13:42:11.509Z"
   },
   {
    "duration": 507,
    "start_time": "2025-03-17T13:43:55.309Z"
   },
   {
    "duration": 471,
    "start_time": "2025-03-17T13:44:01.742Z"
   },
   {
    "duration": 4,
    "start_time": "2025-03-17T13:45:26.396Z"
   },
   {
    "duration": 388,
    "start_time": "2025-03-17T13:45:26.403Z"
   },
   {
    "duration": 923,
    "start_time": "2025-03-17T13:45:26.793Z"
   },
   {
    "duration": 21,
    "start_time": "2025-03-17T13:45:27.718Z"
   },
   {
    "duration": 4,
    "start_time": "2025-03-17T13:45:27.753Z"
   },
   {
    "duration": 270,
    "start_time": "2025-03-17T13:45:27.759Z"
   },
   {
    "duration": 512,
    "start_time": "2025-03-17T13:45:28.031Z"
   },
   {
    "duration": 9,
    "start_time": "2025-03-17T13:45:28.545Z"
   },
   {
    "duration": 65,
    "start_time": "2025-03-17T13:45:28.556Z"
   },
   {
    "duration": 0,
    "start_time": "2025-03-17T13:45:28.622Z"
   },
   {
    "duration": 0,
    "start_time": "2025-03-17T13:45:28.623Z"
   },
   {
    "duration": 509,
    "start_time": "2025-03-17T13:45:44.927Z"
   },
   {
    "duration": 525,
    "start_time": "2025-03-17T13:46:16.120Z"
   },
   {
    "duration": 874,
    "start_time": "2025-03-17T13:49:19.634Z"
   },
   {
    "duration": 1581,
    "start_time": "2025-03-17T13:50:56.961Z"
   },
   {
    "duration": 456,
    "start_time": "2025-03-17T13:52:46.612Z"
   },
   {
    "duration": 4,
    "start_time": "2025-03-17T13:53:12.763Z"
   },
   {
    "duration": 546,
    "start_time": "2025-03-17T13:53:50.409Z"
   },
   {
    "duration": 40,
    "start_time": "2025-03-17T13:55:30.652Z"
   },
   {
    "duration": 498,
    "start_time": "2025-03-17T13:56:01.363Z"
   },
   {
    "duration": 489,
    "start_time": "2025-03-17T13:57:02.837Z"
   },
   {
    "duration": 49,
    "start_time": "2025-03-17T13:57:56.331Z"
   },
   {
    "duration": 101,
    "start_time": "2025-03-17T13:58:17.901Z"
   },
   {
    "duration": 23,
    "start_time": "2025-03-17T13:58:28.200Z"
   },
   {
    "duration": 40,
    "start_time": "2025-03-17T13:58:33.148Z"
   },
   {
    "duration": 27,
    "start_time": "2025-03-17T13:58:37.925Z"
   },
   {
    "duration": 24,
    "start_time": "2025-03-17T13:58:45.028Z"
   },
   {
    "duration": 26,
    "start_time": "2025-03-17T13:58:50.011Z"
   },
   {
    "duration": 23,
    "start_time": "2025-03-17T13:58:56.061Z"
   },
   {
    "duration": 29,
    "start_time": "2025-03-17T13:59:03.188Z"
   },
   {
    "duration": 83,
    "start_time": "2025-03-17T13:59:09.228Z"
   },
   {
    "duration": 37,
    "start_time": "2025-03-17T13:59:59.302Z"
   },
   {
    "duration": 37,
    "start_time": "2025-03-17T14:00:09.150Z"
   },
   {
    "duration": 37,
    "start_time": "2025-03-17T14:00:12.789Z"
   },
   {
    "duration": 41,
    "start_time": "2025-03-17T14:01:41.605Z"
   },
   {
    "duration": 38,
    "start_time": "2025-03-17T14:02:47.935Z"
   },
   {
    "duration": 154,
    "start_time": "2025-03-17T14:02:55.159Z"
   },
   {
    "duration": 166,
    "start_time": "2025-03-17T14:04:05.391Z"
   },
   {
    "duration": 154,
    "start_time": "2025-03-17T14:04:15.919Z"
   },
   {
    "duration": 147,
    "start_time": "2025-03-17T14:25:55.158Z"
   },
   {
    "duration": 158,
    "start_time": "2025-03-17T14:26:08.815Z"
   },
   {
    "duration": 3,
    "start_time": "2025-03-17T14:34:29.939Z"
   },
   {
    "duration": 2,
    "start_time": "2025-03-17T14:34:52.802Z"
   },
   {
    "duration": 38,
    "start_time": "2025-03-17T14:35:13.818Z"
   },
   {
    "duration": 38,
    "start_time": "2025-03-17T14:35:27.971Z"
   },
   {
    "duration": 25,
    "start_time": "2025-03-17T14:36:32.776Z"
   },
   {
    "duration": 23,
    "start_time": "2025-03-17T14:40:23.823Z"
   },
   {
    "duration": 23,
    "start_time": "2025-03-17T14:40:35.015Z"
   },
   {
    "duration": 23,
    "start_time": "2025-03-17T14:40:40.272Z"
   },
   {
    "duration": 23,
    "start_time": "2025-03-17T14:41:53.351Z"
   },
   {
    "duration": 24,
    "start_time": "2025-03-17T14:45:23.090Z"
   },
   {
    "duration": 22,
    "start_time": "2025-03-17T14:45:29.442Z"
   },
   {
    "duration": 66,
    "start_time": "2025-03-17T14:46:30.627Z"
   },
   {
    "duration": 28,
    "start_time": "2025-03-17T14:46:48.866Z"
   },
   {
    "duration": 25,
    "start_time": "2025-03-17T14:46:52.852Z"
   },
   {
    "duration": 27,
    "start_time": "2025-03-17T14:47:06.435Z"
   },
   {
    "duration": 24,
    "start_time": "2025-03-17T14:52:58.815Z"
   },
   {
    "duration": 24,
    "start_time": "2025-03-17T14:53:11.710Z"
   },
   {
    "duration": 22,
    "start_time": "2025-03-17T14:55:22.755Z"
   },
   {
    "duration": 3,
    "start_time": "2025-03-18T06:22:58.686Z"
   },
   {
    "duration": 351,
    "start_time": "2025-03-18T06:22:58.693Z"
   },
   {
    "duration": 850,
    "start_time": "2025-03-18T06:22:59.046Z"
   },
   {
    "duration": 19,
    "start_time": "2025-03-18T06:22:59.898Z"
   },
   {
    "duration": 58,
    "start_time": "2025-03-18T06:22:59.918Z"
   },
   {
    "duration": 230,
    "start_time": "2025-03-18T06:22:59.978Z"
   },
   {
    "duration": 144,
    "start_time": "2025-03-18T06:23:00.210Z"
   },
   {
    "duration": 148,
    "start_time": "2025-03-18T06:23:00.355Z"
   },
   {
    "duration": 478,
    "start_time": "2025-03-18T06:23:00.504Z"
   },
   {
    "duration": 477,
    "start_time": "2025-03-18T06:23:00.984Z"
   },
   {
    "duration": 3,
    "start_time": "2025-03-18T06:23:01.462Z"
   },
   {
    "duration": 53,
    "start_time": "2025-03-18T06:23:01.466Z"
   },
   {
    "duration": 32,
    "start_time": "2025-03-18T06:23:01.520Z"
   },
   {
    "duration": 70,
    "start_time": "2025-03-18T06:23:01.553Z"
   },
   {
    "duration": 28,
    "start_time": "2025-03-18T06:23:01.625Z"
   },
   {
    "duration": 32,
    "start_time": "2025-03-18T06:23:01.655Z"
   },
   {
    "duration": 26,
    "start_time": "2025-03-18T06:23:01.689Z"
   },
   {
    "duration": 45,
    "start_time": "2025-03-18T06:23:01.717Z"
   },
   {
    "duration": 23,
    "start_time": "2025-03-18T06:23:01.763Z"
   },
   {
    "duration": 21,
    "start_time": "2025-03-18T06:25:11.451Z"
   },
   {
    "duration": 20,
    "start_time": "2025-03-18T06:25:15.545Z"
   },
   {
    "duration": 23,
    "start_time": "2025-03-18T06:26:29.216Z"
   },
   {
    "duration": 21,
    "start_time": "2025-03-18T06:27:08.832Z"
   },
   {
    "duration": 23,
    "start_time": "2025-03-18T06:27:12.704Z"
   },
   {
    "duration": 22,
    "start_time": "2025-03-18T06:27:22.714Z"
   },
   {
    "duration": 294,
    "start_time": "2025-03-18T06:27:53.649Z"
   },
   {
    "duration": 297,
    "start_time": "2025-03-18T06:28:04.632Z"
   },
   {
    "duration": 248,
    "start_time": "2025-03-18T06:28:25.898Z"
   },
   {
    "duration": 308,
    "start_time": "2025-03-18T06:28:36.989Z"
   },
   {
    "duration": 241,
    "start_time": "2025-03-18T06:28:46.974Z"
   },
   {
    "duration": 278,
    "start_time": "2025-03-18T06:28:55.216Z"
   },
   {
    "duration": 3,
    "start_time": "2025-03-18T06:29:05.159Z"
   },
   {
    "duration": 398,
    "start_time": "2025-03-18T06:29:05.164Z"
   },
   {
    "duration": 799,
    "start_time": "2025-03-18T06:29:05.564Z"
   },
   {
    "duration": 18,
    "start_time": "2025-03-18T06:29:06.365Z"
   },
   {
    "duration": 59,
    "start_time": "2025-03-18T06:29:06.385Z"
   },
   {
    "duration": 274,
    "start_time": "2025-03-18T06:29:06.445Z"
   },
   {
    "duration": 140,
    "start_time": "2025-03-18T06:29:06.720Z"
   },
   {
    "duration": 144,
    "start_time": "2025-03-18T06:29:06.861Z"
   },
   {
    "duration": 468,
    "start_time": "2025-03-18T06:29:07.007Z"
   },
   {
    "duration": 464,
    "start_time": "2025-03-18T06:29:07.477Z"
   },
   {
    "duration": 3,
    "start_time": "2025-03-18T06:29:07.943Z"
   },
   {
    "duration": 89,
    "start_time": "2025-03-18T06:29:07.947Z"
   },
   {
    "duration": 276,
    "start_time": "2025-03-18T06:29:08.037Z"
   },
   {
    "duration": 25,
    "start_time": "2025-03-18T06:29:08.315Z"
   },
   {
    "duration": 263,
    "start_time": "2025-03-18T06:29:08.342Z"
   },
   {
    "duration": 30,
    "start_time": "2025-03-18T06:29:08.606Z"
   },
   {
    "duration": 330,
    "start_time": "2025-03-18T06:29:08.637Z"
   },
   {
    "duration": 21,
    "start_time": "2025-03-18T06:29:08.969Z"
   },
   {
    "duration": 260,
    "start_time": "2025-03-18T06:29:08.991Z"
   },
   {
    "duration": 20,
    "start_time": "2025-03-18T06:29:09.252Z"
   },
   {
    "duration": 303,
    "start_time": "2025-03-18T06:29:09.274Z"
   },
   {
    "duration": 290,
    "start_time": "2025-03-18T06:29:22.102Z"
   },
   {
    "duration": 451,
    "start_time": "2025-03-18T06:31:51.020Z"
   },
   {
    "duration": 218,
    "start_time": "2025-03-18T06:32:20.418Z"
   },
   {
    "duration": 23,
    "start_time": "2025-03-18T06:37:42.993Z"
   },
   {
    "duration": 272,
    "start_time": "2025-03-18T06:37:48.214Z"
   },
   {
    "duration": 131,
    "start_time": "2025-03-18T06:40:34.345Z"
   },
   {
    "duration": 434,
    "start_time": "2025-03-18T06:40:56.902Z"
   },
   {
    "duration": 41,
    "start_time": "2025-03-18T06:41:49.863Z"
   },
   {
    "duration": 4,
    "start_time": "2025-03-18T06:46:06.546Z"
   },
   {
    "duration": 37,
    "start_time": "2025-03-18T06:47:01.617Z"
   },
   {
    "duration": 38,
    "start_time": "2025-03-18T06:48:28.731Z"
   },
   {
    "duration": 65,
    "start_time": "2025-03-18T06:50:36.141Z"
   },
   {
    "duration": 931,
    "start_time": "2025-03-18T06:50:47.022Z"
   },
   {
    "duration": 1700,
    "start_time": "2025-03-18T06:50:56.471Z"
   },
   {
    "duration": 1716,
    "start_time": "2025-03-18T07:47:03.102Z"
   },
   {
    "duration": 37,
    "start_time": "2025-03-18T07:48:22.093Z"
   },
   {
    "duration": 43,
    "start_time": "2025-03-18T07:49:07.425Z"
   },
   {
    "duration": 22,
    "start_time": "2025-03-18T07:50:20.861Z"
   },
   {
    "duration": 24,
    "start_time": "2025-03-18T07:50:50.249Z"
   },
   {
    "duration": 35,
    "start_time": "2025-03-18T08:09:30.408Z"
   },
   {
    "duration": 1572,
    "start_time": "2025-03-18T08:09:42.105Z"
   },
   {
    "duration": 1538,
    "start_time": "2025-03-18T08:11:21.483Z"
   },
   {
    "duration": 1487,
    "start_time": "2025-03-18T08:17:41.637Z"
   },
   {
    "duration": 44,
    "start_time": "2025-03-18T08:26:09.987Z"
   },
   {
    "duration": 1545,
    "start_time": "2025-03-18T08:26:28.492Z"
   },
   {
    "duration": 45,
    "start_time": "2025-03-18T08:28:24.301Z"
   },
   {
    "duration": 75,
    "start_time": "2025-03-18T08:28:29.339Z"
   },
   {
    "duration": 48,
    "start_time": "2025-03-18T08:29:35.269Z"
   },
   {
    "duration": 47,
    "start_time": "2025-03-18T08:29:52.783Z"
   },
   {
    "duration": 57,
    "start_time": "2025-03-18T08:30:44.141Z"
   },
   {
    "duration": 85,
    "start_time": "2025-03-18T08:33:16.206Z"
   },
   {
    "duration": 48,
    "start_time": "2025-03-18T08:34:24.953Z"
   },
   {
    "duration": 135,
    "start_time": "2025-03-18T08:37:26.573Z"
   },
   {
    "duration": 39,
    "start_time": "2025-03-18T08:39:13.548Z"
   },
   {
    "duration": 118,
    "start_time": "2025-03-18T08:39:43.283Z"
   },
   {
    "duration": 93,
    "start_time": "2025-03-18T08:39:54.685Z"
   },
   {
    "duration": 64,
    "start_time": "2025-03-18T08:40:02.066Z"
   },
   {
    "duration": 48,
    "start_time": "2025-03-18T08:40:18.627Z"
   },
   {
    "duration": 52,
    "start_time": "2025-03-18T08:40:28.491Z"
   },
   {
    "duration": 41,
    "start_time": "2025-03-18T08:42:25.527Z"
   },
   {
    "duration": 1491,
    "start_time": "2025-03-18T08:42:34.846Z"
   },
   {
    "duration": 1505,
    "start_time": "2025-03-18T08:52:17.943Z"
   },
   {
    "duration": 1536,
    "start_time": "2025-03-18T08:53:51.333Z"
   },
   {
    "duration": 1542,
    "start_time": "2025-03-18T08:55:28.395Z"
   },
   {
    "duration": 1567,
    "start_time": "2025-03-18T08:55:43.437Z"
   },
   {
    "duration": 1500,
    "start_time": "2025-03-18T09:06:48.660Z"
   },
   {
    "duration": 14,
    "start_time": "2025-03-18T09:11:28.157Z"
   },
   {
    "duration": 16,
    "start_time": "2025-03-18T09:12:01.824Z"
   },
   {
    "duration": 15,
    "start_time": "2025-03-18T09:12:21.728Z"
   },
   {
    "duration": 41,
    "start_time": "2025-03-18T09:13:34.095Z"
   },
   {
    "duration": 1449,
    "start_time": "2025-03-18T09:13:39.840Z"
   },
   {
    "duration": 36,
    "start_time": "2025-03-18T09:13:56.160Z"
   },
   {
    "duration": 1389,
    "start_time": "2025-03-18T09:14:00.160Z"
   },
   {
    "duration": 3,
    "start_time": "2025-03-18T10:23:51.406Z"
   },
   {
    "duration": 1238,
    "start_time": "2025-03-18T10:23:51.412Z"
   },
   {
    "duration": 850,
    "start_time": "2025-03-18T10:23:52.652Z"
   },
   {
    "duration": 16,
    "start_time": "2025-03-18T10:23:53.504Z"
   },
   {
    "duration": 37,
    "start_time": "2025-03-18T10:23:53.523Z"
   },
   {
    "duration": 236,
    "start_time": "2025-03-18T10:23:53.561Z"
   },
   {
    "duration": 139,
    "start_time": "2025-03-18T10:23:53.798Z"
   },
   {
    "duration": 137,
    "start_time": "2025-03-18T10:23:53.939Z"
   },
   {
    "duration": 483,
    "start_time": "2025-03-18T10:23:54.078Z"
   },
   {
    "duration": 483,
    "start_time": "2025-03-18T10:23:54.563Z"
   },
   {
    "duration": 3,
    "start_time": "2025-03-18T10:23:55.048Z"
   },
   {
    "duration": 112,
    "start_time": "2025-03-18T10:23:55.053Z"
   },
   {
    "duration": 272,
    "start_time": "2025-03-18T10:23:55.167Z"
   },
   {
    "duration": 21,
    "start_time": "2025-03-18T10:23:55.441Z"
   },
   {
    "duration": 275,
    "start_time": "2025-03-18T10:23:55.463Z"
   },
   {
    "duration": 24,
    "start_time": "2025-03-18T10:23:55.740Z"
   },
   {
    "duration": 363,
    "start_time": "2025-03-18T10:23:55.765Z"
   },
   {
    "duration": 26,
    "start_time": "2025-03-18T10:23:56.129Z"
   },
   {
    "duration": 263,
    "start_time": "2025-03-18T10:23:56.156Z"
   },
   {
    "duration": 26,
    "start_time": "2025-03-18T10:23:56.421Z"
   },
   {
    "duration": 351,
    "start_time": "2025-03-18T10:23:56.449Z"
   },
   {
    "duration": 216,
    "start_time": "2025-03-18T10:23:56.802Z"
   },
   {
    "duration": 30,
    "start_time": "2025-03-18T10:23:57.019Z"
   },
   {
    "duration": 117,
    "start_time": "2025-03-18T10:23:57.051Z"
   },
   {
    "duration": 5,
    "start_time": "2025-03-18T10:23:57.169Z"
   },
   {
    "duration": 1671,
    "start_time": "2025-03-18T10:23:57.175Z"
   },
   {
    "duration": 49,
    "start_time": "2025-03-18T10:23:58.848Z"
   },
   {
    "duration": 1570,
    "start_time": "2025-03-18T10:23:58.898Z"
   },
   {
    "duration": 1724,
    "start_time": "2025-03-18T10:24:00.472Z"
   },
   {
    "duration": 56,
    "start_time": "2025-03-18T10:24:02.198Z"
   },
   {
    "duration": 54,
    "start_time": "2025-03-18T10:24:02.256Z"
   },
   {
    "duration": 1547,
    "start_time": "2025-03-18T10:24:02.312Z"
   },
   {
    "duration": 39,
    "start_time": "2025-03-18T10:24:03.861Z"
   },
   {
    "duration": 1584,
    "start_time": "2025-03-18T10:24:03.901Z"
   },
   {
    "duration": 4,
    "start_time": "2025-03-18T10:28:18.049Z"
   },
   {
    "duration": 1493,
    "start_time": "2025-03-18T10:28:18.056Z"
   },
   {
    "duration": 841,
    "start_time": "2025-03-18T10:28:19.551Z"
   },
   {
    "duration": 16,
    "start_time": "2025-03-18T10:28:20.393Z"
   },
   {
    "duration": 3,
    "start_time": "2025-03-18T10:28:20.411Z"
   },
   {
    "duration": 237,
    "start_time": "2025-03-18T10:28:20.436Z"
   },
   {
    "duration": 136,
    "start_time": "2025-03-18T10:28:20.675Z"
   },
   {
    "duration": 144,
    "start_time": "2025-03-18T10:28:20.812Z"
   },
   {
    "duration": 445,
    "start_time": "2025-03-18T10:28:20.957Z"
   },
   {
    "duration": 466,
    "start_time": "2025-03-18T10:28:21.403Z"
   },
   {
    "duration": 3,
    "start_time": "2025-03-18T10:28:21.870Z"
   },
   {
    "duration": 63,
    "start_time": "2025-03-18T10:28:21.875Z"
   },
   {
    "duration": 276,
    "start_time": "2025-03-18T10:28:21.940Z"
   },
   {
    "duration": 25,
    "start_time": "2025-03-18T10:28:22.219Z"
   },
   {
    "duration": 259,
    "start_time": "2025-03-18T10:28:22.245Z"
   },
   {
    "duration": 34,
    "start_time": "2025-03-18T10:28:22.505Z"
   },
   {
    "duration": 330,
    "start_time": "2025-03-18T10:28:22.540Z"
   },
   {
    "duration": 21,
    "start_time": "2025-03-18T10:28:22.871Z"
   },
   {
    "duration": 265,
    "start_time": "2025-03-18T10:28:22.894Z"
   },
   {
    "duration": 23,
    "start_time": "2025-03-18T10:28:23.161Z"
   },
   {
    "duration": 307,
    "start_time": "2025-03-18T10:28:23.186Z"
   },
   {
    "duration": 219,
    "start_time": "2025-03-18T10:28:23.495Z"
   },
   {
    "duration": 29,
    "start_time": "2025-03-18T10:28:23.715Z"
   },
   {
    "duration": 39,
    "start_time": "2025-03-18T10:28:23.746Z"
   },
   {
    "duration": 4,
    "start_time": "2025-03-18T10:28:23.786Z"
   },
   {
    "duration": 1732,
    "start_time": "2025-03-18T10:28:23.792Z"
   },
   {
    "duration": 55,
    "start_time": "2025-03-18T10:28:25.526Z"
   },
   {
    "duration": 1466,
    "start_time": "2025-03-18T10:28:25.583Z"
   },
   {
    "duration": 1503,
    "start_time": "2025-03-18T10:28:27.051Z"
   },
   {
    "duration": 41,
    "start_time": "2025-03-18T10:28:28.555Z"
   },
   {
    "duration": 66,
    "start_time": "2025-03-18T10:28:28.598Z"
   },
   {
    "duration": 1455,
    "start_time": "2025-03-18T10:28:28.666Z"
   },
   {
    "duration": 46,
    "start_time": "2025-03-18T10:28:30.122Z"
   },
   {
    "duration": 1451,
    "start_time": "2025-03-18T10:28:30.170Z"
   },
   {
    "duration": 37,
    "start_time": "2025-03-18T10:28:46.857Z"
   },
   {
    "duration": 1336,
    "start_time": "2025-03-18T10:28:48.489Z"
   },
   {
    "duration": 1516,
    "start_time": "2025-03-18T10:31:27.261Z"
   },
   {
    "duration": 1539,
    "start_time": "2025-03-18T10:32:17.770Z"
   },
   {
    "duration": 1236,
    "start_time": "2025-03-18T10:34:50.229Z"
   },
   {
    "duration": 26,
    "start_time": "2025-03-18T10:36:59.850Z"
   },
   {
    "duration": 1311,
    "start_time": "2025-03-18T10:39:34.480Z"
   },
   {
    "duration": 320,
    "start_time": "2025-03-18T10:41:26.665Z"
   },
   {
    "duration": 4,
    "start_time": "2025-03-18T10:52:54.244Z"
   },
   {
    "duration": 5,
    "start_time": "2025-03-18T10:53:17.058Z"
   },
   {
    "duration": 5,
    "start_time": "2025-03-18T10:53:42.797Z"
   },
   {
    "duration": 5,
    "start_time": "2025-03-18T10:53:50.547Z"
   },
   {
    "duration": 313,
    "start_time": "2025-03-18T10:55:35.665Z"
   },
   {
    "duration": 129,
    "start_time": "2025-03-18T10:56:01.155Z"
   },
   {
    "duration": 4,
    "start_time": "2025-03-18T10:57:13.410Z"
   },
   {
    "duration": 1225,
    "start_time": "2025-03-18T10:57:13.418Z"
   },
   {
    "duration": 849,
    "start_time": "2025-03-18T10:57:14.645Z"
   },
   {
    "duration": 17,
    "start_time": "2025-03-18T10:57:15.495Z"
   },
   {
    "duration": 3,
    "start_time": "2025-03-18T10:57:15.514Z"
   },
   {
    "duration": 237,
    "start_time": "2025-03-18T10:57:15.534Z"
   },
   {
    "duration": 138,
    "start_time": "2025-03-18T10:57:15.773Z"
   },
   {
    "duration": 144,
    "start_time": "2025-03-18T10:57:15.912Z"
   },
   {
    "duration": 448,
    "start_time": "2025-03-18T10:57:16.058Z"
   },
   {
    "duration": 4,
    "start_time": "2025-03-18T10:57:16.507Z"
   },
   {
    "duration": 6,
    "start_time": "2025-03-18T10:57:16.513Z"
   },
   {
    "duration": 67,
    "start_time": "2025-03-18T10:57:16.521Z"
   },
   {
    "duration": 287,
    "start_time": "2025-03-18T10:57:16.590Z"
   },
   {
    "duration": 30,
    "start_time": "2025-03-18T10:57:16.878Z"
   },
   {
    "duration": 277,
    "start_time": "2025-03-18T10:57:16.913Z"
   },
   {
    "duration": 23,
    "start_time": "2025-03-18T10:57:17.191Z"
   },
   {
    "duration": 355,
    "start_time": "2025-03-18T10:57:17.215Z"
   },
   {
    "duration": 21,
    "start_time": "2025-03-18T10:57:17.572Z"
   },
   {
    "duration": 258,
    "start_time": "2025-03-18T10:57:17.595Z"
   },
   {
    "duration": 21,
    "start_time": "2025-03-18T10:57:17.855Z"
   },
   {
    "duration": 348,
    "start_time": "2025-03-18T10:57:17.878Z"
   },
   {
    "duration": 214,
    "start_time": "2025-03-18T10:57:18.228Z"
   },
   {
    "duration": 22,
    "start_time": "2025-03-18T10:57:18.444Z"
   },
   {
    "duration": 38,
    "start_time": "2025-03-18T10:57:18.468Z"
   },
   {
    "duration": 5,
    "start_time": "2025-03-18T10:57:18.507Z"
   },
   {
    "duration": 1741,
    "start_time": "2025-03-18T10:57:18.535Z"
   },
   {
    "duration": 41,
    "start_time": "2025-03-18T10:57:20.277Z"
   },
   {
    "duration": 1532,
    "start_time": "2025-03-18T10:57:20.320Z"
   },
   {
    "duration": 1605,
    "start_time": "2025-03-18T10:57:21.854Z"
   },
   {
    "duration": 48,
    "start_time": "2025-03-18T10:57:23.461Z"
   },
   {
    "duration": 76,
    "start_time": "2025-03-18T10:57:23.511Z"
   },
   {
    "duration": 1507,
    "start_time": "2025-03-18T10:57:23.589Z"
   },
   {
    "duration": 55,
    "start_time": "2025-03-18T10:57:25.098Z"
   },
   {
    "duration": 1530,
    "start_time": "2025-03-18T10:57:25.154Z"
   },
   {
    "duration": 1528,
    "start_time": "2025-03-18T10:57:26.685Z"
   },
   {
    "duration": 124,
    "start_time": "2025-03-18T10:57:28.215Z"
   },
   {
    "duration": 325,
    "start_time": "2025-03-18T10:57:28.341Z"
   },
   {
    "duration": 400,
    "start_time": "2025-03-18T10:58:26.347Z"
   },
   {
    "duration": 4,
    "start_time": "2025-03-18T10:59:10.230Z"
   },
   {
    "duration": 1209,
    "start_time": "2025-03-18T10:59:10.238Z"
   },
   {
    "duration": 856,
    "start_time": "2025-03-18T10:59:11.448Z"
   },
   {
    "duration": 17,
    "start_time": "2025-03-18T10:59:12.305Z"
   },
   {
    "duration": 20,
    "start_time": "2025-03-18T10:59:12.323Z"
   },
   {
    "duration": 244,
    "start_time": "2025-03-18T10:59:12.346Z"
   },
   {
    "duration": 152,
    "start_time": "2025-03-18T10:59:12.592Z"
   },
   {
    "duration": 140,
    "start_time": "2025-03-18T10:59:12.745Z"
   },
   {
    "duration": 3,
    "start_time": "2025-03-18T10:59:12.887Z"
   },
   {
    "duration": 66,
    "start_time": "2025-03-18T10:59:12.891Z"
   },
   {
    "duration": 276,
    "start_time": "2025-03-18T10:59:12.960Z"
   },
   {
    "duration": 21,
    "start_time": "2025-03-18T10:59:13.238Z"
   },
   {
    "duration": 253,
    "start_time": "2025-03-18T10:59:13.261Z"
   },
   {
    "duration": 29,
    "start_time": "2025-03-18T10:59:13.516Z"
   },
   {
    "duration": 306,
    "start_time": "2025-03-18T10:59:13.548Z"
   },
   {
    "duration": 33,
    "start_time": "2025-03-18T10:59:13.856Z"
   },
   {
    "duration": 269,
    "start_time": "2025-03-18T10:59:13.891Z"
   },
   {
    "duration": 25,
    "start_time": "2025-03-18T10:59:14.161Z"
   },
   {
    "duration": 307,
    "start_time": "2025-03-18T10:59:14.188Z"
   },
   {
    "duration": 211,
    "start_time": "2025-03-18T10:59:14.498Z"
   },
   {
    "duration": 29,
    "start_time": "2025-03-18T10:59:14.711Z"
   },
   {
    "duration": 41,
    "start_time": "2025-03-18T10:59:14.742Z"
   },
   {
    "duration": 4,
    "start_time": "2025-03-18T10:59:14.785Z"
   },
   {
    "duration": 1710,
    "start_time": "2025-03-18T10:59:14.790Z"
   },
   {
    "duration": 60,
    "start_time": "2025-03-18T10:59:16.501Z"
   },
   {
    "duration": 1513,
    "start_time": "2025-03-18T10:59:16.563Z"
   },
   {
    "duration": 1609,
    "start_time": "2025-03-18T10:59:18.077Z"
   },
   {
    "duration": 50,
    "start_time": "2025-03-18T10:59:19.688Z"
   },
   {
    "duration": 55,
    "start_time": "2025-03-18T10:59:19.739Z"
   },
   {
    "duration": 1431,
    "start_time": "2025-03-18T10:59:19.796Z"
   },
   {
    "duration": 42,
    "start_time": "2025-03-18T10:59:21.229Z"
   },
   {
    "duration": 1482,
    "start_time": "2025-03-18T10:59:21.273Z"
   },
   {
    "duration": 1531,
    "start_time": "2025-03-18T10:59:22.757Z"
   },
   {
    "duration": 119,
    "start_time": "2025-03-18T10:59:24.289Z"
   },
   {
    "duration": 327,
    "start_time": "2025-03-18T10:59:24.409Z"
   },
   {
    "duration": 350,
    "start_time": "2025-03-18T10:59:24.738Z"
   },
   {
    "duration": 1505,
    "start_time": "2025-03-18T11:16:00.064Z"
   },
   {
    "duration": 118,
    "start_time": "2025-03-18T11:36:46.006Z"
   },
   {
    "duration": 3,
    "start_time": "2025-03-18T11:37:09.836Z"
   },
   {
    "duration": 3,
    "start_time": "2025-03-18T11:37:17.509Z"
   },
   {
    "duration": 5,
    "start_time": "2025-03-18T11:37:59.319Z"
   },
   {
    "duration": 5,
    "start_time": "2025-03-18T11:39:38.337Z"
   },
   {
    "duration": 22,
    "start_time": "2025-03-18T11:40:17.013Z"
   },
   {
    "duration": 2104,
    "start_time": "2025-03-18T11:40:28.848Z"
   },
   {
    "duration": 23,
    "start_time": "2025-03-18T11:40:35.599Z"
   },
   {
    "duration": 14,
    "start_time": "2025-03-18T11:43:57.227Z"
   },
   {
    "duration": 13,
    "start_time": "2025-03-18T11:49:10.582Z"
   },
   {
    "duration": 10,
    "start_time": "2025-03-18T11:49:24.426Z"
   },
   {
    "duration": 122,
    "start_time": "2025-03-18T11:49:37.439Z"
   },
   {
    "duration": 15,
    "start_time": "2025-03-18T11:49:56.234Z"
   },
   {
    "duration": 13,
    "start_time": "2025-03-18T11:49:59.342Z"
   },
   {
    "duration": 4,
    "start_time": "2025-03-18T11:50:16.298Z"
   },
   {
    "duration": 1321,
    "start_time": "2025-03-18T11:50:16.304Z"
   },
   {
    "duration": 872,
    "start_time": "2025-03-18T11:50:17.627Z"
   },
   {
    "duration": 16,
    "start_time": "2025-03-18T11:50:18.501Z"
   },
   {
    "duration": 16,
    "start_time": "2025-03-18T11:50:18.519Z"
   },
   {
    "duration": 237,
    "start_time": "2025-03-18T11:50:18.537Z"
   },
   {
    "duration": 137,
    "start_time": "2025-03-18T11:50:18.775Z"
   },
   {
    "duration": 148,
    "start_time": "2025-03-18T11:50:18.914Z"
   },
   {
    "duration": 5,
    "start_time": "2025-03-18T11:50:19.064Z"
   },
   {
    "duration": 69,
    "start_time": "2025-03-18T11:50:19.070Z"
   },
   {
    "duration": 291,
    "start_time": "2025-03-18T11:50:19.141Z"
   },
   {
    "duration": 22,
    "start_time": "2025-03-18T11:50:19.435Z"
   },
   {
    "duration": 260,
    "start_time": "2025-03-18T11:50:19.460Z"
   },
   {
    "duration": 28,
    "start_time": "2025-03-18T11:50:19.722Z"
   },
   {
    "duration": 334,
    "start_time": "2025-03-18T11:50:19.752Z"
   },
   {
    "duration": 22,
    "start_time": "2025-03-18T11:50:20.088Z"
   },
   {
    "duration": 270,
    "start_time": "2025-03-18T11:50:20.112Z"
   },
   {
    "duration": 21,
    "start_time": "2025-03-18T11:50:20.384Z"
   },
   {
    "duration": 304,
    "start_time": "2025-03-18T11:50:20.407Z"
   },
   {
    "duration": 216,
    "start_time": "2025-03-18T11:50:20.713Z"
   },
   {
    "duration": 22,
    "start_time": "2025-03-18T11:50:20.931Z"
   },
   {
    "duration": 41,
    "start_time": "2025-03-18T11:50:20.955Z"
   },
   {
    "duration": 4,
    "start_time": "2025-03-18T11:50:20.998Z"
   },
   {
    "duration": 1702,
    "start_time": "2025-03-18T11:50:21.004Z"
   },
   {
    "duration": 55,
    "start_time": "2025-03-18T11:50:22.707Z"
   },
   {
    "duration": 1535,
    "start_time": "2025-03-18T11:50:22.764Z"
   },
   {
    "duration": 1587,
    "start_time": "2025-03-18T11:50:24.301Z"
   },
   {
    "duration": 53,
    "start_time": "2025-03-18T11:50:25.890Z"
   },
   {
    "duration": 59,
    "start_time": "2025-03-18T11:50:25.945Z"
   },
   {
    "duration": 1616,
    "start_time": "2025-03-18T11:50:26.005Z"
   },
   {
    "duration": 49,
    "start_time": "2025-03-18T11:50:27.623Z"
   },
   {
    "duration": 1500,
    "start_time": "2025-03-18T11:50:27.674Z"
   },
   {
    "duration": 1630,
    "start_time": "2025-03-18T11:50:29.176Z"
   },
   {
    "duration": 345,
    "start_time": "2025-03-18T11:50:30.807Z"
   },
   {
    "duration": 374,
    "start_time": "2025-03-18T11:50:31.153Z"
   },
   {
    "duration": 26,
    "start_time": "2025-03-18T11:50:31.528Z"
   },
   {
    "duration": 3,
    "start_time": "2025-03-18T11:50:31.557Z"
   },
   {
    "duration": 88,
    "start_time": "2025-03-18T11:50:31.562Z"
   },
   {
    "duration": 11,
    "start_time": "2025-03-18T11:50:54.398Z"
   },
   {
    "duration": 5,
    "start_time": "2025-03-18T12:06:50.344Z"
   },
   {
    "duration": 110,
    "start_time": "2025-03-18T12:07:25.739Z"
   },
   {
    "duration": 282,
    "start_time": "2025-03-18T12:08:37.438Z"
   },
   {
    "duration": 3814,
    "start_time": "2025-03-18T12:08:43.577Z"
   },
   {
    "duration": 22,
    "start_time": "2025-03-18T12:08:55.505Z"
   },
   {
    "duration": 58,
    "start_time": "2025-03-18T12:13:23.949Z"
   },
   {
    "duration": 40,
    "start_time": "2025-03-18T12:13:32.766Z"
   },
   {
    "duration": 95,
    "start_time": "2025-03-18T12:20:09.625Z"
   },
   {
    "duration": 29,
    "start_time": "2025-03-18T12:22:09.818Z"
   },
   {
    "duration": 3,
    "start_time": "2025-03-18T12:22:24.891Z"
   },
   {
    "duration": 69,
    "start_time": "2025-03-18T12:22:26.602Z"
   },
   {
    "duration": 15,
    "start_time": "2025-03-18T12:22:50.867Z"
   },
   {
    "duration": 10,
    "start_time": "2025-03-18T12:26:17.793Z"
   },
   {
    "duration": 2,
    "start_time": "2025-03-18T12:29:27.911Z"
   },
   {
    "duration": 10,
    "start_time": "2025-03-18T12:30:11.919Z"
   },
   {
    "duration": 6978,
    "start_time": "2025-03-18T12:30:45.884Z"
   },
   {
    "duration": 17,
    "start_time": "2025-03-18T12:30:56.944Z"
   },
   {
    "duration": 11,
    "start_time": "2025-03-18T12:31:48.864Z"
   },
   {
    "duration": 11,
    "start_time": "2025-03-18T12:31:50.760Z"
   },
   {
    "duration": 11,
    "start_time": "2025-03-18T12:31:58.354Z"
   },
   {
    "duration": 11,
    "start_time": "2025-03-18T12:32:23.360Z"
   },
   {
    "duration": 2,
    "start_time": "2025-03-18T12:32:39.386Z"
   },
   {
    "duration": 12,
    "start_time": "2025-03-18T12:32:42.145Z"
   },
   {
    "duration": 11,
    "start_time": "2025-03-18T12:33:07.473Z"
   },
   {
    "duration": 3,
    "start_time": "2025-03-18T12:33:58.836Z"
   },
   {
    "duration": 11,
    "start_time": "2025-03-18T12:34:05.100Z"
   },
   {
    "duration": 5451,
    "start_time": "2025-03-18T12:35:15.338Z"
   },
   {
    "duration": 6,
    "start_time": "2025-03-18T12:35:26.868Z"
   },
   {
    "duration": 3,
    "start_time": "2025-03-18T12:35:29.245Z"
   },
   {
    "duration": 17,
    "start_time": "2025-03-18T12:35:46.061Z"
   },
   {
    "duration": 40,
    "start_time": "2025-03-18T12:36:13.142Z"
   },
   {
    "duration": 3,
    "start_time": "2025-03-18T12:36:17.693Z"
   },
   {
    "duration": 21,
    "start_time": "2025-03-18T12:38:39.517Z"
   },
   {
    "duration": 4,
    "start_time": "2025-03-18T12:39:10.534Z"
   },
   {
    "duration": 5,
    "start_time": "2025-03-18T12:39:15.926Z"
   },
   {
    "duration": 9,
    "start_time": "2025-03-18T12:39:39.374Z"
   },
   {
    "duration": 4,
    "start_time": "2025-03-18T12:40:32.084Z"
   },
   {
    "duration": 3,
    "start_time": "2025-03-18T12:40:36.334Z"
   },
   {
    "duration": 10,
    "start_time": "2025-03-18T12:41:08.694Z"
   },
   {
    "duration": 6,
    "start_time": "2025-03-18T12:41:32.768Z"
   },
   {
    "duration": 2,
    "start_time": "2025-03-18T12:41:37.656Z"
   },
   {
    "duration": 10,
    "start_time": "2025-03-18T12:42:08.959Z"
   },
   {
    "duration": 4,
    "start_time": "2025-03-18T12:42:37.586Z"
   },
   {
    "duration": 4,
    "start_time": "2025-03-18T12:42:43.545Z"
   },
   {
    "duration": 12,
    "start_time": "2025-03-18T12:43:24.025Z"
   },
   {
    "duration": 11,
    "start_time": "2025-03-18T12:43:57.929Z"
   },
   {
    "duration": 4,
    "start_time": "2025-03-18T12:44:02.811Z"
   },
   {
    "duration": 11,
    "start_time": "2025-03-18T12:45:35.765Z"
   },
   {
    "duration": 4,
    "start_time": "2025-03-18T12:46:10.102Z"
   },
   {
    "duration": 6464,
    "start_time": "2025-03-18T12:46:16.048Z"
   },
   {
    "duration": 11,
    "start_time": "2025-03-18T12:48:07.877Z"
   },
   {
    "duration": 4,
    "start_time": "2025-03-18T12:48:22.308Z"
   },
   {
    "duration": 6427,
    "start_time": "2025-03-18T12:48:27.012Z"
   },
   {
    "duration": 3,
    "start_time": "2025-03-18T12:49:01.101Z"
   },
   {
    "duration": 5013,
    "start_time": "2025-03-18T12:49:19.091Z"
   },
   {
    "duration": 6347,
    "start_time": "2025-03-18T12:49:31.654Z"
   },
   {
    "duration": 4,
    "start_time": "2025-03-18T12:49:50.996Z"
   },
   {
    "duration": 4,
    "start_time": "2025-03-18T12:49:54.699Z"
   },
   {
    "duration": 3,
    "start_time": "2025-03-18T12:50:04.237Z"
   },
   {
    "duration": 3,
    "start_time": "2025-03-18T12:50:06.454Z"
   },
   {
    "duration": 4,
    "start_time": "2025-03-18T12:50:08.038Z"
   },
   {
    "duration": 2,
    "start_time": "2025-03-18T12:50:10.600Z"
   },
   {
    "duration": 3,
    "start_time": "2025-03-18T12:50:12.813Z"
   },
   {
    "duration": 2,
    "start_time": "2025-03-18T12:50:14.596Z"
   },
   {
    "duration": 3,
    "start_time": "2025-03-18T12:50:17.125Z"
   },
   {
    "duration": 6461,
    "start_time": "2025-03-18T12:50:19.503Z"
   },
   {
    "duration": 2373,
    "start_time": "2025-03-18T12:51:59.105Z"
   },
   {
    "duration": 1281,
    "start_time": "2025-03-18T12:52:01.480Z"
   },
   {
    "duration": 848,
    "start_time": "2025-03-18T12:52:02.763Z"
   },
   {
    "duration": 22,
    "start_time": "2025-03-18T12:52:03.614Z"
   },
   {
    "duration": 3,
    "start_time": "2025-03-18T12:52:03.638Z"
   },
   {
    "duration": 241,
    "start_time": "2025-03-18T12:52:03.643Z"
   },
   {
    "duration": 150,
    "start_time": "2025-03-18T12:52:03.885Z"
   },
   {
    "duration": 157,
    "start_time": "2025-03-18T12:52:04.037Z"
   },
   {
    "duration": 25,
    "start_time": "2025-03-18T12:52:04.196Z"
   },
   {
    "duration": 57,
    "start_time": "2025-03-18T12:52:04.223Z"
   },
   {
    "duration": 277,
    "start_time": "2025-03-18T12:52:04.281Z"
   },
   {
    "duration": 21,
    "start_time": "2025-03-18T12:52:04.560Z"
   },
   {
    "duration": 255,
    "start_time": "2025-03-18T12:52:04.582Z"
   },
   {
    "duration": 21,
    "start_time": "2025-03-18T12:52:04.838Z"
   },
   {
    "duration": 308,
    "start_time": "2025-03-18T12:52:04.860Z"
   },
   {
    "duration": 20,
    "start_time": "2025-03-18T12:52:05.170Z"
   },
   {
    "duration": 294,
    "start_time": "2025-03-18T12:52:05.192Z"
   },
   {
    "duration": 20,
    "start_time": "2025-03-18T12:52:05.488Z"
   },
   {
    "duration": 363,
    "start_time": "2025-03-18T12:52:05.509Z"
   },
   {
    "duration": 213,
    "start_time": "2025-03-18T12:52:05.874Z"
   },
   {
    "duration": 23,
    "start_time": "2025-03-18T12:52:06.088Z"
   },
   {
    "duration": 60,
    "start_time": "2025-03-18T12:52:06.112Z"
   },
   {
    "duration": 5,
    "start_time": "2025-03-18T12:52:06.174Z"
   },
   {
    "duration": 1745,
    "start_time": "2025-03-18T12:52:06.180Z"
   },
   {
    "duration": 46,
    "start_time": "2025-03-18T12:52:07.927Z"
   },
   {
    "duration": 1448,
    "start_time": "2025-03-18T12:52:07.974Z"
   },
   {
    "duration": 1640,
    "start_time": "2025-03-18T12:52:09.424Z"
   },
   {
    "duration": 54,
    "start_time": "2025-03-18T12:52:11.068Z"
   },
   {
    "duration": 68,
    "start_time": "2025-03-18T12:52:11.124Z"
   },
   {
    "duration": 1434,
    "start_time": "2025-03-18T12:52:11.194Z"
   },
   {
    "duration": 48,
    "start_time": "2025-03-18T12:52:12.635Z"
   },
   {
    "duration": 1336,
    "start_time": "2025-03-18T12:52:12.685Z"
   },
   {
    "duration": 1512,
    "start_time": "2025-03-18T12:52:14.023Z"
   },
   {
    "duration": 336,
    "start_time": "2025-03-18T12:52:15.537Z"
   },
   {
    "duration": 360,
    "start_time": "2025-03-18T12:52:15.875Z"
   },
   {
    "duration": 22,
    "start_time": "2025-03-18T12:52:16.237Z"
   },
   {
    "duration": 2,
    "start_time": "2025-03-18T12:52:16.261Z"
   },
   {
    "duration": 88,
    "start_time": "2025-03-18T12:52:16.264Z"
   },
   {
    "duration": 3,
    "start_time": "2025-03-18T12:52:16.353Z"
   },
   {
    "duration": 5,
    "start_time": "2025-03-18T12:52:16.357Z"
   },
   {
    "duration": 13,
    "start_time": "2025-03-18T12:52:16.363Z"
   },
   {
    "duration": 19,
    "start_time": "2025-03-18T12:52:16.377Z"
   },
   {
    "duration": 24,
    "start_time": "2025-03-18T12:52:16.397Z"
   },
   {
    "duration": 5,
    "start_time": "2025-03-18T12:52:16.423Z"
   },
   {
    "duration": 9,
    "start_time": "2025-03-18T12:52:16.430Z"
   },
   {
    "duration": 26210,
    "start_time": "2025-03-18T12:52:16.440Z"
   },
   {
    "duration": 3,
    "start_time": "2025-03-18T12:53:27.127Z"
   },
   {
    "duration": 7442,
    "start_time": "2025-03-18T12:53:29.525Z"
   },
   {
    "duration": 85,
    "start_time": "2025-03-18T12:54:51.292Z"
   },
   {
    "duration": 10,
    "start_time": "2025-03-18T12:55:24.070Z"
   },
   {
    "duration": 2355,
    "start_time": "2025-03-18T12:57:12.042Z"
   },
   {
    "duration": 1237,
    "start_time": "2025-03-18T12:57:14.399Z"
   },
   {
    "duration": 852,
    "start_time": "2025-03-18T12:57:15.637Z"
   },
   {
    "duration": 16,
    "start_time": "2025-03-18T12:57:16.491Z"
   },
   {
    "duration": 10,
    "start_time": "2025-03-18T12:57:16.508Z"
   },
   {
    "duration": 266,
    "start_time": "2025-03-18T12:57:16.520Z"
   },
   {
    "duration": 149,
    "start_time": "2025-03-18T12:57:16.787Z"
   },
   {
    "duration": 137,
    "start_time": "2025-03-18T12:57:16.938Z"
   },
   {
    "duration": 70,
    "start_time": "2025-03-18T12:57:17.076Z"
   },
   {
    "duration": 72,
    "start_time": "2025-03-18T12:57:17.149Z"
   },
   {
    "duration": 304,
    "start_time": "2025-03-18T12:57:17.223Z"
   },
   {
    "duration": 19,
    "start_time": "2025-03-18T12:57:17.529Z"
   },
   {
    "duration": 350,
    "start_time": "2025-03-18T12:57:17.550Z"
   },
   {
    "duration": 21,
    "start_time": "2025-03-18T12:57:17.901Z"
   },
   {
    "duration": 314,
    "start_time": "2025-03-18T12:57:17.923Z"
   },
   {
    "duration": 20,
    "start_time": "2025-03-18T12:57:18.239Z"
   },
   {
    "duration": 253,
    "start_time": "2025-03-18T12:57:18.260Z"
   },
   {
    "duration": 26,
    "start_time": "2025-03-18T12:57:18.514Z"
   },
   {
    "duration": 302,
    "start_time": "2025-03-18T12:57:18.542Z"
   },
   {
    "duration": 210,
    "start_time": "2025-03-18T12:57:18.846Z"
   },
   {
    "duration": 22,
    "start_time": "2025-03-18T12:57:19.057Z"
   },
   {
    "duration": 98,
    "start_time": "2025-03-18T12:57:19.080Z"
   },
   {
    "duration": 4,
    "start_time": "2025-03-18T12:57:19.180Z"
   },
   {
    "duration": 1661,
    "start_time": "2025-03-18T12:57:19.186Z"
   },
   {
    "duration": 42,
    "start_time": "2025-03-18T12:57:20.849Z"
   },
   {
    "duration": 1519,
    "start_time": "2025-03-18T12:57:20.893Z"
   },
   {
    "duration": 1626,
    "start_time": "2025-03-18T12:57:22.413Z"
   },
   {
    "duration": 55,
    "start_time": "2025-03-18T12:57:24.043Z"
   },
   {
    "duration": 84,
    "start_time": "2025-03-18T12:57:24.101Z"
   },
   {
    "duration": 1451,
    "start_time": "2025-03-18T12:57:24.187Z"
   },
   {
    "duration": 48,
    "start_time": "2025-03-18T12:57:25.640Z"
   },
   {
    "duration": 1353,
    "start_time": "2025-03-18T12:57:25.690Z"
   },
   {
    "duration": 1523,
    "start_time": "2025-03-18T12:57:27.045Z"
   },
   {
    "duration": 334,
    "start_time": "2025-03-18T12:57:28.570Z"
   },
   {
    "duration": 358,
    "start_time": "2025-03-18T12:57:28.906Z"
   },
   {
    "duration": 22,
    "start_time": "2025-03-18T12:57:29.265Z"
   },
   {
    "duration": 3,
    "start_time": "2025-03-18T12:57:29.289Z"
   },
   {
    "duration": 83,
    "start_time": "2025-03-18T12:57:29.293Z"
   },
   {
    "duration": 3,
    "start_time": "2025-03-18T12:57:29.378Z"
   },
   {
    "duration": 4,
    "start_time": "2025-03-18T12:57:29.382Z"
   },
   {
    "duration": 4,
    "start_time": "2025-03-18T12:57:29.388Z"
   },
   {
    "duration": 4,
    "start_time": "2025-03-18T12:57:29.394Z"
   },
   {
    "duration": 4,
    "start_time": "2025-03-18T12:57:29.399Z"
   },
   {
    "duration": 4,
    "start_time": "2025-03-18T12:57:29.404Z"
   },
   {
    "duration": 26,
    "start_time": "2025-03-18T12:57:29.409Z"
   },
   {
    "duration": 319817,
    "start_time": "2025-03-18T12:57:29.437Z"
   },
   {
    "duration": 4,
    "start_time": "2025-03-18T13:04:57.513Z"
   },
   {
    "duration": 2,
    "start_time": "2025-03-18T13:05:03.621Z"
   },
   {
    "duration": 114,
    "start_time": "2025-03-18T13:07:19.806Z"
   },
   {
    "duration": 21,
    "start_time": "2025-03-18T13:07:41.578Z"
   },
   {
    "duration": 20,
    "start_time": "2025-03-18T13:08:44.487Z"
   },
   {
    "duration": 290659,
    "start_time": "2025-03-18T13:10:09.604Z"
   },
   {
    "duration": 12,
    "start_time": "2025-03-18T13:16:21.757Z"
   },
   {
    "duration": 4,
    "start_time": "2025-03-18T13:16:48.612Z"
   },
   {
    "duration": 1421,
    "start_time": "2025-03-18T13:16:59.148Z"
   },
   {
    "duration": 1468,
    "start_time": "2025-03-18T13:17:30.271Z"
   },
   {
    "duration": 3,
    "start_time": "2025-03-18T13:17:41.214Z"
   },
   {
    "duration": 1381,
    "start_time": "2025-03-18T13:17:59.303Z"
   },
   {
    "duration": 1326,
    "start_time": "2025-03-18T13:18:35.597Z"
   },
   {
    "duration": 1497,
    "start_time": "2025-03-18T13:18:46.669Z"
   },
   {
    "duration": 29368,
    "start_time": "2025-03-18T13:29:25.117Z"
   },
   {
    "duration": 144174,
    "start_time": "2025-03-18T13:30:58.528Z"
   },
   {
    "duration": 3,
    "start_time": "2025-03-18T13:39:41.460Z"
   },
   {
    "duration": 2,
    "start_time": "2025-03-18T13:39:43.744Z"
   },
   {
    "duration": 331096,
    "start_time": "2025-03-18T13:39:48.955Z"
   },
   {
    "duration": 5,
    "start_time": "2025-03-18T13:46:37.903Z"
   },
   {
    "duration": 339563,
    "start_time": "2025-03-18T13:46:49.282Z"
   },
   {
    "duration": 3,
    "start_time": "2025-03-18T13:53:09.643Z"
   },
   {
    "duration": 3,
    "start_time": "2025-03-18T13:53:19.100Z"
   },
   {
    "duration": 293394,
    "start_time": "2025-03-18T13:54:29.059Z"
   },
   {
    "duration": 3,
    "start_time": "2025-03-18T14:04:03.545Z"
   },
   {
    "duration": 160,
    "start_time": "2025-03-18T14:04:06.664Z"
   },
   {
    "duration": 148,
    "start_time": "2025-03-18T14:04:32.090Z"
   },
   {
    "duration": 293,
    "start_time": "2025-03-18T14:05:24.090Z"
   },
   {
    "duration": 4,
    "start_time": "2025-03-18T14:05:59.714Z"
   },
   {
    "duration": 407,
    "start_time": "2025-03-18T14:06:04.739Z"
   },
   {
    "duration": 277,
    "start_time": "2025-03-18T14:09:07.693Z"
   },
   {
    "duration": 153,
    "start_time": "2025-03-18T14:10:48.895Z"
   },
   {
    "duration": 280,
    "start_time": "2025-03-18T14:11:04.039Z"
   },
   {
    "duration": 144,
    "start_time": "2025-03-18T14:11:15.933Z"
   },
   {
    "duration": 150,
    "start_time": "2025-03-18T14:11:36.686Z"
   },
   {
    "duration": 150,
    "start_time": "2025-03-18T14:13:25.378Z"
   },
   {
    "duration": 169,
    "start_time": "2025-03-18T14:14:45.295Z"
   },
   {
    "duration": 173,
    "start_time": "2025-03-18T14:19:04.508Z"
   },
   {
    "duration": 177,
    "start_time": "2025-03-18T14:20:56.476Z"
   },
   {
    "duration": 155,
    "start_time": "2025-03-18T14:21:43.595Z"
   },
   {
    "duration": 149,
    "start_time": "2025-03-18T14:22:15.595Z"
   },
   {
    "duration": 147,
    "start_time": "2025-03-18T14:22:22.363Z"
   },
   {
    "duration": 166,
    "start_time": "2025-03-18T14:31:27.775Z"
   },
   {
    "duration": 3,
    "start_time": "2025-03-19T06:18:42.043Z"
   },
   {
    "duration": 1634,
    "start_time": "2025-03-19T06:18:42.048Z"
   },
   {
    "duration": 986,
    "start_time": "2025-03-19T06:18:43.683Z"
   },
   {
    "duration": 17,
    "start_time": "2025-03-19T06:18:44.670Z"
   },
   {
    "duration": 5,
    "start_time": "2025-03-19T06:18:44.690Z"
   },
   {
    "duration": 254,
    "start_time": "2025-03-19T06:18:44.696Z"
   },
   {
    "duration": 147,
    "start_time": "2025-03-19T06:18:44.957Z"
   },
   {
    "duration": 164,
    "start_time": "2025-03-19T06:18:45.106Z"
   },
   {
    "duration": 3,
    "start_time": "2025-03-19T06:18:45.272Z"
   },
   {
    "duration": 105,
    "start_time": "2025-03-19T06:18:45.276Z"
   },
   {
    "duration": 293,
    "start_time": "2025-03-19T06:18:45.383Z"
   },
   {
    "duration": 20,
    "start_time": "2025-03-19T06:18:45.678Z"
   },
   {
    "duration": 288,
    "start_time": "2025-03-19T06:18:45.700Z"
   },
   {
    "duration": 21,
    "start_time": "2025-03-19T06:18:45.991Z"
   },
   {
    "duration": 335,
    "start_time": "2025-03-19T06:18:46.014Z"
   },
   {
    "duration": 20,
    "start_time": "2025-03-19T06:18:46.351Z"
   },
   {
    "duration": 257,
    "start_time": "2025-03-19T06:18:46.372Z"
   },
   {
    "duration": 27,
    "start_time": "2025-03-19T06:18:46.630Z"
   },
   {
    "duration": 299,
    "start_time": "2025-03-19T06:18:46.658Z"
   },
   {
    "duration": 207,
    "start_time": "2025-03-19T06:18:46.958Z"
   },
   {
    "duration": 21,
    "start_time": "2025-03-19T06:18:47.167Z"
   },
   {
    "duration": 115,
    "start_time": "2025-03-19T06:18:47.190Z"
   },
   {
    "duration": 4,
    "start_time": "2025-03-19T06:18:47.307Z"
   },
   {
    "duration": 1625,
    "start_time": "2025-03-19T06:18:47.313Z"
   },
   {
    "duration": 49,
    "start_time": "2025-03-19T06:18:48.940Z"
   },
   {
    "duration": 1463,
    "start_time": "2025-03-19T06:18:48.990Z"
   },
   {
    "duration": 1628,
    "start_time": "2025-03-19T06:18:50.457Z"
   },
   {
    "duration": 58,
    "start_time": "2025-03-19T06:18:52.087Z"
   },
   {
    "duration": 62,
    "start_time": "2025-03-19T06:18:52.156Z"
   },
   {
    "duration": 1573,
    "start_time": "2025-03-19T06:18:52.219Z"
   },
   {
    "duration": 43,
    "start_time": "2025-03-19T06:18:53.793Z"
   },
   {
    "duration": 1412,
    "start_time": "2025-03-19T06:18:53.839Z"
   },
   {
    "duration": 1523,
    "start_time": "2025-03-19T06:18:55.256Z"
   },
   {
    "duration": 362,
    "start_time": "2025-03-19T06:18:56.781Z"
   },
   {
    "duration": 411,
    "start_time": "2025-03-19T06:18:57.144Z"
   },
   {
    "duration": 22,
    "start_time": "2025-03-19T06:18:57.557Z"
   },
   {
    "duration": 2,
    "start_time": "2025-03-19T06:18:57.580Z"
   },
   {
    "duration": 78,
    "start_time": "2025-03-19T06:18:57.584Z"
   },
   {
    "duration": 2,
    "start_time": "2025-03-19T06:18:57.664Z"
   },
   {
    "duration": 7,
    "start_time": "2025-03-19T06:18:57.668Z"
   },
   {
    "duration": 4,
    "start_time": "2025-03-19T06:18:57.678Z"
   },
   {
    "duration": 4,
    "start_time": "2025-03-19T06:18:57.684Z"
   },
   {
    "duration": 84,
    "start_time": "2025-03-19T06:18:57.689Z"
   },
   {
    "duration": 9,
    "start_time": "2025-03-19T06:18:57.774Z"
   },
   {
    "duration": 6,
    "start_time": "2025-03-19T06:18:57.784Z"
   },
   {
    "duration": 49,
    "start_time": "2025-03-19T06:18:57.792Z"
   },
   {
    "duration": 0,
    "start_time": "2025-03-19T06:18:57.842Z"
   },
   {
    "duration": 2407,
    "start_time": "2025-03-19T06:20:19.531Z"
   },
   {
    "duration": 7724,
    "start_time": "2025-03-19T06:20:34.260Z"
   },
   {
    "duration": 4,
    "start_time": "2025-03-19T06:20:51.722Z"
   },
   {
    "duration": 1264,
    "start_time": "2025-03-19T06:20:51.727Z"
   },
   {
    "duration": 864,
    "start_time": "2025-03-19T06:20:52.993Z"
   },
   {
    "duration": 16,
    "start_time": "2025-03-19T06:20:53.859Z"
   },
   {
    "duration": 5,
    "start_time": "2025-03-19T06:20:53.877Z"
   },
   {
    "duration": 280,
    "start_time": "2025-03-19T06:20:53.883Z"
   },
   {
    "duration": 132,
    "start_time": "2025-03-19T06:20:54.164Z"
   },
   {
    "duration": 140,
    "start_time": "2025-03-19T06:20:54.298Z"
   },
   {
    "duration": 2,
    "start_time": "2025-03-19T06:20:54.440Z"
   },
   {
    "duration": 65,
    "start_time": "2025-03-19T06:20:54.444Z"
   },
   {
    "duration": 291,
    "start_time": "2025-03-19T06:20:54.511Z"
   },
   {
    "duration": 21,
    "start_time": "2025-03-19T06:20:54.804Z"
   },
   {
    "duration": 261,
    "start_time": "2025-03-19T06:20:54.827Z"
   },
   {
    "duration": 23,
    "start_time": "2025-03-19T06:20:55.092Z"
   },
   {
    "duration": 306,
    "start_time": "2025-03-19T06:20:55.116Z"
   },
   {
    "duration": 20,
    "start_time": "2025-03-19T06:20:55.423Z"
   },
   {
    "duration": 254,
    "start_time": "2025-03-19T06:20:55.444Z"
   },
   {
    "duration": 21,
    "start_time": "2025-03-19T06:20:55.700Z"
   },
   {
    "duration": 302,
    "start_time": "2025-03-19T06:20:55.722Z"
   },
   {
    "duration": 213,
    "start_time": "2025-03-19T06:20:56.025Z"
   },
   {
    "duration": 27,
    "start_time": "2025-03-19T06:20:56.239Z"
   },
   {
    "duration": 51,
    "start_time": "2025-03-19T06:20:56.267Z"
   },
   {
    "duration": 4,
    "start_time": "2025-03-19T06:20:56.320Z"
   },
   {
    "duration": 1651,
    "start_time": "2025-03-19T06:20:56.325Z"
   },
   {
    "duration": 40,
    "start_time": "2025-03-19T06:20:57.977Z"
   },
   {
    "duration": 1527,
    "start_time": "2025-03-19T06:20:58.019Z"
   },
   {
    "duration": 1637,
    "start_time": "2025-03-19T06:20:59.556Z"
   },
   {
    "duration": 64,
    "start_time": "2025-03-19T06:21:01.195Z"
   },
   {
    "duration": 72,
    "start_time": "2025-03-19T06:21:01.260Z"
   },
   {
    "duration": 1565,
    "start_time": "2025-03-19T06:21:01.333Z"
   },
   {
    "duration": 41,
    "start_time": "2025-03-19T06:21:02.900Z"
   },
   {
    "duration": 1428,
    "start_time": "2025-03-19T06:21:02.942Z"
   },
   {
    "duration": 1506,
    "start_time": "2025-03-19T06:21:04.372Z"
   },
   {
    "duration": 365,
    "start_time": "2025-03-19T06:21:05.880Z"
   },
   {
    "duration": 435,
    "start_time": "2025-03-19T06:21:06.247Z"
   },
   {
    "duration": 23,
    "start_time": "2025-03-19T06:21:06.683Z"
   },
   {
    "duration": 20,
    "start_time": "2025-03-19T06:21:06.708Z"
   },
   {
    "duration": 83,
    "start_time": "2025-03-19T06:21:06.730Z"
   },
   {
    "duration": 3,
    "start_time": "2025-03-19T06:21:06.815Z"
   },
   {
    "duration": 17,
    "start_time": "2025-03-19T06:21:06.820Z"
   },
   {
    "duration": 13,
    "start_time": "2025-03-19T06:21:06.841Z"
   },
   {
    "duration": 4,
    "start_time": "2025-03-19T06:21:06.856Z"
   },
   {
    "duration": 9,
    "start_time": "2025-03-19T06:21:06.862Z"
   },
   {
    "duration": 22,
    "start_time": "2025-03-19T06:21:06.873Z"
   },
   {
    "duration": 9,
    "start_time": "2025-03-19T06:21:06.897Z"
   },
   {
    "duration": 338162,
    "start_time": "2025-03-19T06:21:06.907Z"
   },
   {
    "duration": 173,
    "start_time": "2025-03-19T06:26:45.070Z"
   },
   {
    "duration": 107,
    "start_time": "2025-03-19T06:29:45.282Z"
   },
   {
    "duration": 27,
    "start_time": "2025-03-19T06:30:09.368Z"
   },
   {
    "duration": 3,
    "start_time": "2025-03-19T06:30:13.130Z"
   },
   {
    "duration": 3,
    "start_time": "2025-03-19T06:30:16.943Z"
   },
   {
    "duration": 4,
    "start_time": "2025-03-19T06:32:15.267Z"
   },
   {
    "duration": 90,
    "start_time": "2025-03-19T06:32:44.830Z"
   },
   {
    "duration": 186976,
    "start_time": "2025-03-19T06:33:42.116Z"
   },
   {
    "duration": 120,
    "start_time": "2025-03-19T06:41:02.753Z"
   },
   {
    "duration": 616,
    "start_time": "2025-03-19T06:42:59.752Z"
   },
   {
    "duration": 4,
    "start_time": "2025-03-19T06:46:29.266Z"
   },
   {
    "duration": 1449,
    "start_time": "2025-03-19T06:46:29.275Z"
   },
   {
    "duration": 892,
    "start_time": "2025-03-19T06:46:30.726Z"
   },
   {
    "duration": 18,
    "start_time": "2025-03-19T06:46:31.620Z"
   },
   {
    "duration": 19,
    "start_time": "2025-03-19T06:46:31.640Z"
   },
   {
    "duration": 232,
    "start_time": "2025-03-19T06:46:31.661Z"
   },
   {
    "duration": 144,
    "start_time": "2025-03-19T06:46:31.894Z"
   },
   {
    "duration": 220,
    "start_time": "2025-03-19T06:46:32.040Z"
   },
   {
    "duration": 3,
    "start_time": "2025-03-19T06:46:32.262Z"
   },
   {
    "duration": 65,
    "start_time": "2025-03-19T06:46:32.266Z"
   },
   {
    "duration": 311,
    "start_time": "2025-03-19T06:46:32.333Z"
   },
   {
    "duration": 25,
    "start_time": "2025-03-19T06:46:32.645Z"
   },
   {
    "duration": 261,
    "start_time": "2025-03-19T06:46:32.672Z"
   },
   {
    "duration": 30,
    "start_time": "2025-03-19T06:46:32.934Z"
   },
   {
    "duration": 338,
    "start_time": "2025-03-19T06:46:32.967Z"
   },
   {
    "duration": 21,
    "start_time": "2025-03-19T06:46:33.306Z"
   },
   {
    "duration": 253,
    "start_time": "2025-03-19T06:46:33.329Z"
   },
   {
    "duration": 20,
    "start_time": "2025-03-19T06:46:33.583Z"
   },
   {
    "duration": 320,
    "start_time": "2025-03-19T06:46:33.605Z"
   },
   {
    "duration": 225,
    "start_time": "2025-03-19T06:46:33.927Z"
   },
   {
    "duration": 24,
    "start_time": "2025-03-19T06:46:34.154Z"
   },
   {
    "duration": 50,
    "start_time": "2025-03-19T06:46:34.179Z"
   },
   {
    "duration": 26,
    "start_time": "2025-03-19T06:46:34.231Z"
   },
   {
    "duration": 1659,
    "start_time": "2025-03-19T06:46:34.259Z"
   },
   {
    "duration": 52,
    "start_time": "2025-03-19T06:46:35.920Z"
   },
   {
    "duration": 1509,
    "start_time": "2025-03-19T06:46:35.974Z"
   },
   {
    "duration": 1745,
    "start_time": "2025-03-19T06:46:37.484Z"
   },
   {
    "duration": 60,
    "start_time": "2025-03-19T06:46:39.230Z"
   },
   {
    "duration": 69,
    "start_time": "2025-03-19T06:46:39.292Z"
   },
   {
    "duration": 1528,
    "start_time": "2025-03-19T06:46:39.362Z"
   },
   {
    "duration": 42,
    "start_time": "2025-03-19T06:46:40.892Z"
   },
   {
    "duration": 1444,
    "start_time": "2025-03-19T06:46:40.935Z"
   },
   {
    "duration": 1518,
    "start_time": "2025-03-19T06:46:42.381Z"
   },
   {
    "duration": 359,
    "start_time": "2025-03-19T06:46:43.901Z"
   },
   {
    "duration": 410,
    "start_time": "2025-03-19T06:46:44.261Z"
   },
   {
    "duration": 22,
    "start_time": "2025-03-19T06:46:44.673Z"
   },
   {
    "duration": 3,
    "start_time": "2025-03-19T06:46:44.697Z"
   },
   {
    "duration": 87,
    "start_time": "2025-03-19T06:46:44.701Z"
   },
   {
    "duration": 3,
    "start_time": "2025-03-19T06:46:44.790Z"
   },
   {
    "duration": 15,
    "start_time": "2025-03-19T06:46:44.794Z"
   },
   {
    "duration": 33,
    "start_time": "2025-03-19T06:46:44.810Z"
   },
   {
    "duration": 4,
    "start_time": "2025-03-19T06:46:44.846Z"
   },
   {
    "duration": 32,
    "start_time": "2025-03-19T06:46:44.852Z"
   },
   {
    "duration": 17,
    "start_time": "2025-03-19T06:46:44.886Z"
   },
   {
    "duration": 13,
    "start_time": "2025-03-19T06:46:44.904Z"
   },
   {
    "duration": 343164,
    "start_time": "2025-03-19T06:46:44.918Z"
   },
   {
    "duration": 174,
    "start_time": "2025-03-19T06:52:28.084Z"
   },
   {
    "duration": 3,
    "start_time": "2025-03-19T06:52:28.259Z"
   },
   {
    "duration": 53,
    "start_time": "2025-03-19T06:52:28.263Z"
   },
   {
    "duration": 168774,
    "start_time": "2025-03-19T06:52:28.318Z"
   },
   {
    "duration": 668,
    "start_time": "2025-03-19T06:55:17.094Z"
   },
   {
    "duration": 25,
    "start_time": "2025-03-19T07:01:03.117Z"
   },
   {
    "duration": 3,
    "start_time": "2025-03-19T07:06:53.471Z"
   },
   {
    "duration": 3,
    "start_time": "2025-03-19T07:08:53.139Z"
   },
   {
    "duration": 390908,
    "start_time": "2025-03-19T07:10:24.576Z"
   },
   {
    "duration": 3,
    "start_time": "2025-03-19T07:27:26.205Z"
   },
   {
    "duration": 3,
    "start_time": "2025-03-19T07:27:28.174Z"
   },
   {
    "duration": 7694,
    "start_time": "2025-03-19T07:27:31.024Z"
   },
   {
    "duration": 3,
    "start_time": "2025-03-19T07:28:21.638Z"
   },
   {
    "duration": 3,
    "start_time": "2025-03-19T07:28:23.587Z"
   },
   {
    "duration": 7798,
    "start_time": "2025-03-19T07:28:26.126Z"
   },
   {
    "duration": 3,
    "start_time": "2025-03-19T07:28:52.072Z"
   },
   {
    "duration": 4,
    "start_time": "2025-03-19T07:28:53.813Z"
   },
   {
    "duration": 53210,
    "start_time": "2025-03-19T07:28:57.068Z"
   },
   {
    "duration": 3,
    "start_time": "2025-03-19T07:29:50.283Z"
   },
   {
    "duration": 3,
    "start_time": "2025-03-19T07:32:32.867Z"
   },
   {
    "duration": 4,
    "start_time": "2025-03-19T07:32:35.990Z"
   },
   {
    "duration": 396327,
    "start_time": "2025-03-19T07:32:38.280Z"
   },
   {
    "duration": 331,
    "start_time": "2025-03-19T07:41:02.983Z"
   },
   {
    "duration": 9,
    "start_time": "2025-03-19T07:48:51.635Z"
   },
   {
    "duration": 10,
    "start_time": "2025-03-19T07:49:57.282Z"
   },
   {
    "duration": 10,
    "start_time": "2025-03-19T07:50:49.916Z"
   },
   {
    "duration": 10,
    "start_time": "2025-03-19T07:51:50.845Z"
   },
   {
    "duration": 14,
    "start_time": "2025-03-19T07:57:14.286Z"
   },
   {
    "duration": 11,
    "start_time": "2025-03-19T07:57:24.969Z"
   },
   {
    "duration": 82,
    "start_time": "2025-03-19T08:05:26.011Z"
   },
   {
    "duration": 3,
    "start_time": "2025-03-19T08:05:54.308Z"
   },
   {
    "duration": 3,
    "start_time": "2025-03-19T08:06:00.870Z"
   },
   {
    "duration": 386063,
    "start_time": "2025-03-19T08:06:02.949Z"
   },
   {
    "duration": 319,
    "start_time": "2025-03-19T08:12:38.777Z"
   },
   {
    "duration": 12,
    "start_time": "2025-03-19T08:12:45.086Z"
   },
   {
    "duration": 16403,
    "start_time": "2025-03-19T10:36:11.532Z"
   },
   {
    "duration": 1657,
    "start_time": "2025-03-19T10:36:27.937Z"
   },
   {
    "duration": 1017,
    "start_time": "2025-03-19T10:36:29.595Z"
   },
   {
    "duration": 18,
    "start_time": "2025-03-19T10:36:30.614Z"
   },
   {
    "duration": 3,
    "start_time": "2025-03-19T10:36:30.633Z"
   },
   {
    "duration": 340,
    "start_time": "2025-03-19T10:36:30.637Z"
   },
   {
    "duration": 169,
    "start_time": "2025-03-19T10:36:30.978Z"
   },
   {
    "duration": 169,
    "start_time": "2025-03-19T10:36:31.148Z"
   },
   {
    "duration": 4,
    "start_time": "2025-03-19T10:36:31.318Z"
   },
   {
    "duration": 74,
    "start_time": "2025-03-19T10:36:31.325Z"
   },
   {
    "duration": 374,
    "start_time": "2025-03-19T10:36:31.401Z"
   },
   {
    "duration": 22,
    "start_time": "2025-03-19T10:36:31.777Z"
   },
   {
    "duration": 384,
    "start_time": "2025-03-19T10:36:31.801Z"
   },
   {
    "duration": 23,
    "start_time": "2025-03-19T10:36:32.186Z"
   },
   {
    "duration": 417,
    "start_time": "2025-03-19T10:36:32.210Z"
   },
   {
    "duration": 22,
    "start_time": "2025-03-19T10:36:32.629Z"
   },
   {
    "duration": 361,
    "start_time": "2025-03-19T10:36:32.658Z"
   },
   {
    "duration": 22,
    "start_time": "2025-03-19T10:36:33.021Z"
   },
   {
    "duration": 388,
    "start_time": "2025-03-19T10:36:33.044Z"
   },
   {
    "duration": 257,
    "start_time": "2025-03-19T10:36:33.434Z"
   },
   {
    "duration": 23,
    "start_time": "2025-03-19T10:36:33.693Z"
   },
   {
    "duration": 65,
    "start_time": "2025-03-19T10:36:33.719Z"
   },
   {
    "duration": 4,
    "start_time": "2025-03-19T10:36:33.785Z"
   },
   {
    "duration": 1930,
    "start_time": "2025-03-19T10:36:33.791Z"
   },
   {
    "duration": 58,
    "start_time": "2025-03-19T10:36:35.723Z"
   },
   {
    "duration": 1808,
    "start_time": "2025-03-19T10:36:35.783Z"
   },
   {
    "duration": 1792,
    "start_time": "2025-03-19T10:36:37.592Z"
   },
   {
    "duration": 46,
    "start_time": "2025-03-19T10:36:39.388Z"
   },
   {
    "duration": 79,
    "start_time": "2025-03-19T10:36:39.436Z"
   },
   {
    "duration": 1731,
    "start_time": "2025-03-19T10:36:39.516Z"
   },
   {
    "duration": 47,
    "start_time": "2025-03-19T10:36:41.249Z"
   },
   {
    "duration": 1546,
    "start_time": "2025-03-19T10:36:41.298Z"
   },
   {
    "duration": 1719,
    "start_time": "2025-03-19T10:36:42.846Z"
   },
   {
    "duration": 383,
    "start_time": "2025-03-19T10:36:44.568Z"
   },
   {
    "duration": 524,
    "start_time": "2025-03-19T10:36:44.953Z"
   },
   {
    "duration": 24,
    "start_time": "2025-03-19T10:36:45.480Z"
   },
   {
    "duration": 36,
    "start_time": "2025-03-19T10:36:45.505Z"
   },
   {
    "duration": 79,
    "start_time": "2025-03-19T10:36:45.543Z"
   },
   {
    "duration": 3,
    "start_time": "2025-03-19T10:36:45.624Z"
   },
   {
    "duration": 4,
    "start_time": "2025-03-19T10:36:45.628Z"
   },
   {
    "duration": 3,
    "start_time": "2025-03-19T10:36:45.633Z"
   },
   {
    "duration": 4,
    "start_time": "2025-03-19T10:36:45.638Z"
   },
   {
    "duration": 14,
    "start_time": "2025-03-19T10:36:45.644Z"
   },
   {
    "duration": 4,
    "start_time": "2025-03-19T10:36:45.660Z"
   },
   {
    "duration": 4,
    "start_time": "2025-03-19T10:36:45.666Z"
   },
   {
    "duration": 248405,
    "start_time": "2025-03-19T10:36:45.672Z"
   },
   {
    "duration": 201,
    "start_time": "2025-03-19T10:40:54.079Z"
   },
   {
    "duration": 3,
    "start_time": "2025-03-19T10:40:54.282Z"
   },
   {
    "duration": 5,
    "start_time": "2025-03-19T10:40:54.286Z"
   },
   {
    "duration": 1645979,
    "start_time": "2025-03-19T10:40:54.293Z"
   },
   {
    "duration": 693,
    "start_time": "2025-03-19T11:08:20.275Z"
   },
   {
    "duration": 4,
    "start_time": "2025-03-19T11:08:20.971Z"
   },
   {
    "duration": 11,
    "start_time": "2025-03-19T11:08:20.976Z"
   },
   {
    "duration": 418742,
    "start_time": "2025-03-19T11:08:20.989Z"
   },
   {
    "duration": 330,
    "start_time": "2025-03-19T11:15:19.732Z"
   },
   {
    "duration": 13,
    "start_time": "2025-03-19T11:15:20.064Z"
   },
   {
    "duration": 2,
    "start_time": "2025-03-19T11:15:20.082Z"
   },
   {
    "duration": 84,
    "start_time": "2025-03-19T11:18:06.992Z"
   },
   {
    "duration": 33,
    "start_time": "2025-03-19T11:25:35.988Z"
   },
   {
    "duration": 258,
    "start_time": "2025-03-19T11:25:56.293Z"
   },
   {
    "duration": 50,
    "start_time": "2025-03-19T11:26:22.932Z"
   },
   {
    "duration": 261,
    "start_time": "2025-03-19T11:26:25.485Z"
   },
   {
    "duration": 293,
    "start_time": "2025-03-19T11:30:10.182Z"
   },
   {
    "duration": 235,
    "start_time": "2025-03-19T11:30:13.134Z"
   },
   {
    "duration": 126,
    "start_time": "2025-03-19T11:30:47.784Z"
   },
   {
    "duration": 4,
    "start_time": "2025-03-19T11:30:54.441Z"
   },
   {
    "duration": 1447,
    "start_time": "2025-03-19T11:30:54.447Z"
   },
   {
    "duration": 956,
    "start_time": "2025-03-19T11:30:55.896Z"
   },
   {
    "duration": 28,
    "start_time": "2025-03-19T11:30:56.854Z"
   },
   {
    "duration": 3,
    "start_time": "2025-03-19T11:30:56.885Z"
   },
   {
    "duration": 326,
    "start_time": "2025-03-19T11:30:56.889Z"
   },
   {
    "duration": 174,
    "start_time": "2025-03-19T11:30:57.217Z"
   },
   {
    "duration": 221,
    "start_time": "2025-03-19T11:30:57.393Z"
   },
   {
    "duration": 31,
    "start_time": "2025-03-19T11:30:57.616Z"
   },
   {
    "duration": 63,
    "start_time": "2025-03-19T11:30:57.649Z"
   },
   {
    "duration": 373,
    "start_time": "2025-03-19T11:30:57.714Z"
   },
   {
    "duration": 23,
    "start_time": "2025-03-19T11:30:58.089Z"
   },
   {
    "duration": 293,
    "start_time": "2025-03-19T11:30:58.115Z"
   },
   {
    "duration": 22,
    "start_time": "2025-03-19T11:30:58.410Z"
   },
   {
    "duration": 355,
    "start_time": "2025-03-19T11:30:58.434Z"
   },
   {
    "duration": 21,
    "start_time": "2025-03-19T11:30:58.791Z"
   },
   {
    "duration": 307,
    "start_time": "2025-03-19T11:30:58.814Z"
   },
   {
    "duration": 22,
    "start_time": "2025-03-19T11:30:59.123Z"
   },
   {
    "duration": 78,
    "start_time": "2025-03-19T11:30:59.146Z"
   },
   {
    "duration": 335,
    "start_time": "2025-03-19T11:30:59.226Z"
   },
   {
    "duration": 240,
    "start_time": "2025-03-19T11:30:59.563Z"
   },
   {
    "duration": 22,
    "start_time": "2025-03-19T11:30:59.805Z"
   },
   {
    "duration": 72,
    "start_time": "2025-03-19T11:30:59.829Z"
   },
   {
    "duration": 5,
    "start_time": "2025-03-19T11:30:59.902Z"
   },
   {
    "duration": 1928,
    "start_time": "2025-03-19T11:30:59.908Z"
   },
   {
    "duration": 57,
    "start_time": "2025-03-19T11:31:01.838Z"
   },
   {
    "duration": 1835,
    "start_time": "2025-03-19T11:31:01.897Z"
   },
   {
    "duration": 1883,
    "start_time": "2025-03-19T11:31:03.734Z"
   },
   {
    "duration": 69,
    "start_time": "2025-03-19T11:31:05.618Z"
   },
   {
    "duration": 57,
    "start_time": "2025-03-19T11:31:05.688Z"
   },
   {
    "duration": 1668,
    "start_time": "2025-03-19T11:31:05.758Z"
   },
   {
    "duration": 53,
    "start_time": "2025-03-19T11:31:07.428Z"
   },
   {
    "duration": 1520,
    "start_time": "2025-03-19T11:31:07.484Z"
   },
   {
    "duration": 1638,
    "start_time": "2025-03-19T11:31:09.005Z"
   },
   {
    "duration": 406,
    "start_time": "2025-03-19T11:31:10.645Z"
   },
   {
    "duration": 487,
    "start_time": "2025-03-19T11:31:11.053Z"
   },
   {
    "duration": 36,
    "start_time": "2025-03-19T11:31:11.545Z"
   },
   {
    "duration": 53,
    "start_time": "2025-03-19T11:31:11.583Z"
   },
   {
    "duration": 85,
    "start_time": "2025-03-19T11:31:11.638Z"
   },
   {
    "duration": 131,
    "start_time": "2025-03-19T11:31:11.724Z"
   },
   {
    "duration": 0,
    "start_time": "2025-03-19T11:31:11.858Z"
   },
   {
    "duration": 0,
    "start_time": "2025-03-19T11:31:11.859Z"
   },
   {
    "duration": 0,
    "start_time": "2025-03-19T11:31:11.861Z"
   },
   {
    "duration": 0,
    "start_time": "2025-03-19T11:31:11.862Z"
   },
   {
    "duration": 0,
    "start_time": "2025-03-19T11:31:11.863Z"
   },
   {
    "duration": 0,
    "start_time": "2025-03-19T11:31:11.864Z"
   },
   {
    "duration": 0,
    "start_time": "2025-03-19T11:31:11.866Z"
   },
   {
    "duration": 0,
    "start_time": "2025-03-19T11:31:11.867Z"
   },
   {
    "duration": 0,
    "start_time": "2025-03-19T11:31:11.869Z"
   },
   {
    "duration": 0,
    "start_time": "2025-03-19T11:31:11.870Z"
   },
   {
    "duration": 0,
    "start_time": "2025-03-19T11:31:11.871Z"
   },
   {
    "duration": 0,
    "start_time": "2025-03-19T11:31:11.872Z"
   },
   {
    "duration": 0,
    "start_time": "2025-03-19T11:31:11.873Z"
   },
   {
    "duration": 0,
    "start_time": "2025-03-19T11:31:11.875Z"
   },
   {
    "duration": 0,
    "start_time": "2025-03-19T11:31:11.877Z"
   },
   {
    "duration": 0,
    "start_time": "2025-03-19T11:31:11.878Z"
   },
   {
    "duration": 0,
    "start_time": "2025-03-19T11:31:11.879Z"
   },
   {
    "duration": 0,
    "start_time": "2025-03-19T11:31:11.880Z"
   },
   {
    "duration": 10,
    "start_time": "2025-03-19T11:32:07.086Z"
   },
   {
    "duration": 4,
    "start_time": "2025-03-19T11:32:11.533Z"
   },
   {
    "duration": 1456,
    "start_time": "2025-03-19T11:32:11.539Z"
   },
   {
    "duration": 993,
    "start_time": "2025-03-19T11:32:12.996Z"
   },
   {
    "duration": 18,
    "start_time": "2025-03-19T11:32:13.990Z"
   },
   {
    "duration": 3,
    "start_time": "2025-03-19T11:32:14.010Z"
   },
   {
    "duration": 290,
    "start_time": "2025-03-19T11:32:14.015Z"
   },
   {
    "duration": 168,
    "start_time": "2025-03-19T11:32:14.307Z"
   },
   {
    "duration": 313,
    "start_time": "2025-03-19T11:32:14.477Z"
   },
   {
    "duration": 81,
    "start_time": "2025-03-19T11:32:14.791Z"
   },
   {
    "duration": 106,
    "start_time": "2025-03-19T11:32:14.874Z"
   },
   {
    "duration": 719,
    "start_time": "2025-03-19T11:32:14.983Z"
   },
   {
    "duration": 90,
    "start_time": "2025-03-19T11:32:15.704Z"
   },
   {
    "duration": 529,
    "start_time": "2025-03-19T11:32:15.797Z"
   },
   {
    "duration": 35,
    "start_time": "2025-03-19T11:32:16.328Z"
   },
   {
    "duration": 399,
    "start_time": "2025-03-19T11:32:16.366Z"
   },
   {
    "duration": 31,
    "start_time": "2025-03-19T11:32:16.767Z"
   },
   {
    "duration": 296,
    "start_time": "2025-03-19T11:32:16.800Z"
   },
   {
    "duration": 23,
    "start_time": "2025-03-19T11:32:17.098Z"
   },
   {
    "duration": 141,
    "start_time": "2025-03-19T11:32:17.122Z"
   },
   {
    "duration": 0,
    "start_time": "2025-03-19T11:32:17.267Z"
   },
   {
    "duration": 0,
    "start_time": "2025-03-19T11:32:17.269Z"
   },
   {
    "duration": 0,
    "start_time": "2025-03-19T11:32:17.272Z"
   },
   {
    "duration": 0,
    "start_time": "2025-03-19T11:32:17.273Z"
   },
   {
    "duration": 0,
    "start_time": "2025-03-19T11:32:17.275Z"
   },
   {
    "duration": 0,
    "start_time": "2025-03-19T11:32:17.276Z"
   },
   {
    "duration": 0,
    "start_time": "2025-03-19T11:32:17.277Z"
   },
   {
    "duration": 0,
    "start_time": "2025-03-19T11:32:17.278Z"
   },
   {
    "duration": 0,
    "start_time": "2025-03-19T11:32:17.279Z"
   },
   {
    "duration": 0,
    "start_time": "2025-03-19T11:32:17.281Z"
   },
   {
    "duration": 0,
    "start_time": "2025-03-19T11:32:17.282Z"
   },
   {
    "duration": 0,
    "start_time": "2025-03-19T11:32:17.283Z"
   },
   {
    "duration": 0,
    "start_time": "2025-03-19T11:32:17.284Z"
   },
   {
    "duration": 0,
    "start_time": "2025-03-19T11:32:17.285Z"
   },
   {
    "duration": 0,
    "start_time": "2025-03-19T11:32:17.286Z"
   },
   {
    "duration": 0,
    "start_time": "2025-03-19T11:32:17.287Z"
   },
   {
    "duration": 0,
    "start_time": "2025-03-19T11:32:17.289Z"
   },
   {
    "duration": 0,
    "start_time": "2025-03-19T11:32:17.290Z"
   },
   {
    "duration": 0,
    "start_time": "2025-03-19T11:32:17.290Z"
   },
   {
    "duration": 0,
    "start_time": "2025-03-19T11:32:17.292Z"
   },
   {
    "duration": 0,
    "start_time": "2025-03-19T11:32:17.293Z"
   },
   {
    "duration": 0,
    "start_time": "2025-03-19T11:32:17.294Z"
   },
   {
    "duration": 0,
    "start_time": "2025-03-19T11:32:17.295Z"
   },
   {
    "duration": 0,
    "start_time": "2025-03-19T11:32:17.296Z"
   },
   {
    "duration": 0,
    "start_time": "2025-03-19T11:32:17.298Z"
   },
   {
    "duration": 0,
    "start_time": "2025-03-19T11:32:17.299Z"
   },
   {
    "duration": 0,
    "start_time": "2025-03-19T11:32:17.300Z"
   },
   {
    "duration": 0,
    "start_time": "2025-03-19T11:32:17.301Z"
   },
   {
    "duration": 0,
    "start_time": "2025-03-19T11:32:17.358Z"
   },
   {
    "duration": 0,
    "start_time": "2025-03-19T11:32:17.359Z"
   },
   {
    "duration": 0,
    "start_time": "2025-03-19T11:32:17.362Z"
   },
   {
    "duration": 0,
    "start_time": "2025-03-19T11:32:17.364Z"
   },
   {
    "duration": 0,
    "start_time": "2025-03-19T11:32:17.365Z"
   },
   {
    "duration": 0,
    "start_time": "2025-03-19T11:32:17.367Z"
   },
   {
    "duration": 0,
    "start_time": "2025-03-19T11:32:17.369Z"
   },
   {
    "duration": 0,
    "start_time": "2025-03-19T11:32:17.370Z"
   },
   {
    "duration": 0,
    "start_time": "2025-03-19T11:32:17.372Z"
   },
   {
    "duration": 0,
    "start_time": "2025-03-19T11:32:17.375Z"
   },
   {
    "duration": 0,
    "start_time": "2025-03-19T11:32:17.377Z"
   },
   {
    "duration": 0,
    "start_time": "2025-03-19T11:32:17.378Z"
   },
   {
    "duration": 53,
    "start_time": "2025-03-19T11:32:34.976Z"
   },
   {
    "duration": 319,
    "start_time": "2025-03-19T11:32:47.271Z"
   },
   {
    "duration": 4,
    "start_time": "2025-03-19T11:33:02.318Z"
   },
   {
    "duration": 1485,
    "start_time": "2025-03-19T11:33:02.325Z"
   },
   {
    "duration": 1026,
    "start_time": "2025-03-19T11:33:03.812Z"
   },
   {
    "duration": 25,
    "start_time": "2025-03-19T11:33:04.839Z"
   },
   {
    "duration": 4,
    "start_time": "2025-03-19T11:33:04.866Z"
   },
   {
    "duration": 314,
    "start_time": "2025-03-19T11:33:04.874Z"
   },
   {
    "duration": 185,
    "start_time": "2025-03-19T11:33:05.191Z"
   },
   {
    "duration": 286,
    "start_time": "2025-03-19T11:33:05.377Z"
   },
   {
    "duration": 4,
    "start_time": "2025-03-19T11:33:05.665Z"
   },
   {
    "duration": 75,
    "start_time": "2025-03-19T11:33:05.672Z"
   },
   {
    "duration": 350,
    "start_time": "2025-03-19T11:33:05.749Z"
   },
   {
    "duration": 23,
    "start_time": "2025-03-19T11:33:06.100Z"
   },
   {
    "duration": 299,
    "start_time": "2025-03-19T11:33:06.124Z"
   },
   {
    "duration": 33,
    "start_time": "2025-03-19T11:33:06.425Z"
   },
   {
    "duration": 375,
    "start_time": "2025-03-19T11:33:06.461Z"
   },
   {
    "duration": 29,
    "start_time": "2025-03-19T11:33:06.838Z"
   },
   {
    "duration": 306,
    "start_time": "2025-03-19T11:33:06.869Z"
   },
   {
    "duration": 24,
    "start_time": "2025-03-19T11:33:07.176Z"
   },
   {
    "duration": 66,
    "start_time": "2025-03-19T11:33:07.201Z"
   },
   {
    "duration": 347,
    "start_time": "2025-03-19T11:33:07.269Z"
   },
   {
    "duration": 241,
    "start_time": "2025-03-19T11:33:07.618Z"
   },
   {
    "duration": 29,
    "start_time": "2025-03-19T11:33:07.861Z"
   },
   {
    "duration": 45,
    "start_time": "2025-03-19T11:33:07.891Z"
   },
   {
    "duration": 25,
    "start_time": "2025-03-19T11:33:07.937Z"
   },
   {
    "duration": 1949,
    "start_time": "2025-03-19T11:33:07.969Z"
   },
   {
    "duration": 61,
    "start_time": "2025-03-19T11:33:09.919Z"
   },
   {
    "duration": 1797,
    "start_time": "2025-03-19T11:33:09.981Z"
   },
   {
    "duration": 1779,
    "start_time": "2025-03-19T11:33:11.779Z"
   },
   {
    "duration": 47,
    "start_time": "2025-03-19T11:33:13.561Z"
   },
   {
    "duration": 92,
    "start_time": "2025-03-19T11:33:13.610Z"
   },
   {
    "duration": 1706,
    "start_time": "2025-03-19T11:33:13.704Z"
   },
   {
    "duration": 52,
    "start_time": "2025-03-19T11:33:15.411Z"
   },
   {
    "duration": 1598,
    "start_time": "2025-03-19T11:33:15.465Z"
   },
   {
    "duration": 1681,
    "start_time": "2025-03-19T11:33:17.065Z"
   },
   {
    "duration": 407,
    "start_time": "2025-03-19T11:33:18.747Z"
   },
   {
    "duration": 476,
    "start_time": "2025-03-19T11:33:19.159Z"
   },
   {
    "duration": 33,
    "start_time": "2025-03-19T11:33:19.637Z"
   },
   {
    "duration": 15,
    "start_time": "2025-03-19T11:33:19.672Z"
   },
   {
    "duration": 82,
    "start_time": "2025-03-19T11:33:19.689Z"
   },
   {
    "duration": 131,
    "start_time": "2025-03-19T11:33:19.773Z"
   },
   {
    "duration": 0,
    "start_time": "2025-03-19T11:33:19.906Z"
   },
   {
    "duration": 0,
    "start_time": "2025-03-19T11:33:19.908Z"
   },
   {
    "duration": 0,
    "start_time": "2025-03-19T11:33:19.909Z"
   },
   {
    "duration": 0,
    "start_time": "2025-03-19T11:33:19.910Z"
   },
   {
    "duration": 0,
    "start_time": "2025-03-19T11:33:19.911Z"
   },
   {
    "duration": 0,
    "start_time": "2025-03-19T11:33:19.912Z"
   },
   {
    "duration": 0,
    "start_time": "2025-03-19T11:33:19.913Z"
   },
   {
    "duration": 0,
    "start_time": "2025-03-19T11:33:19.914Z"
   },
   {
    "duration": 0,
    "start_time": "2025-03-19T11:33:19.916Z"
   },
   {
    "duration": 0,
    "start_time": "2025-03-19T11:33:19.917Z"
   },
   {
    "duration": 0,
    "start_time": "2025-03-19T11:33:19.918Z"
   },
   {
    "duration": 0,
    "start_time": "2025-03-19T11:33:19.919Z"
   },
   {
    "duration": 0,
    "start_time": "2025-03-19T11:33:19.920Z"
   },
   {
    "duration": 0,
    "start_time": "2025-03-19T11:33:19.921Z"
   },
   {
    "duration": 0,
    "start_time": "2025-03-19T11:33:19.922Z"
   },
   {
    "duration": 0,
    "start_time": "2025-03-19T11:33:19.924Z"
   },
   {
    "duration": 0,
    "start_time": "2025-03-19T11:33:19.925Z"
   },
   {
    "duration": 0,
    "start_time": "2025-03-19T11:33:19.926Z"
   },
   {
    "duration": 18,
    "start_time": "2025-03-19T11:34:34.080Z"
   },
   {
    "duration": 4,
    "start_time": "2025-03-19T11:36:23.557Z"
   },
   {
    "duration": 1419,
    "start_time": "2025-03-19T11:36:23.564Z"
   },
   {
    "duration": 999,
    "start_time": "2025-03-19T11:36:24.985Z"
   },
   {
    "duration": 17,
    "start_time": "2025-03-19T11:36:25.986Z"
   },
   {
    "duration": 4,
    "start_time": "2025-03-19T11:36:26.005Z"
   },
   {
    "duration": 272,
    "start_time": "2025-03-19T11:36:26.011Z"
   },
   {
    "duration": 158,
    "start_time": "2025-03-19T11:36:26.285Z"
   },
   {
    "duration": 170,
    "start_time": "2025-03-19T11:36:26.444Z"
   },
   {
    "duration": 3,
    "start_time": "2025-03-19T11:36:26.616Z"
   },
   {
    "duration": 79,
    "start_time": "2025-03-19T11:36:26.621Z"
   },
   {
    "duration": 323,
    "start_time": "2025-03-19T11:36:26.702Z"
   },
   {
    "duration": 21,
    "start_time": "2025-03-19T11:36:27.027Z"
   },
   {
    "duration": 303,
    "start_time": "2025-03-19T11:36:27.058Z"
   },
   {
    "duration": 31,
    "start_time": "2025-03-19T11:36:27.363Z"
   },
   {
    "duration": 443,
    "start_time": "2025-03-19T11:36:27.397Z"
   },
   {
    "duration": 29,
    "start_time": "2025-03-19T11:36:27.842Z"
   },
   {
    "duration": 307,
    "start_time": "2025-03-19T11:36:27.874Z"
   },
   {
    "duration": 22,
    "start_time": "2025-03-19T11:36:28.183Z"
   },
   {
    "duration": 73,
    "start_time": "2025-03-19T11:36:28.206Z"
   },
   {
    "duration": 339,
    "start_time": "2025-03-19T11:36:28.280Z"
   },
   {
    "duration": 272,
    "start_time": "2025-03-19T11:36:28.622Z"
   },
   {
    "duration": 23,
    "start_time": "2025-03-19T11:36:28.895Z"
   },
   {
    "duration": 60,
    "start_time": "2025-03-19T11:36:28.920Z"
   },
   {
    "duration": 4,
    "start_time": "2025-03-19T11:36:28.982Z"
   },
   {
    "duration": 1816,
    "start_time": "2025-03-19T11:36:28.988Z"
   },
   {
    "duration": 52,
    "start_time": "2025-03-19T11:36:30.806Z"
   },
   {
    "duration": 1820,
    "start_time": "2025-03-19T11:36:30.860Z"
   },
   {
    "duration": 1778,
    "start_time": "2025-03-19T11:36:32.682Z"
   },
   {
    "duration": 48,
    "start_time": "2025-03-19T11:36:34.462Z"
   },
   {
    "duration": 143,
    "start_time": "2025-03-19T11:36:34.511Z"
   },
   {
    "duration": 0,
    "start_time": "2025-03-19T11:36:34.656Z"
   },
   {
    "duration": 0,
    "start_time": "2025-03-19T11:36:34.657Z"
   },
   {
    "duration": 0,
    "start_time": "2025-03-19T11:36:34.658Z"
   },
   {
    "duration": 0,
    "start_time": "2025-03-19T11:36:34.660Z"
   },
   {
    "duration": 0,
    "start_time": "2025-03-19T11:36:34.661Z"
   },
   {
    "duration": 0,
    "start_time": "2025-03-19T11:36:34.662Z"
   },
   {
    "duration": 0,
    "start_time": "2025-03-19T11:36:34.663Z"
   },
   {
    "duration": 0,
    "start_time": "2025-03-19T11:36:34.664Z"
   },
   {
    "duration": 0,
    "start_time": "2025-03-19T11:36:34.665Z"
   },
   {
    "duration": 0,
    "start_time": "2025-03-19T11:36:34.666Z"
   },
   {
    "duration": 0,
    "start_time": "2025-03-19T11:36:34.669Z"
   },
   {
    "duration": 0,
    "start_time": "2025-03-19T11:36:34.670Z"
   },
   {
    "duration": 0,
    "start_time": "2025-03-19T11:36:34.672Z"
   },
   {
    "duration": 0,
    "start_time": "2025-03-19T11:36:34.673Z"
   },
   {
    "duration": 0,
    "start_time": "2025-03-19T11:36:34.675Z"
   },
   {
    "duration": 0,
    "start_time": "2025-03-19T11:36:34.676Z"
   },
   {
    "duration": 0,
    "start_time": "2025-03-19T11:36:34.678Z"
   },
   {
    "duration": 0,
    "start_time": "2025-03-19T11:36:34.679Z"
   },
   {
    "duration": 0,
    "start_time": "2025-03-19T11:36:34.681Z"
   },
   {
    "duration": 0,
    "start_time": "2025-03-19T11:36:34.682Z"
   },
   {
    "duration": 0,
    "start_time": "2025-03-19T11:36:34.684Z"
   },
   {
    "duration": 0,
    "start_time": "2025-03-19T11:36:34.685Z"
   },
   {
    "duration": 0,
    "start_time": "2025-03-19T11:36:34.687Z"
   },
   {
    "duration": 0,
    "start_time": "2025-03-19T11:36:34.688Z"
   },
   {
    "duration": 0,
    "start_time": "2025-03-19T11:36:34.689Z"
   },
   {
    "duration": 0,
    "start_time": "2025-03-19T11:36:34.690Z"
   },
   {
    "duration": 0,
    "start_time": "2025-03-19T11:36:34.691Z"
   },
   {
    "duration": 0,
    "start_time": "2025-03-19T11:36:34.692Z"
   },
   {
    "duration": 0,
    "start_time": "2025-03-19T11:36:34.693Z"
   },
   {
    "duration": 23,
    "start_time": "2025-03-19T11:36:58.912Z"
   },
   {
    "duration": 5,
    "start_time": "2025-03-19T11:37:48.722Z"
   },
   {
    "duration": 8,
    "start_time": "2025-03-19T11:39:26.488Z"
   },
   {
    "duration": 29,
    "start_time": "2025-03-19T11:39:43.119Z"
   },
   {
    "duration": 27,
    "start_time": "2025-03-19T11:40:25.497Z"
   },
   {
    "duration": 13,
    "start_time": "2025-03-19T11:40:41.330Z"
   },
   {
    "duration": 12,
    "start_time": "2025-03-19T11:42:34.129Z"
   },
   {
    "duration": 12,
    "start_time": "2025-03-19T11:43:17.523Z"
   },
   {
    "duration": 13,
    "start_time": "2025-03-19T11:43:23.194Z"
   },
   {
    "duration": 14,
    "start_time": "2025-03-19T11:43:31.691Z"
   },
   {
    "duration": 13,
    "start_time": "2025-03-19T11:44:12.823Z"
   },
   {
    "duration": 19,
    "start_time": "2025-03-19T11:44:38.952Z"
   },
   {
    "duration": 119,
    "start_time": "2025-03-19T11:44:51.417Z"
   },
   {
    "duration": 4,
    "start_time": "2025-03-19T11:45:51.214Z"
   },
   {
    "duration": 1411,
    "start_time": "2025-03-19T11:45:51.220Z"
   },
   {
    "duration": 960,
    "start_time": "2025-03-19T11:45:52.632Z"
   },
   {
    "duration": 17,
    "start_time": "2025-03-19T11:45:53.594Z"
   },
   {
    "duration": 10,
    "start_time": "2025-03-19T11:45:53.613Z"
   },
   {
    "duration": 276,
    "start_time": "2025-03-19T11:45:53.625Z"
   },
   {
    "duration": 158,
    "start_time": "2025-03-19T11:45:53.903Z"
   },
   {
    "duration": 167,
    "start_time": "2025-03-19T11:45:54.063Z"
   },
   {
    "duration": 3,
    "start_time": "2025-03-19T11:45:54.232Z"
   },
   {
    "duration": 88,
    "start_time": "2025-03-19T11:45:54.236Z"
   },
   {
    "duration": 318,
    "start_time": "2025-03-19T11:45:54.326Z"
   },
   {
    "duration": 29,
    "start_time": "2025-03-19T11:45:54.646Z"
   },
   {
    "duration": 294,
    "start_time": "2025-03-19T11:45:54.678Z"
   },
   {
    "duration": 24,
    "start_time": "2025-03-19T11:45:54.977Z"
   },
   {
    "duration": 429,
    "start_time": "2025-03-19T11:45:55.003Z"
   },
   {
    "duration": 26,
    "start_time": "2025-03-19T11:45:55.434Z"
   },
   {
    "duration": 350,
    "start_time": "2025-03-19T11:45:55.463Z"
   },
   {
    "duration": 72,
    "start_time": "2025-03-19T11:45:55.815Z"
   },
   {
    "duration": 90,
    "start_time": "2025-03-19T11:45:55.888Z"
   },
   {
    "duration": 371,
    "start_time": "2025-03-19T11:45:55.980Z"
   },
   {
    "duration": 258,
    "start_time": "2025-03-19T11:45:56.353Z"
   },
   {
    "duration": 23,
    "start_time": "2025-03-19T11:45:56.613Z"
   },
   {
    "duration": 58,
    "start_time": "2025-03-19T11:45:56.638Z"
   },
   {
    "duration": 4,
    "start_time": "2025-03-19T11:45:56.698Z"
   },
   {
    "duration": 1899,
    "start_time": "2025-03-19T11:45:56.703Z"
   },
   {
    "duration": 41,
    "start_time": "2025-03-19T11:45:58.604Z"
   },
   {
    "duration": 1793,
    "start_time": "2025-03-19T11:45:58.646Z"
   },
   {
    "duration": 1773,
    "start_time": "2025-03-19T11:46:00.441Z"
   },
   {
    "duration": 61,
    "start_time": "2025-03-19T11:46:02.215Z"
   },
   {
    "duration": 57,
    "start_time": "2025-03-19T11:46:02.277Z"
   },
   {
    "duration": 1719,
    "start_time": "2025-03-19T11:46:02.336Z"
   },
   {
    "duration": 46,
    "start_time": "2025-03-19T11:46:04.058Z"
   },
   {
    "duration": 1561,
    "start_time": "2025-03-19T11:46:04.106Z"
   },
   {
    "duration": 1708,
    "start_time": "2025-03-19T11:46:05.670Z"
   },
   {
    "duration": 380,
    "start_time": "2025-03-19T11:46:07.381Z"
   },
   {
    "duration": 452,
    "start_time": "2025-03-19T11:46:07.763Z"
   },
   {
    "duration": 22,
    "start_time": "2025-03-19T11:46:08.217Z"
   },
   {
    "duration": 3,
    "start_time": "2025-03-19T11:46:08.241Z"
   },
   {
    "duration": 71,
    "start_time": "2025-03-19T11:46:08.261Z"
   },
   {
    "duration": 134,
    "start_time": "2025-03-19T11:46:08.334Z"
   },
   {
    "duration": 0,
    "start_time": "2025-03-19T11:46:08.472Z"
   },
   {
    "duration": 0,
    "start_time": "2025-03-19T11:46:08.473Z"
   },
   {
    "duration": 0,
    "start_time": "2025-03-19T11:46:08.475Z"
   },
   {
    "duration": 0,
    "start_time": "2025-03-19T11:46:08.476Z"
   },
   {
    "duration": 0,
    "start_time": "2025-03-19T11:46:08.477Z"
   },
   {
    "duration": 0,
    "start_time": "2025-03-19T11:46:08.478Z"
   },
   {
    "duration": 0,
    "start_time": "2025-03-19T11:46:08.479Z"
   },
   {
    "duration": 0,
    "start_time": "2025-03-19T11:46:08.480Z"
   },
   {
    "duration": 0,
    "start_time": "2025-03-19T11:46:08.481Z"
   },
   {
    "duration": 0,
    "start_time": "2025-03-19T11:46:08.482Z"
   },
   {
    "duration": 0,
    "start_time": "2025-03-19T11:46:08.483Z"
   },
   {
    "duration": 0,
    "start_time": "2025-03-19T11:46:08.484Z"
   },
   {
    "duration": 0,
    "start_time": "2025-03-19T11:46:08.485Z"
   },
   {
    "duration": 0,
    "start_time": "2025-03-19T11:46:08.486Z"
   },
   {
    "duration": 0,
    "start_time": "2025-03-19T11:46:08.487Z"
   },
   {
    "duration": 0,
    "start_time": "2025-03-19T11:46:08.488Z"
   },
   {
    "duration": 0,
    "start_time": "2025-03-19T11:46:08.489Z"
   },
   {
    "duration": 0,
    "start_time": "2025-03-19T11:46:08.490Z"
   },
   {
    "duration": 87,
    "start_time": "2025-03-19T11:52:55.567Z"
   },
   {
    "duration": 23,
    "start_time": "2025-03-19T11:54:44.850Z"
   },
   {
    "duration": 293,
    "start_time": "2025-03-19T11:55:31.612Z"
   },
   {
    "duration": 314,
    "start_time": "2025-03-19T11:55:56.396Z"
   },
   {
    "duration": 297,
    "start_time": "2025-03-19T11:56:16.152Z"
   },
   {
    "duration": 295,
    "start_time": "2025-03-19T11:56:25.711Z"
   },
   {
    "duration": 304,
    "start_time": "2025-03-19T11:57:01.695Z"
   },
   {
    "duration": 287,
    "start_time": "2025-03-19T11:57:09.413Z"
   },
   {
    "duration": 4,
    "start_time": "2025-03-19T11:58:34.326Z"
   },
   {
    "duration": 3,
    "start_time": "2025-03-19T11:58:36.321Z"
   },
   {
    "duration": 304,
    "start_time": "2025-03-19T11:58:38.949Z"
   },
   {
    "duration": 3,
    "start_time": "2025-03-19T11:58:45.887Z"
   },
   {
    "duration": 3,
    "start_time": "2025-03-19T11:58:49.407Z"
   },
   {
    "duration": 4,
    "start_time": "2025-03-19T11:58:54.974Z"
   },
   {
    "duration": 3,
    "start_time": "2025-03-19T11:58:57.550Z"
   },
   {
    "duration": 58627,
    "start_time": "2025-03-19T11:59:00.167Z"
   },
   {
    "duration": 3,
    "start_time": "2025-03-19T12:00:44.225Z"
   },
   {
    "duration": 141,
    "start_time": "2025-03-19T12:02:03.398Z"
   },
   {
    "duration": 186,
    "start_time": "2025-03-19T12:02:53.502Z"
   },
   {
    "duration": 3,
    "start_time": "2025-03-19T12:03:07.223Z"
   },
   {
    "duration": 80,
    "start_time": "2025-03-19T12:03:32.247Z"
   },
   {
    "duration": 154,
    "start_time": "2025-03-19T12:03:52.788Z"
   },
   {
    "duration": 69,
    "start_time": "2025-03-19T12:03:56.196Z"
   },
   {
    "duration": 3,
    "start_time": "2025-03-19T12:04:02.015Z"
   },
   {
    "duration": 5,
    "start_time": "2025-03-19T12:04:03.665Z"
   },
   {
    "duration": 279,
    "start_time": "2025-03-19T12:04:04.808Z"
   },
   {
    "duration": 4,
    "start_time": "2025-03-19T12:04:08.865Z"
   },
   {
    "duration": 4,
    "start_time": "2025-03-19T12:04:11.224Z"
   },
   {
    "duration": 3,
    "start_time": "2025-03-19T12:04:14.535Z"
   },
   {
    "duration": 12,
    "start_time": "2025-03-19T12:04:16.562Z"
   },
   {
    "duration": 54261,
    "start_time": "2025-03-19T12:04:20.354Z"
   },
   {
    "duration": 10,
    "start_time": "2025-03-19T12:08:46.020Z"
   },
   {
    "duration": 4,
    "start_time": "2025-03-19T12:08:52.898Z"
   },
   {
    "duration": 1500,
    "start_time": "2025-03-19T12:08:52.904Z"
   },
   {
    "duration": 1018,
    "start_time": "2025-03-19T12:08:54.406Z"
   },
   {
    "duration": 16,
    "start_time": "2025-03-19T12:08:55.426Z"
   },
   {
    "duration": 90,
    "start_time": "2025-03-19T12:08:55.444Z"
   },
   {
    "duration": 335,
    "start_time": "2025-03-19T12:08:55.536Z"
   },
   {
    "duration": 163,
    "start_time": "2025-03-19T12:08:55.874Z"
   },
   {
    "duration": 213,
    "start_time": "2025-03-19T12:08:56.038Z"
   },
   {
    "duration": 5,
    "start_time": "2025-03-19T12:08:56.253Z"
   },
   {
    "duration": 58,
    "start_time": "2025-03-19T12:08:56.260Z"
   },
   {
    "duration": 328,
    "start_time": "2025-03-19T12:08:56.320Z"
   },
   {
    "duration": 33,
    "start_time": "2025-03-19T12:08:56.650Z"
   },
   {
    "duration": 299,
    "start_time": "2025-03-19T12:08:56.686Z"
   },
   {
    "duration": 21,
    "start_time": "2025-03-19T12:08:56.987Z"
   },
   {
    "duration": 378,
    "start_time": "2025-03-19T12:08:57.010Z"
   },
   {
    "duration": 21,
    "start_time": "2025-03-19T12:08:57.390Z"
   },
   {
    "duration": 307,
    "start_time": "2025-03-19T12:08:57.413Z"
   },
   {
    "duration": 23,
    "start_time": "2025-03-19T12:08:57.721Z"
   },
   {
    "duration": 66,
    "start_time": "2025-03-19T12:08:57.746Z"
   },
   {
    "duration": 362,
    "start_time": "2025-03-19T12:08:57.814Z"
   },
   {
    "duration": 246,
    "start_time": "2025-03-19T12:08:58.178Z"
   },
   {
    "duration": 39,
    "start_time": "2025-03-19T12:08:58.426Z"
   },
   {
    "duration": 55,
    "start_time": "2025-03-19T12:08:58.468Z"
   },
   {
    "duration": 5,
    "start_time": "2025-03-19T12:08:58.525Z"
   },
   {
    "duration": 1922,
    "start_time": "2025-03-19T12:08:58.531Z"
   },
   {
    "duration": 47,
    "start_time": "2025-03-19T12:09:00.457Z"
   },
   {
    "duration": 1871,
    "start_time": "2025-03-19T12:09:00.506Z"
   },
   {
    "duration": 1837,
    "start_time": "2025-03-19T12:09:02.379Z"
   },
   {
    "duration": 57,
    "start_time": "2025-03-19T12:09:04.218Z"
   },
   {
    "duration": 59,
    "start_time": "2025-03-19T12:09:04.279Z"
   },
   {
    "duration": 1746,
    "start_time": "2025-03-19T12:09:04.340Z"
   },
   {
    "duration": 41,
    "start_time": "2025-03-19T12:09:06.087Z"
   },
   {
    "duration": 1604,
    "start_time": "2025-03-19T12:09:06.130Z"
   },
   {
    "duration": 1732,
    "start_time": "2025-03-19T12:09:07.736Z"
   },
   {
    "duration": 411,
    "start_time": "2025-03-19T12:09:09.470Z"
   },
   {
    "duration": 456,
    "start_time": "2025-03-19T12:09:09.883Z"
   },
   {
    "duration": 32,
    "start_time": "2025-03-19T12:09:10.343Z"
   },
   {
    "duration": 3,
    "start_time": "2025-03-19T12:09:10.376Z"
   },
   {
    "duration": 84,
    "start_time": "2025-03-19T12:09:10.381Z"
   },
   {
    "duration": 7,
    "start_time": "2025-03-19T12:09:10.467Z"
   },
   {
    "duration": 6,
    "start_time": "2025-03-19T12:09:10.478Z"
   },
   {
    "duration": 337,
    "start_time": "2025-03-19T12:09:10.486Z"
   },
   {
    "duration": 3,
    "start_time": "2025-03-19T12:09:10.825Z"
   },
   {
    "duration": 3,
    "start_time": "2025-03-19T12:09:10.830Z"
   },
   {
    "duration": 95,
    "start_time": "2025-03-19T12:09:10.834Z"
   },
   {
    "duration": 4,
    "start_time": "2025-03-19T12:09:10.930Z"
   },
   {
    "duration": 131,
    "start_time": "2025-03-19T12:09:10.935Z"
   },
   {
    "duration": 0,
    "start_time": "2025-03-19T12:09:11.068Z"
   },
   {
    "duration": 0,
    "start_time": "2025-03-19T12:09:11.070Z"
   },
   {
    "duration": 0,
    "start_time": "2025-03-19T12:09:11.072Z"
   },
   {
    "duration": 0,
    "start_time": "2025-03-19T12:09:11.073Z"
   },
   {
    "duration": 0,
    "start_time": "2025-03-19T12:09:11.075Z"
   },
   {
    "duration": 0,
    "start_time": "2025-03-19T12:09:11.077Z"
   },
   {
    "duration": 0,
    "start_time": "2025-03-19T12:09:11.078Z"
   },
   {
    "duration": 0,
    "start_time": "2025-03-19T12:09:11.080Z"
   },
   {
    "duration": 0,
    "start_time": "2025-03-19T12:09:11.081Z"
   },
   {
    "duration": 0,
    "start_time": "2025-03-19T12:09:11.083Z"
   },
   {
    "duration": 0,
    "start_time": "2025-03-19T12:09:11.084Z"
   },
   {
    "duration": 65502,
    "start_time": "2025-03-19T12:11:01.388Z"
   },
   {
    "duration": 7,
    "start_time": "2025-03-19T12:13:26.021Z"
   },
   {
    "duration": 10,
    "start_time": "2025-03-19T12:18:56.253Z"
   },
   {
    "duration": 8,
    "start_time": "2025-03-19T12:19:04.906Z"
   },
   {
    "duration": 5,
    "start_time": "2025-03-19T12:19:09.698Z"
   },
   {
    "duration": 4,
    "start_time": "2025-03-19T12:22:18.317Z"
   },
   {
    "duration": 95,
    "start_time": "2025-03-19T12:23:03.447Z"
   },
   {
    "duration": 73703,
    "start_time": "2025-03-19T12:23:10.697Z"
   },
   {
    "duration": 4,
    "start_time": "2025-03-19T12:25:14.334Z"
   },
   {
    "duration": 8,
    "start_time": "2025-03-19T12:25:26.990Z"
   },
   {
    "duration": 11,
    "start_time": "2025-03-19T12:27:23.079Z"
   },
   {
    "duration": 71804,
    "start_time": "2025-03-19T12:28:42.779Z"
   },
   {
    "duration": 9,
    "start_time": "2025-03-19T12:30:38.889Z"
   },
   {
    "duration": 4,
    "start_time": "2025-03-19T12:32:33.098Z"
   },
   {
    "duration": 10,
    "start_time": "2025-03-19T12:32:45.996Z"
   },
   {
    "duration": 5,
    "start_time": "2025-03-19T12:32:55.699Z"
   },
   {
    "duration": 71608,
    "start_time": "2025-03-19T12:33:21.781Z"
   },
   {
    "duration": 64272,
    "start_time": "2025-03-19T12:35:11.412Z"
   },
   {
    "duration": 72419,
    "start_time": "2025-03-19T12:38:04.576Z"
   },
   {
    "duration": 73662,
    "start_time": "2025-03-19T12:43:20.911Z"
   },
   {
    "duration": 8,
    "start_time": "2025-03-19T12:44:54.034Z"
   },
   {
    "duration": 470,
    "start_time": "2025-03-19T12:47:53.900Z"
   },
   {
    "duration": 495,
    "start_time": "2025-03-19T12:48:34.868Z"
   },
   {
    "duration": 4,
    "start_time": "2025-03-19T12:50:54.037Z"
   },
   {
    "duration": 4,
    "start_time": "2025-03-19T12:50:57.173Z"
   },
   {
    "duration": 90,
    "start_time": "2025-03-19T12:53:26.080Z"
   },
   {
    "duration": 2253777,
    "start_time": "2025-03-19T12:53:34.893Z"
   },
   {
    "duration": 4,
    "start_time": "2025-03-19T13:33:16.840Z"
   },
   {
    "duration": 2482475,
    "start_time": "2025-03-19T13:33:20.925Z"
   },
   {
    "duration": 1895,
    "start_time": "2025-03-19T14:16:56.968Z"
   },
   {
    "duration": 13,
    "start_time": "2025-03-19T14:20:32.107Z"
   },
   {
    "duration": 3,
    "start_time": "2025-03-19T14:20:45.352Z"
   },
   {
    "duration": 3,
    "start_time": "2025-03-19T14:20:47.880Z"
   },
   {
    "duration": 415574,
    "start_time": "2025-03-19T14:20:50.896Z"
   },
   {
    "duration": 791,
    "start_time": "2025-03-19T14:35:17.095Z"
   },
   {
    "duration": 11,
    "start_time": "2025-03-19T14:35:54.705Z"
   },
   {
    "duration": 296,
    "start_time": "2025-03-19T14:41:10.789Z"
   },
   {
    "duration": 797,
    "start_time": "2025-03-19T14:42:30.050Z"
   },
   {
    "duration": 281,
    "start_time": "2025-03-19T14:43:39.501Z"
   },
   {
    "duration": 92,
    "start_time": "2025-03-20T06:21:16.349Z"
   },
   {
    "duration": 39,
    "start_time": "2025-03-20T06:22:19.272Z"
   },
   {
    "duration": 6,
    "start_time": "2025-03-20T06:24:58.334Z"
   },
   {
    "duration": 7,
    "start_time": "2025-03-20T06:25:42.068Z"
   },
   {
    "duration": 7074,
    "start_time": "2025-03-20T06:32:02.664Z"
   },
   {
    "duration": 4,
    "start_time": "2025-03-20T06:32:18.327Z"
   },
   {
    "duration": 1399,
    "start_time": "2025-03-20T06:32:18.333Z"
   },
   {
    "duration": 664,
    "start_time": "2025-03-20T06:32:19.734Z"
   },
   {
    "duration": 14,
    "start_time": "2025-03-20T06:32:20.400Z"
   },
   {
    "duration": 3,
    "start_time": "2025-03-20T06:32:20.415Z"
   },
   {
    "duration": 200,
    "start_time": "2025-03-20T06:32:20.419Z"
   },
   {
    "duration": 98,
    "start_time": "2025-03-20T06:32:20.620Z"
   },
   {
    "duration": 104,
    "start_time": "2025-03-20T06:32:20.719Z"
   },
   {
    "duration": 3,
    "start_time": "2025-03-20T06:32:20.825Z"
   },
   {
    "duration": 70,
    "start_time": "2025-03-20T06:32:20.830Z"
   },
   {
    "duration": 217,
    "start_time": "2025-03-20T06:32:20.902Z"
   },
   {
    "duration": 21,
    "start_time": "2025-03-20T06:32:21.121Z"
   },
   {
    "duration": 201,
    "start_time": "2025-03-20T06:32:21.144Z"
   },
   {
    "duration": 21,
    "start_time": "2025-03-20T06:32:21.346Z"
   },
   {
    "duration": 317,
    "start_time": "2025-03-20T06:32:21.368Z"
   },
   {
    "duration": 16,
    "start_time": "2025-03-20T06:32:21.686Z"
   },
   {
    "duration": 322,
    "start_time": "2025-03-20T06:32:21.704Z"
   },
   {
    "duration": 16,
    "start_time": "2025-03-20T06:32:22.028Z"
   },
   {
    "duration": 22,
    "start_time": "2025-03-20T06:32:22.046Z"
   },
   {
    "duration": 262,
    "start_time": "2025-03-20T06:32:22.070Z"
   },
   {
    "duration": 164,
    "start_time": "2025-03-20T06:32:22.333Z"
   },
   {
    "duration": 18,
    "start_time": "2025-03-20T06:32:22.498Z"
   },
   {
    "duration": 52,
    "start_time": "2025-03-20T06:32:22.517Z"
   },
   {
    "duration": 4,
    "start_time": "2025-03-20T06:32:22.572Z"
   },
   {
    "duration": 1663,
    "start_time": "2025-03-20T06:32:22.577Z"
   },
   {
    "duration": 47,
    "start_time": "2025-03-20T06:32:24.241Z"
   },
   {
    "duration": 1348,
    "start_time": "2025-03-20T06:32:24.289Z"
   },
   {
    "duration": 1419,
    "start_time": "2025-03-20T06:32:25.639Z"
   },
   {
    "duration": 35,
    "start_time": "2025-03-20T06:32:27.060Z"
   },
   {
    "duration": 66,
    "start_time": "2025-03-20T06:32:27.098Z"
   },
   {
    "duration": 1311,
    "start_time": "2025-03-20T06:32:27.166Z"
   },
   {
    "duration": 35,
    "start_time": "2025-03-20T06:32:28.479Z"
   },
   {
    "duration": 1241,
    "start_time": "2025-03-20T06:32:28.516Z"
   },
   {
    "duration": 1537,
    "start_time": "2025-03-20T06:32:29.759Z"
   },
   {
    "duration": 293,
    "start_time": "2025-03-20T06:32:31.298Z"
   },
   {
    "duration": 346,
    "start_time": "2025-03-20T06:32:31.592Z"
   },
   {
    "duration": 26,
    "start_time": "2025-03-20T06:32:31.940Z"
   },
   {
    "duration": 125,
    "start_time": "2025-03-20T06:32:31.968Z"
   },
   {
    "duration": 134,
    "start_time": "2025-03-20T06:32:32.095Z"
   },
   {
    "duration": 3,
    "start_time": "2025-03-20T06:32:32.230Z"
   },
   {
    "duration": 52,
    "start_time": "2025-03-20T06:32:32.234Z"
   },
   {
    "duration": 3,
    "start_time": "2025-03-20T06:32:32.288Z"
   },
   {
    "duration": 21,
    "start_time": "2025-03-20T06:32:32.292Z"
   },
   {
    "duration": 251,
    "start_time": "2025-03-20T06:32:32.317Z"
   },
   {
    "duration": 3,
    "start_time": "2025-03-20T06:32:32.569Z"
   },
   {
    "duration": 188,
    "start_time": "2025-03-20T06:32:32.573Z"
   },
   {
    "duration": 22,
    "start_time": "2025-03-20T06:32:32.762Z"
   },
   {
    "duration": 35,
    "start_time": "2025-03-20T06:32:32.786Z"
   },
   {
    "duration": 42775,
    "start_time": "2025-03-20T06:32:32.823Z"
   },
   {
    "duration": 374,
    "start_time": "2025-03-20T06:33:15.599Z"
   },
   {
    "duration": 3,
    "start_time": "2025-03-20T06:33:15.974Z"
   },
   {
    "duration": 20,
    "start_time": "2025-03-20T06:33:15.978Z"
   },
   {
    "duration": 823186,
    "start_time": "2025-03-20T06:33:15.999Z"
   },
   {
    "duration": 1484,
    "start_time": "2025-03-20T06:46:59.186Z"
   },
   {
    "duration": 2,
    "start_time": "2025-03-20T06:47:00.757Z"
   },
   {
    "duration": 72,
    "start_time": "2025-03-20T06:47:00.761Z"
   },
   {
    "duration": 288560,
    "start_time": "2025-03-20T06:47:00.834Z"
   },
   {
    "duration": 535,
    "start_time": "2025-03-20T06:51:49.395Z"
   },
   {
    "duration": 9,
    "start_time": "2025-03-20T06:51:49.931Z"
   },
   {
    "duration": 195,
    "start_time": "2025-03-20T06:51:49.941Z"
   },
   {
    "duration": 218,
    "start_time": "2025-03-20T06:55:07.243Z"
   },
   {
    "duration": 5,
    "start_time": "2025-03-20T06:56:54.773Z"
   }
  ],
  "kernelspec": {
   "display_name": "Python 3 (ipykernel)",
   "language": "python",
   "name": "python3"
  },
  "language_info": {
   "codemirror_mode": {
    "name": "ipython",
    "version": 3
   },
   "file_extension": ".py",
   "mimetype": "text/x-python",
   "name": "python",
   "nbconvert_exporter": "python",
   "pygments_lexer": "ipython3",
   "version": "3.12.4"
  },
  "toc": {
   "base_numbering": 1,
   "nav_menu": {},
   "number_sections": true,
   "sideBar": true,
   "skip_h1_title": true,
   "title_cell": "Table of Contents",
   "title_sidebar": "Contents",
   "toc_cell": false,
   "toc_position": {
    "height": "calc(100% - 180px)",
    "left": "10px",
    "top": "150px",
    "width": "165px"
   },
   "toc_section_display": true,
   "toc_window_display": true
  }
 },
 "nbformat": 4,
 "nbformat_minor": 4
}
