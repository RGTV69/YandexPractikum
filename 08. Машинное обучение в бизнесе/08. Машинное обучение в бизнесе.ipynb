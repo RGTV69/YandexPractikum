{
 "cells": [
  {
   "cell_type": "markdown",
   "metadata": {},
   "source": [
    "# Выбор локации для скважины для добывающей компании «ГлавРосГосНефть»"
   ]
  },
  {
   "cell_type": "markdown",
   "metadata": {},
   "source": [
    "Для добывающей компании «ГлавРосГосНефть» необходимо решить, где бурить новую скважину.\n",
    "\n",
    "**Шаги для выбора места скважины:**\n",
    "* В избранном регионе ищут месторождения и собирают характеристики для скважин (качество нефти и объем ее запасов)\n",
    "* Строят модель для предсказания объёма запасов в новых скважинах\n",
    "* Выбирают скважины с самыми высокими оценками значений (количество месторождений зависит от бюджета компании и стоимости разработки одной скважины)\n",
    "* Определяют регион с максимальной суммарной прибылью отобранных скважин\n",
    "\n",
    "Заказчик предоставил пробы нефти в трех регионах - в каждом 10 000 месторождений, где измерили качество нефти и объем ее запасов.\n",
    "\n",
    "**Условия задачи:**\n",
    "* Для обучения модели подходит только линейная регрессия (остальные - недостаточно предсказуемые)\n",
    "* При разведке региона исследуют 500 точек, из которых с помощью машинного обучения выбирают 200 лучших для разработки\n",
    "* Бюджет на разработку скважин в регионе - 10 млрд рублей\n",
    "* При нынешних ценах один баррель сырья приносит 450 рублей дохода. Доход с каждой единицы продукта составляет 450 тыс. рублей, поскольку объем указан в тысячах баррелей.\n",
    "* После оценки рисков нужно оставить лишь те регионы, в которых вероятность убытков меньше 2.5% - среди них выбирают регион с наибольшей средней прибылью\n",
    "\n",
    "**Цели исследования:**\n",
    "* Построение модели машинного обучения, которая поможет определить регион, где добыча принесет наибольшую прибыль\n",
    "* Анализ возможной прибыли и рисков техникой *Bootstrap*\n",
    "\n",
    "**Ход исследования**\n",
    "\n",
    "Данные для исследования будут получены из трех файлов. О качестве данных ничего не известно, поэтому перед тем, как приступать к целям исследования, понадобится обзор данных. Необходимо будет проверить данные на ошибки и оценить их влияние на исследование. На этапе предобработки нужно осуществить поиск возможностей исправления всех ошибок данных, которые не приведут к искажению конечного результата. При необходимости, осуществим создание новых столбцов.\n",
    "\n",
    "**Этапы исследования:**\n",
    "1. Загрузка и обзор данных, подготовка данных к моделированию\n",
    "2. Обучение и проверка моделей для каждого региона\n",
    "3. Подготовка данных к расчету прибыли\n",
    "4. Расчет прибыли и рисков по каждому региону, обоснование выбора региона\n",
    "5. Написание общего вывода"
   ]
  },
  {
   "cell_type": "markdown",
   "metadata": {},
   "source": [
    "## Загрузка и подготовка данных"
   ]
  },
  {
   "cell_type": "markdown",
   "metadata": {},
   "source": [
    "### Загрузка данных"
   ]
  },
  {
   "cell_type": "markdown",
   "metadata": {},
   "source": [
    "Установим и импортируем необходимые для исследования библиотеки:"
   ]
  },
  {
   "cell_type": "code",
   "execution_count": 1,
   "metadata": {},
   "outputs": [],
   "source": [
    "!pip install phik -q"
   ]
  },
  {
   "cell_type": "code",
   "execution_count": 2,
   "metadata": {},
   "outputs": [],
   "source": [
    "import pandas as pd\n",
    "import numpy as np\n",
    "from numpy.random import RandomState\n",
    "import matplotlib.pyplot as plt\n",
    "import phik\n",
    "from phik.report import plot_correlation_matrix\n",
    "import seaborn as sns\n",
    "import sklearn\n",
    "from sklearn.model_selection import train_test_split, cross_val_score\n",
    "from sklearn.preprocessing import StandardScaler\n",
    "from sklearn.linear_model import LinearRegression\n",
    "from sklearn.metrics import mean_squared_error"
   ]
  },
  {
   "cell_type": "markdown",
   "metadata": {},
   "source": [
    "Откроем файлы с датасетом:"
   ]
  },
  {
   "cell_type": "code",
   "execution_count": 3,
   "metadata": {},
   "outputs": [],
   "source": [
    "try:\n",
    "    geo_data_0 = pd.read_csv('/datasets/geo_data_0.csv', sep=',', decimal='.')\n",
    "except:\n",
    "    geo_data_0 = pd.read_csv('https://code.s3.yandex.net/datasets/geo_data_0.csv', sep=',', decimal='.')"
   ]
  },
  {
   "cell_type": "code",
   "execution_count": 4,
   "metadata": {},
   "outputs": [],
   "source": [
    "try:\n",
    "    geo_data_1 = pd.read_csv('/datasets/geo_data_1.csv', sep=',', decimal='.')\n",
    "except:\n",
    "    geo_data_1 = pd.read_csv('https://code.s3.yandex.net/datasets/geo_data_1.csv', sep=',', decimal='.')"
   ]
  },
  {
   "cell_type": "code",
   "execution_count": 5,
   "metadata": {},
   "outputs": [],
   "source": [
    "try:\n",
    "    geo_data_2 = pd.read_csv('/datasets/geo_data_2.csv', sep=',', decimal='.')\n",
    "except:\n",
    "    geo_data_2 = pd.read_csv('https://code.s3.yandex.net/datasets/geo_data_2.csv', sep=',', decimal='.')"
   ]
  },
  {
   "cell_type": "code",
   "execution_count": 6,
   "metadata": {},
   "outputs": [],
   "source": [
    "dataframes = {\n",
    "    'geo_data_0': geo_data_0,\n",
    "    'geo_data_1': geo_data_1,\n",
    "    'geo_data_2': geo_data_2\n",
    "}"
   ]
  },
  {
   "cell_type": "markdown",
   "metadata": {},
   "source": [
    "Определим функцию для отображения информации о датасете:"
   ]
  },
  {
   "cell_type": "code",
   "execution_count": 1,
   "metadata": {},
   "outputs": [],
   "source": [
    "def get_info(df):\n",
    "    display(df.head())\n",
    "    print(50 * '-')\n",
    "    print(df.info())\n",
    "    print(50 * '-')\n",
    "    display(df.describe().T)"
   ]
  },
  {
   "cell_type": "markdown",
   "metadata": {},
   "source": [
    "Выведем первые строки, общую информацию и описательную статистику датасета `geo_data_0`:"
   ]
  },
  {
   "cell_type": "code",
   "execution_count": 8,
   "metadata": {},
   "outputs": [
    {
     "data": {
      "text/html": [
       "<div>\n",
       "<style scoped>\n",
       "    .dataframe tbody tr th:only-of-type {\n",
       "        vertical-align: middle;\n",
       "    }\n",
       "\n",
       "    .dataframe tbody tr th {\n",
       "        vertical-align: top;\n",
       "    }\n",
       "\n",
       "    .dataframe thead th {\n",
       "        text-align: right;\n",
       "    }\n",
       "</style>\n",
       "<table border=\"1\" class=\"dataframe\">\n",
       "  <thead>\n",
       "    <tr style=\"text-align: right;\">\n",
       "      <th></th>\n",
       "      <th>id</th>\n",
       "      <th>f0</th>\n",
       "      <th>f1</th>\n",
       "      <th>f2</th>\n",
       "      <th>product</th>\n",
       "    </tr>\n",
       "  </thead>\n",
       "  <tbody>\n",
       "    <tr>\n",
       "      <th>0</th>\n",
       "      <td>txEyH</td>\n",
       "      <td>0.705745</td>\n",
       "      <td>-0.497823</td>\n",
       "      <td>1.221170</td>\n",
       "      <td>105.280062</td>\n",
       "    </tr>\n",
       "    <tr>\n",
       "      <th>1</th>\n",
       "      <td>2acmU</td>\n",
       "      <td>1.334711</td>\n",
       "      <td>-0.340164</td>\n",
       "      <td>4.365080</td>\n",
       "      <td>73.037750</td>\n",
       "    </tr>\n",
       "    <tr>\n",
       "      <th>2</th>\n",
       "      <td>409Wp</td>\n",
       "      <td>1.022732</td>\n",
       "      <td>0.151990</td>\n",
       "      <td>1.419926</td>\n",
       "      <td>85.265647</td>\n",
       "    </tr>\n",
       "    <tr>\n",
       "      <th>3</th>\n",
       "      <td>iJLyR</td>\n",
       "      <td>-0.032172</td>\n",
       "      <td>0.139033</td>\n",
       "      <td>2.978566</td>\n",
       "      <td>168.620776</td>\n",
       "    </tr>\n",
       "    <tr>\n",
       "      <th>4</th>\n",
       "      <td>Xdl7t</td>\n",
       "      <td>1.988431</td>\n",
       "      <td>0.155413</td>\n",
       "      <td>4.751769</td>\n",
       "      <td>154.036647</td>\n",
       "    </tr>\n",
       "  </tbody>\n",
       "</table>\n",
       "</div>"
      ],
      "text/plain": [
       "      id        f0        f1        f2     product\n",
       "0  txEyH  0.705745 -0.497823  1.221170  105.280062\n",
       "1  2acmU  1.334711 -0.340164  4.365080   73.037750\n",
       "2  409Wp  1.022732  0.151990  1.419926   85.265647\n",
       "3  iJLyR -0.032172  0.139033  2.978566  168.620776\n",
       "4  Xdl7t  1.988431  0.155413  4.751769  154.036647"
      ]
     },
     "metadata": {},
     "output_type": "display_data"
    },
    {
     "name": "stdout",
     "output_type": "stream",
     "text": [
      "--------------------------------------------------\n",
      "<class 'pandas.core.frame.DataFrame'>\n",
      "RangeIndex: 100000 entries, 0 to 99999\n",
      "Data columns (total 5 columns):\n",
      " #   Column   Non-Null Count   Dtype  \n",
      "---  ------   --------------   -----  \n",
      " 0   id       100000 non-null  object \n",
      " 1   f0       100000 non-null  float64\n",
      " 2   f1       100000 non-null  float64\n",
      " 3   f2       100000 non-null  float64\n",
      " 4   product  100000 non-null  float64\n",
      "dtypes: float64(4), object(1)\n",
      "memory usage: 3.8+ MB\n",
      "None\n",
      "--------------------------------------------------\n"
     ]
    },
    {
     "data": {
      "text/html": [
       "<div>\n",
       "<style scoped>\n",
       "    .dataframe tbody tr th:only-of-type {\n",
       "        vertical-align: middle;\n",
       "    }\n",
       "\n",
       "    .dataframe tbody tr th {\n",
       "        vertical-align: top;\n",
       "    }\n",
       "\n",
       "    .dataframe thead th {\n",
       "        text-align: right;\n",
       "    }\n",
       "</style>\n",
       "<table border=\"1\" class=\"dataframe\">\n",
       "  <thead>\n",
       "    <tr style=\"text-align: right;\">\n",
       "      <th></th>\n",
       "      <th>count</th>\n",
       "      <th>mean</th>\n",
       "      <th>std</th>\n",
       "      <th>min</th>\n",
       "      <th>25%</th>\n",
       "      <th>50%</th>\n",
       "      <th>75%</th>\n",
       "      <th>max</th>\n",
       "    </tr>\n",
       "  </thead>\n",
       "  <tbody>\n",
       "    <tr>\n",
       "      <th>f0</th>\n",
       "      <td>100000.0</td>\n",
       "      <td>0.500419</td>\n",
       "      <td>0.871832</td>\n",
       "      <td>-1.408605</td>\n",
       "      <td>-0.072580</td>\n",
       "      <td>0.502360</td>\n",
       "      <td>1.073581</td>\n",
       "      <td>2.362331</td>\n",
       "    </tr>\n",
       "    <tr>\n",
       "      <th>f1</th>\n",
       "      <td>100000.0</td>\n",
       "      <td>0.250143</td>\n",
       "      <td>0.504433</td>\n",
       "      <td>-0.848218</td>\n",
       "      <td>-0.200881</td>\n",
       "      <td>0.250252</td>\n",
       "      <td>0.700646</td>\n",
       "      <td>1.343769</td>\n",
       "    </tr>\n",
       "    <tr>\n",
       "      <th>f2</th>\n",
       "      <td>100000.0</td>\n",
       "      <td>2.502647</td>\n",
       "      <td>3.248248</td>\n",
       "      <td>-12.088328</td>\n",
       "      <td>0.287748</td>\n",
       "      <td>2.515969</td>\n",
       "      <td>4.715088</td>\n",
       "      <td>16.003790</td>\n",
       "    </tr>\n",
       "    <tr>\n",
       "      <th>product</th>\n",
       "      <td>100000.0</td>\n",
       "      <td>92.500000</td>\n",
       "      <td>44.288691</td>\n",
       "      <td>0.000000</td>\n",
       "      <td>56.497507</td>\n",
       "      <td>91.849972</td>\n",
       "      <td>128.564089</td>\n",
       "      <td>185.364347</td>\n",
       "    </tr>\n",
       "  </tbody>\n",
       "</table>\n",
       "</div>"
      ],
      "text/plain": [
       "            count       mean        std        min        25%        50%  \\\n",
       "f0       100000.0   0.500419   0.871832  -1.408605  -0.072580   0.502360   \n",
       "f1       100000.0   0.250143   0.504433  -0.848218  -0.200881   0.250252   \n",
       "f2       100000.0   2.502647   3.248248 -12.088328   0.287748   2.515969   \n",
       "product  100000.0  92.500000  44.288691   0.000000  56.497507  91.849972   \n",
       "\n",
       "                75%         max  \n",
       "f0         1.073581    2.362331  \n",
       "f1         0.700646    1.343769  \n",
       "f2         4.715088   16.003790  \n",
       "product  128.564089  185.364347  "
      ]
     },
     "metadata": {},
     "output_type": "display_data"
    }
   ],
   "source": [
    "get_info(geo_data_0)"
   ]
  },
  {
   "cell_type": "markdown",
   "metadata": {},
   "source": [
    "Выведем первые строки, общую информацию и описательную статистику датасета `geo_data_1`:"
   ]
  },
  {
   "cell_type": "code",
   "execution_count": 9,
   "metadata": {},
   "outputs": [
    {
     "data": {
      "text/html": [
       "<div>\n",
       "<style scoped>\n",
       "    .dataframe tbody tr th:only-of-type {\n",
       "        vertical-align: middle;\n",
       "    }\n",
       "\n",
       "    .dataframe tbody tr th {\n",
       "        vertical-align: top;\n",
       "    }\n",
       "\n",
       "    .dataframe thead th {\n",
       "        text-align: right;\n",
       "    }\n",
       "</style>\n",
       "<table border=\"1\" class=\"dataframe\">\n",
       "  <thead>\n",
       "    <tr style=\"text-align: right;\">\n",
       "      <th></th>\n",
       "      <th>id</th>\n",
       "      <th>f0</th>\n",
       "      <th>f1</th>\n",
       "      <th>f2</th>\n",
       "      <th>product</th>\n",
       "    </tr>\n",
       "  </thead>\n",
       "  <tbody>\n",
       "    <tr>\n",
       "      <th>0</th>\n",
       "      <td>kBEdx</td>\n",
       "      <td>-15.001348</td>\n",
       "      <td>-8.276000</td>\n",
       "      <td>-0.005876</td>\n",
       "      <td>3.179103</td>\n",
       "    </tr>\n",
       "    <tr>\n",
       "      <th>1</th>\n",
       "      <td>62mP7</td>\n",
       "      <td>14.272088</td>\n",
       "      <td>-3.475083</td>\n",
       "      <td>0.999183</td>\n",
       "      <td>26.953261</td>\n",
       "    </tr>\n",
       "    <tr>\n",
       "      <th>2</th>\n",
       "      <td>vyE1P</td>\n",
       "      <td>6.263187</td>\n",
       "      <td>-5.948386</td>\n",
       "      <td>5.001160</td>\n",
       "      <td>134.766305</td>\n",
       "    </tr>\n",
       "    <tr>\n",
       "      <th>3</th>\n",
       "      <td>KcrkZ</td>\n",
       "      <td>-13.081196</td>\n",
       "      <td>-11.506057</td>\n",
       "      <td>4.999415</td>\n",
       "      <td>137.945408</td>\n",
       "    </tr>\n",
       "    <tr>\n",
       "      <th>4</th>\n",
       "      <td>AHL4O</td>\n",
       "      <td>12.702195</td>\n",
       "      <td>-8.147433</td>\n",
       "      <td>5.004363</td>\n",
       "      <td>134.766305</td>\n",
       "    </tr>\n",
       "  </tbody>\n",
       "</table>\n",
       "</div>"
      ],
      "text/plain": [
       "      id         f0         f1        f2     product\n",
       "0  kBEdx -15.001348  -8.276000 -0.005876    3.179103\n",
       "1  62mP7  14.272088  -3.475083  0.999183   26.953261\n",
       "2  vyE1P   6.263187  -5.948386  5.001160  134.766305\n",
       "3  KcrkZ -13.081196 -11.506057  4.999415  137.945408\n",
       "4  AHL4O  12.702195  -8.147433  5.004363  134.766305"
      ]
     },
     "metadata": {},
     "output_type": "display_data"
    },
    {
     "name": "stdout",
     "output_type": "stream",
     "text": [
      "--------------------------------------------------\n",
      "<class 'pandas.core.frame.DataFrame'>\n",
      "RangeIndex: 100000 entries, 0 to 99999\n",
      "Data columns (total 5 columns):\n",
      " #   Column   Non-Null Count   Dtype  \n",
      "---  ------   --------------   -----  \n",
      " 0   id       100000 non-null  object \n",
      " 1   f0       100000 non-null  float64\n",
      " 2   f1       100000 non-null  float64\n",
      " 3   f2       100000 non-null  float64\n",
      " 4   product  100000 non-null  float64\n",
      "dtypes: float64(4), object(1)\n",
      "memory usage: 3.8+ MB\n",
      "None\n",
      "--------------------------------------------------\n"
     ]
    },
    {
     "data": {
      "text/html": [
       "<div>\n",
       "<style scoped>\n",
       "    .dataframe tbody tr th:only-of-type {\n",
       "        vertical-align: middle;\n",
       "    }\n",
       "\n",
       "    .dataframe tbody tr th {\n",
       "        vertical-align: top;\n",
       "    }\n",
       "\n",
       "    .dataframe thead th {\n",
       "        text-align: right;\n",
       "    }\n",
       "</style>\n",
       "<table border=\"1\" class=\"dataframe\">\n",
       "  <thead>\n",
       "    <tr style=\"text-align: right;\">\n",
       "      <th></th>\n",
       "      <th>count</th>\n",
       "      <th>mean</th>\n",
       "      <th>std</th>\n",
       "      <th>min</th>\n",
       "      <th>25%</th>\n",
       "      <th>50%</th>\n",
       "      <th>75%</th>\n",
       "      <th>max</th>\n",
       "    </tr>\n",
       "  </thead>\n",
       "  <tbody>\n",
       "    <tr>\n",
       "      <th>f0</th>\n",
       "      <td>100000.0</td>\n",
       "      <td>1.141296</td>\n",
       "      <td>8.965932</td>\n",
       "      <td>-31.609576</td>\n",
       "      <td>-6.298551</td>\n",
       "      <td>1.153055</td>\n",
       "      <td>8.621015</td>\n",
       "      <td>29.421755</td>\n",
       "    </tr>\n",
       "    <tr>\n",
       "      <th>f1</th>\n",
       "      <td>100000.0</td>\n",
       "      <td>-4.796579</td>\n",
       "      <td>5.119872</td>\n",
       "      <td>-26.358598</td>\n",
       "      <td>-8.267985</td>\n",
       "      <td>-4.813172</td>\n",
       "      <td>-1.332816</td>\n",
       "      <td>18.734063</td>\n",
       "    </tr>\n",
       "    <tr>\n",
       "      <th>f2</th>\n",
       "      <td>100000.0</td>\n",
       "      <td>2.494541</td>\n",
       "      <td>1.703572</td>\n",
       "      <td>-0.018144</td>\n",
       "      <td>1.000021</td>\n",
       "      <td>2.011479</td>\n",
       "      <td>3.999904</td>\n",
       "      <td>5.019721</td>\n",
       "    </tr>\n",
       "    <tr>\n",
       "      <th>product</th>\n",
       "      <td>100000.0</td>\n",
       "      <td>68.825000</td>\n",
       "      <td>45.944423</td>\n",
       "      <td>0.000000</td>\n",
       "      <td>26.953261</td>\n",
       "      <td>57.085625</td>\n",
       "      <td>107.813044</td>\n",
       "      <td>137.945408</td>\n",
       "    </tr>\n",
       "  </tbody>\n",
       "</table>\n",
       "</div>"
      ],
      "text/plain": [
       "            count       mean        std        min        25%        50%  \\\n",
       "f0       100000.0   1.141296   8.965932 -31.609576  -6.298551   1.153055   \n",
       "f1       100000.0  -4.796579   5.119872 -26.358598  -8.267985  -4.813172   \n",
       "f2       100000.0   2.494541   1.703572  -0.018144   1.000021   2.011479   \n",
       "product  100000.0  68.825000  45.944423   0.000000  26.953261  57.085625   \n",
       "\n",
       "                75%         max  \n",
       "f0         8.621015   29.421755  \n",
       "f1        -1.332816   18.734063  \n",
       "f2         3.999904    5.019721  \n",
       "product  107.813044  137.945408  "
      ]
     },
     "metadata": {},
     "output_type": "display_data"
    }
   ],
   "source": [
    "get_info(geo_data_1)"
   ]
  },
  {
   "cell_type": "markdown",
   "metadata": {},
   "source": [
    "Выведем первые строки, общую информацию и описательную статистику датасета `geo_data_2`:"
   ]
  },
  {
   "cell_type": "code",
   "execution_count": 10,
   "metadata": {},
   "outputs": [
    {
     "data": {
      "text/html": [
       "<div>\n",
       "<style scoped>\n",
       "    .dataframe tbody tr th:only-of-type {\n",
       "        vertical-align: middle;\n",
       "    }\n",
       "\n",
       "    .dataframe tbody tr th {\n",
       "        vertical-align: top;\n",
       "    }\n",
       "\n",
       "    .dataframe thead th {\n",
       "        text-align: right;\n",
       "    }\n",
       "</style>\n",
       "<table border=\"1\" class=\"dataframe\">\n",
       "  <thead>\n",
       "    <tr style=\"text-align: right;\">\n",
       "      <th></th>\n",
       "      <th>id</th>\n",
       "      <th>f0</th>\n",
       "      <th>f1</th>\n",
       "      <th>f2</th>\n",
       "      <th>product</th>\n",
       "    </tr>\n",
       "  </thead>\n",
       "  <tbody>\n",
       "    <tr>\n",
       "      <th>0</th>\n",
       "      <td>fwXo0</td>\n",
       "      <td>-1.146987</td>\n",
       "      <td>0.963328</td>\n",
       "      <td>-0.828965</td>\n",
       "      <td>27.758673</td>\n",
       "    </tr>\n",
       "    <tr>\n",
       "      <th>1</th>\n",
       "      <td>WJtFt</td>\n",
       "      <td>0.262778</td>\n",
       "      <td>0.269839</td>\n",
       "      <td>-2.530187</td>\n",
       "      <td>56.069697</td>\n",
       "    </tr>\n",
       "    <tr>\n",
       "      <th>2</th>\n",
       "      <td>ovLUW</td>\n",
       "      <td>0.194587</td>\n",
       "      <td>0.289035</td>\n",
       "      <td>-5.586433</td>\n",
       "      <td>62.871910</td>\n",
       "    </tr>\n",
       "    <tr>\n",
       "      <th>3</th>\n",
       "      <td>q6cA6</td>\n",
       "      <td>2.236060</td>\n",
       "      <td>-0.553760</td>\n",
       "      <td>0.930038</td>\n",
       "      <td>114.572842</td>\n",
       "    </tr>\n",
       "    <tr>\n",
       "      <th>4</th>\n",
       "      <td>WPMUX</td>\n",
       "      <td>-0.515993</td>\n",
       "      <td>1.716266</td>\n",
       "      <td>5.899011</td>\n",
       "      <td>149.600746</td>\n",
       "    </tr>\n",
       "  </tbody>\n",
       "</table>\n",
       "</div>"
      ],
      "text/plain": [
       "      id        f0        f1        f2     product\n",
       "0  fwXo0 -1.146987  0.963328 -0.828965   27.758673\n",
       "1  WJtFt  0.262778  0.269839 -2.530187   56.069697\n",
       "2  ovLUW  0.194587  0.289035 -5.586433   62.871910\n",
       "3  q6cA6  2.236060 -0.553760  0.930038  114.572842\n",
       "4  WPMUX -0.515993  1.716266  5.899011  149.600746"
      ]
     },
     "metadata": {},
     "output_type": "display_data"
    },
    {
     "name": "stdout",
     "output_type": "stream",
     "text": [
      "--------------------------------------------------\n",
      "<class 'pandas.core.frame.DataFrame'>\n",
      "RangeIndex: 100000 entries, 0 to 99999\n",
      "Data columns (total 5 columns):\n",
      " #   Column   Non-Null Count   Dtype  \n",
      "---  ------   --------------   -----  \n",
      " 0   id       100000 non-null  object \n",
      " 1   f0       100000 non-null  float64\n",
      " 2   f1       100000 non-null  float64\n",
      " 3   f2       100000 non-null  float64\n",
      " 4   product  100000 non-null  float64\n",
      "dtypes: float64(4), object(1)\n",
      "memory usage: 3.8+ MB\n",
      "None\n",
      "--------------------------------------------------\n"
     ]
    },
    {
     "data": {
      "text/html": [
       "<div>\n",
       "<style scoped>\n",
       "    .dataframe tbody tr th:only-of-type {\n",
       "        vertical-align: middle;\n",
       "    }\n",
       "\n",
       "    .dataframe tbody tr th {\n",
       "        vertical-align: top;\n",
       "    }\n",
       "\n",
       "    .dataframe thead th {\n",
       "        text-align: right;\n",
       "    }\n",
       "</style>\n",
       "<table border=\"1\" class=\"dataframe\">\n",
       "  <thead>\n",
       "    <tr style=\"text-align: right;\">\n",
       "      <th></th>\n",
       "      <th>count</th>\n",
       "      <th>mean</th>\n",
       "      <th>std</th>\n",
       "      <th>min</th>\n",
       "      <th>25%</th>\n",
       "      <th>50%</th>\n",
       "      <th>75%</th>\n",
       "      <th>max</th>\n",
       "    </tr>\n",
       "  </thead>\n",
       "  <tbody>\n",
       "    <tr>\n",
       "      <th>f0</th>\n",
       "      <td>100000.0</td>\n",
       "      <td>0.002023</td>\n",
       "      <td>1.732045</td>\n",
       "      <td>-8.760004</td>\n",
       "      <td>-1.162288</td>\n",
       "      <td>0.009424</td>\n",
       "      <td>1.158535</td>\n",
       "      <td>7.238262</td>\n",
       "    </tr>\n",
       "    <tr>\n",
       "      <th>f1</th>\n",
       "      <td>100000.0</td>\n",
       "      <td>-0.002081</td>\n",
       "      <td>1.730417</td>\n",
       "      <td>-7.084020</td>\n",
       "      <td>-1.174820</td>\n",
       "      <td>-0.009482</td>\n",
       "      <td>1.163678</td>\n",
       "      <td>7.844801</td>\n",
       "    </tr>\n",
       "    <tr>\n",
       "      <th>f2</th>\n",
       "      <td>100000.0</td>\n",
       "      <td>2.495128</td>\n",
       "      <td>3.473445</td>\n",
       "      <td>-11.970335</td>\n",
       "      <td>0.130359</td>\n",
       "      <td>2.484236</td>\n",
       "      <td>4.858794</td>\n",
       "      <td>16.739402</td>\n",
       "    </tr>\n",
       "    <tr>\n",
       "      <th>product</th>\n",
       "      <td>100000.0</td>\n",
       "      <td>95.000000</td>\n",
       "      <td>44.749921</td>\n",
       "      <td>0.000000</td>\n",
       "      <td>59.450441</td>\n",
       "      <td>94.925613</td>\n",
       "      <td>130.595027</td>\n",
       "      <td>190.029838</td>\n",
       "    </tr>\n",
       "  </tbody>\n",
       "</table>\n",
       "</div>"
      ],
      "text/plain": [
       "            count       mean        std        min        25%        50%  \\\n",
       "f0       100000.0   0.002023   1.732045  -8.760004  -1.162288   0.009424   \n",
       "f1       100000.0  -0.002081   1.730417  -7.084020  -1.174820  -0.009482   \n",
       "f2       100000.0   2.495128   3.473445 -11.970335   0.130359   2.484236   \n",
       "product  100000.0  95.000000  44.749921   0.000000  59.450441  94.925613   \n",
       "\n",
       "                75%         max  \n",
       "f0         1.158535    7.238262  \n",
       "f1         1.163678    7.844801  \n",
       "f2         4.858794   16.739402  \n",
       "product  130.595027  190.029838  "
      ]
     },
     "metadata": {},
     "output_type": "display_data"
    }
   ],
   "source": [
    "get_info(geo_data_2)"
   ]
  },
  {
   "cell_type": "markdown",
   "metadata": {},
   "source": [
    "Каждый файл содержит данные геологоразведки одного из трех регионов: \n",
    "* `id` - уникальный идентификатор скважины\n",
    "* `f0`, `f1`, `f2` - признаки точек\n",
    "* `product` - объем запасов в скважине (тыс. баррелей)"
   ]
  },
  {
   "cell_type": "markdown",
   "metadata": {},
   "source": [
    "### Предобработка данных"
   ]
  },
  {
   "cell_type": "markdown",
   "metadata": {},
   "source": [
    "Проверим датафреймы на наличие пропусков в данных:"
   ]
  },
  {
   "cell_type": "code",
   "execution_count": 11,
   "metadata": {},
   "outputs": [
    {
     "name": "stdout",
     "output_type": "stream",
     "text": [
      "geo_data_0:\n",
      "id         0\n",
      "f0         0\n",
      "f1         0\n",
      "f2         0\n",
      "product    0\n",
      "dtype: int64\n",
      "\n",
      "geo_data_1:\n",
      "id         0\n",
      "f0         0\n",
      "f1         0\n",
      "f2         0\n",
      "product    0\n",
      "dtype: int64\n",
      "\n",
      "geo_data_2:\n",
      "id         0\n",
      "f0         0\n",
      "f1         0\n",
      "f2         0\n",
      "product    0\n",
      "dtype: int64\n",
      "\n"
     ]
    }
   ],
   "source": [
    "for name, df in dataframes.items():\n",
    "    print(f'{name}:')\n",
    "    print(f'{df.isna().sum()}\\n')"
   ]
  },
  {
   "cell_type": "markdown",
   "metadata": {},
   "source": [
    "В датафреймах не обнаружены пропуски данных. Далее проверим датафреймы на наличие явных дубликатов:"
   ]
  },
  {
   "cell_type": "code",
   "execution_count": 12,
   "metadata": {},
   "outputs": [
    {
     "name": "stdout",
     "output_type": "stream",
     "text": [
      "geo_data_0 - 0\n",
      "geo_data_1 - 0\n",
      "geo_data_2 - 0\n"
     ]
    }
   ],
   "source": [
    "for name, df in dataframes.items():\n",
    "    print(f'{name} - {df.duplicated().sum()}')"
   ]
  },
  {
   "cell_type": "markdown",
   "metadata": {},
   "source": [
    "В датафреймах не обнаружены явные дубликаты.\n",
    "\n",
    "Для каждого датафрейма произведем проверку столбца `id` на наличие дублей:"
   ]
  },
  {
   "cell_type": "code",
   "execution_count": 13,
   "metadata": {},
   "outputs": [
    {
     "name": "stdout",
     "output_type": "stream",
     "text": [
      "geo_data_0 (10 дубл.)\n"
     ]
    },
    {
     "data": {
      "text/html": [
       "<div>\n",
       "<style scoped>\n",
       "    .dataframe tbody tr th:only-of-type {\n",
       "        vertical-align: middle;\n",
       "    }\n",
       "\n",
       "    .dataframe tbody tr th {\n",
       "        vertical-align: top;\n",
       "    }\n",
       "\n",
       "    .dataframe thead th {\n",
       "        text-align: right;\n",
       "    }\n",
       "</style>\n",
       "<table border=\"1\" class=\"dataframe\">\n",
       "  <thead>\n",
       "    <tr style=\"text-align: right;\">\n",
       "      <th></th>\n",
       "      <th>id</th>\n",
       "      <th>f0</th>\n",
       "      <th>f1</th>\n",
       "      <th>f2</th>\n",
       "      <th>product</th>\n",
       "    </tr>\n",
       "  </thead>\n",
       "  <tbody>\n",
       "    <tr>\n",
       "      <th>931</th>\n",
       "      <td>HZww2</td>\n",
       "      <td>0.755284</td>\n",
       "      <td>0.368511</td>\n",
       "      <td>1.863211</td>\n",
       "      <td>30.681774</td>\n",
       "    </tr>\n",
       "    <tr>\n",
       "      <th>7530</th>\n",
       "      <td>HZww2</td>\n",
       "      <td>1.061194</td>\n",
       "      <td>-0.373969</td>\n",
       "      <td>10.430210</td>\n",
       "      <td>158.828695</td>\n",
       "    </tr>\n",
       "  </tbody>\n",
       "</table>\n",
       "</div>"
      ],
      "text/plain": [
       "         id        f0        f1         f2     product\n",
       "931   HZww2  0.755284  0.368511   1.863211   30.681774\n",
       "7530  HZww2  1.061194 -0.373969  10.430210  158.828695"
      ]
     },
     "metadata": {},
     "output_type": "display_data"
    },
    {
     "name": "stdout",
     "output_type": "stream",
     "text": [
      "-------------------------------------------------------\n"
     ]
    },
    {
     "data": {
      "text/html": [
       "<div>\n",
       "<style scoped>\n",
       "    .dataframe tbody tr th:only-of-type {\n",
       "        vertical-align: middle;\n",
       "    }\n",
       "\n",
       "    .dataframe tbody tr th {\n",
       "        vertical-align: top;\n",
       "    }\n",
       "\n",
       "    .dataframe thead th {\n",
       "        text-align: right;\n",
       "    }\n",
       "</style>\n",
       "<table border=\"1\" class=\"dataframe\">\n",
       "  <thead>\n",
       "    <tr style=\"text-align: right;\">\n",
       "      <th></th>\n",
       "      <th>id</th>\n",
       "      <th>f0</th>\n",
       "      <th>f1</th>\n",
       "      <th>f2</th>\n",
       "      <th>product</th>\n",
       "    </tr>\n",
       "  </thead>\n",
       "  <tbody>\n",
       "    <tr>\n",
       "      <th>1364</th>\n",
       "      <td>bxg6G</td>\n",
       "      <td>0.411645</td>\n",
       "      <td>0.856830</td>\n",
       "      <td>-3.653440</td>\n",
       "      <td>73.604260</td>\n",
       "    </tr>\n",
       "    <tr>\n",
       "      <th>41724</th>\n",
       "      <td>bxg6G</td>\n",
       "      <td>-0.823752</td>\n",
       "      <td>0.546319</td>\n",
       "      <td>3.630479</td>\n",
       "      <td>93.007798</td>\n",
       "    </tr>\n",
       "  </tbody>\n",
       "</table>\n",
       "</div>"
      ],
      "text/plain": [
       "          id        f0        f1        f2    product\n",
       "1364   bxg6G  0.411645  0.856830 -3.653440  73.604260\n",
       "41724  bxg6G -0.823752  0.546319  3.630479  93.007798"
      ]
     },
     "metadata": {},
     "output_type": "display_data"
    },
    {
     "name": "stdout",
     "output_type": "stream",
     "text": [
      "-------------------------------------------------------\n"
     ]
    },
    {
     "data": {
      "text/html": [
       "<div>\n",
       "<style scoped>\n",
       "    .dataframe tbody tr th:only-of-type {\n",
       "        vertical-align: middle;\n",
       "    }\n",
       "\n",
       "    .dataframe tbody tr th {\n",
       "        vertical-align: top;\n",
       "    }\n",
       "\n",
       "    .dataframe thead th {\n",
       "        text-align: right;\n",
       "    }\n",
       "</style>\n",
       "<table border=\"1\" class=\"dataframe\">\n",
       "  <thead>\n",
       "    <tr style=\"text-align: right;\">\n",
       "      <th></th>\n",
       "      <th>id</th>\n",
       "      <th>f0</th>\n",
       "      <th>f1</th>\n",
       "      <th>f2</th>\n",
       "      <th>product</th>\n",
       "    </tr>\n",
       "  </thead>\n",
       "  <tbody>\n",
       "    <tr>\n",
       "      <th>3389</th>\n",
       "      <td>A5aEY</td>\n",
       "      <td>-0.039949</td>\n",
       "      <td>0.156872</td>\n",
       "      <td>0.209861</td>\n",
       "      <td>89.249364</td>\n",
       "    </tr>\n",
       "    <tr>\n",
       "      <th>51970</th>\n",
       "      <td>A5aEY</td>\n",
       "      <td>-0.180335</td>\n",
       "      <td>0.935548</td>\n",
       "      <td>-2.094773</td>\n",
       "      <td>33.020205</td>\n",
       "    </tr>\n",
       "  </tbody>\n",
       "</table>\n",
       "</div>"
      ],
      "text/plain": [
       "          id        f0        f1        f2    product\n",
       "3389   A5aEY -0.039949  0.156872  0.209861  89.249364\n",
       "51970  A5aEY -0.180335  0.935548 -2.094773  33.020205"
      ]
     },
     "metadata": {},
     "output_type": "display_data"
    },
    {
     "name": "stdout",
     "output_type": "stream",
     "text": [
      "-------------------------------------------------------\n"
     ]
    },
    {
     "data": {
      "text/html": [
       "<div>\n",
       "<style scoped>\n",
       "    .dataframe tbody tr th:only-of-type {\n",
       "        vertical-align: middle;\n",
       "    }\n",
       "\n",
       "    .dataframe tbody tr th {\n",
       "        vertical-align: top;\n",
       "    }\n",
       "\n",
       "    .dataframe thead th {\n",
       "        text-align: right;\n",
       "    }\n",
       "</style>\n",
       "<table border=\"1\" class=\"dataframe\">\n",
       "  <thead>\n",
       "    <tr style=\"text-align: right;\">\n",
       "      <th></th>\n",
       "      <th>id</th>\n",
       "      <th>f0</th>\n",
       "      <th>f1</th>\n",
       "      <th>f2</th>\n",
       "      <th>product</th>\n",
       "    </tr>\n",
       "  </thead>\n",
       "  <tbody>\n",
       "    <tr>\n",
       "      <th>1949</th>\n",
       "      <td>QcMuo</td>\n",
       "      <td>0.506563</td>\n",
       "      <td>-0.323775</td>\n",
       "      <td>-2.215583</td>\n",
       "      <td>75.496502</td>\n",
       "    </tr>\n",
       "    <tr>\n",
       "      <th>63593</th>\n",
       "      <td>QcMuo</td>\n",
       "      <td>0.635635</td>\n",
       "      <td>-0.473422</td>\n",
       "      <td>0.862670</td>\n",
       "      <td>64.578675</td>\n",
       "    </tr>\n",
       "  </tbody>\n",
       "</table>\n",
       "</div>"
      ],
      "text/plain": [
       "          id        f0        f1        f2    product\n",
       "1949   QcMuo  0.506563 -0.323775 -2.215583  75.496502\n",
       "63593  QcMuo  0.635635 -0.473422  0.862670  64.578675"
      ]
     },
     "metadata": {},
     "output_type": "display_data"
    },
    {
     "name": "stdout",
     "output_type": "stream",
     "text": [
      "-------------------------------------------------------\n"
     ]
    },
    {
     "data": {
      "text/html": [
       "<div>\n",
       "<style scoped>\n",
       "    .dataframe tbody tr th:only-of-type {\n",
       "        vertical-align: middle;\n",
       "    }\n",
       "\n",
       "    .dataframe tbody tr th {\n",
       "        vertical-align: top;\n",
       "    }\n",
       "\n",
       "    .dataframe thead th {\n",
       "        text-align: right;\n",
       "    }\n",
       "</style>\n",
       "<table border=\"1\" class=\"dataframe\">\n",
       "  <thead>\n",
       "    <tr style=\"text-align: right;\">\n",
       "      <th></th>\n",
       "      <th>id</th>\n",
       "      <th>f0</th>\n",
       "      <th>f1</th>\n",
       "      <th>f2</th>\n",
       "      <th>product</th>\n",
       "    </tr>\n",
       "  </thead>\n",
       "  <tbody>\n",
       "    <tr>\n",
       "      <th>64022</th>\n",
       "      <td>74z30</td>\n",
       "      <td>0.741456</td>\n",
       "      <td>0.459229</td>\n",
       "      <td>5.153109</td>\n",
       "      <td>140.771492</td>\n",
       "    </tr>\n",
       "    <tr>\n",
       "      <th>66136</th>\n",
       "      <td>74z30</td>\n",
       "      <td>1.084962</td>\n",
       "      <td>-0.312358</td>\n",
       "      <td>6.990771</td>\n",
       "      <td>127.643327</td>\n",
       "    </tr>\n",
       "  </tbody>\n",
       "</table>\n",
       "</div>"
      ],
      "text/plain": [
       "          id        f0        f1        f2     product\n",
       "64022  74z30  0.741456  0.459229  5.153109  140.771492\n",
       "66136  74z30  1.084962 -0.312358  6.990771  127.643327"
      ]
     },
     "metadata": {},
     "output_type": "display_data"
    },
    {
     "name": "stdout",
     "output_type": "stream",
     "text": [
      "-------------------------------------------------------\n"
     ]
    },
    {
     "data": {
      "text/html": [
       "<div>\n",
       "<style scoped>\n",
       "    .dataframe tbody tr th:only-of-type {\n",
       "        vertical-align: middle;\n",
       "    }\n",
       "\n",
       "    .dataframe tbody tr th {\n",
       "        vertical-align: top;\n",
       "    }\n",
       "\n",
       "    .dataframe thead th {\n",
       "        text-align: right;\n",
       "    }\n",
       "</style>\n",
       "<table border=\"1\" class=\"dataframe\">\n",
       "  <thead>\n",
       "    <tr style=\"text-align: right;\">\n",
       "      <th></th>\n",
       "      <th>id</th>\n",
       "      <th>f0</th>\n",
       "      <th>f1</th>\n",
       "      <th>f2</th>\n",
       "      <th>product</th>\n",
       "    </tr>\n",
       "  </thead>\n",
       "  <tbody>\n",
       "    <tr>\n",
       "      <th>42529</th>\n",
       "      <td>AGS9W</td>\n",
       "      <td>1.454747</td>\n",
       "      <td>-0.479651</td>\n",
       "      <td>0.683380</td>\n",
       "      <td>126.370504</td>\n",
       "    </tr>\n",
       "    <tr>\n",
       "      <th>69163</th>\n",
       "      <td>AGS9W</td>\n",
       "      <td>-0.933795</td>\n",
       "      <td>0.116194</td>\n",
       "      <td>-3.655896</td>\n",
       "      <td>19.230453</td>\n",
       "    </tr>\n",
       "  </tbody>\n",
       "</table>\n",
       "</div>"
      ],
      "text/plain": [
       "          id        f0        f1        f2     product\n",
       "42529  AGS9W  1.454747 -0.479651  0.683380  126.370504\n",
       "69163  AGS9W -0.933795  0.116194 -3.655896   19.230453"
      ]
     },
     "metadata": {},
     "output_type": "display_data"
    },
    {
     "name": "stdout",
     "output_type": "stream",
     "text": [
      "-------------------------------------------------------\n"
     ]
    },
    {
     "data": {
      "text/html": [
       "<div>\n",
       "<style scoped>\n",
       "    .dataframe tbody tr th:only-of-type {\n",
       "        vertical-align: middle;\n",
       "    }\n",
       "\n",
       "    .dataframe tbody tr th {\n",
       "        vertical-align: top;\n",
       "    }\n",
       "\n",
       "    .dataframe thead th {\n",
       "        text-align: right;\n",
       "    }\n",
       "</style>\n",
       "<table border=\"1\" class=\"dataframe\">\n",
       "  <thead>\n",
       "    <tr style=\"text-align: right;\">\n",
       "      <th></th>\n",
       "      <th>id</th>\n",
       "      <th>f0</th>\n",
       "      <th>f1</th>\n",
       "      <th>f2</th>\n",
       "      <th>product</th>\n",
       "    </tr>\n",
       "  </thead>\n",
       "  <tbody>\n",
       "    <tr>\n",
       "      <th>21426</th>\n",
       "      <td>Tdehs</td>\n",
       "      <td>0.829407</td>\n",
       "      <td>0.298807</td>\n",
       "      <td>-0.049563</td>\n",
       "      <td>96.035308</td>\n",
       "    </tr>\n",
       "    <tr>\n",
       "      <th>75715</th>\n",
       "      <td>Tdehs</td>\n",
       "      <td>0.112079</td>\n",
       "      <td>0.430296</td>\n",
       "      <td>3.218993</td>\n",
       "      <td>60.964018</td>\n",
       "    </tr>\n",
       "  </tbody>\n",
       "</table>\n",
       "</div>"
      ],
      "text/plain": [
       "          id        f0        f1        f2    product\n",
       "21426  Tdehs  0.829407  0.298807 -0.049563  96.035308\n",
       "75715  Tdehs  0.112079  0.430296  3.218993  60.964018"
      ]
     },
     "metadata": {},
     "output_type": "display_data"
    },
    {
     "name": "stdout",
     "output_type": "stream",
     "text": [
      "-------------------------------------------------------\n"
     ]
    },
    {
     "data": {
      "text/html": [
       "<div>\n",
       "<style scoped>\n",
       "    .dataframe tbody tr th:only-of-type {\n",
       "        vertical-align: middle;\n",
       "    }\n",
       "\n",
       "    .dataframe tbody tr th {\n",
       "        vertical-align: top;\n",
       "    }\n",
       "\n",
       "    .dataframe thead th {\n",
       "        text-align: right;\n",
       "    }\n",
       "</style>\n",
       "<table border=\"1\" class=\"dataframe\">\n",
       "  <thead>\n",
       "    <tr style=\"text-align: right;\">\n",
       "      <th></th>\n",
       "      <th>id</th>\n",
       "      <th>f0</th>\n",
       "      <th>f1</th>\n",
       "      <th>f2</th>\n",
       "      <th>product</th>\n",
       "    </tr>\n",
       "  </thead>\n",
       "  <tbody>\n",
       "    <tr>\n",
       "      <th>16633</th>\n",
       "      <td>fiKDv</td>\n",
       "      <td>0.157341</td>\n",
       "      <td>1.028359</td>\n",
       "      <td>5.585586</td>\n",
       "      <td>95.817889</td>\n",
       "    </tr>\n",
       "    <tr>\n",
       "      <th>90815</th>\n",
       "      <td>fiKDv</td>\n",
       "      <td>0.049883</td>\n",
       "      <td>0.841313</td>\n",
       "      <td>6.394613</td>\n",
       "      <td>137.346586</td>\n",
       "    </tr>\n",
       "  </tbody>\n",
       "</table>\n",
       "</div>"
      ],
      "text/plain": [
       "          id        f0        f1        f2     product\n",
       "16633  fiKDv  0.157341  1.028359  5.585586   95.817889\n",
       "90815  fiKDv  0.049883  0.841313  6.394613  137.346586"
      ]
     },
     "metadata": {},
     "output_type": "display_data"
    },
    {
     "name": "stdout",
     "output_type": "stream",
     "text": [
      "-------------------------------------------------------\n"
     ]
    },
    {
     "data": {
      "text/html": [
       "<div>\n",
       "<style scoped>\n",
       "    .dataframe tbody tr th:only-of-type {\n",
       "        vertical-align: middle;\n",
       "    }\n",
       "\n",
       "    .dataframe tbody tr th {\n",
       "        vertical-align: top;\n",
       "    }\n",
       "\n",
       "    .dataframe thead th {\n",
       "        text-align: right;\n",
       "    }\n",
       "</style>\n",
       "<table border=\"1\" class=\"dataframe\">\n",
       "  <thead>\n",
       "    <tr style=\"text-align: right;\">\n",
       "      <th></th>\n",
       "      <th>id</th>\n",
       "      <th>f0</th>\n",
       "      <th>f1</th>\n",
       "      <th>f2</th>\n",
       "      <th>product</th>\n",
       "    </tr>\n",
       "  </thead>\n",
       "  <tbody>\n",
       "    <tr>\n",
       "      <th>60140</th>\n",
       "      <td>TtcGQ</td>\n",
       "      <td>0.569276</td>\n",
       "      <td>-0.104876</td>\n",
       "      <td>6.440215</td>\n",
       "      <td>85.350186</td>\n",
       "    </tr>\n",
       "    <tr>\n",
       "      <th>92341</th>\n",
       "      <td>TtcGQ</td>\n",
       "      <td>0.110711</td>\n",
       "      <td>1.022689</td>\n",
       "      <td>0.911381</td>\n",
       "      <td>101.318008</td>\n",
       "    </tr>\n",
       "  </tbody>\n",
       "</table>\n",
       "</div>"
      ],
      "text/plain": [
       "          id        f0        f1        f2     product\n",
       "60140  TtcGQ  0.569276 -0.104876  6.440215   85.350186\n",
       "92341  TtcGQ  0.110711  1.022689  0.911381  101.318008"
      ]
     },
     "metadata": {},
     "output_type": "display_data"
    },
    {
     "name": "stdout",
     "output_type": "stream",
     "text": [
      "-------------------------------------------------------\n"
     ]
    },
    {
     "data": {
      "text/html": [
       "<div>\n",
       "<style scoped>\n",
       "    .dataframe tbody tr th:only-of-type {\n",
       "        vertical-align: middle;\n",
       "    }\n",
       "\n",
       "    .dataframe tbody tr th {\n",
       "        vertical-align: top;\n",
       "    }\n",
       "\n",
       "    .dataframe thead th {\n",
       "        text-align: right;\n",
       "    }\n",
       "</style>\n",
       "<table border=\"1\" class=\"dataframe\">\n",
       "  <thead>\n",
       "    <tr style=\"text-align: right;\">\n",
       "      <th></th>\n",
       "      <th>id</th>\n",
       "      <th>f0</th>\n",
       "      <th>f1</th>\n",
       "      <th>f2</th>\n",
       "      <th>product</th>\n",
       "    </tr>\n",
       "  </thead>\n",
       "  <tbody>\n",
       "    <tr>\n",
       "      <th>89582</th>\n",
       "      <td>bsk9y</td>\n",
       "      <td>0.398908</td>\n",
       "      <td>-0.400253</td>\n",
       "      <td>10.122376</td>\n",
       "      <td>163.433078</td>\n",
       "    </tr>\n",
       "    <tr>\n",
       "      <th>97785</th>\n",
       "      <td>bsk9y</td>\n",
       "      <td>0.378429</td>\n",
       "      <td>0.005837</td>\n",
       "      <td>0.160827</td>\n",
       "      <td>160.637302</td>\n",
       "    </tr>\n",
       "  </tbody>\n",
       "</table>\n",
       "</div>"
      ],
      "text/plain": [
       "          id        f0        f1         f2     product\n",
       "89582  bsk9y  0.398908 -0.400253  10.122376  163.433078\n",
       "97785  bsk9y  0.378429  0.005837   0.160827  160.637302"
      ]
     },
     "metadata": {},
     "output_type": "display_data"
    },
    {
     "name": "stdout",
     "output_type": "stream",
     "text": [
      "-------------------------------------------------------\n",
      "\n",
      "\n",
      "geo_data_1 (4 дубл.)\n"
     ]
    },
    {
     "data": {
      "text/html": [
       "<div>\n",
       "<style scoped>\n",
       "    .dataframe tbody tr th:only-of-type {\n",
       "        vertical-align: middle;\n",
       "    }\n",
       "\n",
       "    .dataframe tbody tr th {\n",
       "        vertical-align: top;\n",
       "    }\n",
       "\n",
       "    .dataframe thead th {\n",
       "        text-align: right;\n",
       "    }\n",
       "</style>\n",
       "<table border=\"1\" class=\"dataframe\">\n",
       "  <thead>\n",
       "    <tr style=\"text-align: right;\">\n",
       "      <th></th>\n",
       "      <th>id</th>\n",
       "      <th>f0</th>\n",
       "      <th>f1</th>\n",
       "      <th>f2</th>\n",
       "      <th>product</th>\n",
       "    </tr>\n",
       "  </thead>\n",
       "  <tbody>\n",
       "    <tr>\n",
       "      <th>1305</th>\n",
       "      <td>LHZR0</td>\n",
       "      <td>11.170835</td>\n",
       "      <td>-1.945066</td>\n",
       "      <td>3.002872</td>\n",
       "      <td>80.859783</td>\n",
       "    </tr>\n",
       "    <tr>\n",
       "      <th>41906</th>\n",
       "      <td>LHZR0</td>\n",
       "      <td>-8.989672</td>\n",
       "      <td>-4.286607</td>\n",
       "      <td>2.009139</td>\n",
       "      <td>57.085625</td>\n",
       "    </tr>\n",
       "  </tbody>\n",
       "</table>\n",
       "</div>"
      ],
      "text/plain": [
       "          id         f0        f1        f2    product\n",
       "1305   LHZR0  11.170835 -1.945066  3.002872  80.859783\n",
       "41906  LHZR0  -8.989672 -4.286607  2.009139  57.085625"
      ]
     },
     "metadata": {},
     "output_type": "display_data"
    },
    {
     "name": "stdout",
     "output_type": "stream",
     "text": [
      "-------------------------------------------------------\n"
     ]
    },
    {
     "data": {
      "text/html": [
       "<div>\n",
       "<style scoped>\n",
       "    .dataframe tbody tr th:only-of-type {\n",
       "        vertical-align: middle;\n",
       "    }\n",
       "\n",
       "    .dataframe tbody tr th {\n",
       "        vertical-align: top;\n",
       "    }\n",
       "\n",
       "    .dataframe thead th {\n",
       "        text-align: right;\n",
       "    }\n",
       "</style>\n",
       "<table border=\"1\" class=\"dataframe\">\n",
       "  <thead>\n",
       "    <tr style=\"text-align: right;\">\n",
       "      <th></th>\n",
       "      <th>id</th>\n",
       "      <th>f0</th>\n",
       "      <th>f1</th>\n",
       "      <th>f2</th>\n",
       "      <th>product</th>\n",
       "    </tr>\n",
       "  </thead>\n",
       "  <tbody>\n",
       "    <tr>\n",
       "      <th>2721</th>\n",
       "      <td>bfPNe</td>\n",
       "      <td>-9.494442</td>\n",
       "      <td>-5.463692</td>\n",
       "      <td>4.006042</td>\n",
       "      <td>110.992147</td>\n",
       "    </tr>\n",
       "    <tr>\n",
       "      <th>82178</th>\n",
       "      <td>bfPNe</td>\n",
       "      <td>-6.202799</td>\n",
       "      <td>-4.820045</td>\n",
       "      <td>2.995107</td>\n",
       "      <td>84.038886</td>\n",
       "    </tr>\n",
       "  </tbody>\n",
       "</table>\n",
       "</div>"
      ],
      "text/plain": [
       "          id        f0        f1        f2     product\n",
       "2721   bfPNe -9.494442 -5.463692  4.006042  110.992147\n",
       "82178  bfPNe -6.202799 -4.820045  2.995107   84.038886"
      ]
     },
     "metadata": {},
     "output_type": "display_data"
    },
    {
     "name": "stdout",
     "output_type": "stream",
     "text": [
      "-------------------------------------------------------\n"
     ]
    },
    {
     "data": {
      "text/html": [
       "<div>\n",
       "<style scoped>\n",
       "    .dataframe tbody tr th:only-of-type {\n",
       "        vertical-align: middle;\n",
       "    }\n",
       "\n",
       "    .dataframe tbody tr th {\n",
       "        vertical-align: top;\n",
       "    }\n",
       "\n",
       "    .dataframe thead th {\n",
       "        text-align: right;\n",
       "    }\n",
       "</style>\n",
       "<table border=\"1\" class=\"dataframe\">\n",
       "  <thead>\n",
       "    <tr style=\"text-align: right;\">\n",
       "      <th></th>\n",
       "      <th>id</th>\n",
       "      <th>f0</th>\n",
       "      <th>f1</th>\n",
       "      <th>f2</th>\n",
       "      <th>product</th>\n",
       "    </tr>\n",
       "  </thead>\n",
       "  <tbody>\n",
       "    <tr>\n",
       "      <th>47591</th>\n",
       "      <td>wt4Uk</td>\n",
       "      <td>-9.091098</td>\n",
       "      <td>-8.109279</td>\n",
       "      <td>-0.002314</td>\n",
       "      <td>3.179103</td>\n",
       "    </tr>\n",
       "    <tr>\n",
       "      <th>82873</th>\n",
       "      <td>wt4Uk</td>\n",
       "      <td>10.259972</td>\n",
       "      <td>-9.376355</td>\n",
       "      <td>4.994297</td>\n",
       "      <td>134.766305</td>\n",
       "    </tr>\n",
       "  </tbody>\n",
       "</table>\n",
       "</div>"
      ],
      "text/plain": [
       "          id         f0        f1        f2     product\n",
       "47591  wt4Uk  -9.091098 -8.109279 -0.002314    3.179103\n",
       "82873  wt4Uk  10.259972 -9.376355  4.994297  134.766305"
      ]
     },
     "metadata": {},
     "output_type": "display_data"
    },
    {
     "name": "stdout",
     "output_type": "stream",
     "text": [
      "-------------------------------------------------------\n"
     ]
    },
    {
     "data": {
      "text/html": [
       "<div>\n",
       "<style scoped>\n",
       "    .dataframe tbody tr th:only-of-type {\n",
       "        vertical-align: middle;\n",
       "    }\n",
       "\n",
       "    .dataframe tbody tr th {\n",
       "        vertical-align: top;\n",
       "    }\n",
       "\n",
       "    .dataframe thead th {\n",
       "        text-align: right;\n",
       "    }\n",
       "</style>\n",
       "<table border=\"1\" class=\"dataframe\">\n",
       "  <thead>\n",
       "    <tr style=\"text-align: right;\">\n",
       "      <th></th>\n",
       "      <th>id</th>\n",
       "      <th>f0</th>\n",
       "      <th>f1</th>\n",
       "      <th>f2</th>\n",
       "      <th>product</th>\n",
       "    </tr>\n",
       "  </thead>\n",
       "  <tbody>\n",
       "    <tr>\n",
       "      <th>5849</th>\n",
       "      <td>5ltQ6</td>\n",
       "      <td>-3.435401</td>\n",
       "      <td>-12.296043</td>\n",
       "      <td>1.999796</td>\n",
       "      <td>57.085625</td>\n",
       "    </tr>\n",
       "    <tr>\n",
       "      <th>84461</th>\n",
       "      <td>5ltQ6</td>\n",
       "      <td>18.213839</td>\n",
       "      <td>2.191999</td>\n",
       "      <td>3.993869</td>\n",
       "      <td>107.813044</td>\n",
       "    </tr>\n",
       "  </tbody>\n",
       "</table>\n",
       "</div>"
      ],
      "text/plain": [
       "          id         f0         f1        f2     product\n",
       "5849   5ltQ6  -3.435401 -12.296043  1.999796   57.085625\n",
       "84461  5ltQ6  18.213839   2.191999  3.993869  107.813044"
      ]
     },
     "metadata": {},
     "output_type": "display_data"
    },
    {
     "name": "stdout",
     "output_type": "stream",
     "text": [
      "-------------------------------------------------------\n",
      "\n",
      "\n",
      "geo_data_2 (4 дубл.)\n"
     ]
    },
    {
     "data": {
      "text/html": [
       "<div>\n",
       "<style scoped>\n",
       "    .dataframe tbody tr th:only-of-type {\n",
       "        vertical-align: middle;\n",
       "    }\n",
       "\n",
       "    .dataframe tbody tr th {\n",
       "        vertical-align: top;\n",
       "    }\n",
       "\n",
       "    .dataframe thead th {\n",
       "        text-align: right;\n",
       "    }\n",
       "</style>\n",
       "<table border=\"1\" class=\"dataframe\">\n",
       "  <thead>\n",
       "    <tr style=\"text-align: right;\">\n",
       "      <th></th>\n",
       "      <th>id</th>\n",
       "      <th>f0</th>\n",
       "      <th>f1</th>\n",
       "      <th>f2</th>\n",
       "      <th>product</th>\n",
       "    </tr>\n",
       "  </thead>\n",
       "  <tbody>\n",
       "    <tr>\n",
       "      <th>28039</th>\n",
       "      <td>xCHr8</td>\n",
       "      <td>1.633027</td>\n",
       "      <td>0.368135</td>\n",
       "      <td>-2.378367</td>\n",
       "      <td>6.120525</td>\n",
       "    </tr>\n",
       "    <tr>\n",
       "      <th>43233</th>\n",
       "      <td>xCHr8</td>\n",
       "      <td>-0.847066</td>\n",
       "      <td>2.101796</td>\n",
       "      <td>5.597130</td>\n",
       "      <td>184.388641</td>\n",
       "    </tr>\n",
       "  </tbody>\n",
       "</table>\n",
       "</div>"
      ],
      "text/plain": [
       "          id        f0        f1        f2     product\n",
       "28039  xCHr8  1.633027  0.368135 -2.378367    6.120525\n",
       "43233  xCHr8 -0.847066  2.101796  5.597130  184.388641"
      ]
     },
     "metadata": {},
     "output_type": "display_data"
    },
    {
     "name": "stdout",
     "output_type": "stream",
     "text": [
      "-------------------------------------------------------\n"
     ]
    },
    {
     "data": {
      "text/html": [
       "<div>\n",
       "<style scoped>\n",
       "    .dataframe tbody tr th:only-of-type {\n",
       "        vertical-align: middle;\n",
       "    }\n",
       "\n",
       "    .dataframe tbody tr th {\n",
       "        vertical-align: top;\n",
       "    }\n",
       "\n",
       "    .dataframe thead th {\n",
       "        text-align: right;\n",
       "    }\n",
       "</style>\n",
       "<table border=\"1\" class=\"dataframe\">\n",
       "  <thead>\n",
       "    <tr style=\"text-align: right;\">\n",
       "      <th></th>\n",
       "      <th>id</th>\n",
       "      <th>f0</th>\n",
       "      <th>f1</th>\n",
       "      <th>f2</th>\n",
       "      <th>product</th>\n",
       "    </tr>\n",
       "  </thead>\n",
       "  <tbody>\n",
       "    <tr>\n",
       "      <th>11449</th>\n",
       "      <td>VF7Jo</td>\n",
       "      <td>2.122656</td>\n",
       "      <td>-0.858275</td>\n",
       "      <td>5.746001</td>\n",
       "      <td>181.716817</td>\n",
       "    </tr>\n",
       "    <tr>\n",
       "      <th>49564</th>\n",
       "      <td>VF7Jo</td>\n",
       "      <td>-0.883115</td>\n",
       "      <td>0.560537</td>\n",
       "      <td>0.723601</td>\n",
       "      <td>136.233420</td>\n",
       "    </tr>\n",
       "  </tbody>\n",
       "</table>\n",
       "</div>"
      ],
      "text/plain": [
       "          id        f0        f1        f2     product\n",
       "11449  VF7Jo  2.122656 -0.858275  5.746001  181.716817\n",
       "49564  VF7Jo -0.883115  0.560537  0.723601  136.233420"
      ]
     },
     "metadata": {},
     "output_type": "display_data"
    },
    {
     "name": "stdout",
     "output_type": "stream",
     "text": [
      "-------------------------------------------------------\n"
     ]
    },
    {
     "data": {
      "text/html": [
       "<div>\n",
       "<style scoped>\n",
       "    .dataframe tbody tr th:only-of-type {\n",
       "        vertical-align: middle;\n",
       "    }\n",
       "\n",
       "    .dataframe tbody tr th {\n",
       "        vertical-align: top;\n",
       "    }\n",
       "\n",
       "    .dataframe thead th {\n",
       "        text-align: right;\n",
       "    }\n",
       "</style>\n",
       "<table border=\"1\" class=\"dataframe\">\n",
       "  <thead>\n",
       "    <tr style=\"text-align: right;\">\n",
       "      <th></th>\n",
       "      <th>id</th>\n",
       "      <th>f0</th>\n",
       "      <th>f1</th>\n",
       "      <th>f2</th>\n",
       "      <th>product</th>\n",
       "    </tr>\n",
       "  </thead>\n",
       "  <tbody>\n",
       "    <tr>\n",
       "      <th>45404</th>\n",
       "      <td>KUPhW</td>\n",
       "      <td>0.231846</td>\n",
       "      <td>-1.698941</td>\n",
       "      <td>4.990775</td>\n",
       "      <td>11.716299</td>\n",
       "    </tr>\n",
       "    <tr>\n",
       "      <th>55967</th>\n",
       "      <td>KUPhW</td>\n",
       "      <td>1.211150</td>\n",
       "      <td>3.176408</td>\n",
       "      <td>5.543540</td>\n",
       "      <td>132.831802</td>\n",
       "    </tr>\n",
       "  </tbody>\n",
       "</table>\n",
       "</div>"
      ],
      "text/plain": [
       "          id        f0        f1        f2     product\n",
       "45404  KUPhW  0.231846 -1.698941  4.990775   11.716299\n",
       "55967  KUPhW  1.211150  3.176408  5.543540  132.831802"
      ]
     },
     "metadata": {},
     "output_type": "display_data"
    },
    {
     "name": "stdout",
     "output_type": "stream",
     "text": [
      "-------------------------------------------------------\n"
     ]
    },
    {
     "data": {
      "text/html": [
       "<div>\n",
       "<style scoped>\n",
       "    .dataframe tbody tr th:only-of-type {\n",
       "        vertical-align: middle;\n",
       "    }\n",
       "\n",
       "    .dataframe tbody tr th {\n",
       "        vertical-align: top;\n",
       "    }\n",
       "\n",
       "    .dataframe thead th {\n",
       "        text-align: right;\n",
       "    }\n",
       "</style>\n",
       "<table border=\"1\" class=\"dataframe\">\n",
       "  <thead>\n",
       "    <tr style=\"text-align: right;\">\n",
       "      <th></th>\n",
       "      <th>id</th>\n",
       "      <th>f0</th>\n",
       "      <th>f1</th>\n",
       "      <th>f2</th>\n",
       "      <th>product</th>\n",
       "    </tr>\n",
       "  </thead>\n",
       "  <tbody>\n",
       "    <tr>\n",
       "      <th>44378</th>\n",
       "      <td>Vcm5J</td>\n",
       "      <td>-1.229484</td>\n",
       "      <td>-2.439204</td>\n",
       "      <td>1.222909</td>\n",
       "      <td>137.968290</td>\n",
       "    </tr>\n",
       "    <tr>\n",
       "      <th>95090</th>\n",
       "      <td>Vcm5J</td>\n",
       "      <td>2.587702</td>\n",
       "      <td>1.986875</td>\n",
       "      <td>2.482245</td>\n",
       "      <td>92.327572</td>\n",
       "    </tr>\n",
       "  </tbody>\n",
       "</table>\n",
       "</div>"
      ],
      "text/plain": [
       "          id        f0        f1        f2     product\n",
       "44378  Vcm5J -1.229484 -2.439204  1.222909  137.968290\n",
       "95090  Vcm5J  2.587702  1.986875  2.482245   92.327572"
      ]
     },
     "metadata": {},
     "output_type": "display_data"
    },
    {
     "name": "stdout",
     "output_type": "stream",
     "text": [
      "-------------------------------------------------------\n",
      "\n",
      "\n"
     ]
    }
   ],
   "source": [
    "for name, df in dataframes.items():\n",
    "    id = df.loc[df['id'].duplicated(), 'id'].values\n",
    "    print(f'{name} ({id.size} дубл.)')\n",
    "    for i in id:\n",
    "        display(df.loc[df['id'] == i])\n",
    "        print(55 * '-')\n",
    "    print('\\n')"
   ]
  },
  {
   "cell_type": "markdown",
   "metadata": {},
   "source": [
    "В каждом датафрейме выявлены дубликаты скважин (`geo_data_0` - 10 дублей, `geo_data_1` и `geo_data_2` - по 4 дубля). Все признаки точек этих дубликатов значительно отличаются друг от друга. Т.к. нет возможности выяснить причину наличия одинаковых идентификаторов и разницы значений их признаков, то данные объекты удалять не будем."
   ]
  },
  {
   "cell_type": "markdown",
   "metadata": {},
   "source": [
    "### Исследовательский анализ данных"
   ]
  },
  {
   "cell_type": "markdown",
   "metadata": {},
   "source": [
    "Для отображения количественных признаков из датафреймов в виде гистограмм и диаграмм размаха (\"ящик с усами\") определим функцию:"
   ]
  },
  {
   "cell_type": "code",
   "execution_count": 14,
   "metadata": {},
   "outputs": [],
   "source": [
    "def show_graph_1(data, column, hist_title, box_title, xlabel):\n",
    "    fig, axes = plt.subplots(1, 2, figsize=(16, 6))\n",
    "    histplot = sns.histplot(\n",
    "        data=data,\n",
    "        x=column,\n",
    "        bins=50,\n",
    "        color='darkcyan',\n",
    "        kde=True,\n",
    "        ax=axes[0]\n",
    "    )\n",
    "    histplot.set(\n",
    "        title=hist_title,\n",
    "        xlabel=xlabel,\n",
    "        ylabel='Количество'\n",
    "    )\n",
    "    boxplot = sns.boxplot(\n",
    "        data=data,\n",
    "        x=column,\n",
    "        color='salmon',\n",
    "        ax=axes[1]\n",
    "    )\n",
    "    boxplot.set(\n",
    "        title=box_title,\n",
    "        xlabel=xlabel\n",
    "    )"
   ]
  },
  {
   "cell_type": "markdown",
   "metadata": {},
   "source": [
    "Стоит сказать, что обнаруженные аномальные значения в признаках удалять не будем, т.к. смысл данных признаков не известен."
   ]
  },
  {
   "cell_type": "markdown",
   "metadata": {},
   "source": [
    "#### Регион №1"
   ]
  },
  {
   "cell_type": "markdown",
   "metadata": {},
   "source": [
    "Отобразим гистограмму и \"ящик с усами\" для столбцов `f0`, `f1`, `f2` и `product` датафрейма `geo_data_0`:"
   ]
  },
  {
   "cell_type": "code",
   "execution_count": 15,
   "metadata": {},
   "outputs": [
    {
     "data": {
      "image/png": "[encoded data removed]",
      "text/plain": [
       "<Figure size 1152x432 with 2 Axes>"
      ]
     },
     "metadata": {
      "needs_background": "light"
     },
     "output_type": "display_data"
    }
   ],
   "source": [
    "show_graph_1(\n",
    "    geo_data_0,\n",
    "    'f0',\n",
    "    'Распределение признака '\"'f0'\"'',\n",
    "    'Диаграмма размаха признака '\"'f0'\"'',\n",
    "    'Признак '\"'f0'\"''\n",
    ")"
   ]
  },
  {
   "cell_type": "markdown",
   "metadata": {},
   "source": [
    "Распределение признака `f0` имеет четыре явно выраженных пика (значения около -1, 0.1, 0.9 и 1.9), выбросов и аномальных значений нет."
   ]
  },
  {
   "cell_type": "code",
   "execution_count": 16,
   "metadata": {},
   "outputs": [
    {
     "data": {
      "image/png": "[encoded data removed]",
      "text/plain": [
       "<Figure size 1152x432 with 2 Axes>"
      ]
     },
     "metadata": {
      "needs_background": "light"
     },
     "output_type": "display_data"
    }
   ],
   "source": [
    "show_graph_1(\n",
    "    geo_data_0,\n",
    "    'f1',\n",
    "    'Распределение признака '\"'f1'\"'',\n",
    "    'Диаграмма размаха признака '\"'f1'\"'',\n",
    "    'Признак '\"'f1'\"''\n",
    ")"
   ]
  },
  {
   "cell_type": "markdown",
   "metadata": {},
   "source": [
    "Распределение признака `f1` имеет три явно выраженных пика (значения около -0.4, 0.3 и 0.9), выбросов и аномальных значений нет."
   ]
  },
  {
   "cell_type": "code",
   "execution_count": 17,
   "metadata": {},
   "outputs": [
    {
     "data": {
      "image/png": "[encoded data removed]",
      "text/plain": [
       "<Figure size 1152x432 with 2 Axes>"
      ]
     },
     "metadata": {
      "needs_background": "light"
     },
     "output_type": "display_data"
    }
   ],
   "source": [
    "show_graph_1(\n",
    "    geo_data_0,\n",
    "    'f2',\n",
    "    'Распределение признака '\"'f2'\"'',\n",
    "    'Диаграмма размаха признака '\"'f2'\"'',\n",
    "    'Признак '\"'f2'\"''\n",
    ")"
   ]
  },
  {
   "cell_type": "markdown",
   "metadata": {},
   "source": [
    "Распределение признака `f2` близко к нормальному, имеются аномальные значения."
   ]
  },
  {
   "cell_type": "code",
   "execution_count": 18,
   "metadata": {},
   "outputs": [
    {
     "data": {
      "image/png": "[encoded data removed]",
      "text/plain": [
       "<Figure size 1152x432 with 2 Axes>"
      ]
     },
     "metadata": {
      "needs_background": "light"
     },
     "output_type": "display_data"
    }
   ],
   "source": [
    "show_graph_1(\n",
    "    geo_data_0,\n",
    "    'product',\n",
    "    'Распределение объема запасов в скважине (тыс. баррелей)',\n",
    "    'Диаграмма размаха объема запасов в скважине (тыс. баррелей)',\n",
    "    'Объем запасов в скважине (тыс. баррелей)'\n",
    ")"
   ]
  },
  {
   "cell_type": "markdown",
   "metadata": {},
   "source": [
    "Распределение объема запасов в скважине имеет шесть явно выраженных пиков (значения около 30, 60, 80, 110, 130 и 150), выбросов и аномальных значений нет."
   ]
  },
  {
   "cell_type": "markdown",
   "metadata": {},
   "source": [
    "Проверим, сколько в цевом столбце нулевых элементов (т.е. скважин, без запасов):"
   ]
  },
  {
   "cell_type": "code",
   "execution_count": 19,
   "metadata": {},
   "outputs": [
    {
     "name": "stdout",
     "output_type": "stream",
     "text": [
      "Количество нулевых значений в целевом столбце - 1\n",
      "Доля нулевых значений в целевом столбце - 0.00%\n"
     ]
    }
   ],
   "source": [
    "count = len(geo_data_0[geo_data_0['product'] == 0])\n",
    "part = count / len(geo_data_0['product'])\n",
    "print(f'Количество нулевых значений в целевом столбце - {count}')\n",
    "print(f'Доля нулевых значений в целевом столбце - {part:.2%}')"
   ]
  },
  {
   "cell_type": "markdown",
   "metadata": {},
   "source": [
    "Доля нулевых значений в целевом столбце `product` незначительна."
   ]
  },
  {
   "cell_type": "markdown",
   "metadata": {},
   "source": [
    "#### Регион №2"
   ]
  },
  {
   "cell_type": "markdown",
   "metadata": {},
   "source": [
    "Отобразим гистограмму и \"ящик с усами\" для столбцов `f0`, `f1`, `f2` и `product` датафрейма `geo_data_1`:"
   ]
  },
  {
   "cell_type": "code",
   "execution_count": 20,
   "metadata": {},
   "outputs": [
    {
     "data": {
      "image/png": "[encoded data removed]",
      "text/plain": [
       "<Figure size 1152x432 with 2 Axes>"
      ]
     },
     "metadata": {
      "needs_background": "light"
     },
     "output_type": "display_data"
    }
   ],
   "source": [
    "show_graph_1(\n",
    "    geo_data_1,\n",
    "    'f0',\n",
    "    'Распределение признака '\"'f0'\"'',\n",
    "    'Диаграмма размаха признака '\"'f0'\"'',\n",
    "    'Признак '\"'f0'\"''\n",
    ")"
   ]
  },
  {
   "cell_type": "markdown",
   "metadata": {},
   "source": [
    "Распределение признака `f0` близко к нормльному, имеет два явно выраженных пика (значения около -6 и 9), имеются аномальные значения."
   ]
  },
  {
   "cell_type": "code",
   "execution_count": 21,
   "metadata": {},
   "outputs": [
    {
     "data": {
      "image/png": "[encoded data removed]",
      "text/plain": [
       "<Figure size 1152x432 with 2 Axes>"
      ]
     },
     "metadata": {
      "needs_background": "light"
     },
     "output_type": "display_data"
    }
   ],
   "source": [
    "show_graph_1(\n",
    "    geo_data_1,\n",
    "    'f1',\n",
    "    'Распределение признака '\"'f1'\"'',\n",
    "    'Диаграмма размаха признака '\"'f1'\"'',\n",
    "    'Признак '\"'f1'\"''\n",
    ")"
   ]
  },
  {
   "cell_type": "markdown",
   "metadata": {},
   "source": [
    "Распределение признака `f1` близко к нормльному, имеются аномальные значения."
   ]
  },
  {
   "cell_type": "code",
   "execution_count": 22,
   "metadata": {},
   "outputs": [
    {
     "data": {
      "image/png": "[encoded data removed]",
      "text/plain": [
       "<Figure size 1152x432 with 2 Axes>"
      ]
     },
     "metadata": {
      "needs_background": "light"
     },
     "output_type": "display_data"
    }
   ],
   "source": [
    "show_graph_1(\n",
    "    geo_data_1,\n",
    "    'f2',\n",
    "    'Распределение признака '\"'f2'\"'',\n",
    "    'Диаграмма размаха признака '\"'f2'\"'',\n",
    "    'Признак '\"'f2'\"''\n",
    ")"
   ]
  },
  {
   "cell_type": "markdown",
   "metadata": {},
   "source": [
    "Судя по распределение признака `f2`, данный признак больше похоже на категориальный, нежели на количественный. Выбросов и аномальных значений нет."
   ]
  },
  {
   "cell_type": "code",
   "execution_count": 23,
   "metadata": {},
   "outputs": [
    {
     "data": {
      "image/png": "[encoded data removed]",
      "text/plain": [
       "<Figure size 1152x432 with 2 Axes>"
      ]
     },
     "metadata": {
      "needs_background": "light"
     },
     "output_type": "display_data"
    }
   ],
   "source": [
    "show_graph_1(\n",
    "    geo_data_1,\n",
    "    'product',\n",
    "    'Распределение объема запасов в скважине (тыс. баррелей)',\n",
    "    'Диаграмма размаха объема запасов в скважине (тыс. баррелей)',\n",
    "    'Объем запасов в скважине (тыс. баррелей)'\n",
    ")"
   ]
  },
  {
   "cell_type": "markdown",
   "metadata": {},
   "source": [
    "Судя по распределение объема запасов в скважине, данный признак больше похоже на категориальный, нежели на количественный. Выбросов и аномальных значений нет."
   ]
  },
  {
   "cell_type": "markdown",
   "metadata": {},
   "source": [
    "Проверим, сколько в цевом столбце нулевых элементов (т.е. скважин, без запасов):"
   ]
  },
  {
   "cell_type": "code",
   "execution_count": 24,
   "metadata": {},
   "outputs": [
    {
     "name": "stdout",
     "output_type": "stream",
     "text": [
      "Количество нулевых значений в целевом столбце - 8235\n",
      "Доля нулевых значений в целевом столбце - 8.24%\n"
     ]
    }
   ],
   "source": [
    "count = len(geo_data_1[geo_data_1['product'] == 0])\n",
    "part = count / len(geo_data_1['product'])\n",
    "print(f'Количество нулевых значений в целевом столбце - {count}')\n",
    "print(f'Доля нулевых значений в целевом столбце - {part:.2%}')"
   ]
  },
  {
   "cell_type": "markdown",
   "metadata": {},
   "source": [
    "Доля нулевых значений в целевом столбце `product` составляет 8.24% - довольно существенно, по сравнению с другими регионами."
   ]
  },
  {
   "cell_type": "markdown",
   "metadata": {},
   "source": [
    "#### Регион №3"
   ]
  },
  {
   "cell_type": "markdown",
   "metadata": {},
   "source": [
    "Отобразим гистограмму и \"ящик с усами\" для столбцов `f0`, `f1`, `f2` и `product` датафрейма `geo_data_2`:"
   ]
  },
  {
   "cell_type": "code",
   "execution_count": 25,
   "metadata": {},
   "outputs": [
    {
     "data": {
      "image/png": "[encoded data removed]",
      "text/plain": [
       "<Figure size 1152x432 with 2 Axes>"
      ]
     },
     "metadata": {
      "needs_background": "light"
     },
     "output_type": "display_data"
    }
   ],
   "source": [
    "show_graph_1(\n",
    "    geo_data_2,\n",
    "    'f0',\n",
    "    'Распределение признака '\"'f0'\"'',\n",
    "    'Диаграмма размаха признака '\"'f0'\"'',\n",
    "    'Признак '\"'f0'\"''\n",
    ")"
   ]
  },
  {
   "cell_type": "markdown",
   "metadata": {},
   "source": [
    "Распределение признака `f0` близко к нормльному, имеются аномальные значения."
   ]
  },
  {
   "cell_type": "code",
   "execution_count": 26,
   "metadata": {},
   "outputs": [
    {
     "data": {
      "image/png": "[encoded data removed]",
      "text/plain": [
       "<Figure size 1152x432 with 2 Axes>"
      ]
     },
     "metadata": {
      "needs_background": "light"
     },
     "output_type": "display_data"
    }
   ],
   "source": [
    "show_graph_1(\n",
    "    geo_data_2,\n",
    "    'f1',\n",
    "    'Распределение признака '\"'f1'\"'',\n",
    "    'Диаграмма размаха признака '\"'f1'\"'',\n",
    "    'Признак '\"'f1'\"''\n",
    ")"
   ]
  },
  {
   "cell_type": "markdown",
   "metadata": {},
   "source": [
    "Распределение признака `f1` близко к нормльному, имеются аномальные значения."
   ]
  },
  {
   "cell_type": "code",
   "execution_count": 27,
   "metadata": {},
   "outputs": [
    {
     "data": {
      "image/png": "[encoded data removed]",
      "text/plain": [
       "<Figure size 1152x432 with 2 Axes>"
      ]
     },
     "metadata": {
      "needs_background": "light"
     },
     "output_type": "display_data"
    }
   ],
   "source": [
    "show_graph_1(\n",
    "    geo_data_2,\n",
    "    'f2',\n",
    "    'Распределение признака '\"'f2'\"'',\n",
    "    'Диаграмма размаха признака '\"'f2'\"'',\n",
    "    'Признак '\"'f2'\"''\n",
    ")"
   ]
  },
  {
   "cell_type": "markdown",
   "metadata": {},
   "source": [
    "Распределение признака `f2` близко к нормльному, имеются аномальные значения."
   ]
  },
  {
   "cell_type": "code",
   "execution_count": 28,
   "metadata": {},
   "outputs": [
    {
     "data": {
      "image/png": "[encoded data removed]",
      "text/plain": [
       "<Figure size 1152x432 with 2 Axes>"
      ]
     },
     "metadata": {
      "needs_background": "light"
     },
     "output_type": "display_data"
    }
   ],
   "source": [
    "show_graph_1(\n",
    "    geo_data_2,\n",
    "    'product',\n",
    "    'Распределение объема запасов в скважине (тыс. баррелей)',\n",
    "    'Диаграмма размаха объема запасов в скважине (тыс. баррелей)',\n",
    "    'Объем запасов в скважине (тыс. баррелей)'\n",
    ")"
   ]
  },
  {
   "cell_type": "markdown",
   "metadata": {},
   "source": [
    "Распределение объема запасов в скважине имеет шесть явно выраженных пиков (значения около 30, 60, 80, 110, 130 и 150), выбросов и аномальных значений нет."
   ]
  },
  {
   "cell_type": "markdown",
   "metadata": {},
   "source": [
    "Проверим, сколько в цевом столбце нулевых элементов (т.е. скважин, без запасов):"
   ]
  },
  {
   "cell_type": "code",
   "execution_count": 29,
   "metadata": {},
   "outputs": [
    {
     "name": "stdout",
     "output_type": "stream",
     "text": [
      "Количество нулевых значений в целевом столбце - 1\n",
      "Доля нулевых значений в целевом столбце - 0.00%\n"
     ]
    }
   ],
   "source": [
    "count = len(geo_data_2[geo_data_2['product'] == 0])\n",
    "part = count / len(geo_data_2['product'])\n",
    "print(f'Количество нулевых значений в целевом столбце - {count}')\n",
    "print(f'Доля нулевых значений в целевом столбце - {part:.2%}')"
   ]
  },
  {
   "cell_type": "markdown",
   "metadata": {},
   "source": [
    "Доля нулевых значений в целевом столбце `product` незначительна."
   ]
  },
  {
   "cell_type": "markdown",
   "metadata": {},
   "source": [
    "#### Итог"
   ]
  },
  {
   "cell_type": "markdown",
   "metadata": {},
   "source": [
    "Стоит отметить, что признак `f2` в датафрейме `geo_data_1` отличается от аналогичных признаков в других датафреймах - у него отличное от остальных распределение и порядок значений. Данные не подчиняются закону больших чисел и скорей всего были введены искуственно.\n",
    "\n",
    "Кроме того, в датафрейме `geo_data_2` наблюдается большее число нулевых значений целевого признака, чем в других датафреймах. Можно сделать вывод о том, что, возможно, данные были утеряны или запас нефти в этих скважинах не был исследован.\n",
    "\n",
    "Все эти факторы далее могут негативно сказаться на качестве и достоверности модели."
   ]
  },
  {
   "cell_type": "markdown",
   "metadata": {},
   "source": [
    "### Корреляционный анализ"
   ]
  },
  {
   "cell_type": "markdown",
   "metadata": {},
   "source": [
    "Определим функцию для отображения тепловой карты корреляционной матрицы:"
   ]
  },
  {
   "cell_type": "code",
   "execution_count": 30,
   "metadata": {},
   "outputs": [],
   "source": [
    "# категориальные и количественные признаки\n",
    "def get_columns(df):\n",
    "    return {\n",
    "        'cat_col_names': df.select_dtypes(exclude='number').columns.tolist(),\n",
    "        'num_col_names': df.select_dtypes(include='number').columns.tolist()\n",
    "    }"
   ]
  },
  {
   "cell_type": "code",
   "execution_count": 31,
   "metadata": {},
   "outputs": [],
   "source": [
    "def get_cm_plot(df, interval_cols=get_columns(df)['num_col_names']):\n",
    "    phik_matrix = df.drop('id', axis=1).phik_matrix(interval_cols=interval_cols)\n",
    "    plot_correlation_matrix(phik_matrix.values,\n",
    "                        x_labels=phik_matrix.columns,\n",
    "                        y_labels=phik_matrix.index,\n",
    "                        vmin=0,\n",
    "                        vmax=1,\n",
    "                        color_map='Reds',\n",
    "                        title=r'Тепловая карта корреляционной матрицы $\\phi_K$',\n",
    "                        fontsize_factor=1,\n",
    "                        figsize=(8, 7),\n",
    "                        identity_layout=False\n",
    "                       )"
   ]
  },
  {
   "cell_type": "markdown",
   "metadata": {},
   "source": [
    "Проведем корреляционный анализ признаков в количественной шкале в датафрейме для моделирования `geo_data_0`. Рассчитаем коэффициенты корреляции между всеми количественными признаками и отобразим матрицу корреляций с помощью тепловой карты:"
   ]
  },
  {
   "cell_type": "code",
   "execution_count": 32,
   "metadata": {},
   "outputs": [
    {
     "data": {
      "image/png": "[encoded data removed]",
      "text/plain": [
       "<Figure size 576x504 with 2 Axes>"
      ]
     },
     "metadata": {
      "needs_background": "light"
     },
     "output_type": "display_data"
    }
   ],
   "source": [
    "get_cm_plot(geo_data_0)"
   ]
  },
  {
   "cell_type": "markdown",
   "metadata": {},
   "source": [
    "Темные тона тепловой карты говорят о сильной линейной зависимости, а светлые - о слабой. Судя по тепловой карте, самая сильная прямая связь с целевым признаком `product` у признака `f2`.\n",
    "\n",
    "Мультиколлинеарность между признаками не обнаружена. Больше всех друг с другом коррелируют признаки `f0` и `f1`."
   ]
  },
  {
   "cell_type": "markdown",
   "metadata": {},
   "source": [
    "Проведем корреляционный анализ признаков в количественной шкале в датафрейме для моделирования `geo_data_1`. Рассчитаем коэффициенты корреляции между всеми количественными признаками и отобразим матрицу корреляций с помощью тепловой карты:"
   ]
  },
  {
   "cell_type": "code",
   "execution_count": 33,
   "metadata": {},
   "outputs": [
    {
     "data": {
      "image/png": "[encoded data removed]",
      "text/plain": [
       "<Figure size 576x504 with 2 Axes>"
      ]
     },
     "metadata": {
      "needs_background": "light"
     },
     "output_type": "display_data"
    }
   ],
   "source": [
    "get_cm_plot(geo_data_1)"
   ]
  },
  {
   "cell_type": "markdown",
   "metadata": {},
   "source": [
    "Судя по тепловой карте, самая сильная прямая связь с целевым признаком `product` у признаков `f0` и `f2`, при этом целевой признак слабо связан с признаком `f1`.\n",
    "\n",
    "Мультиколлинеарность между признаками не обнаружена."
   ]
  },
  {
   "cell_type": "markdown",
   "metadata": {},
   "source": [
    "Проведем корреляционный анализ признаков в количественной шкале в датафрейме для моделирования `geo_data_2`. Рассчитаем коэффициенты корреляции между всеми количественными признаками и отобразим матрицу корреляций с помощью тепловой карты:"
   ]
  },
  {
   "cell_type": "code",
   "execution_count": 34,
   "metadata": {},
   "outputs": [
    {
     "data": {
      "image/png": "[encoded data removed]",
      "text/plain": [
       "<Figure size 576x504 with 2 Axes>"
      ]
     },
     "metadata": {
      "needs_background": "light"
     },
     "output_type": "display_data"
    }
   ],
   "source": [
    "get_cm_plot(geo_data_2)"
   ]
  },
  {
   "cell_type": "markdown",
   "metadata": {},
   "source": [
    "Судя по тепловой карте, самая сильная прямая связь с целевым признаком `product` у признака `f2`.\n",
    "\n",
    "Мультиколлинеарность между признаками не обнаружена."
   ]
  },
  {
   "cell_type": "markdown",
   "metadata": {},
   "source": [
    "## Обучение и проверка модели"
   ]
  },
  {
   "cell_type": "markdown",
   "metadata": {},
   "source": [
    "В условиях задачи значилось, что для обучения модели подходит только линейная регрессия, т.к. остальные модели дают недостаточно предсказуемые результаты, поэтому будем использовать модель `LinearRegression()`.\n",
    "\n",
    "Определим переменные:"
   ]
  },
  {
   "cell_type": "code",
   "execution_count": 35,
   "metadata": {},
   "outputs": [],
   "source": [
    "RANDOM_STATE = 42\n",
    "test_size=0.25"
   ]
  },
  {
   "cell_type": "markdown",
   "metadata": {},
   "source": [
    "Определим функцию для подготовки данных:"
   ]
  },
  {
   "cell_type": "code",
   "execution_count": 36,
   "metadata": {},
   "outputs": [],
   "source": [
    "def prepare_data(df):\n",
    "    # делим датасет на выборки\n",
    "    X = df.drop(['id', 'product'], axis=1)\n",
    "    y = df['product']\n",
    "\n",
    "    X_train, X_valid, y_train, y_valid = train_test_split(\n",
    "        X,\n",
    "        y,\n",
    "        random_state=RANDOM_STATE,\n",
    "        test_size=test_size\n",
    "    )\n",
    "\n",
    "    # список с количественными признаками\n",
    "    num_col_names = get_columns(X_train)['num_col_names']\n",
    "\n",
    "    # класс StandardScaler() для масштабирования \n",
    "    scaler = StandardScaler()\n",
    "\n",
    "    # масштабирование количественных признаков из тренировочной и валидационной выборок\n",
    "    X_train = scaler.fit_transform(X_train[num_col_names])\n",
    "    X_valid = scaler.transform(X_valid[num_col_names])\n",
    "    X_train = pd.DataFrame(X_train, columns=num_col_names)\n",
    "    X_valid = pd.DataFrame(X_valid, columns=num_col_names)\n",
    "    \n",
    "    return X_train, X_valid, y_train, y_valid"
   ]
  },
  {
   "cell_type": "markdown",
   "metadata": {},
   "source": [
    "### Регион №1"
   ]
  },
  {
   "cell_type": "markdown",
   "metadata": {},
   "source": [
    "Подготовим для модели данные по первому региону:"
   ]
  },
  {
   "cell_type": "code",
   "execution_count": 37,
   "metadata": {},
   "outputs": [],
   "source": [
    "X_train_0, X_valid_0, y_train_0, y_valid_0 = prepare_data(geo_data_0)"
   ]
  },
  {
   "cell_type": "markdown",
   "metadata": {},
   "source": [
    "Оценим RMSE первой модели на кросс-валидации:"
   ]
  },
  {
   "cell_type": "code",
   "execution_count": 38,
   "metadata": {},
   "outputs": [
    {
     "name": "stdout",
     "output_type": "stream",
     "text": [
      "RMSE модели №1 на кросс-валидации: 37.67200536313506\n"
     ]
    }
   ],
   "source": [
    "model_0 = LinearRegression()\n",
    "result_0 = cross_val_score(model_0, X_train_0, y_train_0, cv=5, scoring='neg_root_mean_squared_error')\n",
    "print(f'RMSE модели №1 на кросс-валидации: {(-1) * result_0.mean()}')"
   ]
  },
  {
   "cell_type": "markdown",
   "metadata": {},
   "source": [
    "Обучим первую модель и сделаем предсказания на валидационной выборке, выведем средний запас предсказанного сырья и RMSE модели:"
   ]
  },
  {
   "cell_type": "code",
   "execution_count": 39,
   "metadata": {},
   "outputs": [
    {
     "name": "stdout",
     "output_type": "stream",
     "text": [
      "Средний запас сырья в первом регионе: 92.39879990657768\n",
      "RMSE модели №1: 37.75660035026169\n"
     ]
    }
   ],
   "source": [
    "model_0.fit(X_train_0, y_train_0)\n",
    "predicted_0 = model_0.predict(X_valid_0)\n",
    "print(f'Средний запас сырья в первом регионе: {predicted_0.mean()}')\n",
    "print(f'RMSE модели №1: {mean_squared_error(y_valid_0, predicted_0, squared=False)}')"
   ]
  },
  {
   "cell_type": "markdown",
   "metadata": {},
   "source": [
    "Для первого региона в среднем объем запасов в скважине отличается от фактического значения на ±37.76 тыс. баррелей."
   ]
  },
  {
   "cell_type": "markdown",
   "metadata": {},
   "source": [
    "Сохраним предсказания и правильные ответы на валидационной выборке:"
   ]
  },
  {
   "cell_type": "code",
   "execution_count": 40,
   "metadata": {},
   "outputs": [],
   "source": [
    "model_data_0 = pd.DataFrame({\n",
    "    'product_true': y_valid_0,\n",
    "    'product_pred': predicted_0\n",
    "}).join(geo_data_0).drop(['product', 'f0', 'f1', 'f2'], axis=1).reindex(columns=['id', 'product_true', 'product_pred'])"
   ]
  },
  {
   "cell_type": "markdown",
   "metadata": {},
   "source": [
    "### Регион №2"
   ]
  },
  {
   "cell_type": "markdown",
   "metadata": {},
   "source": [
    "Подготовим для модели данные по второму региону:"
   ]
  },
  {
   "cell_type": "code",
   "execution_count": 41,
   "metadata": {},
   "outputs": [],
   "source": [
    "X_train_1, X_valid_1, y_train_1, y_valid_1 = prepare_data(geo_data_1)"
   ]
  },
  {
   "cell_type": "markdown",
   "metadata": {},
   "source": [
    "Оценим RMSE второй модели на кросс-валидации:"
   ]
  },
  {
   "cell_type": "code",
   "execution_count": 42,
   "metadata": {},
   "outputs": [
    {
     "name": "stdout",
     "output_type": "stream",
     "text": [
      "RMSE модели №2 на кросс-валидации: 0.8904559629285673\n"
     ]
    }
   ],
   "source": [
    "model_1 = LinearRegression()\n",
    "result_1 = cross_val_score(model_1, X_train_1, y_train_1, cv=5, scoring='neg_root_mean_squared_error')\n",
    "print(f'RMSE модели №2 на кросс-валидации: {(-1) * result_1.mean()}')"
   ]
  },
  {
   "cell_type": "markdown",
   "metadata": {},
   "source": [
    "Обучим вторую модель и сделаем предсказания на валидационной выборке, выведем средний запас предсказанного сырья и RMSE модели:"
   ]
  },
  {
   "cell_type": "code",
   "execution_count": 43,
   "metadata": {},
   "outputs": [
    {
     "name": "stdout",
     "output_type": "stream",
     "text": [
      "Средний запас сырья во втором регионе: 68.7128780391376\n",
      "RMSE модели №2: 0.8902801001028846\n"
     ]
    }
   ],
   "source": [
    "model_1.fit(X_train_1, y_train_1)\n",
    "predicted_1 = model_1.predict(X_valid_1)\n",
    "print(f'Средний запас сырья во втором регионе: {predicted_1.mean()}')\n",
    "print(f'RMSE модели №2: {mean_squared_error(y_valid_1, predicted_1, squared=False)}')"
   ]
  },
  {
   "cell_type": "markdown",
   "metadata": {},
   "source": [
    "Для второго региона в среднем объем запасов в скважине отличается от фактического значения на ±0.89 тыс. баррелей."
   ]
  },
  {
   "cell_type": "markdown",
   "metadata": {},
   "source": [
    "Сохраним предсказания и правильные ответы на валидационной выборке:"
   ]
  },
  {
   "cell_type": "code",
   "execution_count": 44,
   "metadata": {},
   "outputs": [],
   "source": [
    "model_data_1 = pd.DataFrame({\n",
    "    'product_true': y_valid_1,\n",
    "    'product_pred': predicted_1\n",
    "}).join(geo_data_1).drop(['product', 'f0', 'f1', 'f2'], axis=1).reindex(columns=['id', 'product_true', 'product_pred'])"
   ]
  },
  {
   "cell_type": "markdown",
   "metadata": {},
   "source": [
    "### Регион №3"
   ]
  },
  {
   "cell_type": "markdown",
   "metadata": {},
   "source": [
    "Подготовим для модели данные по третьему региону:"
   ]
  },
  {
   "cell_type": "code",
   "execution_count": 45,
   "metadata": {},
   "outputs": [],
   "source": [
    "X_train_2, X_valid_2, y_train_2, y_valid_2 = prepare_data(geo_data_2)"
   ]
  },
  {
   "cell_type": "markdown",
   "metadata": {},
   "source": [
    "Оценим RMSE третьей модели на кросс-валидации:"
   ]
  },
  {
   "cell_type": "code",
   "execution_count": 46,
   "metadata": {},
   "outputs": [
    {
     "name": "stdout",
     "output_type": "stream",
     "text": [
      "RMSE модели №3 на кросс-валидации: 40.02698159997838\n"
     ]
    }
   ],
   "source": [
    "model_2 = LinearRegression()\n",
    "result_2 = cross_val_score(model_2, X_train_2, y_train_2, cv=5, scoring='neg_root_mean_squared_error')\n",
    "print(f'RMSE модели №3 на кросс-валидации: {(-1) * result_2.mean()}')"
   ]
  },
  {
   "cell_type": "markdown",
   "metadata": {},
   "source": [
    "Обучим третью модель и сделаем предсказания на валидационной выборке, выведем средний запас предсказанного сырья и RMSE модели:"
   ]
  },
  {
   "cell_type": "code",
   "execution_count": 47,
   "metadata": {},
   "outputs": [
    {
     "name": "stdout",
     "output_type": "stream",
     "text": [
      "Средний запас сырья в третьем регионе: 94.77102387765939\n",
      "RMSE модели №3: 40.145872311342174\n"
     ]
    }
   ],
   "source": [
    "model_2.fit(X_train_2, y_train_2)\n",
    "predicted_2 = model_2.predict(X_valid_2)\n",
    "print(f'Средний запас сырья в третьем регионе: {predicted_2.mean()}')\n",
    "print(f'RMSE модели №3: {mean_squared_error(y_valid_2, predicted_2, squared=False)}')"
   ]
  },
  {
   "cell_type": "markdown",
   "metadata": {},
   "source": [
    "Для третьего региона в среднем объем запасов в скважине отличается от фактического значения на ±40.15 тыс. баррелей."
   ]
  },
  {
   "cell_type": "markdown",
   "metadata": {},
   "source": [
    "Сохраним предсказания и правильные ответы на валидационной выборке:"
   ]
  },
  {
   "cell_type": "code",
   "execution_count": 48,
   "metadata": {},
   "outputs": [],
   "source": [
    "model_data_2 = pd.DataFrame({\n",
    "    'product_true': y_valid_2,\n",
    "    'product_pred': predicted_2\n",
    "}).join(geo_data_2).drop(['product', 'f0', 'f1', 'f2'], axis=1).reindex(columns=['id', 'product_true', 'product_pred'])"
   ]
  },
  {
   "cell_type": "markdown",
   "metadata": {},
   "source": [
    "### Итог"
   ]
  },
  {
   "cell_type": "markdown",
   "metadata": {},
   "source": [
    "Наибольший средний запас предсказанного сырья у третьего региона (94.77 тыс. баррелей). На втором по данному показателю - первый регион (92.4 тыс. баррелей). Наименьшие средние запасы у первого региона (68.71 тыс. баррелей).\n",
    "\n",
    "Точность работы модели выше у второго региона (метрика RMSE составила 0.89 тыс. баррелей). Для других регионов точность значительно ниже: для первого региона метрика RMSE составила 37.76 тыс. баррелей, а для третьего региона - 40.15 тыс. баррелей."
   ]
  },
  {
   "cell_type": "markdown",
   "metadata": {},
   "source": [
    "## Подготовка к расчету прибыли"
   ]
  },
  {
   "cell_type": "markdown",
   "metadata": {},
   "source": [
    "Определим переменные экономической информации из условий задачи:"
   ]
  },
  {
   "cell_type": "code",
   "execution_count": 49,
   "metadata": {},
   "outputs": [],
   "source": [
    "budget = 10**10\n",
    "select_oilwell_count = 500\n",
    "best_oilwell_count = 200\n",
    "barrel_profit = 450"
   ]
  },
  {
   "cell_type": "markdown",
   "metadata": {},
   "source": [
    "Рассчитаем минимальную среднюю стоимость нефти в месторождениях региона, достаточную для разработки:"
   ]
  },
  {
   "cell_type": "code",
   "execution_count": 50,
   "metadata": {},
   "outputs": [
    {
     "data": {
      "text/plain": [
       "50000000.0"
      ]
     },
     "execution_count": 50,
     "metadata": {},
     "output_type": "execute_result"
    }
   ],
   "source": [
    "min_money_oilwell = budget / best_oilwell_count\n",
    "min_money_oilwell"
   ]
  },
  {
   "cell_type": "markdown",
   "metadata": {},
   "source": [
    "Для того, чтобы без убытка добыть нефть в регионе, необходимо, чтобы 200 скважин принесли 50 млн рублей дохода.\n",
    "\n",
    "Рассчитаем достаточный объем сырья для безубыточной разработки новой скважины:"
   ]
  },
  {
   "cell_type": "code",
   "execution_count": 51,
   "metadata": {},
   "outputs": [
    {
     "data": {
      "text/plain": [
       "111.11111111111111"
      ]
     },
     "execution_count": 51,
     "metadata": {},
     "output_type": "execute_result"
    }
   ],
   "source": [
    "min_count_oil = min_money_oilwell / barrel_profit / 1000\n",
    "min_count_oil"
   ]
  },
  {
   "cell_type": "markdown",
   "metadata": {},
   "source": [
    "Таким образом, для безубыточной добычи необходимо, чтобы каждая скважина в среднем содержала не менее 111 тыс. баррелей нефти.\n",
    "\n",
    "Сравним полученный объем сырья со средним запасом в каждом регионе:"
   ]
  },
  {
   "cell_type": "code",
   "execution_count": 52,
   "metadata": {},
   "outputs": [
    {
     "data": {
      "text/html": [
       "<div>\n",
       "<style scoped>\n",
       "    .dataframe tbody tr th:only-of-type {\n",
       "        vertical-align: middle;\n",
       "    }\n",
       "\n",
       "    .dataframe tbody tr th {\n",
       "        vertical-align: top;\n",
       "    }\n",
       "\n",
       "    .dataframe thead th {\n",
       "        text-align: right;\n",
       "    }\n",
       "</style>\n",
       "<table border=\"1\" class=\"dataframe\">\n",
       "  <thead>\n",
       "    <tr style=\"text-align: right;\">\n",
       "      <th></th>\n",
       "      <th>Регион</th>\n",
       "      <th>Средний запас сырья</th>\n",
       "      <th>Объем сырья для безубыточной добычи</th>\n",
       "      <th>Разница</th>\n",
       "    </tr>\n",
       "  </thead>\n",
       "  <tbody>\n",
       "    <tr>\n",
       "      <th>0</th>\n",
       "      <td>1</td>\n",
       "      <td>92.398800</td>\n",
       "      <td>111.111111</td>\n",
       "      <td>-18.712311</td>\n",
       "    </tr>\n",
       "    <tr>\n",
       "      <th>1</th>\n",
       "      <td>2</td>\n",
       "      <td>68.712878</td>\n",
       "      <td>111.111111</td>\n",
       "      <td>-42.398233</td>\n",
       "    </tr>\n",
       "    <tr>\n",
       "      <th>2</th>\n",
       "      <td>3</td>\n",
       "      <td>94.771024</td>\n",
       "      <td>111.111111</td>\n",
       "      <td>-16.340087</td>\n",
       "    </tr>\n",
       "  </tbody>\n",
       "</table>\n",
       "</div>"
      ],
      "text/plain": [
       "   Регион  Средний запас сырья  Объем сырья для безубыточной добычи    Разница\n",
       "0       1            92.398800                           111.111111 -18.712311\n",
       "1       2            68.712878                           111.111111 -42.398233\n",
       "2       3            94.771024                           111.111111 -16.340087"
      ]
     },
     "execution_count": 52,
     "metadata": {},
     "output_type": "execute_result"
    }
   ],
   "source": [
    "compare_table = pd.DataFrame({\n",
    "    'Регион': [1, 2, 3],\n",
    "    'Средний запас сырья': [predicted_0.mean(), predicted_1.mean(), predicted_2.mean()],\n",
    "    'Объем сырья для безубыточной добычи': 3 * [min_count_oil]\n",
    "})\n",
    "compare_table['Разница'] = compare_table['Средний запас сырья'] - compare_table['Объем сырья для безубыточной добычи']\n",
    "compare_table"
   ]
  },
  {
   "cell_type": "markdown",
   "metadata": {},
   "source": [
    "Получается, что каждый регион является убыточным в плане добычи нефти (если задейстововать все скважины в каждом регионе), причем величина убытка самая большая во втором регионе. Для того, чтобы добыча сырья была прибыльной, необходимо в каждом регионе выбрать лучшие по количеству нефти 200 скважин."
   ]
  },
  {
   "cell_type": "markdown",
   "metadata": {},
   "source": [
    "## Расчет прибыли и рисков"
   ]
  },
  {
   "cell_type": "markdown",
   "metadata": {},
   "source": [
    "Рассчитаем прибыль по регионам:\n",
    "* Выберем скважины с максимальными значениями предсказаний\n",
    "* Просуммируем целевое значение объема сырья, соответствующее этим предсказаниям\n",
    "* Рассчитаем прибыль для полученного объема сырья\n",
    "\n",
    "Для этой цели определим функцию:"
   ]
  },
  {
   "cell_type": "code",
   "execution_count": 53,
   "metadata": {},
   "outputs": [],
   "source": [
    "def get_profit(data, max_count, unit_profit, cost):\n",
    "    return data.sort_values(\n",
    "        by='product_pred',\n",
    "        ascending=False\n",
    "    ).head(max_count)['product_true'].sum() * unit_profit * 1000 - cost"
   ]
  },
  {
   "cell_type": "markdown",
   "metadata": {},
   "source": [
    "Определим функцию для форматирования чисел:"
   ]
  },
  {
   "cell_type": "code",
   "execution_count": 54,
   "metadata": {},
   "outputs": [],
   "source": [
    "def ch_format(ch):\n",
    "    return '{0:,}'.format(int(round(ch, 0))).replace(',', ' ')"
   ]
  },
  {
   "cell_type": "markdown",
   "metadata": {},
   "source": [
    "Рассчитаем прибыль по каждому региону на основе 200 лучших скважин:"
   ]
  },
  {
   "cell_type": "code",
   "execution_count": 55,
   "metadata": {},
   "outputs": [
    {
     "name": "stdout",
     "output_type": "stream",
     "text": [
      "Прибыль от добычи сырья в регионе 1 -> 3 359 141 114 руб.\n",
      "Прибыль от добычи сырья в регионе 2 -> 2 415 086 697 руб.\n",
      "Прибыль от добычи сырья в регионе 3 -> 2 598 571 759 руб.\n"
     ]
    }
   ],
   "source": [
    "k = 1\n",
    "for i in [model_data_0, model_data_1, model_data_2]:\n",
    "    profit = get_profit(i, best_oilwell_count, barrel_profit, budget)\n",
    "    print('Прибыль от добычи сырья в регионе', k, '->', ch_format(profit), 'руб.')\n",
    "    k += 1"
   ]
  },
  {
   "cell_type": "markdown",
   "metadata": {},
   "source": [
    "Наибольшую прибыль от добычи нефти можно получить в первом регионе. Меньше всего прибыли можно получить, добывая нефть во втором регионе."
   ]
  },
  {
   "cell_type": "markdown",
   "metadata": {},
   "source": [
    "Применим технику Bootstrap с 1000 выборок, чтобы найти среднюю прибыль, 95%-й доверительный интервал и риск убытков. Для подсчета этих показателей определим функцию:"
   ]
  },
  {
   "cell_type": "code",
   "execution_count": 56,
   "metadata": {},
   "outputs": [],
   "source": [
    "def get_bootstrap_data(data, count):\n",
    "    state = np.random.RandomState(12345)\n",
    "    profit_values = []\n",
    "    n = 1000\n",
    "    for i in range(n):\n",
    "        subsample = data.sample(n=count, replace=False, random_state=state)\n",
    "        profit_values.append(get_profit(subsample, best_oilwell_count, barrel_profit, budget))\n",
    "    profit_values = pd.Series(profit_values)\n",
    "    confidence_interval = (profit_values.quantile(0.025), profit_values.quantile(0.975))\n",
    "    risk = len(profit_values[profit_values < 0]) / n\n",
    "    return profit_values, profit_values.mean(), confidence_interval, risk"
   ]
  },
  {
   "cell_type": "markdown",
   "metadata": {},
   "source": [
    "Определим функцию для построения гистограммы и доверительных интервалов:"
   ]
  },
  {
   "cell_type": "code",
   "execution_count": 57,
   "metadata": {},
   "outputs": [],
   "source": [
    "def show_graph_2(data, hist_title, xlabel, confidence_interval):\n",
    "    plt.figure(figsize=(14, 7))\n",
    "    histplot = sns.histplot(\n",
    "        data=data,\n",
    "        bins=50,\n",
    "        color='darkcyan',\n",
    "        kde=True\n",
    "    )\n",
    "    histplot.set(\n",
    "        title=hist_title,\n",
    "        xlabel=xlabel,\n",
    "        ylabel='Количество'\n",
    "    )\n",
    "    plt.axvline(\n",
    "        x=confidence_interval[0],\n",
    "        color='b',\n",
    "        ymax=0.95,\n",
    "        linestyle='--'\n",
    "    )\n",
    "    plt.axvline(\n",
    "        x=confidence_interval[1],\n",
    "        color='r',\n",
    "        ymax=0.95,\n",
    "        linestyle='--'\n",
    "    )\n",
    "    plt.legend(\n",
    "        title='',\n",
    "        loc='upper right',\n",
    "        labels=['Прибыль', 'Нижняя граница\\nдоверит. интервала', 'Верхняя граница\\nдоверит. интервала']\n",
    "    )"
   ]
  },
  {
   "cell_type": "markdown",
   "metadata": {},
   "source": [
    "Далее рассчитаем указанные выше показатели для каждого региона."
   ]
  },
  {
   "cell_type": "markdown",
   "metadata": {},
   "source": [
    "### Регион №1"
   ]
  },
  {
   "cell_type": "markdown",
   "metadata": {},
   "source": [
    "Рассчитаем среднюю прибыль, 95%-й доверительный интервал и риск убытков для первого региона:"
   ]
  },
  {
   "cell_type": "code",
   "execution_count": 58,
   "metadata": {},
   "outputs": [
    {
     "name": "stdout",
     "output_type": "stream",
     "text": [
      "Средняя прибыль -> 406 007 068 руб.\n",
      "95%-й доверительный интервал -> (-122 700 688, 897 180 546)\n",
      "Риск -> 5.70%\n"
     ]
    }
   ],
   "source": [
    "profit_values_0, profit_0, confidence_interval_0, risk_0 = get_bootstrap_data(model_data_0, select_oilwell_count)\n",
    "print(f'Средняя прибыль -> {ch_format(profit_0)} руб.')\n",
    "print(f'95%-й доверительный интервал -> ({ch_format(confidence_interval_0[0])}, {ch_format(confidence_interval_0[1])})')\n",
    "print(f'Риск -> {risk_0:.2%}')"
   ]
  },
  {
   "cell_type": "markdown",
   "metadata": {},
   "source": [
    "Построим гистограмму для отображения распределения прибыли от добычи нефти:"
   ]
  },
  {
   "cell_type": "code",
   "execution_count": 59,
   "metadata": {},
   "outputs": [
    {
     "data": {
      "image/png": "[encoded data removed]",
      "text/plain": [
       "<Figure size 1008x504 with 1 Axes>"
      ]
     },
     "metadata": {
      "needs_background": "light"
     },
     "output_type": "display_data"
    }
   ],
   "source": [
    "show_graph_2(\n",
    "    profit_values_0,\n",
    "    'Распределение прибыли от добычи нефти в первом регионе',\n",
    "    'Прибыль (руб.)',\n",
    "    confidence_interval_0\n",
    ")"
   ]
  },
  {
   "cell_type": "markdown",
   "metadata": {},
   "source": [
    "Добыча нефти в скважинах первого региона в среднем даст 406 млн руб. прибыли при риске 5.7%."
   ]
  },
  {
   "cell_type": "markdown",
   "metadata": {},
   "source": [
    "### Регион №2"
   ]
  },
  {
   "cell_type": "markdown",
   "metadata": {},
   "source": [
    "Рассчитаем среднюю прибыль, 95%-й доверительный интервал и риск убытков для второго региона:"
   ]
  },
  {
   "cell_type": "code",
   "execution_count": 60,
   "metadata": {},
   "outputs": [
    {
     "name": "stdout",
     "output_type": "stream",
     "text": [
      "Средняя прибыль -> 442 436 902 руб.\n",
      "95%-й доверительный интервал -> (28 958 037, 834 438 102)\n",
      "Риск -> 1.90%\n"
     ]
    }
   ],
   "source": [
    "profit_values_1, profit_1, confidence_interval_1, risk_1 = get_bootstrap_data(model_data_1, select_oilwell_count)\n",
    "print(f'Средняя прибыль -> {ch_format(profit_1)} руб.')\n",
    "print(f'95%-й доверительный интервал -> ({ch_format(confidence_interval_1[0])}, {ch_format(confidence_interval_1[1])})')\n",
    "print(f'Риск -> {risk_1:.2%}')"
   ]
  },
  {
   "cell_type": "markdown",
   "metadata": {},
   "source": [
    "Построим гистограмму для отображения распределения прибыли от добычи нефти:"
   ]
  },
  {
   "cell_type": "code",
   "execution_count": 61,
   "metadata": {},
   "outputs": [
    {
     "data": {
      "image/png": "[encoded data removed]",
      "text/plain": [
       "<Figure size 1008x504 with 1 Axes>"
      ]
     },
     "metadata": {
      "needs_background": "light"
     },
     "output_type": "display_data"
    }
   ],
   "source": [
    "show_graph_2(\n",
    "    profit_values_1,\n",
    "    'Распределение прибыли от добычи нефти во втором регионе',\n",
    "    'Прибыль (руб.)',\n",
    "    confidence_interval_1\n",
    ")"
   ]
  },
  {
   "cell_type": "markdown",
   "metadata": {},
   "source": [
    "Добыча нефти в скважинах второго региона в среднем даст 442 млн руб. прибыли при риске 1.9%."
   ]
  },
  {
   "cell_type": "markdown",
   "metadata": {},
   "source": [
    "### Регион №3"
   ]
  },
  {
   "cell_type": "markdown",
   "metadata": {},
   "source": [
    "Рассчитаем среднюю прибыль, 95%-й доверительный интервал и риск убытков для третьего региона:"
   ]
  },
  {
   "cell_type": "code",
   "execution_count": 62,
   "metadata": {},
   "outputs": [
    {
     "name": "stdout",
     "output_type": "stream",
     "text": [
      "Средняя прибыль -> 367 919 519 руб.\n",
      "95%-й доверительный интервал -> (-116 746 476, 880 262 773)\n",
      "Риск -> 8.80%\n"
     ]
    }
   ],
   "source": [
    "profit_values_2, profit_2, confidence_interval_2, risk_2 = get_bootstrap_data(model_data_2, select_oilwell_count)\n",
    "print(f'Средняя прибыль -> {ch_format(profit_2)} руб.')\n",
    "print(f'95%-й доверительный интервал -> ({ch_format(confidence_interval_2[0])}, {ch_format(confidence_interval_2[1])})')\n",
    "print(f'Риск -> {risk_2:.2%}')"
   ]
  },
  {
   "cell_type": "markdown",
   "metadata": {},
   "source": [
    "Построим гистограмму для отображения распределения прибыли от добычи нефти:"
   ]
  },
  {
   "cell_type": "code",
   "execution_count": 63,
   "metadata": {},
   "outputs": [
    {
     "data": {
      "image/png": "[encoded data removed]",
      "text/plain": [
       "<Figure size 1008x504 with 1 Axes>"
      ]
     },
     "metadata": {
      "needs_background": "light"
     },
     "output_type": "display_data"
    }
   ],
   "source": [
    "show_graph_2(\n",
    "    profit_values_2,\n",
    "    'Распределение прибыли от добычи нефти в третьем регионе',\n",
    "    'Прибыль (руб.)',\n",
    "    confidence_interval_2\n",
    ")"
   ]
  },
  {
   "cell_type": "markdown",
   "metadata": {},
   "source": [
    "Добыча нефти в скважинах третьего региона в среднем даст 368 млн руб. прибыли при риске 8.8%."
   ]
  },
  {
   "cell_type": "markdown",
   "metadata": {},
   "source": [
    "### Итог"
   ]
  },
  {
   "cell_type": "markdown",
   "metadata": {},
   "source": [
    "Построим гистограмму для отображения распределения прибыли от добычи нефти во всех регионах:"
   ]
  },
  {
   "cell_type": "code",
   "execution_count": 64,
   "metadata": {},
   "outputs": [
    {
     "data": {
      "image/png": "[encoded data removed]",
      "text/plain": [
       "<Figure size 1008x504 with 1 Axes>"
      ]
     },
     "metadata": {
      "needs_background": "light"
     },
     "output_type": "display_data"
    }
   ],
   "source": [
    "regions_profit = pd.concat([\n",
    "    pd.DataFrame({\n",
    "        'Прибыль': profit_values_0,\n",
    "        'Регион': len(profit_values_0) * [1]\n",
    "    }),\n",
    "    pd.DataFrame({\n",
    "        'Прибыль': profit_values_1,\n",
    "        'Регион': len(profit_values_1) * [2]\n",
    "    }),\n",
    "    pd.DataFrame({\n",
    "        'Прибыль': profit_values_2,\n",
    "        'Регион': len(profit_values_0) * [3]\n",
    "    })\n",
    "])\n",
    "\n",
    "plt.figure(figsize=(14, 7))\n",
    "histplot = sns.histplot(\n",
    "    data=regions_profit,\n",
    "    x='Прибыль',\n",
    "    hue='Регион',\n",
    "    kde=True\n",
    ")\n",
    "histplot.set(\n",
    "    title='Распределение прибыли от добычи нефти в регионах',\n",
    "    xlabel='Прибыль (руб.)',\n",
    "    ylabel='Количество'\n",
    ");"
   ]
  },
  {
   "cell_type": "markdown",
   "metadata": {},
   "source": [
    "По условию задачи для добычи нефти подходит тот регион, где вероятность убытков меньше 2.5% и в котором наибольшая средняя прибыль среди остальных регионов. По уровню риска в норматив укладывается только второй регион, в нем же достигается и наибольшая прибыль, поэтому данный регион стоит выбрать для добычи нефти."
   ]
  },
  {
   "cell_type": "markdown",
   "metadata": {},
   "source": [
    "## Итоговые выводы"
   ]
  },
  {
   "cell_type": "markdown",
   "metadata": {},
   "source": [
    "В рамках исследования было необходимо проанализировать данные, предоставленные добывающей компанией «ГлавРосГосНефть» с характеристиками скважин в трех регионах. Цель бизнеса - избежать финансовых потерь и рисков при выобре региона, бурить новую скважину и добывать сырье.\n",
    "\n",
    "В рамках исследования было необходимо решить две задачи:\n",
    "* Построить модель машинного обучения, которая поможет определить регион, где добыча принесет наибольшую прибыль\n",
    "* Проанализировать возможные прибыль и риски по регионам с помощью техники *Bootstrap*\n",
    "\n",
    "В ходе исследования при решении данных задач были реализованы следующие этапы:\n",
    "* Загрузка и предобработка данных\n",
    "* Исследовательский анализ данных\n",
    "* Корреляционный анализ\n",
    "* Подготовка данных и обучение моделей\n",
    "* Расчет прибыли и рисков\n",
    "\n",
    "Опираясь на условия выбора региона, предоставленные бизнесом, и на результаты исследования, добывающей компании «ГлавРосГосНефть» из трех представленных регионов для добычи сырья стоит выбрать второй, т.к. в данном регионе выше средняя прибыль от добычи нефти и самые низкие риски."
   ]
  }
 ],
 "metadata": {
  "ExecuteTimeLog": [
   {
    "duration": 3,
    "start_time": "2025-02-11T11:08:11.322Z"
   },
   {
    "duration": 1285,
    "start_time": "2025-02-11T11:08:57.908Z"
   },
   {
    "duration": 139,
    "start_time": "2025-02-11T11:10:22.782Z"
   },
   {
    "duration": 16,
    "start_time": "2025-02-11T11:10:26.045Z"
   },
   {
    "duration": 131,
    "start_time": "2025-02-11T11:10:55.566Z"
   },
   {
    "duration": 11,
    "start_time": "2025-02-11T11:10:57.542Z"
   },
   {
    "duration": 67,
    "start_time": "2025-02-11T11:13:07.407Z"
   },
   {
    "duration": 133,
    "start_time": "2025-02-11T11:13:14.543Z"
   },
   {
    "duration": 13,
    "start_time": "2025-02-11T11:13:16.887Z"
   },
   {
    "duration": 132,
    "start_time": "2025-02-11T11:22:02.650Z"
   },
   {
    "duration": 136,
    "start_time": "2025-02-11T11:22:34.628Z"
   },
   {
    "duration": 3,
    "start_time": "2025-02-11T11:24:45.250Z"
   },
   {
    "duration": 66,
    "start_time": "2025-02-11T11:25:37.482Z"
   },
   {
    "duration": 10,
    "start_time": "2025-02-11T11:26:54.867Z"
   },
   {
    "duration": 9,
    "start_time": "2025-02-11T11:27:01.195Z"
   },
   {
    "duration": 9,
    "start_time": "2025-02-11T11:27:05.316Z"
   },
   {
    "duration": 17,
    "start_time": "2025-02-11T11:27:18.029Z"
   },
   {
    "duration": 15,
    "start_time": "2025-02-11T11:27:29.321Z"
   },
   {
    "duration": 22,
    "start_time": "2025-02-11T11:27:41.028Z"
   },
   {
    "duration": 42,
    "start_time": "2025-02-11T11:31:03.624Z"
   },
   {
    "duration": 40,
    "start_time": "2025-02-11T11:31:36.569Z"
   },
   {
    "duration": 38,
    "start_time": "2025-02-11T11:31:45.088Z"
   },
   {
    "duration": 2,
    "start_time": "2025-02-11T11:36:47.402Z"
   },
   {
    "duration": 43,
    "start_time": "2025-02-11T11:37:00.750Z"
   },
   {
    "duration": 3,
    "start_time": "2025-02-11T11:37:18.927Z"
   },
   {
    "duration": 46,
    "start_time": "2025-02-11T11:37:20.524Z"
   },
   {
    "duration": 3,
    "start_time": "2025-02-11T11:37:57.028Z"
   },
   {
    "duration": 49,
    "start_time": "2025-02-11T11:37:59.949Z"
   },
   {
    "duration": 3,
    "start_time": "2025-02-11T11:38:12.765Z"
   },
   {
    "duration": 56,
    "start_time": "2025-02-11T11:38:14.350Z"
   },
   {
    "duration": 3,
    "start_time": "2025-02-11T11:38:43.533Z"
   },
   {
    "duration": 56,
    "start_time": "2025-02-11T11:38:45.501Z"
   },
   {
    "duration": 3,
    "start_time": "2025-02-11T11:39:30.958Z"
   },
   {
    "duration": 57,
    "start_time": "2025-02-11T11:39:32.325Z"
   },
   {
    "duration": 4,
    "start_time": "2025-02-11T11:41:21.743Z"
   },
   {
    "duration": 54,
    "start_time": "2025-02-11T11:41:23.559Z"
   },
   {
    "duration": 3,
    "start_time": "2025-02-11T11:42:21.079Z"
   },
   {
    "duration": 55,
    "start_time": "2025-02-11T11:42:26.555Z"
   },
   {
    "duration": 3,
    "start_time": "2025-02-11T11:42:33.744Z"
   },
   {
    "duration": 53,
    "start_time": "2025-02-11T11:42:35.921Z"
   },
   {
    "duration": 3,
    "start_time": "2025-02-11T11:42:50.623Z"
   },
   {
    "duration": 54,
    "start_time": "2025-02-11T11:42:52.639Z"
   },
   {
    "duration": 3,
    "start_time": "2025-02-11T11:43:22.080Z"
   },
   {
    "duration": 52,
    "start_time": "2025-02-11T11:44:12.155Z"
   },
   {
    "duration": 57,
    "start_time": "2025-02-11T11:44:36.049Z"
   },
   {
    "duration": 3,
    "start_time": "2025-02-11T11:45:08.002Z"
   },
   {
    "duration": 54,
    "start_time": "2025-02-11T11:45:09.633Z"
   },
   {
    "duration": 3,
    "start_time": "2025-02-11T11:45:20.272Z"
   },
   {
    "duration": 54,
    "start_time": "2025-02-11T11:45:23.986Z"
   },
   {
    "duration": 4,
    "start_time": "2025-02-11T11:45:28.835Z"
   },
   {
    "duration": 1224,
    "start_time": "2025-02-11T11:45:28.847Z"
   },
   {
    "duration": 141,
    "start_time": "2025-02-11T11:45:30.073Z"
   },
   {
    "duration": 134,
    "start_time": "2025-02-11T11:45:30.215Z"
   },
   {
    "duration": 133,
    "start_time": "2025-02-11T11:45:30.350Z"
   },
   {
    "duration": 2,
    "start_time": "2025-02-11T11:45:30.485Z"
   },
   {
    "duration": 12,
    "start_time": "2025-02-11T11:45:30.488Z"
   },
   {
    "duration": 86,
    "start_time": "2025-02-11T11:45:30.501Z"
   },
   {
    "duration": 69,
    "start_time": "2025-02-11T11:45:30.589Z"
   },
   {
    "duration": 56,
    "start_time": "2025-02-11T11:45:30.659Z"
   },
   {
    "duration": 22,
    "start_time": "2025-02-11T11:58:20.296Z"
   },
   {
    "duration": 70,
    "start_time": "2025-02-11T11:59:10.300Z"
   },
   {
    "duration": 109,
    "start_time": "2025-02-11T11:59:24.993Z"
   },
   {
    "duration": 3,
    "start_time": "2025-02-11T12:00:16.442Z"
   },
   {
    "duration": 115,
    "start_time": "2025-02-11T12:00:33.251Z"
   },
   {
    "duration": 67,
    "start_time": "2025-02-11T12:02:23.500Z"
   },
   {
    "duration": 62,
    "start_time": "2025-02-11T12:03:04.579Z"
   },
   {
    "duration": 102,
    "start_time": "2025-02-11T12:03:12.630Z"
   },
   {
    "duration": 72,
    "start_time": "2025-02-11T12:03:19.828Z"
   },
   {
    "duration": 24,
    "start_time": "2025-02-11T12:03:55.757Z"
   },
   {
    "duration": 150,
    "start_time": "2025-02-11T12:12:09.395Z"
   },
   {
    "duration": 150,
    "start_time": "2025-02-11T12:12:22.259Z"
   },
   {
    "duration": 151,
    "start_time": "2025-02-11T12:14:08.060Z"
   },
   {
    "duration": 74,
    "start_time": "2025-02-11T12:14:43.489Z"
   },
   {
    "duration": 25,
    "start_time": "2025-02-11T12:16:16.966Z"
   },
   {
    "duration": 16,
    "start_time": "2025-02-11T12:16:37.613Z"
   },
   {
    "duration": 105,
    "start_time": "2025-02-11T12:17:43.225Z"
   },
   {
    "duration": 103,
    "start_time": "2025-02-11T12:17:52.361Z"
   },
   {
    "duration": 4,
    "start_time": "2025-02-11T12:19:48.816Z"
   },
   {
    "duration": 126,
    "start_time": "2025-02-11T12:20:01.456Z"
   },
   {
    "duration": 4,
    "start_time": "2025-02-11T12:20:10.448Z"
   },
   {
    "duration": 101,
    "start_time": "2025-02-11T12:20:12.923Z"
   },
   {
    "duration": 3,
    "start_time": "2025-02-11T12:20:17.153Z"
   },
   {
    "duration": 102,
    "start_time": "2025-02-11T12:20:18.824Z"
   },
   {
    "duration": 3,
    "start_time": "2025-02-11T12:20:30.536Z"
   },
   {
    "duration": 101,
    "start_time": "2025-02-11T12:20:31.800Z"
   },
   {
    "duration": 202,
    "start_time": "2025-02-11T12:24:13.612Z"
   },
   {
    "duration": 22,
    "start_time": "2025-02-11T12:26:21.846Z"
   },
   {
    "duration": 162,
    "start_time": "2025-02-11T12:27:54.231Z"
   },
   {
    "duration": 91,
    "start_time": "2025-02-11T12:28:22.862Z"
   },
   {
    "duration": 36,
    "start_time": "2025-02-11T12:29:09.486Z"
   },
   {
    "duration": 190,
    "start_time": "2025-02-11T12:29:27.671Z"
   },
   {
    "duration": 195,
    "start_time": "2025-02-11T12:30:03.119Z"
   },
   {
    "duration": 211,
    "start_time": "2025-02-11T12:33:20.762Z"
   },
   {
    "duration": 191,
    "start_time": "2025-02-11T12:33:38.361Z"
   },
   {
    "duration": 209,
    "start_time": "2025-02-11T12:33:56.652Z"
   },
   {
    "duration": 359,
    "start_time": "2025-02-11T12:43:24.353Z"
   },
   {
    "duration": 10,
    "start_time": "2025-02-11T12:49:25.492Z"
   },
   {
    "duration": 5,
    "start_time": "2025-02-11T12:49:34.126Z"
   },
   {
    "duration": 759,
    "start_time": "2025-02-11T12:49:37.699Z"
   },
   {
    "duration": 770,
    "start_time": "2025-02-11T12:52:37.001Z"
   },
   {
    "duration": 77,
    "start_time": "2025-02-11T12:53:11.479Z"
   },
   {
    "duration": 850,
    "start_time": "2025-02-11T12:53:33.232Z"
   },
   {
    "duration": 770,
    "start_time": "2025-02-11T12:54:05.720Z"
   },
   {
    "duration": 901,
    "start_time": "2025-02-11T12:54:19.121Z"
   },
   {
    "duration": 777,
    "start_time": "2025-02-11T12:54:43.552Z"
   },
   {
    "duration": 742,
    "start_time": "2025-02-11T12:55:05.073Z"
   },
   {
    "duration": 695,
    "start_time": "2025-02-11T12:56:18.182Z"
   },
   {
    "duration": 864,
    "start_time": "2025-02-11T13:16:14.475Z"
   },
   {
    "duration": 938,
    "start_time": "2025-02-11T13:16:28.180Z"
   },
   {
    "duration": 772,
    "start_time": "2025-02-11T13:16:38.762Z"
   },
   {
    "duration": 759,
    "start_time": "2025-02-11T13:17:00.189Z"
   },
   {
    "duration": 109,
    "start_time": "2025-02-11T13:17:44.386Z"
   },
   {
    "duration": 812,
    "start_time": "2025-02-11T13:18:16.637Z"
   },
   {
    "duration": 833,
    "start_time": "2025-02-11T13:18:28.003Z"
   },
   {
    "duration": 863,
    "start_time": "2025-02-11T13:18:39.059Z"
   },
   {
    "duration": 901,
    "start_time": "2025-02-11T13:19:09.883Z"
   },
   {
    "duration": 78,
    "start_time": "2025-02-11T13:35:08.393Z"
   },
   {
    "duration": 87,
    "start_time": "2025-02-11T13:50:53.741Z"
   },
   {
    "duration": 3,
    "start_time": "2025-02-11T13:51:36.578Z"
   },
   {
    "duration": 3,
    "start_time": "2025-02-11T13:52:32.724Z"
   },
   {
    "duration": 13,
    "start_time": "2025-02-11T14:09:11.600Z"
   },
   {
    "duration": 5,
    "start_time": "2025-02-11T14:09:55.567Z"
   },
   {
    "duration": 18,
    "start_time": "2025-02-11T14:11:44.242Z"
   },
   {
    "duration": 3236,
    "start_time": "2025-02-11T14:11:51.868Z"
   },
   {
    "duration": 91,
    "start_time": "2025-02-11T14:11:59.138Z"
   },
   {
    "duration": 944,
    "start_time": "2025-02-11T14:12:04.362Z"
   },
   {
    "duration": 12,
    "start_time": "2025-02-11T14:12:22.675Z"
   },
   {
    "duration": 713,
    "start_time": "2025-02-11T14:12:24.986Z"
   },
   {
    "duration": 12,
    "start_time": "2025-02-11T14:12:36.547Z"
   },
   {
    "duration": 602,
    "start_time": "2025-02-11T14:12:39.266Z"
   },
   {
    "duration": 9,
    "start_time": "2025-02-11T14:12:50.298Z"
   },
   {
    "duration": 645,
    "start_time": "2025-02-11T14:12:53.427Z"
   },
   {
    "duration": 9,
    "start_time": "2025-02-11T14:13:04.395Z"
   },
   {
    "duration": 635,
    "start_time": "2025-02-11T14:13:07.227Z"
   },
   {
    "duration": 9,
    "start_time": "2025-02-11T14:13:13.795Z"
   },
   {
    "duration": 629,
    "start_time": "2025-02-11T14:13:16.043Z"
   },
   {
    "duration": 9,
    "start_time": "2025-02-11T14:13:31.691Z"
   },
   {
    "duration": 690,
    "start_time": "2025-02-11T14:13:33.244Z"
   },
   {
    "duration": 11,
    "start_time": "2025-02-11T14:14:12.612Z"
   },
   {
    "duration": 634,
    "start_time": "2025-02-11T14:14:13.885Z"
   },
   {
    "duration": 11,
    "start_time": "2025-02-11T14:14:25.581Z"
   },
   {
    "duration": 11,
    "start_time": "2025-02-11T14:14:27.948Z"
   },
   {
    "duration": 629,
    "start_time": "2025-02-11T14:14:29.597Z"
   },
   {
    "duration": 636,
    "start_time": "2025-02-11T14:18:38.304Z"
   },
   {
    "duration": 648,
    "start_time": "2025-02-11T14:18:53.424Z"
   },
   {
    "duration": 3794,
    "start_time": "2025-02-12T06:06:06.979Z"
   },
   {
    "duration": 1618,
    "start_time": "2025-02-12T06:06:10.776Z"
   },
   {
    "duration": 171,
    "start_time": "2025-02-12T06:06:12.396Z"
   },
   {
    "duration": 151,
    "start_time": "2025-02-12T06:06:12.570Z"
   },
   {
    "duration": 166,
    "start_time": "2025-02-12T06:06:12.722Z"
   },
   {
    "duration": 3,
    "start_time": "2025-02-12T06:06:12.890Z"
   },
   {
    "duration": 6,
    "start_time": "2025-02-12T06:06:12.895Z"
   },
   {
    "duration": 90,
    "start_time": "2025-02-12T06:06:12.902Z"
   },
   {
    "duration": 78,
    "start_time": "2025-02-12T06:06:12.994Z"
   },
   {
    "duration": 61,
    "start_time": "2025-02-12T06:06:13.076Z"
   },
   {
    "duration": 48,
    "start_time": "2025-02-12T06:06:13.139Z"
   },
   {
    "duration": 149,
    "start_time": "2025-02-12T06:06:13.189Z"
   },
   {
    "duration": 378,
    "start_time": "2025-02-12T06:06:13.340Z"
   },
   {
    "duration": 4,
    "start_time": "2025-02-12T06:06:13.720Z"
   },
   {
    "duration": 919,
    "start_time": "2025-02-12T06:06:13.727Z"
   },
   {
    "duration": 762,
    "start_time": "2025-02-12T06:06:14.648Z"
   },
   {
    "duration": 884,
    "start_time": "2025-02-12T06:06:15.412Z"
   },
   {
    "duration": 941,
    "start_time": "2025-02-12T06:06:16.298Z"
   },
   {
    "duration": 835,
    "start_time": "2025-02-12T06:06:17.241Z"
   },
   {
    "duration": 808,
    "start_time": "2025-02-12T06:06:18.078Z"
   },
   {
    "duration": 814,
    "start_time": "2025-02-12T06:06:18.888Z"
   },
   {
    "duration": 948,
    "start_time": "2025-02-12T06:06:19.704Z"
   },
   {
    "duration": 906,
    "start_time": "2025-02-12T06:06:20.654Z"
   },
   {
    "duration": 968,
    "start_time": "2025-02-12T06:06:21.562Z"
   },
   {
    "duration": 847,
    "start_time": "2025-02-12T06:06:22.533Z"
   },
   {
    "duration": 843,
    "start_time": "2025-02-12T06:06:23.382Z"
   },
   {
    "duration": 3,
    "start_time": "2025-02-12T06:06:24.227Z"
   },
   {
    "duration": 19,
    "start_time": "2025-02-12T06:06:24.233Z"
   },
   {
    "duration": 791,
    "start_time": "2025-02-12T06:06:24.254Z"
   },
   {
    "duration": 647,
    "start_time": "2025-02-12T06:06:25.047Z"
   },
   {
    "duration": 708,
    "start_time": "2025-02-12T06:06:25.696Z"
   },
   {
    "duration": 3,
    "start_time": "2025-02-12T06:28:05.431Z"
   },
   {
    "duration": 4,
    "start_time": "2025-02-12T06:38:30.988Z"
   },
   {
    "duration": 126,
    "start_time": "2025-02-12T06:39:03.668Z"
   },
   {
    "duration": 7,
    "start_time": "2025-02-12T06:39:05.876Z"
   },
   {
    "duration": 18,
    "start_time": "2025-02-12T06:39:08.451Z"
   },
   {
    "duration": 434,
    "start_time": "2025-02-12T06:39:38.644Z"
   },
   {
    "duration": 6,
    "start_time": "2025-02-12T06:39:46.668Z"
   },
   {
    "duration": 32,
    "start_time": "2025-02-12T06:39:48.332Z"
   },
   {
    "duration": 6,
    "start_time": "2025-02-12T06:40:52.790Z"
   },
   {
    "duration": 29,
    "start_time": "2025-02-12T06:40:59.654Z"
   },
   {
    "duration": 3,
    "start_time": "2025-02-12T06:41:33.254Z"
   },
   {
    "duration": 9,
    "start_time": "2025-02-12T06:41:35.078Z"
   },
   {
    "duration": 31,
    "start_time": "2025-02-12T06:41:46.324Z"
   },
   {
    "duration": 5,
    "start_time": "2025-02-12T06:42:50.237Z"
   },
   {
    "duration": 28,
    "start_time": "2025-02-12T06:42:52.222Z"
   },
   {
    "duration": 7,
    "start_time": "2025-02-12T06:43:41.588Z"
   },
   {
    "duration": 40,
    "start_time": "2025-02-12T06:43:44.168Z"
   },
   {
    "duration": 2830,
    "start_time": "2025-02-12T06:47:33.089Z"
   },
   {
    "duration": 1636,
    "start_time": "2025-02-12T06:47:35.922Z"
   },
   {
    "duration": 181,
    "start_time": "2025-02-12T06:47:37.560Z"
   },
   {
    "duration": 167,
    "start_time": "2025-02-12T06:47:37.743Z"
   },
   {
    "duration": 157,
    "start_time": "2025-02-12T06:47:37.912Z"
   },
   {
    "duration": 6,
    "start_time": "2025-02-12T06:47:38.072Z"
   },
   {
    "duration": 7,
    "start_time": "2025-02-12T06:47:38.081Z"
   },
   {
    "duration": 112,
    "start_time": "2025-02-12T06:47:38.091Z"
   },
   {
    "duration": 75,
    "start_time": "2025-02-12T06:47:38.205Z"
   },
   {
    "duration": 98,
    "start_time": "2025-02-12T06:47:38.285Z"
   },
   {
    "duration": 27,
    "start_time": "2025-02-12T06:47:38.385Z"
   },
   {
    "duration": 171,
    "start_time": "2025-02-12T06:47:38.413Z"
   },
   {
    "duration": 454,
    "start_time": "2025-02-12T06:47:38.586Z"
   },
   {
    "duration": 29,
    "start_time": "2025-02-12T06:47:39.043Z"
   },
   {
    "duration": 961,
    "start_time": "2025-02-12T06:47:39.074Z"
   },
   {
    "duration": 830,
    "start_time": "2025-02-12T06:47:40.037Z"
   },
   {
    "duration": 1122,
    "start_time": "2025-02-12T06:47:40.869Z"
   },
   {
    "duration": 914,
    "start_time": "2025-02-12T06:47:41.994Z"
   },
   {
    "duration": 954,
    "start_time": "2025-02-12T06:47:42.910Z"
   },
   {
    "duration": 1107,
    "start_time": "2025-02-12T06:47:43.872Z"
   },
   {
    "duration": 909,
    "start_time": "2025-02-12T06:47:44.981Z"
   },
   {
    "duration": 1049,
    "start_time": "2025-02-12T06:47:45.892Z"
   },
   {
    "duration": 1064,
    "start_time": "2025-02-12T06:47:46.942Z"
   },
   {
    "duration": 1018,
    "start_time": "2025-02-12T06:47:48.008Z"
   },
   {
    "duration": 1024,
    "start_time": "2025-02-12T06:47:49.029Z"
   },
   {
    "duration": 819,
    "start_time": "2025-02-12T06:47:50.055Z"
   },
   {
    "duration": 6,
    "start_time": "2025-02-12T06:47:50.877Z"
   },
   {
    "duration": 53,
    "start_time": "2025-02-12T06:47:50.889Z"
   },
   {
    "duration": 880,
    "start_time": "2025-02-12T06:47:50.944Z"
   },
   {
    "duration": 894,
    "start_time": "2025-02-12T06:47:51.826Z"
   },
   {
    "duration": 793,
    "start_time": "2025-02-12T06:47:52.721Z"
   },
   {
    "duration": 3,
    "start_time": "2025-02-12T06:47:53.516Z"
   },
   {
    "duration": 13,
    "start_time": "2025-02-12T06:47:53.522Z"
   },
   {
    "duration": 173,
    "start_time": "2025-02-12T06:47:53.537Z"
   },
   {
    "duration": 14,
    "start_time": "2025-02-12T06:48:33.109Z"
   },
   {
    "duration": 9,
    "start_time": "2025-02-12T06:48:58.307Z"
   },
   {
    "duration": 10,
    "start_time": "2025-02-12T06:49:49.541Z"
   },
   {
    "duration": 6,
    "start_time": "2025-02-12T06:49:59.719Z"
   },
   {
    "duration": 4,
    "start_time": "2025-02-12T06:50:10.857Z"
   },
   {
    "duration": 17,
    "start_time": "2025-02-12T06:50:13.931Z"
   },
   {
    "duration": 17,
    "start_time": "2025-02-12T06:50:19.271Z"
   },
   {
    "duration": 4,
    "start_time": "2025-02-12T06:50:46.621Z"
   },
   {
    "duration": 32,
    "start_time": "2025-02-12T06:50:48.342Z"
   },
   {
    "duration": 12,
    "start_time": "2025-02-12T06:51:14.526Z"
   },
   {
    "duration": 5,
    "start_time": "2025-02-12T06:54:19.053Z"
   },
   {
    "duration": 21,
    "start_time": "2025-02-12T06:54:21.981Z"
   },
   {
    "duration": 4,
    "start_time": "2025-02-12T06:54:24.478Z"
   },
   {
    "duration": 7,
    "start_time": "2025-02-12T06:56:19.953Z"
   },
   {
    "duration": 43,
    "start_time": "2025-02-12T06:56:21.702Z"
   },
   {
    "duration": 15,
    "start_time": "2025-02-12T06:56:26.078Z"
   },
   {
    "duration": 5,
    "start_time": "2025-02-12T06:58:00.663Z"
   },
   {
    "duration": 21,
    "start_time": "2025-02-12T06:58:03.103Z"
   },
   {
    "duration": 5,
    "start_time": "2025-02-12T06:58:05.296Z"
   },
   {
    "duration": 5,
    "start_time": "2025-02-12T06:58:19.800Z"
   },
   {
    "duration": 5,
    "start_time": "2025-02-12T07:02:44.619Z"
   },
   {
    "duration": 26,
    "start_time": "2025-02-12T07:02:46.554Z"
   },
   {
    "duration": 12,
    "start_time": "2025-02-12T07:02:49.249Z"
   },
   {
    "duration": 5,
    "start_time": "2025-02-12T07:03:31.494Z"
   },
   {
    "duration": 26,
    "start_time": "2025-02-12T07:03:33.675Z"
   },
   {
    "duration": 11,
    "start_time": "2025-02-12T07:03:36.530Z"
   },
   {
    "duration": 6,
    "start_time": "2025-02-12T07:04:07.811Z"
   },
   {
    "duration": 26,
    "start_time": "2025-02-12T07:04:09.698Z"
   },
   {
    "duration": 12,
    "start_time": "2025-02-12T07:04:12.226Z"
   },
   {
    "duration": 5,
    "start_time": "2025-02-12T07:04:47.819Z"
   },
   {
    "duration": 27,
    "start_time": "2025-02-12T07:04:50.579Z"
   },
   {
    "duration": 12,
    "start_time": "2025-02-12T07:04:51.947Z"
   },
   {
    "duration": 67,
    "start_time": "2025-02-12T07:07:07.844Z"
   },
   {
    "duration": 11,
    "start_time": "2025-02-12T07:08:22.880Z"
   },
   {
    "duration": 5,
    "start_time": "2025-02-12T07:09:16.470Z"
   },
   {
    "duration": 27,
    "start_time": "2025-02-12T07:09:19.221Z"
   },
   {
    "duration": 12,
    "start_time": "2025-02-12T07:09:26.150Z"
   },
   {
    "duration": 11,
    "start_time": "2025-02-12T07:09:28.494Z"
   },
   {
    "duration": 6,
    "start_time": "2025-02-12T07:09:46.434Z"
   },
   {
    "duration": 29,
    "start_time": "2025-02-12T07:09:48.165Z"
   },
   {
    "duration": 11,
    "start_time": "2025-02-12T07:09:49.926Z"
   },
   {
    "duration": 11,
    "start_time": "2025-02-12T07:09:53.207Z"
   },
   {
    "duration": 12,
    "start_time": "2025-02-12T07:17:19.457Z"
   },
   {
    "duration": 24,
    "start_time": "2025-02-12T07:18:35.851Z"
   },
   {
    "duration": 19,
    "start_time": "2025-02-12T07:18:41.058Z"
   },
   {
    "duration": 15,
    "start_time": "2025-02-12T07:19:03.635Z"
   },
   {
    "duration": 327,
    "start_time": "2025-02-12T07:19:34.349Z"
   },
   {
    "duration": 4,
    "start_time": "2025-02-12T07:19:38.755Z"
   },
   {
    "duration": 68,
    "start_time": "2025-02-12T07:21:53.205Z"
   },
   {
    "duration": 87,
    "start_time": "2025-02-12T07:22:06.789Z"
   },
   {
    "duration": 4,
    "start_time": "2025-02-12T07:22:44.100Z"
   },
   {
    "duration": 18,
    "start_time": "2025-02-12T07:22:48.741Z"
   },
   {
    "duration": 4,
    "start_time": "2025-02-12T07:23:10.447Z"
   },
   {
    "duration": 478,
    "start_time": "2025-02-12T08:01:30.602Z"
   },
   {
    "duration": 401,
    "start_time": "2025-02-12T08:01:45.076Z"
   },
   {
    "duration": 16,
    "start_time": "2025-02-12T08:05:18.197Z"
   },
   {
    "duration": 17,
    "start_time": "2025-02-12T08:06:32.725Z"
   },
   {
    "duration": 29,
    "start_time": "2025-02-12T08:07:49.870Z"
   },
   {
    "duration": 463,
    "start_time": "2025-02-12T08:08:32.613Z"
   },
   {
    "duration": 16,
    "start_time": "2025-02-12T08:08:43.928Z"
   },
   {
    "duration": 392,
    "start_time": "2025-02-12T08:09:08.487Z"
   },
   {
    "duration": 429,
    "start_time": "2025-02-12T08:09:48.846Z"
   },
   {
    "duration": 16,
    "start_time": "2025-02-12T08:11:43.592Z"
   },
   {
    "duration": 5,
    "start_time": "2025-02-12T08:34:12.822Z"
   },
   {
    "duration": 98,
    "start_time": "2025-02-12T08:35:46.519Z"
   },
   {
    "duration": 29,
    "start_time": "2025-02-12T08:37:00.312Z"
   },
   {
    "duration": 451,
    "start_time": "2025-02-12T08:37:48.922Z"
   },
   {
    "duration": 15,
    "start_time": "2025-02-12T08:38:43.921Z"
   },
   {
    "duration": 12,
    "start_time": "2025-02-12T08:42:56.947Z"
   },
   {
    "duration": 12,
    "start_time": "2025-02-12T08:43:17.460Z"
   },
   {
    "duration": 4,
    "start_time": "2025-02-12T08:44:05.636Z"
   },
   {
    "duration": 7,
    "start_time": "2025-02-12T08:44:09.548Z"
   },
   {
    "duration": 6,
    "start_time": "2025-02-12T08:44:40.806Z"
   },
   {
    "duration": 19,
    "start_time": "2025-02-12T08:45:43.894Z"
   },
   {
    "duration": 8,
    "start_time": "2025-02-12T08:45:58.061Z"
   },
   {
    "duration": 14,
    "start_time": "2025-02-12T08:46:41.565Z"
   },
   {
    "duration": 29,
    "start_time": "2025-02-12T08:47:16.775Z"
   },
   {
    "duration": 6,
    "start_time": "2025-02-12T08:47:49.307Z"
   },
   {
    "duration": 18,
    "start_time": "2025-02-12T08:49:10.839Z"
   },
   {
    "duration": 18,
    "start_time": "2025-02-12T08:49:18.280Z"
   },
   {
    "duration": 3,
    "start_time": "2025-02-12T08:50:15.881Z"
   },
   {
    "duration": 8,
    "start_time": "2025-02-12T08:50:22.223Z"
   },
   {
    "duration": 10,
    "start_time": "2025-02-12T08:51:07.616Z"
   },
   {
    "duration": 11,
    "start_time": "2025-02-12T08:51:19.562Z"
   },
   {
    "duration": 10,
    "start_time": "2025-02-12T08:51:30.400Z"
   },
   {
    "duration": 12,
    "start_time": "2025-02-12T08:51:48.584Z"
   },
   {
    "duration": 11,
    "start_time": "2025-02-12T08:51:56.697Z"
   },
   {
    "duration": 11,
    "start_time": "2025-02-12T08:52:06.696Z"
   },
   {
    "duration": 15,
    "start_time": "2025-02-12T08:52:40.491Z"
   },
   {
    "duration": 6,
    "start_time": "2025-02-12T08:53:10.481Z"
   },
   {
    "duration": 79,
    "start_time": "2025-02-12T08:53:42.731Z"
   },
   {
    "duration": 62,
    "start_time": "2025-02-12T08:54:06.146Z"
   },
   {
    "duration": 12,
    "start_time": "2025-02-12T08:54:48.804Z"
   },
   {
    "duration": 11,
    "start_time": "2025-02-12T08:55:00.834Z"
   },
   {
    "duration": 3,
    "start_time": "2025-02-12T08:57:32.649Z"
   },
   {
    "duration": 11,
    "start_time": "2025-02-12T08:57:40.588Z"
   },
   {
    "duration": 519,
    "start_time": "2025-02-12T08:59:17.519Z"
   },
   {
    "duration": 832,
    "start_time": "2025-02-12T09:01:24.816Z"
   },
   {
    "duration": 13,
    "start_time": "2025-02-12T09:02:01.624Z"
   },
   {
    "duration": 525,
    "start_time": "2025-02-12T09:02:15.103Z"
   },
   {
    "duration": 292,
    "start_time": "2025-02-12T09:03:36.993Z"
   },
   {
    "duration": 447,
    "start_time": "2025-02-12T09:03:49.512Z"
   },
   {
    "duration": 511,
    "start_time": "2025-02-12T09:04:05.792Z"
   },
   {
    "duration": 410,
    "start_time": "2025-02-12T09:04:34.507Z"
   },
   {
    "duration": 406,
    "start_time": "2025-02-12T09:04:54.672Z"
   },
   {
    "duration": 18,
    "start_time": "2025-02-12T09:05:18.176Z"
   },
   {
    "duration": 4,
    "start_time": "2025-02-12T09:06:30.556Z"
   },
   {
    "duration": 2,
    "start_time": "2025-02-12T09:06:35.634Z"
   },
   {
    "duration": 2723,
    "start_time": "2025-02-12T10:29:39.420Z"
   },
   {
    "duration": 1630,
    "start_time": "2025-02-12T10:29:42.146Z"
   },
   {
    "duration": 159,
    "start_time": "2025-02-12T10:29:43.778Z"
   },
   {
    "duration": 147,
    "start_time": "2025-02-12T10:29:43.939Z"
   },
   {
    "duration": 147,
    "start_time": "2025-02-12T10:29:44.088Z"
   },
   {
    "duration": 3,
    "start_time": "2025-02-12T10:29:44.237Z"
   },
   {
    "duration": 5,
    "start_time": "2025-02-12T10:29:44.241Z"
   },
   {
    "duration": 81,
    "start_time": "2025-02-12T10:29:44.248Z"
   },
   {
    "duration": 81,
    "start_time": "2025-02-12T10:29:44.331Z"
   },
   {
    "duration": 69,
    "start_time": "2025-02-12T10:29:44.413Z"
   },
   {
    "duration": 26,
    "start_time": "2025-02-12T10:29:44.484Z"
   },
   {
    "duration": 171,
    "start_time": "2025-02-12T10:29:44.512Z"
   },
   {
    "duration": 397,
    "start_time": "2025-02-12T10:29:44.685Z"
   },
   {
    "duration": 4,
    "start_time": "2025-02-12T10:29:45.086Z"
   },
   {
    "duration": 875,
    "start_time": "2025-02-12T10:29:45.092Z"
   },
   {
    "duration": 734,
    "start_time": "2025-02-12T10:29:45.969Z"
   },
   {
    "duration": 999,
    "start_time": "2025-02-12T10:29:46.705Z"
   },
   {
    "duration": 840,
    "start_time": "2025-02-12T10:29:47.706Z"
   },
   {
    "duration": 856,
    "start_time": "2025-02-12T10:29:48.548Z"
   },
   {
    "duration": 888,
    "start_time": "2025-02-12T10:29:49.406Z"
   },
   {
    "duration": 810,
    "start_time": "2025-02-12T10:29:50.295Z"
   },
   {
    "duration": 933,
    "start_time": "2025-02-12T10:29:51.108Z"
   },
   {
    "duration": 905,
    "start_time": "2025-02-12T10:29:52.043Z"
   },
   {
    "duration": 875,
    "start_time": "2025-02-12T10:29:52.950Z"
   },
   {
    "duration": 856,
    "start_time": "2025-02-12T10:29:53.827Z"
   },
   {
    "duration": 872,
    "start_time": "2025-02-12T10:29:54.685Z"
   },
   {
    "duration": 4,
    "start_time": "2025-02-12T10:29:55.559Z"
   },
   {
    "duration": 11,
    "start_time": "2025-02-12T10:29:55.572Z"
   },
   {
    "duration": 794,
    "start_time": "2025-02-12T10:29:55.586Z"
   },
   {
    "duration": 812,
    "start_time": "2025-02-12T10:29:56.382Z"
   },
   {
    "duration": 684,
    "start_time": "2025-02-12T10:29:57.196Z"
   },
   {
    "duration": 3,
    "start_time": "2025-02-12T10:29:57.882Z"
   },
   {
    "duration": 55,
    "start_time": "2025-02-12T10:29:57.886Z"
   },
   {
    "duration": 28,
    "start_time": "2025-02-12T10:29:57.943Z"
   },
   {
    "duration": 503,
    "start_time": "2025-02-12T10:29:57.973Z"
   },
   {
    "duration": 196,
    "start_time": "2025-02-12T10:29:58.480Z"
   },
   {
    "duration": 120,
    "start_time": "2025-02-12T10:29:58.679Z"
   },
   {
    "duration": 575,
    "start_time": "2025-02-12T10:29:58.801Z"
   },
   {
    "duration": 200,
    "start_time": "2025-02-12T10:29:59.378Z"
   },
   {
    "duration": 115,
    "start_time": "2025-02-12T10:29:59.673Z"
   },
   {
    "duration": 481,
    "start_time": "2025-02-12T10:29:59.792Z"
   },
   {
    "duration": 110,
    "start_time": "2025-02-12T10:30:00.276Z"
   },
   {
    "duration": 95,
    "start_time": "2025-02-12T10:30:00.477Z"
   },
   {
    "duration": 5,
    "start_time": "2025-02-12T10:30:51.859Z"
   },
   {
    "duration": 6,
    "start_time": "2025-02-12T10:30:57.826Z"
   },
   {
    "duration": 6,
    "start_time": "2025-02-12T10:31:02.109Z"
   },
   {
    "duration": 2,
    "start_time": "2025-02-12T10:46:20.013Z"
   },
   {
    "duration": 14,
    "start_time": "2025-02-12T10:49:24.965Z"
   },
   {
    "duration": 5,
    "start_time": "2025-02-12T10:50:33.470Z"
   },
   {
    "duration": 8,
    "start_time": "2025-02-12T10:50:58.385Z"
   },
   {
    "duration": 15,
    "start_time": "2025-02-12T10:51:20.535Z"
   },
   {
    "duration": 10,
    "start_time": "2025-02-12T10:51:29.897Z"
   },
   {
    "duration": 116,
    "start_time": "2025-02-12T10:51:36.818Z"
   },
   {
    "duration": 10,
    "start_time": "2025-02-12T10:51:42.623Z"
   },
   {
    "duration": 3,
    "start_time": "2025-02-12T10:54:02.145Z"
   },
   {
    "duration": 11,
    "start_time": "2025-02-12T10:57:15.899Z"
   },
   {
    "duration": 6,
    "start_time": "2025-02-12T10:58:32.490Z"
   },
   {
    "duration": 7,
    "start_time": "2025-02-12T10:58:38.396Z"
   },
   {
    "duration": 7,
    "start_time": "2025-02-12T10:58:46.070Z"
   },
   {
    "duration": 5,
    "start_time": "2025-02-12T10:58:57.963Z"
   },
   {
    "duration": 4,
    "start_time": "2025-02-12T10:59:17.445Z"
   },
   {
    "duration": 6,
    "start_time": "2025-02-12T10:59:33.582Z"
   },
   {
    "duration": 122,
    "start_time": "2025-02-12T11:03:00.722Z"
   },
   {
    "duration": 5,
    "start_time": "2025-02-12T11:03:20.320Z"
   },
   {
    "duration": 6,
    "start_time": "2025-02-12T11:05:25.288Z"
   },
   {
    "duration": 153,
    "start_time": "2025-02-12T11:06:28.211Z"
   },
   {
    "duration": 14,
    "start_time": "2025-02-12T11:07:28.580Z"
   },
   {
    "duration": 99,
    "start_time": "2025-02-12T11:07:47.971Z"
   },
   {
    "duration": 6,
    "start_time": "2025-02-12T11:09:47.707Z"
   },
   {
    "duration": 5,
    "start_time": "2025-02-12T11:10:23.485Z"
   },
   {
    "duration": 7,
    "start_time": "2025-02-12T11:13:56.431Z"
   },
   {
    "duration": 5,
    "start_time": "2025-02-12T11:14:06.670Z"
   },
   {
    "duration": 3,
    "start_time": "2025-02-12T11:47:54.594Z"
   },
   {
    "duration": 4,
    "start_time": "2025-02-12T11:47:58.097Z"
   },
   {
    "duration": 2,
    "start_time": "2025-02-12T11:48:10.719Z"
   },
   {
    "duration": 4,
    "start_time": "2025-02-12T11:48:13.063Z"
   },
   {
    "duration": 3,
    "start_time": "2025-02-12T11:52:29.344Z"
   },
   {
    "duration": 3,
    "start_time": "2025-02-12T11:53:56.077Z"
   },
   {
    "duration": 3,
    "start_time": "2025-02-12T11:55:06.842Z"
   },
   {
    "duration": 4,
    "start_time": "2025-02-12T12:01:37.204Z"
   },
   {
    "duration": 4,
    "start_time": "2025-02-12T12:01:46.333Z"
   },
   {
    "duration": 3,
    "start_time": "2025-02-12T12:15:46.763Z"
   },
   {
    "duration": 4,
    "start_time": "2025-02-12T12:15:59.218Z"
   },
   {
    "duration": 5,
    "start_time": "2025-02-12T12:20:17.174Z"
   },
   {
    "duration": 5,
    "start_time": "2025-02-12T12:23:42.902Z"
   },
   {
    "duration": 4,
    "start_time": "2025-02-12T12:25:12.367Z"
   },
   {
    "duration": 5,
    "start_time": "2025-02-12T12:28:40.185Z"
   },
   {
    "duration": 5,
    "start_time": "2025-02-12T12:30:49.147Z"
   },
   {
    "duration": 8,
    "start_time": "2025-02-12T12:35:55.110Z"
   },
   {
    "duration": 9,
    "start_time": "2025-02-12T12:36:30.030Z"
   },
   {
    "duration": 10,
    "start_time": "2025-02-12T12:37:41.518Z"
   },
   {
    "duration": 11,
    "start_time": "2025-02-12T12:38:20.391Z"
   },
   {
    "duration": 4,
    "start_time": "2025-02-12T12:38:49.126Z"
   },
   {
    "duration": 4,
    "start_time": "2025-02-12T12:38:52.366Z"
   },
   {
    "duration": 12,
    "start_time": "2025-02-12T12:38:57.149Z"
   },
   {
    "duration": 13,
    "start_time": "2025-02-12T12:39:56.336Z"
   },
   {
    "duration": 13,
    "start_time": "2025-02-12T12:41:41.439Z"
   },
   {
    "duration": 13,
    "start_time": "2025-02-12T12:41:55.863Z"
   },
   {
    "duration": 11,
    "start_time": "2025-02-12T12:57:10.671Z"
   },
   {
    "duration": 9,
    "start_time": "2025-02-12T13:01:07.360Z"
   },
   {
    "duration": 14,
    "start_time": "2025-02-12T13:01:14.897Z"
   },
   {
    "duration": 5,
    "start_time": "2025-02-12T13:01:38.770Z"
   },
   {
    "duration": 17,
    "start_time": "2025-02-12T13:01:49.240Z"
   },
   {
    "duration": 15,
    "start_time": "2025-02-12T13:08:15.836Z"
   },
   {
    "duration": 22,
    "start_time": "2025-02-12T13:10:08.869Z"
   },
   {
    "duration": 23,
    "start_time": "2025-02-12T13:15:58.368Z"
   },
   {
    "duration": 19,
    "start_time": "2025-02-12T13:16:26.865Z"
   },
   {
    "duration": 17,
    "start_time": "2025-02-12T13:17:10.416Z"
   },
   {
    "duration": 20,
    "start_time": "2025-02-12T13:17:37.067Z"
   },
   {
    "duration": 27,
    "start_time": "2025-02-12T13:18:46.999Z"
   },
   {
    "duration": 18,
    "start_time": "2025-02-12T13:20:16.996Z"
   },
   {
    "duration": 20,
    "start_time": "2025-02-12T13:21:58.541Z"
   },
   {
    "duration": 89,
    "start_time": "2025-02-12T13:23:24.524Z"
   },
   {
    "duration": 15,
    "start_time": "2025-02-12T13:23:35.877Z"
   },
   {
    "duration": 14,
    "start_time": "2025-02-12T13:23:41.830Z"
   },
   {
    "duration": 15,
    "start_time": "2025-02-12T13:24:53.301Z"
   },
   {
    "duration": 15,
    "start_time": "2025-02-12T13:25:16.917Z"
   },
   {
    "duration": 12,
    "start_time": "2025-02-12T13:32:13.585Z"
   },
   {
    "duration": 18,
    "start_time": "2025-02-12T13:33:06.714Z"
   },
   {
    "duration": 16,
    "start_time": "2025-02-12T13:33:23.362Z"
   },
   {
    "duration": 18,
    "start_time": "2025-02-12T13:34:15.234Z"
   },
   {
    "duration": 17,
    "start_time": "2025-02-12T13:34:32.618Z"
   },
   {
    "duration": 11,
    "start_time": "2025-02-12T13:35:08.594Z"
   },
   {
    "duration": 12,
    "start_time": "2025-02-12T13:35:22.042Z"
   },
   {
    "duration": 11,
    "start_time": "2025-02-12T13:36:56.397Z"
   },
   {
    "duration": 11,
    "start_time": "2025-02-12T13:37:02.235Z"
   },
   {
    "duration": 10,
    "start_time": "2025-02-12T13:41:14.423Z"
   },
   {
    "duration": 11,
    "start_time": "2025-02-12T13:41:21.326Z"
   },
   {
    "duration": 16,
    "start_time": "2025-02-12T13:48:19.410Z"
   },
   {
    "duration": 18,
    "start_time": "2025-02-12T13:48:25.233Z"
   },
   {
    "duration": 4,
    "start_time": "2025-02-12T13:56:21.550Z"
   },
   {
    "duration": 11,
    "start_time": "2025-02-12T13:57:03.862Z"
   },
   {
    "duration": 277,
    "start_time": "2025-02-12T13:58:15.864Z"
   },
   {
    "duration": 78,
    "start_time": "2025-02-12T13:58:47.984Z"
   },
   {
    "duration": 3,
    "start_time": "2025-02-12T13:59:02.623Z"
   },
   {
    "duration": 10,
    "start_time": "2025-02-12T14:01:43.304Z"
   },
   {
    "duration": 10,
    "start_time": "2025-02-12T14:02:35.312Z"
   },
   {
    "duration": 88,
    "start_time": "2025-02-12T14:03:49.858Z"
   },
   {
    "duration": 74,
    "start_time": "2025-02-12T14:04:08.097Z"
   },
   {
    "duration": 66,
    "start_time": "2025-02-12T14:04:16.577Z"
   },
   {
    "duration": 4,
    "start_time": "2025-02-12T14:04:38.451Z"
   },
   {
    "duration": 4,
    "start_time": "2025-02-12T14:04:47.963Z"
   },
   {
    "duration": 60,
    "start_time": "2025-02-12T14:05:04.266Z"
   },
   {
    "duration": 9,
    "start_time": "2025-02-12T14:05:25.634Z"
   },
   {
    "duration": 9,
    "start_time": "2025-02-12T14:05:56.218Z"
   },
   {
    "duration": 4,
    "start_time": "2025-02-12T14:06:13.826Z"
   },
   {
    "duration": 11,
    "start_time": "2025-02-12T14:07:39.853Z"
   },
   {
    "duration": 81,
    "start_time": "2025-02-12T14:07:51.012Z"
   },
   {
    "duration": 18,
    "start_time": "2025-02-12T14:08:02.980Z"
   },
   {
    "duration": 18,
    "start_time": "2025-02-12T14:08:19.829Z"
   },
   {
    "duration": 11,
    "start_time": "2025-02-12T14:08:25.227Z"
   },
   {
    "duration": 10,
    "start_time": "2025-02-12T14:09:00.284Z"
   },
   {
    "duration": 17,
    "start_time": "2025-02-12T14:09:07.557Z"
   },
   {
    "duration": 10,
    "start_time": "2025-02-12T14:09:18.245Z"
   },
   {
    "duration": 16,
    "start_time": "2025-02-12T14:09:25.892Z"
   },
   {
    "duration": 10,
    "start_time": "2025-02-12T14:09:34.228Z"
   },
   {
    "duration": 11,
    "start_time": "2025-02-12T14:11:40.713Z"
   },
   {
    "duration": 17,
    "start_time": "2025-02-12T14:12:01.861Z"
   },
   {
    "duration": 10,
    "start_time": "2025-02-12T14:12:40.853Z"
   },
   {
    "duration": 11,
    "start_time": "2025-02-12T14:13:45.469Z"
   },
   {
    "duration": 21,
    "start_time": "2025-02-12T14:16:19.049Z"
   },
   {
    "duration": 21,
    "start_time": "2025-02-12T14:16:28.336Z"
   },
   {
    "duration": 22,
    "start_time": "2025-02-12T14:16:44.558Z"
   },
   {
    "duration": 23,
    "start_time": "2025-02-12T14:17:00.727Z"
   },
   {
    "duration": 22,
    "start_time": "2025-02-12T14:17:31.536Z"
   },
   {
    "duration": 22,
    "start_time": "2025-02-12T14:19:08.226Z"
   },
   {
    "duration": 23,
    "start_time": "2025-02-12T14:19:21.723Z"
   },
   {
    "duration": 97,
    "start_time": "2025-02-12T14:19:32.113Z"
   },
   {
    "duration": 22,
    "start_time": "2025-02-12T14:19:37.339Z"
   },
   {
    "duration": 23,
    "start_time": "2025-02-12T14:22:33.876Z"
   },
   {
    "duration": 23,
    "start_time": "2025-02-12T14:22:43.258Z"
   },
   {
    "duration": 3353,
    "start_time": "2025-02-13T06:16:28.829Z"
   },
   {
    "duration": 1559,
    "start_time": "2025-02-13T06:16:32.185Z"
   },
   {
    "duration": 145,
    "start_time": "2025-02-13T06:16:33.747Z"
   },
   {
    "duration": 132,
    "start_time": "2025-02-13T06:16:33.894Z"
   },
   {
    "duration": 134,
    "start_time": "2025-02-13T06:16:34.028Z"
   },
   {
    "duration": 3,
    "start_time": "2025-02-13T06:16:34.163Z"
   },
   {
    "duration": 18,
    "start_time": "2025-02-13T06:16:34.168Z"
   },
   {
    "duration": 62,
    "start_time": "2025-02-13T06:16:34.188Z"
   },
   {
    "duration": 59,
    "start_time": "2025-02-13T06:16:34.251Z"
   },
   {
    "duration": 75,
    "start_time": "2025-02-13T06:16:34.311Z"
   },
   {
    "duration": 21,
    "start_time": "2025-02-13T06:16:34.388Z"
   },
   {
    "duration": 148,
    "start_time": "2025-02-13T06:16:34.410Z"
   },
   {
    "duration": 338,
    "start_time": "2025-02-13T06:16:34.559Z"
   },
   {
    "duration": 4,
    "start_time": "2025-02-13T06:16:34.900Z"
   },
   {
    "duration": 796,
    "start_time": "2025-02-13T06:16:34.906Z"
   },
   {
    "duration": 733,
    "start_time": "2025-02-13T06:16:35.703Z"
   },
   {
    "duration": 876,
    "start_time": "2025-02-13T06:16:36.438Z"
   },
   {
    "duration": 744,
    "start_time": "2025-02-13T06:16:37.316Z"
   },
   {
    "duration": 6,
    "start_time": "2025-02-13T06:16:38.061Z"
   },
   {
    "duration": 819,
    "start_time": "2025-02-13T06:16:38.068Z"
   },
   {
    "duration": 820,
    "start_time": "2025-02-13T06:16:38.888Z"
   },
   {
    "duration": 713,
    "start_time": "2025-02-13T06:16:39.710Z"
   },
   {
    "duration": 828,
    "start_time": "2025-02-13T06:16:40.425Z"
   },
   {
    "duration": 6,
    "start_time": "2025-02-13T06:16:41.258Z"
   },
   {
    "duration": 884,
    "start_time": "2025-02-13T06:16:41.266Z"
   },
   {
    "duration": 772,
    "start_time": "2025-02-13T06:16:42.152Z"
   },
   {
    "duration": 781,
    "start_time": "2025-02-13T06:16:42.926Z"
   },
   {
    "duration": 749,
    "start_time": "2025-02-13T06:16:43.709Z"
   },
   {
    "duration": 5,
    "start_time": "2025-02-13T06:16:44.459Z"
   },
   {
    "duration": 3,
    "start_time": "2025-02-13T06:16:44.466Z"
   },
   {
    "duration": 9,
    "start_time": "2025-02-13T06:16:44.471Z"
   },
   {
    "duration": 693,
    "start_time": "2025-02-13T06:16:44.481Z"
   },
   {
    "duration": 760,
    "start_time": "2025-02-13T06:16:45.176Z"
   },
   {
    "duration": 673,
    "start_time": "2025-02-13T06:16:45.938Z"
   },
   {
    "duration": 3,
    "start_time": "2025-02-13T06:16:46.612Z"
   },
   {
    "duration": 4,
    "start_time": "2025-02-13T06:16:46.616Z"
   },
   {
    "duration": 40,
    "start_time": "2025-02-13T06:16:46.622Z"
   },
   {
    "duration": 305,
    "start_time": "2025-02-13T06:16:46.664Z"
   },
   {
    "duration": 102,
    "start_time": "2025-02-13T06:16:47.059Z"
   },
   {
    "duration": 194,
    "start_time": "2025-02-13T06:16:47.164Z"
   },
   {
    "duration": 25,
    "start_time": "2025-02-13T06:16:47.362Z"
   },
   {
    "duration": 378,
    "start_time": "2025-02-13T06:16:47.389Z"
   },
   {
    "duration": 20,
    "start_time": "2025-02-13T06:16:47.859Z"
   },
   {
    "duration": 103,
    "start_time": "2025-02-13T06:16:47.960Z"
   },
   {
    "duration": 24,
    "start_time": "2025-02-13T06:16:48.065Z"
   },
   {
    "duration": 370,
    "start_time": "2025-02-13T06:16:48.091Z"
   },
   {
    "duration": 110,
    "start_time": "2025-02-13T06:16:48.465Z"
   },
   {
    "duration": 105,
    "start_time": "2025-02-13T06:16:48.663Z"
   },
   {
    "duration": 3,
    "start_time": "2025-02-13T06:16:48.770Z"
   },
   {
    "duration": 4,
    "start_time": "2025-02-13T06:16:48.776Z"
   },
   {
    "duration": 4,
    "start_time": "2025-02-13T06:16:48.782Z"
   },
   {
    "duration": 11,
    "start_time": "2025-02-13T06:16:48.787Z"
   },
   {
    "duration": 3,
    "start_time": "2025-02-13T06:16:48.800Z"
   },
   {
    "duration": 60,
    "start_time": "2025-02-13T06:16:48.805Z"
   },
   {
    "duration": 20,
    "start_time": "2025-02-13T06:17:19.052Z"
   },
   {
    "duration": 20,
    "start_time": "2025-02-13T06:17:28.836Z"
   },
   {
    "duration": 21,
    "start_time": "2025-02-13T06:17:44.515Z"
   },
   {
    "duration": 20,
    "start_time": "2025-02-13T06:17:59.563Z"
   },
   {
    "duration": 114,
    "start_time": "2025-02-13T06:32:38.635Z"
   },
   {
    "duration": 3,
    "start_time": "2025-02-13T06:33:09.555Z"
   },
   {
    "duration": 7,
    "start_time": "2025-02-13T06:33:32.700Z"
   },
   {
    "duration": 6,
    "start_time": "2025-02-13T06:34:09.163Z"
   },
   {
    "duration": 5,
    "start_time": "2025-02-13T06:44:45.640Z"
   },
   {
    "duration": 11,
    "start_time": "2025-02-13T06:45:01.033Z"
   },
   {
    "duration": 8,
    "start_time": "2025-02-13T06:45:11.475Z"
   },
   {
    "duration": 4,
    "start_time": "2025-02-13T06:45:27.491Z"
   },
   {
    "duration": 9,
    "start_time": "2025-02-13T06:45:29.625Z"
   },
   {
    "duration": 1365,
    "start_time": "2025-02-13T06:45:53.554Z"
   },
   {
    "duration": 5,
    "start_time": "2025-02-13T06:47:21.813Z"
   },
   {
    "duration": 1346,
    "start_time": "2025-02-13T06:47:23.417Z"
   },
   {
    "duration": 4,
    "start_time": "2025-02-13T06:50:59.580Z"
   },
   {
    "duration": 203720,
    "start_time": "2025-02-13T06:51:02.037Z"
   },
   {
    "duration": 3,
    "start_time": "2025-02-13T06:55:50.582Z"
   },
   {
    "duration": 2209,
    "start_time": "2025-02-13T06:55:53.998Z"
   },
   {
    "duration": 3,
    "start_time": "2025-02-13T06:56:44.855Z"
   },
   {
    "duration": 2181,
    "start_time": "2025-02-13T06:56:47.151Z"
   },
   {
    "duration": 224,
    "start_time": "2025-02-13T07:00:02.240Z"
   },
   {
    "duration": 3395,
    "start_time": "2025-02-13T07:00:36.426Z"
   },
   {
    "duration": 3489,
    "start_time": "2025-02-13T07:01:16.561Z"
   },
   {
    "duration": 11,
    "start_time": "2025-02-13T07:01:41.433Z"
   },
   {
    "duration": 3465,
    "start_time": "2025-02-13T07:01:57.569Z"
   },
   {
    "duration": 224,
    "start_time": "2025-02-13T07:02:11.243Z"
   },
   {
    "duration": 35,
    "start_time": "2025-02-13T07:04:24.106Z"
   },
   {
    "duration": 19,
    "start_time": "2025-02-13T07:04:33.491Z"
   },
   {
    "duration": 3,
    "start_time": "2025-02-13T07:05:33.916Z"
   },
   {
    "duration": 5,
    "start_time": "2025-02-13T07:06:34.325Z"
   },
   {
    "duration": 6,
    "start_time": "2025-02-13T07:06:45.597Z"
   },
   {
    "duration": 80,
    "start_time": "2025-02-13T07:09:06.745Z"
   },
   {
    "duration": 237,
    "start_time": "2025-02-13T07:09:21.874Z"
   },
   {
    "duration": 1455,
    "start_time": "2025-02-13T07:09:36.858Z"
   },
   {
    "duration": 1293,
    "start_time": "2025-02-13T07:11:17.710Z"
   },
   {
    "duration": 2189,
    "start_time": "2025-02-13T07:12:27.750Z"
   },
   {
    "duration": 78,
    "start_time": "2025-02-13T07:14:08.104Z"
   },
   {
    "duration": 4,
    "start_time": "2025-02-13T07:14:18.976Z"
   },
   {
    "duration": 5,
    "start_time": "2025-02-13T07:14:27.567Z"
   },
   {
    "duration": 4,
    "start_time": "2025-02-13T07:14:40.311Z"
   },
   {
    "duration": 16,
    "start_time": "2025-02-13T07:14:42.064Z"
   },
   {
    "duration": 4,
    "start_time": "2025-02-13T07:15:02.928Z"
   },
   {
    "duration": 19,
    "start_time": "2025-02-13T07:15:04.984Z"
   },
   {
    "duration": 9,
    "start_time": "2025-02-13T07:16:14.553Z"
   },
   {
    "duration": 9,
    "start_time": "2025-02-13T07:16:29.378Z"
   },
   {
    "duration": 7,
    "start_time": "2025-02-13T07:16:38.907Z"
   },
   {
    "duration": 7,
    "start_time": "2025-02-13T07:16:41.705Z"
   },
   {
    "duration": 5,
    "start_time": "2025-02-13T07:17:20.418Z"
   },
   {
    "duration": 7,
    "start_time": "2025-02-13T07:17:23.658Z"
   },
   {
    "duration": 7,
    "start_time": "2025-02-13T07:17:29.860Z"
   },
   {
    "duration": 7,
    "start_time": "2025-02-13T07:18:48.492Z"
   },
   {
    "duration": 11,
    "start_time": "2025-02-13T07:19:23.582Z"
   },
   {
    "duration": 7,
    "start_time": "2025-02-13T07:20:09.061Z"
   },
   {
    "duration": 3,
    "start_time": "2025-02-13T07:20:42.789Z"
   },
   {
    "duration": 17,
    "start_time": "2025-02-13T07:21:36.086Z"
   },
   {
    "duration": 3,
    "start_time": "2025-02-13T07:22:06.719Z"
   },
   {
    "duration": 20,
    "start_time": "2025-02-13T07:22:17.783Z"
   },
   {
    "duration": 4,
    "start_time": "2025-02-13T07:26:01.411Z"
   },
   {
    "duration": 14,
    "start_time": "2025-02-13T07:26:09.498Z"
   },
   {
    "duration": 39,
    "start_time": "2025-02-13T07:27:13.117Z"
   },
   {
    "duration": 15,
    "start_time": "2025-02-13T07:27:26.043Z"
   },
   {
    "duration": 17,
    "start_time": "2025-02-13T07:28:56.387Z"
   },
   {
    "duration": 3,
    "start_time": "2025-02-13T07:30:05.815Z"
   },
   {
    "duration": 3,
    "start_time": "2025-02-13T07:30:34.195Z"
   },
   {
    "duration": 12,
    "start_time": "2025-02-13T07:30:41.913Z"
   },
   {
    "duration": 4,
    "start_time": "2025-02-13T07:34:40.609Z"
   },
   {
    "duration": 3,
    "start_time": "2025-02-13T08:00:38.369Z"
   },
   {
    "duration": 11,
    "start_time": "2025-02-13T08:00:40.321Z"
   },
   {
    "duration": 4,
    "start_time": "2025-02-13T08:01:16.659Z"
   },
   {
    "duration": 20,
    "start_time": "2025-02-13T08:01:19.435Z"
   },
   {
    "duration": 4,
    "start_time": "2025-02-13T08:03:01.412Z"
   },
   {
    "duration": 11,
    "start_time": "2025-02-13T08:03:02.999Z"
   },
   {
    "duration": 4,
    "start_time": "2025-02-13T08:03:24.107Z"
   },
   {
    "duration": 14,
    "start_time": "2025-02-13T08:03:25.820Z"
   },
   {
    "duration": 4,
    "start_time": "2025-02-13T08:06:28.616Z"
   },
   {
    "duration": 23,
    "start_time": "2025-02-13T08:06:34.247Z"
   },
   {
    "duration": 4,
    "start_time": "2025-02-13T08:07:04.293Z"
   },
   {
    "duration": 16,
    "start_time": "2025-02-13T08:07:06.293Z"
   },
   {
    "duration": 4,
    "start_time": "2025-02-13T08:47:43.668Z"
   },
   {
    "duration": 18,
    "start_time": "2025-02-13T08:47:45.227Z"
   },
   {
    "duration": 4,
    "start_time": "2025-02-13T08:48:46.414Z"
   },
   {
    "duration": 893,
    "start_time": "2025-02-13T08:48:54.511Z"
   },
   {
    "duration": 867,
    "start_time": "2025-02-13T08:49:34.559Z"
   },
   {
    "duration": 835,
    "start_time": "2025-02-13T08:49:45.528Z"
   },
   {
    "duration": 842,
    "start_time": "2025-02-13T08:49:53.151Z"
   },
   {
    "duration": 820,
    "start_time": "2025-02-13T08:50:03.008Z"
   },
   {
    "duration": 836,
    "start_time": "2025-02-13T08:50:12.835Z"
   },
   {
    "duration": 3,
    "start_time": "2025-02-13T08:55:04.953Z"
   },
   {
    "duration": 842,
    "start_time": "2025-02-13T08:55:06.703Z"
   },
   {
    "duration": 893,
    "start_time": "2025-02-13T08:58:38.555Z"
   },
   {
    "duration": 900,
    "start_time": "2025-02-13T08:59:20.370Z"
   },
   {
    "duration": 852,
    "start_time": "2025-02-13T08:59:35.372Z"
   },
   {
    "duration": 884,
    "start_time": "2025-02-13T08:59:54.844Z"
   },
   {
    "duration": 8,
    "start_time": "2025-02-13T09:01:33.562Z"
   },
   {
    "duration": 859,
    "start_time": "2025-02-13T09:01:36.750Z"
   },
   {
    "duration": 4,
    "start_time": "2025-02-13T09:01:45.436Z"
   },
   {
    "duration": 831,
    "start_time": "2025-02-13T09:02:23.606Z"
   },
   {
    "duration": 3,
    "start_time": "2025-02-13T09:02:28.231Z"
   },
   {
    "duration": 889,
    "start_time": "2025-02-13T09:02:34.895Z"
   },
   {
    "duration": 4,
    "start_time": "2025-02-13T09:02:37.855Z"
   },
   {
    "duration": 5,
    "start_time": "2025-02-13T09:02:47.215Z"
   },
   {
    "duration": 852,
    "start_time": "2025-02-13T09:02:54.822Z"
   },
   {
    "duration": 3,
    "start_time": "2025-02-13T09:02:58.415Z"
   },
   {
    "duration": 863,
    "start_time": "2025-02-13T09:07:50.851Z"
   },
   {
    "duration": 222,
    "start_time": "2025-02-13T09:08:11.331Z"
   },
   {
    "duration": 201,
    "start_time": "2025-02-13T09:08:24.283Z"
   },
   {
    "duration": 871,
    "start_time": "2025-02-13T09:08:38.908Z"
   },
   {
    "duration": 180,
    "start_time": "2025-02-13T09:08:44.884Z"
   },
   {
    "duration": 874,
    "start_time": "2025-02-13T09:08:54.612Z"
   },
   {
    "duration": 187,
    "start_time": "2025-02-13T09:08:58.620Z"
   },
   {
    "duration": 4,
    "start_time": "2025-02-13T09:09:51.307Z"
   },
   {
    "duration": 66,
    "start_time": "2025-02-13T10:37:40.335Z"
   },
   {
    "duration": 856,
    "start_time": "2025-02-13T10:45:18.946Z"
   },
   {
    "duration": 879,
    "start_time": "2025-02-13T10:45:40.742Z"
   },
   {
    "duration": 838,
    "start_time": "2025-02-13T10:46:06.957Z"
   },
   {
    "duration": 845,
    "start_time": "2025-02-13T10:46:15.845Z"
   },
   {
    "duration": 3,
    "start_time": "2025-02-13T10:48:42.879Z"
   },
   {
    "duration": 13,
    "start_time": "2025-02-13T10:49:56.591Z"
   },
   {
    "duration": 15,
    "start_time": "2025-02-13T10:50:03.982Z"
   },
   {
    "duration": 847,
    "start_time": "2025-02-13T10:50:36.664Z"
   },
   {
    "duration": 835,
    "start_time": "2025-02-13T10:53:28.729Z"
   },
   {
    "duration": 817,
    "start_time": "2025-02-13T10:53:56.688Z"
   },
   {
    "duration": 846,
    "start_time": "2025-02-13T10:54:41.265Z"
   },
   {
    "duration": 821,
    "start_time": "2025-02-13T10:55:26.561Z"
   },
   {
    "duration": 837,
    "start_time": "2025-02-13T10:56:23.153Z"
   },
   {
    "duration": 838,
    "start_time": "2025-02-13T10:59:40.134Z"
   },
   {
    "duration": 831,
    "start_time": "2025-02-13T10:59:57.036Z"
   },
   {
    "duration": 841,
    "start_time": "2025-02-13T11:00:36.525Z"
   },
   {
    "duration": 830,
    "start_time": "2025-02-13T11:01:39.413Z"
   },
   {
    "duration": 4,
    "start_time": "2025-02-13T11:03:46.886Z"
   },
   {
    "duration": 181,
    "start_time": "2025-02-13T11:04:21.267Z"
   },
   {
    "duration": 187,
    "start_time": "2025-02-13T11:05:26.719Z"
   },
   {
    "duration": 194,
    "start_time": "2025-02-13T11:06:26.713Z"
   },
   {
    "duration": 199,
    "start_time": "2025-02-13T11:06:32.713Z"
   },
   {
    "duration": 300,
    "start_time": "2025-02-13T11:06:55.305Z"
   },
   {
    "duration": 4,
    "start_time": "2025-02-13T11:07:25.153Z"
   },
   {
    "duration": 200,
    "start_time": "2025-02-13T11:07:28.889Z"
   },
   {
    "duration": 4,
    "start_time": "2025-02-13T11:07:40.657Z"
   },
   {
    "duration": 195,
    "start_time": "2025-02-13T11:07:44.074Z"
   },
   {
    "duration": 4,
    "start_time": "2025-02-13T11:08:54.938Z"
   },
   {
    "duration": 12,
    "start_time": "2025-02-13T11:08:58.178Z"
   },
   {
    "duration": 3,
    "start_time": "2025-02-13T11:09:10.347Z"
   },
   {
    "duration": 227,
    "start_time": "2025-02-13T11:09:13.034Z"
   },
   {
    "duration": 4,
    "start_time": "2025-02-13T11:09:24.189Z"
   },
   {
    "duration": 222,
    "start_time": "2025-02-13T11:09:27.547Z"
   },
   {
    "duration": 4,
    "start_time": "2025-02-13T11:10:05.731Z"
   },
   {
    "duration": 222,
    "start_time": "2025-02-13T11:10:08.611Z"
   },
   {
    "duration": 239,
    "start_time": "2025-02-13T11:11:13.340Z"
   },
   {
    "duration": 243,
    "start_time": "2025-02-13T11:11:33.101Z"
   },
   {
    "duration": 214,
    "start_time": "2025-02-13T11:24:29.589Z"
   },
   {
    "duration": 212,
    "start_time": "2025-02-13T11:24:39.558Z"
   },
   {
    "duration": 453,
    "start_time": "2025-02-13T11:25:03.836Z"
   },
   {
    "duration": 323,
    "start_time": "2025-02-13T11:26:45.935Z"
   },
   {
    "duration": 390,
    "start_time": "2025-02-13T11:27:17.462Z"
   },
   {
    "duration": 8,
    "start_time": "2025-02-13T11:28:52.190Z"
   },
   {
    "duration": 10,
    "start_time": "2025-02-13T11:31:09.331Z"
   },
   {
    "duration": 8,
    "start_time": "2025-02-13T11:31:17.292Z"
   },
   {
    "duration": 4,
    "start_time": "2025-02-13T11:32:11.001Z"
   },
   {
    "duration": 71,
    "start_time": "2025-02-13T11:32:22.101Z"
   },
   {
    "duration": 2404,
    "start_time": "2025-02-13T11:33:17.148Z"
   },
   {
    "duration": 1477,
    "start_time": "2025-02-13T11:33:19.554Z"
   },
   {
    "duration": 147,
    "start_time": "2025-02-13T11:33:21.033Z"
   },
   {
    "duration": 134,
    "start_time": "2025-02-13T11:33:21.182Z"
   },
   {
    "duration": 136,
    "start_time": "2025-02-13T11:33:21.318Z"
   },
   {
    "duration": 3,
    "start_time": "2025-02-13T11:33:21.458Z"
   },
   {
    "duration": 25,
    "start_time": "2025-02-13T11:33:21.462Z"
   },
   {
    "duration": 73,
    "start_time": "2025-02-13T11:33:21.489Z"
   },
   {
    "duration": 69,
    "start_time": "2025-02-13T11:33:21.564Z"
   },
   {
    "duration": 65,
    "start_time": "2025-02-13T11:33:21.635Z"
   },
   {
    "duration": 21,
    "start_time": "2025-02-13T11:33:21.702Z"
   },
   {
    "duration": 144,
    "start_time": "2025-02-13T11:33:21.725Z"
   },
   {
    "duration": 325,
    "start_time": "2025-02-13T11:33:21.871Z"
   },
   {
    "duration": 4,
    "start_time": "2025-02-13T11:33:22.197Z"
   },
   {
    "duration": 786,
    "start_time": "2025-02-13T11:33:22.202Z"
   },
   {
    "duration": 751,
    "start_time": "2025-02-13T11:33:22.990Z"
   },
   {
    "duration": 882,
    "start_time": "2025-02-13T11:33:23.743Z"
   },
   {
    "duration": 766,
    "start_time": "2025-02-13T11:33:24.626Z"
   },
   {
    "duration": 6,
    "start_time": "2025-02-13T11:33:25.394Z"
   },
   {
    "duration": 819,
    "start_time": "2025-02-13T11:33:25.401Z"
   },
   {
    "duration": 792,
    "start_time": "2025-02-13T11:33:26.222Z"
   },
   {
    "duration": 721,
    "start_time": "2025-02-13T11:33:27.015Z"
   },
   {
    "duration": 825,
    "start_time": "2025-02-13T11:33:27.738Z"
   },
   {
    "duration": 6,
    "start_time": "2025-02-13T11:33:28.565Z"
   },
   {
    "duration": 869,
    "start_time": "2025-02-13T11:33:28.572Z"
   },
   {
    "duration": 794,
    "start_time": "2025-02-13T11:33:29.442Z"
   },
   {
    "duration": 774,
    "start_time": "2025-02-13T11:33:30.237Z"
   },
   {
    "duration": 768,
    "start_time": "2025-02-13T11:33:31.015Z"
   },
   {
    "duration": 5,
    "start_time": "2025-02-13T11:33:31.785Z"
   },
   {
    "duration": 4,
    "start_time": "2025-02-13T11:33:31.791Z"
   },
   {
    "duration": 9,
    "start_time": "2025-02-13T11:33:31.797Z"
   },
   {
    "duration": 728,
    "start_time": "2025-02-13T11:33:31.807Z"
   },
   {
    "duration": 714,
    "start_time": "2025-02-13T11:33:32.537Z"
   },
   {
    "duration": 594,
    "start_time": "2025-02-13T11:33:33.257Z"
   },
   {
    "duration": 2,
    "start_time": "2025-02-13T11:33:33.858Z"
   },
   {
    "duration": 6,
    "start_time": "2025-02-13T11:33:33.862Z"
   },
   {
    "duration": 25,
    "start_time": "2025-02-13T11:33:33.869Z"
   },
   {
    "duration": 465,
    "start_time": "2025-02-13T11:33:33.896Z"
   },
   {
    "duration": 197,
    "start_time": "2025-02-13T11:33:34.364Z"
   },
   {
    "duration": 102,
    "start_time": "2025-02-13T11:33:34.564Z"
   },
   {
    "duration": 30,
    "start_time": "2025-02-13T11:33:34.667Z"
   },
   {
    "duration": 462,
    "start_time": "2025-02-13T11:33:34.699Z"
   },
   {
    "duration": 108,
    "start_time": "2025-02-13T11:33:35.163Z"
   },
   {
    "duration": 189,
    "start_time": "2025-02-13T11:33:35.272Z"
   },
   {
    "duration": 24,
    "start_time": "2025-02-13T11:33:35.463Z"
   },
   {
    "duration": 376,
    "start_time": "2025-02-13T11:33:35.488Z"
   },
   {
    "duration": 196,
    "start_time": "2025-02-13T11:33:35.867Z"
   },
   {
    "duration": 15,
    "start_time": "2025-02-13T11:33:36.157Z"
   },
   {
    "duration": 3,
    "start_time": "2025-02-13T11:33:36.173Z"
   },
   {
    "duration": 13,
    "start_time": "2025-02-13T11:33:36.178Z"
   },
   {
    "duration": 4,
    "start_time": "2025-02-13T11:33:36.193Z"
   },
   {
    "duration": 64,
    "start_time": "2025-02-13T11:33:36.199Z"
   },
   {
    "duration": 4,
    "start_time": "2025-02-13T11:33:36.264Z"
   },
   {
    "duration": 6,
    "start_time": "2025-02-13T11:33:36.269Z"
   },
   {
    "duration": 16,
    "start_time": "2025-02-13T11:33:36.276Z"
   },
   {
    "duration": 4,
    "start_time": "2025-02-13T11:33:36.294Z"
   },
   {
    "duration": 6,
    "start_time": "2025-02-13T11:33:36.299Z"
   },
   {
    "duration": 863,
    "start_time": "2025-02-13T11:33:36.306Z"
   },
   {
    "duration": 234,
    "start_time": "2025-02-13T11:33:37.171Z"
   },
   {
    "duration": 872,
    "start_time": "2025-02-13T11:33:37.407Z"
   },
   {
    "duration": 327,
    "start_time": "2025-02-13T11:33:38.280Z"
   },
   {
    "duration": 888,
    "start_time": "2025-02-13T11:33:38.609Z"
   },
   {
    "duration": 235,
    "start_time": "2025-02-13T11:33:39.499Z"
   },
   {
    "duration": 4,
    "start_time": "2025-02-13T11:33:39.735Z"
   },
   {
    "duration": 85,
    "start_time": "2025-02-13T11:33:39.740Z"
   },
   {
    "duration": 0,
    "start_time": "2025-02-13T11:33:39.827Z"
   },
   {
    "duration": 9,
    "start_time": "2025-02-13T11:33:48.884Z"
   },
   {
    "duration": 77,
    "start_time": "2025-02-13T11:34:23.680Z"
   },
   {
    "duration": 4,
    "start_time": "2025-02-13T11:35:06.176Z"
   },
   {
    "duration": 5,
    "start_time": "2025-02-13T11:35:23.776Z"
   },
   {
    "duration": 11,
    "start_time": "2025-02-13T11:37:19.399Z"
   },
   {
    "duration": 68,
    "start_time": "2025-02-13T11:39:35.696Z"
   },
   {
    "duration": 12,
    "start_time": "2025-02-13T11:39:45.065Z"
   },
   {
    "duration": 11,
    "start_time": "2025-02-13T11:40:48.475Z"
   },
   {
    "duration": 11,
    "start_time": "2025-02-13T11:40:56.538Z"
   },
   {
    "duration": 116,
    "start_time": "2025-02-13T11:42:48.436Z"
   },
   {
    "duration": 12,
    "start_time": "2025-02-13T11:43:07.286Z"
   },
   {
    "duration": 13,
    "start_time": "2025-02-13T11:43:38.952Z"
   },
   {
    "duration": 12,
    "start_time": "2025-02-13T11:43:57.596Z"
   },
   {
    "duration": 12,
    "start_time": "2025-02-13T11:44:43.043Z"
   },
   {
    "duration": 12,
    "start_time": "2025-02-13T11:45:52.633Z"
   },
   {
    "duration": 15,
    "start_time": "2025-02-13T11:46:09.775Z"
   },
   {
    "duration": 499,
    "start_time": "2025-02-13T11:48:01.768Z"
   },
   {
    "duration": 597,
    "start_time": "2025-02-13T11:48:36.201Z"
   },
   {
    "duration": 537,
    "start_time": "2025-02-13T11:49:51.339Z"
   },
   {
    "duration": 500,
    "start_time": "2025-02-13T11:50:18.412Z"
   },
   {
    "duration": 507,
    "start_time": "2025-02-13T11:51:22.656Z"
   },
   {
    "duration": 4,
    "start_time": "2025-02-13T12:20:28.289Z"
   },
   {
    "duration": 2454,
    "start_time": "2025-02-13T12:25:59.367Z"
   },
   {
    "duration": 1441,
    "start_time": "2025-02-13T12:26:01.823Z"
   },
   {
    "duration": 152,
    "start_time": "2025-02-13T12:26:03.266Z"
   },
   {
    "duration": 133,
    "start_time": "2025-02-13T12:26:03.420Z"
   },
   {
    "duration": 141,
    "start_time": "2025-02-13T12:26:03.555Z"
   },
   {
    "duration": 3,
    "start_time": "2025-02-13T12:26:03.697Z"
   },
   {
    "duration": 17,
    "start_time": "2025-02-13T12:26:03.702Z"
   },
   {
    "duration": 73,
    "start_time": "2025-02-13T12:26:03.721Z"
   },
   {
    "duration": 70,
    "start_time": "2025-02-13T12:26:03.796Z"
   },
   {
    "duration": 57,
    "start_time": "2025-02-13T12:26:03.867Z"
   },
   {
    "duration": 44,
    "start_time": "2025-02-13T12:26:03.925Z"
   },
   {
    "duration": 148,
    "start_time": "2025-02-13T12:26:03.970Z"
   },
   {
    "duration": 357,
    "start_time": "2025-02-13T12:26:04.119Z"
   },
   {
    "duration": 4,
    "start_time": "2025-02-13T12:26:04.479Z"
   },
   {
    "duration": 834,
    "start_time": "2025-02-13T12:26:04.485Z"
   },
   {
    "duration": 729,
    "start_time": "2025-02-13T12:26:05.321Z"
   },
   {
    "duration": 876,
    "start_time": "2025-02-13T12:26:06.052Z"
   },
   {
    "duration": 749,
    "start_time": "2025-02-13T12:26:06.930Z"
   },
   {
    "duration": 5,
    "start_time": "2025-02-13T12:26:07.681Z"
   },
   {
    "duration": 819,
    "start_time": "2025-02-13T12:26:07.687Z"
   },
   {
    "duration": 820,
    "start_time": "2025-02-13T12:26:08.508Z"
   },
   {
    "duration": 708,
    "start_time": "2025-02-13T12:26:09.329Z"
   },
   {
    "duration": 813,
    "start_time": "2025-02-13T12:26:10.038Z"
   },
   {
    "duration": 6,
    "start_time": "2025-02-13T12:26:10.857Z"
   },
   {
    "duration": 811,
    "start_time": "2025-02-13T12:26:10.865Z"
   },
   {
    "duration": 851,
    "start_time": "2025-02-13T12:26:11.677Z"
   },
   {
    "duration": 781,
    "start_time": "2025-02-13T12:26:12.530Z"
   },
   {
    "duration": 760,
    "start_time": "2025-02-13T12:26:13.312Z"
   },
   {
    "duration": 5,
    "start_time": "2025-02-13T12:26:14.074Z"
   },
   {
    "duration": 3,
    "start_time": "2025-02-13T12:26:14.080Z"
   },
   {
    "duration": 10,
    "start_time": "2025-02-13T12:26:14.085Z"
   },
   {
    "duration": 730,
    "start_time": "2025-02-13T12:26:14.097Z"
   },
   {
    "duration": 733,
    "start_time": "2025-02-13T12:26:14.828Z"
   },
   {
    "duration": 607,
    "start_time": "2025-02-13T12:26:15.562Z"
   },
   {
    "duration": 3,
    "start_time": "2025-02-13T12:26:16.170Z"
   },
   {
    "duration": 4,
    "start_time": "2025-02-13T12:26:16.175Z"
   },
   {
    "duration": 31,
    "start_time": "2025-02-13T12:26:16.181Z"
   },
   {
    "duration": 448,
    "start_time": "2025-02-13T12:26:16.214Z"
   },
   {
    "duration": 194,
    "start_time": "2025-02-13T12:26:16.664Z"
   },
   {
    "duration": 103,
    "start_time": "2025-02-13T12:26:16.861Z"
   },
   {
    "duration": 24,
    "start_time": "2025-02-13T12:26:16.968Z"
   },
   {
    "duration": 469,
    "start_time": "2025-02-13T12:26:16.994Z"
   },
   {
    "duration": 200,
    "start_time": "2025-02-13T12:26:17.465Z"
   },
   {
    "duration": 99,
    "start_time": "2025-02-13T12:26:17.669Z"
   },
   {
    "duration": 25,
    "start_time": "2025-02-13T12:26:17.769Z"
   },
   {
    "duration": 570,
    "start_time": "2025-02-13T12:26:17.795Z"
   },
   {
    "duration": 194,
    "start_time": "2025-02-13T12:26:18.367Z"
   },
   {
    "duration": 109,
    "start_time": "2025-02-13T12:26:18.564Z"
   },
   {
    "duration": 3,
    "start_time": "2025-02-13T12:26:18.677Z"
   },
   {
    "duration": 76,
    "start_time": "2025-02-13T12:26:18.682Z"
   },
   {
    "duration": 4,
    "start_time": "2025-02-13T12:26:18.760Z"
   },
   {
    "duration": 11,
    "start_time": "2025-02-13T12:26:18.765Z"
   },
   {
    "duration": 5,
    "start_time": "2025-02-13T12:26:18.777Z"
   },
   {
    "duration": 4,
    "start_time": "2025-02-13T12:26:18.783Z"
   },
   {
    "duration": 16,
    "start_time": "2025-02-13T12:26:18.788Z"
   },
   {
    "duration": 5,
    "start_time": "2025-02-13T12:26:18.805Z"
   },
   {
    "duration": 4,
    "start_time": "2025-02-13T12:26:18.811Z"
   },
   {
    "duration": 883,
    "start_time": "2025-02-13T12:26:18.817Z"
   },
   {
    "duration": 230,
    "start_time": "2025-02-13T12:26:19.702Z"
   },
   {
    "duration": 850,
    "start_time": "2025-02-13T12:26:19.933Z"
   },
   {
    "duration": 258,
    "start_time": "2025-02-13T12:26:20.785Z"
   },
   {
    "duration": 907,
    "start_time": "2025-02-13T12:26:21.045Z"
   },
   {
    "duration": 242,
    "start_time": "2025-02-13T12:26:21.954Z"
   },
   {
    "duration": 521,
    "start_time": "2025-02-13T12:26:22.198Z"
   },
   {
    "duration": 75,
    "start_time": "2025-02-14T05:33:59.044Z"
   },
   {
    "duration": 3536,
    "start_time": "2025-02-14T05:36:45.577Z"
   },
   {
    "duration": 1634,
    "start_time": "2025-02-14T05:36:49.116Z"
   },
   {
    "duration": 142,
    "start_time": "2025-02-14T05:36:50.752Z"
   },
   {
    "duration": 137,
    "start_time": "2025-02-14T05:36:50.896Z"
   },
   {
    "duration": 140,
    "start_time": "2025-02-14T05:36:51.036Z"
   },
   {
    "duration": 3,
    "start_time": "2025-02-14T05:36:51.178Z"
   },
   {
    "duration": 7,
    "start_time": "2025-02-14T05:36:51.182Z"
   },
   {
    "duration": 73,
    "start_time": "2025-02-14T05:36:51.190Z"
   },
   {
    "duration": 70,
    "start_time": "2025-02-14T05:36:51.265Z"
   },
   {
    "duration": 55,
    "start_time": "2025-02-14T05:36:51.337Z"
   },
   {
    "duration": 23,
    "start_time": "2025-02-14T05:36:51.413Z"
   },
   {
    "duration": 154,
    "start_time": "2025-02-14T05:36:51.438Z"
   },
   {
    "duration": 338,
    "start_time": "2025-02-14T05:36:51.593Z"
   },
   {
    "duration": 4,
    "start_time": "2025-02-14T05:36:51.934Z"
   },
   {
    "duration": 830,
    "start_time": "2025-02-14T05:36:51.940Z"
   },
   {
    "duration": 776,
    "start_time": "2025-02-14T05:36:52.772Z"
   },
   {
    "duration": 970,
    "start_time": "2025-02-14T05:36:53.550Z"
   },
   {
    "duration": 835,
    "start_time": "2025-02-14T05:36:54.523Z"
   },
   {
    "duration": 6,
    "start_time": "2025-02-14T05:36:55.359Z"
   },
   {
    "duration": 837,
    "start_time": "2025-02-14T05:36:55.367Z"
   },
   {
    "duration": 790,
    "start_time": "2025-02-14T05:36:56.206Z"
   },
   {
    "duration": 727,
    "start_time": "2025-02-14T05:36:56.998Z"
   },
   {
    "duration": 901,
    "start_time": "2025-02-14T05:36:57.726Z"
   },
   {
    "duration": 7,
    "start_time": "2025-02-14T05:36:58.629Z"
   },
   {
    "duration": 888,
    "start_time": "2025-02-14T05:36:58.637Z"
   },
   {
    "duration": 889,
    "start_time": "2025-02-14T05:36:59.527Z"
   },
   {
    "duration": 790,
    "start_time": "2025-02-14T05:37:00.418Z"
   },
   {
    "duration": 747,
    "start_time": "2025-02-14T05:37:01.213Z"
   },
   {
    "duration": 5,
    "start_time": "2025-02-14T05:37:01.962Z"
   },
   {
    "duration": 5,
    "start_time": "2025-02-14T05:37:01.969Z"
   },
   {
    "duration": 21,
    "start_time": "2025-02-14T05:37:01.976Z"
   },
   {
    "duration": 704,
    "start_time": "2025-02-14T05:37:01.998Z"
   },
   {
    "duration": 794,
    "start_time": "2025-02-14T05:37:02.704Z"
   },
   {
    "duration": 624,
    "start_time": "2025-02-14T05:37:03.500Z"
   },
   {
    "duration": 2,
    "start_time": "2025-02-14T05:37:04.126Z"
   },
   {
    "duration": 51,
    "start_time": "2025-02-14T05:37:04.130Z"
   },
   {
    "duration": 28,
    "start_time": "2025-02-14T05:37:04.182Z"
   },
   {
    "duration": 405,
    "start_time": "2025-02-14T05:37:04.212Z"
   },
   {
    "duration": 101,
    "start_time": "2025-02-14T05:37:04.620Z"
   },
   {
    "duration": 196,
    "start_time": "2025-02-14T05:37:04.723Z"
   },
   {
    "duration": 23,
    "start_time": "2025-02-14T05:37:04.924Z"
   },
   {
    "duration": 468,
    "start_time": "2025-02-14T05:37:04.949Z"
   },
   {
    "duration": 199,
    "start_time": "2025-02-14T05:37:05.419Z"
   },
   {
    "duration": 106,
    "start_time": "2025-02-14T05:37:05.620Z"
   },
   {
    "duration": 108,
    "start_time": "2025-02-14T05:37:05.729Z"
   },
   {
    "duration": 476,
    "start_time": "2025-02-14T05:37:05.839Z"
   },
   {
    "duration": 104,
    "start_time": "2025-02-14T05:37:06.323Z"
   },
   {
    "duration": 183,
    "start_time": "2025-02-14T05:37:06.432Z"
   },
   {
    "duration": 15,
    "start_time": "2025-02-14T05:37:06.617Z"
   },
   {
    "duration": 4,
    "start_time": "2025-02-14T05:37:06.634Z"
   },
   {
    "duration": 4,
    "start_time": "2025-02-14T05:37:06.640Z"
   },
   {
    "duration": 11,
    "start_time": "2025-02-14T05:37:06.645Z"
   },
   {
    "duration": 91,
    "start_time": "2025-02-14T05:37:06.658Z"
   },
   {
    "duration": 10,
    "start_time": "2025-02-14T05:37:06.750Z"
   },
   {
    "duration": 15,
    "start_time": "2025-02-14T05:37:06.762Z"
   },
   {
    "duration": 4,
    "start_time": "2025-02-14T05:37:06.779Z"
   },
   {
    "duration": 14,
    "start_time": "2025-02-14T05:37:06.785Z"
   },
   {
    "duration": 874,
    "start_time": "2025-02-14T05:37:06.800Z"
   },
   {
    "duration": 244,
    "start_time": "2025-02-14T05:37:07.676Z"
   },
   {
    "duration": 883,
    "start_time": "2025-02-14T05:37:07.921Z"
   },
   {
    "duration": 270,
    "start_time": "2025-02-14T05:37:08.806Z"
   },
   {
    "duration": 892,
    "start_time": "2025-02-14T05:37:09.078Z"
   },
   {
    "duration": 260,
    "start_time": "2025-02-14T05:37:09.972Z"
   },
   {
    "duration": 575,
    "start_time": "2025-02-14T05:37:10.234Z"
   },
   {
    "duration": 11,
    "start_time": "2025-02-14T05:37:50.075Z"
   },
   {
    "duration": 15,
    "start_time": "2025-02-14T05:40:52.547Z"
   },
   {
    "duration": 14,
    "start_time": "2025-02-14T05:41:01.685Z"
   },
   {
    "duration": 15,
    "start_time": "2025-02-14T05:41:24.675Z"
   },
   {
    "duration": 11,
    "start_time": "2025-02-14T05:41:43.251Z"
   },
   {
    "duration": 9,
    "start_time": "2025-02-14T05:41:50.515Z"
   },
   {
    "duration": 65,
    "start_time": "2025-02-14T05:42:53.579Z"
   },
   {
    "duration": 3,
    "start_time": "2025-02-14T05:43:00.719Z"
   },
   {
    "duration": 121,
    "start_time": "2025-02-14T05:43:39.372Z"
   },
   {
    "duration": 20,
    "start_time": "2025-02-14T05:44:10.983Z"
   },
   {
    "duration": 3,
    "start_time": "2025-02-14T05:44:24.837Z"
   },
   {
    "duration": 4,
    "start_time": "2025-02-14T05:44:30.902Z"
   },
   {
    "duration": 21,
    "start_time": "2025-02-14T05:44:36.989Z"
   },
   {
    "duration": 5,
    "start_time": "2025-02-14T05:44:55.101Z"
   },
   {
    "duration": 26,
    "start_time": "2025-02-14T05:45:01.157Z"
   },
   {
    "duration": 1370,
    "start_time": "2025-02-14T05:47:26.951Z"
   },
   {
    "duration": 13,
    "start_time": "2025-02-14T05:49:02.119Z"
   },
   {
    "duration": 4,
    "start_time": "2025-02-14T05:50:33.288Z"
   },
   {
    "duration": 4,
    "start_time": "2025-02-14T05:50:35.513Z"
   },
   {
    "duration": 1338,
    "start_time": "2025-02-14T05:50:38.792Z"
   },
   {
    "duration": 341,
    "start_time": "2025-02-14T05:51:19.075Z"
   },
   {
    "duration": 17,
    "start_time": "2025-02-14T05:51:36.163Z"
   },
   {
    "duration": 1392,
    "start_time": "2025-02-14T05:51:46.018Z"
   },
   {
    "duration": 254,
    "start_time": "2025-02-14T05:59:33.526Z"
   },
   {
    "duration": 18,
    "start_time": "2025-02-14T06:01:25.597Z"
   },
   {
    "duration": 1325,
    "start_time": "2025-02-14T06:01:31.382Z"
   },
   {
    "duration": 452,
    "start_time": "2025-02-14T06:02:18.952Z"
   },
   {
    "duration": 3,
    "start_time": "2025-02-14T06:04:37.555Z"
   },
   {
    "duration": 200,
    "start_time": "2025-02-14T06:04:42.080Z"
   },
   {
    "duration": 4,
    "start_time": "2025-02-14T06:05:18.653Z"
   },
   {
    "duration": 146,
    "start_time": "2025-02-14T06:05:21.618Z"
   },
   {
    "duration": 4,
    "start_time": "2025-02-14T06:07:22.593Z"
   },
   {
    "duration": 143,
    "start_time": "2025-02-14T06:07:28.050Z"
   },
   {
    "duration": 6,
    "start_time": "2025-02-14T06:13:06.093Z"
   },
   {
    "duration": 18,
    "start_time": "2025-02-14T06:13:10.044Z"
   },
   {
    "duration": 4,
    "start_time": "2025-02-14T06:13:19.029Z"
   },
   {
    "duration": 29,
    "start_time": "2025-02-14T06:13:22.522Z"
   },
   {
    "duration": 3,
    "start_time": "2025-02-14T06:17:26.431Z"
   },
   {
    "duration": 300,
    "start_time": "2025-02-14T06:17:30.432Z"
   },
   {
    "duration": 151,
    "start_time": "2025-02-14T06:18:00.018Z"
   },
   {
    "duration": 396,
    "start_time": "2025-02-14T06:18:31.729Z"
   },
   {
    "duration": 11,
    "start_time": "2025-02-14T06:19:03.008Z"
   },
   {
    "duration": 144,
    "start_time": "2025-02-14T06:19:09.887Z"
   },
   {
    "duration": 14,
    "start_time": "2025-02-14T06:19:48.848Z"
   },
   {
    "duration": 119,
    "start_time": "2025-02-14T06:19:59.826Z"
   },
   {
    "duration": 4,
    "start_time": "2025-02-14T06:24:42.699Z"
   },
   {
    "duration": 151,
    "start_time": "2025-02-14T06:24:45.955Z"
   },
   {
    "duration": 4,
    "start_time": "2025-02-14T06:25:41.329Z"
   },
   {
    "duration": 243,
    "start_time": "2025-02-14T06:25:45.283Z"
   },
   {
    "duration": 5,
    "start_time": "2025-02-14T06:38:11.659Z"
   },
   {
    "duration": 258,
    "start_time": "2025-02-14T06:42:50.276Z"
   },
   {
    "duration": 4,
    "start_time": "2025-02-14T06:44:28.806Z"
   },
   {
    "duration": 264,
    "start_time": "2025-02-14T06:44:32.030Z"
   },
   {
    "duration": 5,
    "start_time": "2025-02-14T06:48:11.896Z"
   },
   {
    "duration": 255,
    "start_time": "2025-02-14T06:48:16.193Z"
   },
   {
    "duration": 359,
    "start_time": "2025-02-14T06:49:01.890Z"
   },
   {
    "duration": 7,
    "start_time": "2025-02-14T06:49:21.088Z"
   },
   {
    "duration": 268,
    "start_time": "2025-02-14T06:49:24.168Z"
   },
   {
    "duration": 5,
    "start_time": "2025-02-14T06:51:33.659Z"
   },
   {
    "duration": 354,
    "start_time": "2025-02-14T06:51:37.146Z"
   },
   {
    "duration": 4,
    "start_time": "2025-02-14T06:52:04.626Z"
   },
   {
    "duration": 136,
    "start_time": "2025-02-14T06:52:07.633Z"
   },
   {
    "duration": 4,
    "start_time": "2025-02-14T06:52:54.250Z"
   },
   {
    "duration": 348,
    "start_time": "2025-02-14T06:52:57.473Z"
   },
   {
    "duration": 5,
    "start_time": "2025-02-14T06:56:42.843Z"
   },
   {
    "duration": 387,
    "start_time": "2025-02-14T06:56:45.718Z"
   },
   {
    "duration": 5,
    "start_time": "2025-02-14T06:57:25.941Z"
   },
   {
    "duration": 346,
    "start_time": "2025-02-14T06:57:29.053Z"
   },
   {
    "duration": 5,
    "start_time": "2025-02-14T06:59:20.670Z"
   },
   {
    "duration": 535,
    "start_time": "2025-02-14T06:59:23.888Z"
   },
   {
    "duration": 5,
    "start_time": "2025-02-14T06:59:32.140Z"
   },
   {
    "duration": 5,
    "start_time": "2025-02-14T07:00:28.582Z"
   },
   {
    "duration": 431,
    "start_time": "2025-02-14T07:00:35.935Z"
   },
   {
    "duration": 4,
    "start_time": "2025-02-14T07:01:53.741Z"
   },
   {
    "duration": 279,
    "start_time": "2025-02-14T07:01:57.592Z"
   },
   {
    "duration": 4,
    "start_time": "2025-02-14T07:02:22.888Z"
   },
   {
    "duration": 299,
    "start_time": "2025-02-14T07:02:25.927Z"
   },
   {
    "duration": 5,
    "start_time": "2025-02-14T07:02:33.970Z"
   },
   {
    "duration": 422,
    "start_time": "2025-02-14T07:02:37.128Z"
   },
   {
    "duration": 5,
    "start_time": "2025-02-14T07:02:56.714Z"
   },
   {
    "duration": 424,
    "start_time": "2025-02-14T07:03:01.151Z"
   },
   {
    "duration": 5,
    "start_time": "2025-02-14T07:03:31.689Z"
   },
   {
    "duration": 513,
    "start_time": "2025-02-14T07:03:35.791Z"
   },
   {
    "duration": 4,
    "start_time": "2025-02-14T07:03:49.800Z"
   },
   {
    "duration": 407,
    "start_time": "2025-02-14T07:03:52.569Z"
   },
   {
    "duration": 5,
    "start_time": "2025-02-14T07:04:17.855Z"
   },
   {
    "duration": 413,
    "start_time": "2025-02-14T07:04:21.049Z"
   },
   {
    "duration": 5,
    "start_time": "2025-02-14T07:04:52.209Z"
   },
   {
    "duration": 381,
    "start_time": "2025-02-14T07:04:57.415Z"
   },
   {
    "duration": 5,
    "start_time": "2025-02-14T07:05:32.874Z"
   },
   {
    "duration": 424,
    "start_time": "2025-02-14T07:05:36.353Z"
   },
   {
    "duration": 5,
    "start_time": "2025-02-14T07:05:53.729Z"
   },
   {
    "duration": 461,
    "start_time": "2025-02-14T07:05:56.907Z"
   },
   {
    "duration": 5,
    "start_time": "2025-02-14T07:06:20.091Z"
   },
   {
    "duration": 450,
    "start_time": "2025-02-14T07:06:22.850Z"
   },
   {
    "duration": 415,
    "start_time": "2025-02-14T07:09:06.739Z"
   },
   {
    "duration": 431,
    "start_time": "2025-02-14T07:09:18.860Z"
   },
   {
    "duration": 2521,
    "start_time": "2025-02-14T07:21:51.678Z"
   },
   {
    "duration": 1498,
    "start_time": "2025-02-14T07:21:54.201Z"
   },
   {
    "duration": 142,
    "start_time": "2025-02-14T07:21:55.701Z"
   },
   {
    "duration": 138,
    "start_time": "2025-02-14T07:21:55.845Z"
   },
   {
    "duration": 160,
    "start_time": "2025-02-14T07:21:55.984Z"
   },
   {
    "duration": 3,
    "start_time": "2025-02-14T07:21:56.146Z"
   },
   {
    "duration": 4,
    "start_time": "2025-02-14T07:21:56.150Z"
   },
   {
    "duration": 83,
    "start_time": "2025-02-14T07:21:56.156Z"
   },
   {
    "duration": 57,
    "start_time": "2025-02-14T07:21:56.240Z"
   },
   {
    "duration": 56,
    "start_time": "2025-02-14T07:21:56.315Z"
   },
   {
    "duration": 41,
    "start_time": "2025-02-14T07:21:56.373Z"
   },
   {
    "duration": 156,
    "start_time": "2025-02-14T07:21:56.415Z"
   },
   {
    "duration": 342,
    "start_time": "2025-02-14T07:21:56.573Z"
   },
   {
    "duration": 4,
    "start_time": "2025-02-14T07:21:56.916Z"
   },
   {
    "duration": 825,
    "start_time": "2025-02-14T07:21:56.922Z"
   },
   {
    "duration": 744,
    "start_time": "2025-02-14T07:21:57.749Z"
   },
   {
    "duration": 887,
    "start_time": "2025-02-14T07:21:58.494Z"
   },
   {
    "duration": 735,
    "start_time": "2025-02-14T07:21:59.383Z"
   },
   {
    "duration": 5,
    "start_time": "2025-02-14T07:22:00.120Z"
   },
   {
    "duration": 853,
    "start_time": "2025-02-14T07:22:00.127Z"
   },
   {
    "duration": 842,
    "start_time": "2025-02-14T07:22:00.981Z"
   },
   {
    "duration": 792,
    "start_time": "2025-02-14T07:22:01.824Z"
   },
   {
    "duration": 851,
    "start_time": "2025-02-14T07:22:02.618Z"
   },
   {
    "duration": 6,
    "start_time": "2025-02-14T07:22:03.470Z"
   },
   {
    "duration": 870,
    "start_time": "2025-02-14T07:22:03.478Z"
   },
   {
    "duration": 875,
    "start_time": "2025-02-14T07:22:04.350Z"
   },
   {
    "duration": 864,
    "start_time": "2025-02-14T07:22:05.227Z"
   },
   {
    "duration": 794,
    "start_time": "2025-02-14T07:22:06.096Z"
   },
   {
    "duration": 7,
    "start_time": "2025-02-14T07:22:06.893Z"
   },
   {
    "duration": 5,
    "start_time": "2025-02-14T07:22:06.913Z"
   },
   {
    "duration": 11,
    "start_time": "2025-02-14T07:22:06.920Z"
   },
   {
    "duration": 797,
    "start_time": "2025-02-14T07:22:06.933Z"
   },
   {
    "duration": 790,
    "start_time": "2025-02-14T07:22:07.732Z"
   },
   {
    "duration": 640,
    "start_time": "2025-02-14T07:22:08.523Z"
   },
   {
    "duration": 3,
    "start_time": "2025-02-14T07:22:09.164Z"
   },
   {
    "duration": 6,
    "start_time": "2025-02-14T07:22:09.168Z"
   },
   {
    "duration": 37,
    "start_time": "2025-02-14T07:22:09.176Z"
   },
   {
    "duration": 500,
    "start_time": "2025-02-14T07:22:09.215Z"
   },
   {
    "duration": 109,
    "start_time": "2025-02-14T07:22:09.717Z"
   },
   {
    "duration": 189,
    "start_time": "2025-02-14T07:22:09.831Z"
   },
   {
    "duration": 24,
    "start_time": "2025-02-14T07:22:10.022Z"
   },
   {
    "duration": 470,
    "start_time": "2025-02-14T07:22:10.048Z"
   },
   {
    "duration": 195,
    "start_time": "2025-02-14T07:22:10.520Z"
   },
   {
    "duration": 105,
    "start_time": "2025-02-14T07:22:10.717Z"
   },
   {
    "duration": 27,
    "start_time": "2025-02-14T07:22:10.824Z"
   },
   {
    "duration": 465,
    "start_time": "2025-02-14T07:22:10.853Z"
   },
   {
    "duration": 198,
    "start_time": "2025-02-14T07:22:11.320Z"
   },
   {
    "duration": 104,
    "start_time": "2025-02-14T07:22:11.520Z"
   },
   {
    "duration": 3,
    "start_time": "2025-02-14T07:22:11.625Z"
   },
   {
    "duration": 85,
    "start_time": "2025-02-14T07:22:11.630Z"
   },
   {
    "duration": 3,
    "start_time": "2025-02-14T07:22:11.717Z"
   },
   {
    "duration": 11,
    "start_time": "2025-02-14T07:22:11.722Z"
   },
   {
    "duration": 4,
    "start_time": "2025-02-14T07:22:11.734Z"
   },
   {
    "duration": 4,
    "start_time": "2025-02-14T07:22:11.739Z"
   },
   {
    "duration": 20,
    "start_time": "2025-02-14T07:22:11.745Z"
   },
   {
    "duration": 4,
    "start_time": "2025-02-14T07:22:11.767Z"
   },
   {
    "duration": 42,
    "start_time": "2025-02-14T07:22:11.773Z"
   },
   {
    "duration": 1399,
    "start_time": "2025-02-14T07:22:11.817Z"
   },
   {
    "duration": 390,
    "start_time": "2025-02-14T07:22:13.218Z"
   },
   {
    "duration": 1300,
    "start_time": "2025-02-14T07:22:13.609Z"
   },
   {
    "duration": 383,
    "start_time": "2025-02-14T07:22:14.913Z"
   },
   {
    "duration": 1376,
    "start_time": "2025-02-14T07:22:15.298Z"
   },
   {
    "duration": 391,
    "start_time": "2025-02-14T07:22:16.675Z"
   },
   {
    "duration": 452,
    "start_time": "2025-02-14T07:22:17.068Z"
   },
   {
    "duration": 49,
    "start_time": "2025-02-14T09:26:01.601Z"
   },
   {
    "duration": 3330,
    "start_time": "2025-02-14T09:26:29.484Z"
   },
   {
    "duration": 1586,
    "start_time": "2025-02-14T09:26:32.817Z"
   },
   {
    "duration": 151,
    "start_time": "2025-02-14T09:26:34.405Z"
   },
   {
    "duration": 129,
    "start_time": "2025-02-14T09:26:34.557Z"
   },
   {
    "duration": 128,
    "start_time": "2025-02-14T09:26:34.688Z"
   },
   {
    "duration": 3,
    "start_time": "2025-02-14T09:26:34.817Z"
   },
   {
    "duration": 10,
    "start_time": "2025-02-14T09:26:34.821Z"
   },
   {
    "duration": 67,
    "start_time": "2025-02-14T09:26:34.832Z"
   },
   {
    "duration": 53,
    "start_time": "2025-02-14T09:26:34.900Z"
   },
   {
    "duration": 68,
    "start_time": "2025-02-14T09:26:34.955Z"
   },
   {
    "duration": 22,
    "start_time": "2025-02-14T09:26:35.025Z"
   },
   {
    "duration": 148,
    "start_time": "2025-02-14T09:26:35.049Z"
   },
   {
    "duration": 318,
    "start_time": "2025-02-14T09:26:35.199Z"
   },
   {
    "duration": 3,
    "start_time": "2025-02-14T09:26:35.520Z"
   },
   {
    "duration": 759,
    "start_time": "2025-02-14T09:26:35.525Z"
   },
   {
    "duration": 647,
    "start_time": "2025-02-14T09:26:36.286Z"
   },
   {
    "duration": 897,
    "start_time": "2025-02-14T09:26:36.934Z"
   },
   {
    "duration": 723,
    "start_time": "2025-02-14T09:26:37.832Z"
   },
   {
    "duration": 5,
    "start_time": "2025-02-14T09:26:38.557Z"
   },
   {
    "duration": 742,
    "start_time": "2025-02-14T09:26:38.574Z"
   },
   {
    "duration": 793,
    "start_time": "2025-02-14T09:26:39.317Z"
   },
   {
    "duration": 740,
    "start_time": "2025-02-14T09:26:40.112Z"
   },
   {
    "duration": 860,
    "start_time": "2025-02-14T09:26:40.854Z"
   },
   {
    "duration": 6,
    "start_time": "2025-02-14T09:26:41.716Z"
   },
   {
    "duration": 839,
    "start_time": "2025-02-14T09:26:41.723Z"
   },
   {
    "duration": 822,
    "start_time": "2025-02-14T09:26:42.563Z"
   },
   {
    "duration": 868,
    "start_time": "2025-02-14T09:26:43.387Z"
   },
   {
    "duration": 711,
    "start_time": "2025-02-14T09:26:44.257Z"
   },
   {
    "duration": 7,
    "start_time": "2025-02-14T09:26:44.969Z"
   },
   {
    "duration": 4,
    "start_time": "2025-02-14T09:26:44.977Z"
   },
   {
    "duration": 15,
    "start_time": "2025-02-14T09:26:44.983Z"
   },
   {
    "duration": 660,
    "start_time": "2025-02-14T09:26:44.999Z"
   },
   {
    "duration": 692,
    "start_time": "2025-02-14T09:26:45.661Z"
   },
   {
    "duration": 595,
    "start_time": "2025-02-14T09:26:46.355Z"
   },
   {
    "duration": 3,
    "start_time": "2025-02-14T09:26:46.951Z"
   },
   {
    "duration": 18,
    "start_time": "2025-02-14T09:26:46.956Z"
   },
   {
    "duration": 23,
    "start_time": "2025-02-14T09:26:46.976Z"
   },
   {
    "duration": 477,
    "start_time": "2025-02-14T09:26:47.001Z"
   },
   {
    "duration": 102,
    "start_time": "2025-02-14T09:26:47.480Z"
   },
   {
    "duration": 191,
    "start_time": "2025-02-14T09:26:47.585Z"
   },
   {
    "duration": 25,
    "start_time": "2025-02-14T09:26:47.781Z"
   },
   {
    "duration": 474,
    "start_time": "2025-02-14T09:26:47.808Z"
   },
   {
    "duration": 98,
    "start_time": "2025-02-14T09:26:48.284Z"
   },
   {
    "duration": 194,
    "start_time": "2025-02-14T09:26:48.385Z"
   },
   {
    "duration": 25,
    "start_time": "2025-02-14T09:26:48.581Z"
   },
   {
    "duration": 475,
    "start_time": "2025-02-14T09:26:48.607Z"
   },
   {
    "duration": 194,
    "start_time": "2025-02-14T09:26:49.084Z"
   },
   {
    "duration": 195,
    "start_time": "2025-02-14T09:26:49.280Z"
   },
   {
    "duration": 2,
    "start_time": "2025-02-14T09:26:49.477Z"
   },
   {
    "duration": 10,
    "start_time": "2025-02-14T09:26:49.481Z"
   },
   {
    "duration": 12,
    "start_time": "2025-02-14T09:26:49.492Z"
   },
   {
    "duration": 12,
    "start_time": "2025-02-14T09:26:49.506Z"
   },
   {
    "duration": 10,
    "start_time": "2025-02-14T09:26:49.519Z"
   },
   {
    "duration": 23,
    "start_time": "2025-02-14T09:26:49.531Z"
   },
   {
    "duration": 36,
    "start_time": "2025-02-14T09:26:49.555Z"
   },
   {
    "duration": 5,
    "start_time": "2025-02-14T09:26:49.592Z"
   },
   {
    "duration": 20,
    "start_time": "2025-02-14T09:26:49.599Z"
   },
   {
    "duration": 1431,
    "start_time": "2025-02-14T09:26:49.620Z"
   },
   {
    "duration": 441,
    "start_time": "2025-02-14T09:26:51.053Z"
   },
   {
    "duration": 1397,
    "start_time": "2025-02-14T09:26:51.496Z"
   },
   {
    "duration": 427,
    "start_time": "2025-02-14T09:26:52.895Z"
   },
   {
    "duration": 1313,
    "start_time": "2025-02-14T09:26:53.324Z"
   },
   {
    "duration": 409,
    "start_time": "2025-02-14T09:26:54.639Z"
   },
   {
    "duration": 430,
    "start_time": "2025-02-14T09:26:55.050Z"
   },
   {
    "duration": 7,
    "start_time": "2025-02-14T09:26:55.482Z"
   }
  ],
  "kernelspec": {
   "display_name": "Python 3 (ipykernel)",
   "language": "python",
   "name": "python3"
  },
  "language_info": {
   "codemirror_mode": {
    "name": "ipython",
    "version": 3
   },
   "file_extension": ".py",
   "mimetype": "text/x-python",
   "name": "python",
   "nbconvert_exporter": "python",
   "pygments_lexer": "ipython3",
   "version": "3.12.4"
  },
  "toc": {
   "base_numbering": 1,
   "nav_menu": {},
   "number_sections": true,
   "sideBar": true,
   "skip_h1_title": true,
   "title_cell": "Table of Contents",
   "title_sidebar": "Contents",
   "toc_cell": false,
   "toc_position": {
    "height": "calc(100% - 180px)",
    "left": "10px",
    "top": "150px",
    "width": "165px"
   },
   "toc_section_display": true,
   "toc_window_display": true
  }
 },
 "nbformat": 4,
 "nbformat_minor": 4
}
