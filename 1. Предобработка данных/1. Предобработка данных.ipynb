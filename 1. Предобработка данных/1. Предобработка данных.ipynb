{
 "cells": [
  {
   "cell_type": "markdown",
   "id": "15887844",
   "metadata": {
    "deletable": false,
    "editable": false,
    "id": "c81daeeb"
   },
   "source": [
    "# Исследование надежности заемщиков\n"
   ]
  },
  {
   "cell_type": "markdown",
   "id": "98b6036a",
   "metadata": {
    "deletable": false,
    "editable": false,
    "id": "827c20bf"
   },
   "source": [
    "Во второй части проекта вы выполните шаги 3 и 4. Их вручную проверит ревьюер.\n",
    "Чтобы вам не пришлось писать код заново для шагов 1 и 2, мы добавили авторские решения в ячейки с кодом. \n",
    "\n"
   ]
  },
  {
   "cell_type": "markdown",
   "id": "c5eb30e5",
   "metadata": {
    "deletable": false,
    "editable": false,
    "id": "744d7639"
   },
   "source": [
    "## Откройте таблицу и изучите общую информацию о данных"
   ]
  },
  {
   "cell_type": "markdown",
   "id": "528926bf",
   "metadata": {
    "deletable": false,
    "editable": false,
    "id": "e7a14c31"
   },
   "source": [
    "**Задание 1. Импортируйте библиотеку pandas. Считайте данные из csv-файла в датафрейм и сохраните в переменную `data`. Путь к файлу:**\n",
    "\n",
    "`/datasets/data.csv`"
   ]
  },
  {
   "cell_type": "code",
   "execution_count": 1,
   "id": "8cfa5734",
   "metadata": {
    "deletable": false,
    "id": "7bcf75c9"
   },
   "outputs": [],
   "source": [
    "import pandas as pd\n",
    "\n",
    "try:\n",
    "    data = pd.read_csv('/datasets/data.csv')\n",
    "except:\n",
    "    data = pd.read_csv('https://code.s3.yandex.net/datasets/data.csv')"
   ]
  },
  {
   "cell_type": "markdown",
   "id": "597b3599",
   "metadata": {
    "deletable": false,
    "editable": false,
    "id": "b8038fe3"
   },
   "source": [
    "**Задание 2. Выведите первые 20 строчек датафрейма `data` на экран.**"
   ]
  },
  {
   "cell_type": "code",
   "execution_count": 2,
   "id": "408bbc3c",
   "metadata": {
    "deletable": false,
    "id": "2a7cab99",
    "outputId": "1a8f3ef2-d323-4ec2-ddf7-89670b5944c4"
   },
   "outputs": [
    {
     "data": {
      "text/html": [
       "<div>\n",
       "<style scoped>\n",
       "    .dataframe tbody tr th:only-of-type {\n",
       "        vertical-align: middle;\n",
       "    }\n",
       "\n",
       "    .dataframe tbody tr th {\n",
       "        vertical-align: top;\n",
       "    }\n",
       "\n",
       "    .dataframe thead th {\n",
       "        text-align: right;\n",
       "    }\n",
       "</style>\n",
       "<table border=\"1\" class=\"dataframe\">\n",
       "  <thead>\n",
       "    <tr style=\"text-align: right;\">\n",
       "      <th></th>\n",
       "      <th>children</th>\n",
       "      <th>days_employed</th>\n",
       "      <th>dob_years</th>\n",
       "      <th>education</th>\n",
       "      <th>education_id</th>\n",
       "      <th>family_status</th>\n",
       "      <th>family_status_id</th>\n",
       "      <th>gender</th>\n",
       "      <th>income_type</th>\n",
       "      <th>debt</th>\n",
       "      <th>total_income</th>\n",
       "      <th>purpose</th>\n",
       "    </tr>\n",
       "  </thead>\n",
       "  <tbody>\n",
       "    <tr>\n",
       "      <th>0</th>\n",
       "      <td>1</td>\n",
       "      <td>-8437.673028</td>\n",
       "      <td>42</td>\n",
       "      <td>высшее</td>\n",
       "      <td>0</td>\n",
       "      <td>женат / замужем</td>\n",
       "      <td>0</td>\n",
       "      <td>F</td>\n",
       "      <td>сотрудник</td>\n",
       "      <td>0</td>\n",
       "      <td>253875.639453</td>\n",
       "      <td>покупка жилья</td>\n",
       "    </tr>\n",
       "    <tr>\n",
       "      <th>1</th>\n",
       "      <td>1</td>\n",
       "      <td>-4024.803754</td>\n",
       "      <td>36</td>\n",
       "      <td>среднее</td>\n",
       "      <td>1</td>\n",
       "      <td>женат / замужем</td>\n",
       "      <td>0</td>\n",
       "      <td>F</td>\n",
       "      <td>сотрудник</td>\n",
       "      <td>0</td>\n",
       "      <td>112080.014102</td>\n",
       "      <td>приобретение автомобиля</td>\n",
       "    </tr>\n",
       "    <tr>\n",
       "      <th>2</th>\n",
       "      <td>0</td>\n",
       "      <td>-5623.422610</td>\n",
       "      <td>33</td>\n",
       "      <td>Среднее</td>\n",
       "      <td>1</td>\n",
       "      <td>женат / замужем</td>\n",
       "      <td>0</td>\n",
       "      <td>M</td>\n",
       "      <td>сотрудник</td>\n",
       "      <td>0</td>\n",
       "      <td>145885.952297</td>\n",
       "      <td>покупка жилья</td>\n",
       "    </tr>\n",
       "    <tr>\n",
       "      <th>3</th>\n",
       "      <td>3</td>\n",
       "      <td>-4124.747207</td>\n",
       "      <td>32</td>\n",
       "      <td>среднее</td>\n",
       "      <td>1</td>\n",
       "      <td>женат / замужем</td>\n",
       "      <td>0</td>\n",
       "      <td>M</td>\n",
       "      <td>сотрудник</td>\n",
       "      <td>0</td>\n",
       "      <td>267628.550329</td>\n",
       "      <td>дополнительное образование</td>\n",
       "    </tr>\n",
       "    <tr>\n",
       "      <th>4</th>\n",
       "      <td>0</td>\n",
       "      <td>340266.072047</td>\n",
       "      <td>53</td>\n",
       "      <td>среднее</td>\n",
       "      <td>1</td>\n",
       "      <td>гражданский брак</td>\n",
       "      <td>1</td>\n",
       "      <td>F</td>\n",
       "      <td>пенсионер</td>\n",
       "      <td>0</td>\n",
       "      <td>158616.077870</td>\n",
       "      <td>сыграть свадьбу</td>\n",
       "    </tr>\n",
       "    <tr>\n",
       "      <th>5</th>\n",
       "      <td>0</td>\n",
       "      <td>-926.185831</td>\n",
       "      <td>27</td>\n",
       "      <td>высшее</td>\n",
       "      <td>0</td>\n",
       "      <td>гражданский брак</td>\n",
       "      <td>1</td>\n",
       "      <td>M</td>\n",
       "      <td>компаньон</td>\n",
       "      <td>0</td>\n",
       "      <td>255763.565419</td>\n",
       "      <td>покупка жилья</td>\n",
       "    </tr>\n",
       "    <tr>\n",
       "      <th>6</th>\n",
       "      <td>0</td>\n",
       "      <td>-2879.202052</td>\n",
       "      <td>43</td>\n",
       "      <td>высшее</td>\n",
       "      <td>0</td>\n",
       "      <td>женат / замужем</td>\n",
       "      <td>0</td>\n",
       "      <td>F</td>\n",
       "      <td>компаньон</td>\n",
       "      <td>0</td>\n",
       "      <td>240525.971920</td>\n",
       "      <td>операции с жильем</td>\n",
       "    </tr>\n",
       "    <tr>\n",
       "      <th>7</th>\n",
       "      <td>0</td>\n",
       "      <td>-152.779569</td>\n",
       "      <td>50</td>\n",
       "      <td>СРЕДНЕЕ</td>\n",
       "      <td>1</td>\n",
       "      <td>женат / замужем</td>\n",
       "      <td>0</td>\n",
       "      <td>M</td>\n",
       "      <td>сотрудник</td>\n",
       "      <td>0</td>\n",
       "      <td>135823.934197</td>\n",
       "      <td>образование</td>\n",
       "    </tr>\n",
       "    <tr>\n",
       "      <th>8</th>\n",
       "      <td>2</td>\n",
       "      <td>-6929.865299</td>\n",
       "      <td>35</td>\n",
       "      <td>ВЫСШЕЕ</td>\n",
       "      <td>0</td>\n",
       "      <td>гражданский брак</td>\n",
       "      <td>1</td>\n",
       "      <td>F</td>\n",
       "      <td>сотрудник</td>\n",
       "      <td>0</td>\n",
       "      <td>95856.832424</td>\n",
       "      <td>на проведение свадьбы</td>\n",
       "    </tr>\n",
       "    <tr>\n",
       "      <th>9</th>\n",
       "      <td>0</td>\n",
       "      <td>-2188.756445</td>\n",
       "      <td>41</td>\n",
       "      <td>среднее</td>\n",
       "      <td>1</td>\n",
       "      <td>женат / замужем</td>\n",
       "      <td>0</td>\n",
       "      <td>M</td>\n",
       "      <td>сотрудник</td>\n",
       "      <td>0</td>\n",
       "      <td>144425.938277</td>\n",
       "      <td>покупка жилья для семьи</td>\n",
       "    </tr>\n",
       "    <tr>\n",
       "      <th>10</th>\n",
       "      <td>2</td>\n",
       "      <td>-4171.483647</td>\n",
       "      <td>36</td>\n",
       "      <td>высшее</td>\n",
       "      <td>0</td>\n",
       "      <td>женат / замужем</td>\n",
       "      <td>0</td>\n",
       "      <td>M</td>\n",
       "      <td>компаньон</td>\n",
       "      <td>0</td>\n",
       "      <td>113943.491460</td>\n",
       "      <td>покупка недвижимости</td>\n",
       "    </tr>\n",
       "    <tr>\n",
       "      <th>11</th>\n",
       "      <td>0</td>\n",
       "      <td>-792.701887</td>\n",
       "      <td>40</td>\n",
       "      <td>среднее</td>\n",
       "      <td>1</td>\n",
       "      <td>женат / замужем</td>\n",
       "      <td>0</td>\n",
       "      <td>F</td>\n",
       "      <td>сотрудник</td>\n",
       "      <td>0</td>\n",
       "      <td>77069.234271</td>\n",
       "      <td>покупка коммерческой недвижимости</td>\n",
       "    </tr>\n",
       "    <tr>\n",
       "      <th>12</th>\n",
       "      <td>0</td>\n",
       "      <td>NaN</td>\n",
       "      <td>65</td>\n",
       "      <td>среднее</td>\n",
       "      <td>1</td>\n",
       "      <td>гражданский брак</td>\n",
       "      <td>1</td>\n",
       "      <td>M</td>\n",
       "      <td>пенсионер</td>\n",
       "      <td>0</td>\n",
       "      <td>NaN</td>\n",
       "      <td>сыграть свадьбу</td>\n",
       "    </tr>\n",
       "    <tr>\n",
       "      <th>13</th>\n",
       "      <td>0</td>\n",
       "      <td>-1846.641941</td>\n",
       "      <td>54</td>\n",
       "      <td>неоконченное высшее</td>\n",
       "      <td>2</td>\n",
       "      <td>женат / замужем</td>\n",
       "      <td>0</td>\n",
       "      <td>F</td>\n",
       "      <td>сотрудник</td>\n",
       "      <td>0</td>\n",
       "      <td>130458.228857</td>\n",
       "      <td>приобретение автомобиля</td>\n",
       "    </tr>\n",
       "    <tr>\n",
       "      <th>14</th>\n",
       "      <td>0</td>\n",
       "      <td>-1844.956182</td>\n",
       "      <td>56</td>\n",
       "      <td>высшее</td>\n",
       "      <td>0</td>\n",
       "      <td>гражданский брак</td>\n",
       "      <td>1</td>\n",
       "      <td>F</td>\n",
       "      <td>компаньон</td>\n",
       "      <td>1</td>\n",
       "      <td>165127.911772</td>\n",
       "      <td>покупка жилой недвижимости</td>\n",
       "    </tr>\n",
       "    <tr>\n",
       "      <th>15</th>\n",
       "      <td>1</td>\n",
       "      <td>-972.364419</td>\n",
       "      <td>26</td>\n",
       "      <td>среднее</td>\n",
       "      <td>1</td>\n",
       "      <td>женат / замужем</td>\n",
       "      <td>0</td>\n",
       "      <td>F</td>\n",
       "      <td>сотрудник</td>\n",
       "      <td>0</td>\n",
       "      <td>116820.904450</td>\n",
       "      <td>строительство собственной недвижимости</td>\n",
       "    </tr>\n",
       "    <tr>\n",
       "      <th>16</th>\n",
       "      <td>0</td>\n",
       "      <td>-1719.934226</td>\n",
       "      <td>35</td>\n",
       "      <td>среднее</td>\n",
       "      <td>1</td>\n",
       "      <td>женат / замужем</td>\n",
       "      <td>0</td>\n",
       "      <td>F</td>\n",
       "      <td>сотрудник</td>\n",
       "      <td>0</td>\n",
       "      <td>289202.704229</td>\n",
       "      <td>недвижимость</td>\n",
       "    </tr>\n",
       "    <tr>\n",
       "      <th>17</th>\n",
       "      <td>0</td>\n",
       "      <td>-2369.999720</td>\n",
       "      <td>33</td>\n",
       "      <td>высшее</td>\n",
       "      <td>0</td>\n",
       "      <td>гражданский брак</td>\n",
       "      <td>1</td>\n",
       "      <td>M</td>\n",
       "      <td>сотрудник</td>\n",
       "      <td>0</td>\n",
       "      <td>90410.586745</td>\n",
       "      <td>строительство недвижимости</td>\n",
       "    </tr>\n",
       "    <tr>\n",
       "      <th>18</th>\n",
       "      <td>0</td>\n",
       "      <td>400281.136913</td>\n",
       "      <td>53</td>\n",
       "      <td>среднее</td>\n",
       "      <td>1</td>\n",
       "      <td>вдовец / вдова</td>\n",
       "      <td>2</td>\n",
       "      <td>F</td>\n",
       "      <td>пенсионер</td>\n",
       "      <td>0</td>\n",
       "      <td>56823.777243</td>\n",
       "      <td>на покупку подержанного автомобиля</td>\n",
       "    </tr>\n",
       "    <tr>\n",
       "      <th>19</th>\n",
       "      <td>0</td>\n",
       "      <td>-10038.818549</td>\n",
       "      <td>48</td>\n",
       "      <td>СРЕДНЕЕ</td>\n",
       "      <td>1</td>\n",
       "      <td>в разводе</td>\n",
       "      <td>3</td>\n",
       "      <td>F</td>\n",
       "      <td>сотрудник</td>\n",
       "      <td>0</td>\n",
       "      <td>242831.107982</td>\n",
       "      <td>на покупку своего автомобиля</td>\n",
       "    </tr>\n",
       "  </tbody>\n",
       "</table>\n",
       "</div>"
      ],
      "text/plain": [
       "    children  days_employed  dob_years            education  education_id  \\\n",
       "0          1   -8437.673028         42               высшее             0   \n",
       "1          1   -4024.803754         36              среднее             1   \n",
       "2          0   -5623.422610         33              Среднее             1   \n",
       "3          3   -4124.747207         32              среднее             1   \n",
       "4          0  340266.072047         53              среднее             1   \n",
       "5          0    -926.185831         27               высшее             0   \n",
       "6          0   -2879.202052         43               высшее             0   \n",
       "7          0    -152.779569         50              СРЕДНЕЕ             1   \n",
       "8          2   -6929.865299         35               ВЫСШЕЕ             0   \n",
       "9          0   -2188.756445         41              среднее             1   \n",
       "10         2   -4171.483647         36               высшее             0   \n",
       "11         0    -792.701887         40              среднее             1   \n",
       "12         0            NaN         65              среднее             1   \n",
       "13         0   -1846.641941         54  неоконченное высшее             2   \n",
       "14         0   -1844.956182         56               высшее             0   \n",
       "15         1    -972.364419         26              среднее             1   \n",
       "16         0   -1719.934226         35              среднее             1   \n",
       "17         0   -2369.999720         33               высшее             0   \n",
       "18         0  400281.136913         53              среднее             1   \n",
       "19         0  -10038.818549         48              СРЕДНЕЕ             1   \n",
       "\n",
       "       family_status  family_status_id gender income_type  debt  \\\n",
       "0    женат / замужем                 0      F   сотрудник     0   \n",
       "1    женат / замужем                 0      F   сотрудник     0   \n",
       "2    женат / замужем                 0      M   сотрудник     0   \n",
       "3    женат / замужем                 0      M   сотрудник     0   \n",
       "4   гражданский брак                 1      F   пенсионер     0   \n",
       "5   гражданский брак                 1      M   компаньон     0   \n",
       "6    женат / замужем                 0      F   компаньон     0   \n",
       "7    женат / замужем                 0      M   сотрудник     0   \n",
       "8   гражданский брак                 1      F   сотрудник     0   \n",
       "9    женат / замужем                 0      M   сотрудник     0   \n",
       "10   женат / замужем                 0      M   компаньон     0   \n",
       "11   женат / замужем                 0      F   сотрудник     0   \n",
       "12  гражданский брак                 1      M   пенсионер     0   \n",
       "13   женат / замужем                 0      F   сотрудник     0   \n",
       "14  гражданский брак                 1      F   компаньон     1   \n",
       "15   женат / замужем                 0      F   сотрудник     0   \n",
       "16   женат / замужем                 0      F   сотрудник     0   \n",
       "17  гражданский брак                 1      M   сотрудник     0   \n",
       "18    вдовец / вдова                 2      F   пенсионер     0   \n",
       "19         в разводе                 3      F   сотрудник     0   \n",
       "\n",
       "     total_income                                 purpose  \n",
       "0   253875.639453                           покупка жилья  \n",
       "1   112080.014102                 приобретение автомобиля  \n",
       "2   145885.952297                           покупка жилья  \n",
       "3   267628.550329              дополнительное образование  \n",
       "4   158616.077870                         сыграть свадьбу  \n",
       "5   255763.565419                           покупка жилья  \n",
       "6   240525.971920                       операции с жильем  \n",
       "7   135823.934197                             образование  \n",
       "8    95856.832424                   на проведение свадьбы  \n",
       "9   144425.938277                 покупка жилья для семьи  \n",
       "10  113943.491460                    покупка недвижимости  \n",
       "11   77069.234271       покупка коммерческой недвижимости  \n",
       "12            NaN                         сыграть свадьбу  \n",
       "13  130458.228857                 приобретение автомобиля  \n",
       "14  165127.911772              покупка жилой недвижимости  \n",
       "15  116820.904450  строительство собственной недвижимости  \n",
       "16  289202.704229                            недвижимость  \n",
       "17   90410.586745              строительство недвижимости  \n",
       "18   56823.777243      на покупку подержанного автомобиля  \n",
       "19  242831.107982            на покупку своего автомобиля  "
      ]
     },
     "execution_count": 2,
     "metadata": {},
     "output_type": "execute_result"
    }
   ],
   "source": [
    "data.head(20)"
   ]
  },
  {
   "cell_type": "markdown",
   "id": "5b9c606f",
   "metadata": {
    "deletable": false,
    "editable": false,
    "id": "1c12e233"
   },
   "source": [
    "**Задание 3. Выведите основную информацию о датафрейме с помощью метода `info()`.**"
   ]
  },
  {
   "cell_type": "code",
   "execution_count": 3,
   "id": "cdbebe3e",
   "metadata": {
    "deletable": false,
    "id": "2b757bca",
    "outputId": "15376089-8dad-46c9-b520-c05248d43158"
   },
   "outputs": [
    {
     "name": "stdout",
     "output_type": "stream",
     "text": [
      "<class 'pandas.core.frame.DataFrame'>\n",
      "RangeIndex: 21525 entries, 0 to 21524\n",
      "Data columns (total 12 columns):\n",
      " #   Column            Non-Null Count  Dtype  \n",
      "---  ------            --------------  -----  \n",
      " 0   children          21525 non-null  int64  \n",
      " 1   days_employed     19351 non-null  float64\n",
      " 2   dob_years         21525 non-null  int64  \n",
      " 3   education         21525 non-null  object \n",
      " 4   education_id      21525 non-null  int64  \n",
      " 5   family_status     21525 non-null  object \n",
      " 6   family_status_id  21525 non-null  int64  \n",
      " 7   gender            21525 non-null  object \n",
      " 8   income_type       21525 non-null  object \n",
      " 9   debt              21525 non-null  int64  \n",
      " 10  total_income      19351 non-null  float64\n",
      " 11  purpose           21525 non-null  object \n",
      "dtypes: float64(2), int64(5), object(5)\n",
      "memory usage: 2.0+ MB\n"
     ]
    }
   ],
   "source": [
    "data.info()"
   ]
  },
  {
   "cell_type": "markdown",
   "id": "ae557cd1",
   "metadata": {
    "deletable": false,
    "editable": false,
    "id": "333ec665"
   },
   "source": [
    "## Предобработка данных"
   ]
  },
  {
   "cell_type": "markdown",
   "id": "b3133db4",
   "metadata": {
    "deletable": false,
    "editable": false,
    "id": "02d92d53"
   },
   "source": [
    "### Удаление пропусков"
   ]
  },
  {
   "cell_type": "markdown",
   "id": "98fa26a4",
   "metadata": {
    "deletable": false,
    "editable": false,
    "id": "cd84967c"
   },
   "source": [
    "**Задание 4. Выведите количество пропущенных значений для каждого столбца. Используйте комбинацию двух методов.**"
   ]
  },
  {
   "cell_type": "code",
   "execution_count": 4,
   "id": "dfac12ee",
   "metadata": {
    "deletable": false,
    "id": "7f9b2309",
    "outputId": "81f4d817-781c-465c-ed15-91ce4446810d"
   },
   "outputs": [
    {
     "data": {
      "text/plain": [
       "children               0\n",
       "days_employed       2174\n",
       "dob_years              0\n",
       "education              0\n",
       "education_id           0\n",
       "family_status          0\n",
       "family_status_id       0\n",
       "gender                 0\n",
       "income_type            0\n",
       "debt                   0\n",
       "total_income        2174\n",
       "purpose                0\n",
       "dtype: int64"
      ]
     },
     "execution_count": 4,
     "metadata": {},
     "output_type": "execute_result"
    }
   ],
   "source": [
    "data.isna().sum()"
   ]
  },
  {
   "cell_type": "markdown",
   "id": "383e248c",
   "metadata": {
    "deletable": false,
    "editable": false,
    "id": "db86e27b"
   },
   "source": [
    "**Задание 5. В двух столбцах есть пропущенные значения. Один из них — `days_employed`. Пропуски в этом столбце вы обработаете на следующем этапе. Другой столбец с пропущенными значениями — `total_income` — хранит данные о доходах. На сумму дохода сильнее всего влияет тип занятости, поэтому заполнить пропуски в этом столбце нужно медианным значением по каждому типу из столбца `income_type`. Например, у человека с типом занятости `сотрудник` пропуск в столбце `total_income` должен быть заполнен медианным доходом среди всех записей с тем же типом.**"
   ]
  },
  {
   "cell_type": "code",
   "execution_count": 5,
   "id": "75645d20",
   "metadata": {
    "deletable": false,
    "id": "42006a93"
   },
   "outputs": [],
   "source": [
    "for t in data['income_type'].unique():\n",
    "    data.loc[(data['income_type'] == t) & (data['total_income'].isna()), 'total_income'] = \\\n",
    "    data.loc[(data['income_type'] == t), 'total_income'].median()"
   ]
  },
  {
   "cell_type": "markdown",
   "id": "5a605378",
   "metadata": {
    "deletable": false,
    "editable": false,
    "id": "89da5ece"
   },
   "source": [
    "### Обработка аномальных значений"
   ]
  },
  {
   "cell_type": "markdown",
   "id": "b38eb0f8",
   "metadata": {
    "deletable": false,
    "editable": false,
    "id": "57964554"
   },
   "source": [
    "**Задание 6. В данных могут встречаться артефакты (аномалии) — значения, которые не отражают действительность и появились по какой-то ошибке. таким артефактом будет отрицательное количество дней трудового стажа в столбце `days_employed`. Для реальных данных это нормально. Обработайте значения в этом столбце: замените все отрицательные значения положительными с помощью метода `abs()`.**"
   ]
  },
  {
   "cell_type": "code",
   "execution_count": 6,
   "id": "5356bcfb",
   "metadata": {
    "deletable": false,
    "id": "f6f055bf"
   },
   "outputs": [],
   "source": [
    "data['days_employed'] = data['days_employed'].abs()"
   ]
  },
  {
   "cell_type": "markdown",
   "id": "9b7dfd31",
   "metadata": {
    "deletable": false,
    "editable": false,
    "id": "6107dd2f"
   },
   "source": [
    "**Задание 7. Для каждого типа занятости выведите медианное значение трудового стажа `days_employed` в днях.**"
   ]
  },
  {
   "cell_type": "code",
   "execution_count": 7,
   "id": "a617309b",
   "metadata": {
    "deletable": false,
    "id": "85a5faf6",
    "outputId": "801ef80e-522b-4668-f34e-565af7432bcf"
   },
   "outputs": [
    {
     "data": {
      "text/plain": [
       "income_type\n",
       "безработный        366413.652744\n",
       "в декрете            3296.759962\n",
       "госслужащий          2689.368353\n",
       "компаньон            1547.382223\n",
       "пенсионер          365213.306266\n",
       "предприниматель       520.848083\n",
       "сотрудник            1574.202821\n",
       "студент               578.751554\n",
       "Name: days_employed, dtype: float64"
      ]
     },
     "execution_count": 7,
     "metadata": {},
     "output_type": "execute_result"
    }
   ],
   "source": [
    "data.groupby('income_type')['days_employed'].agg('median')"
   ]
  },
  {
   "cell_type": "markdown",
   "id": "dbfaa3ab",
   "metadata": {
    "deletable": false,
    "editable": false,
    "id": "38d1a030"
   },
   "source": [
    "У двух типов (безработные и пенсионеры) получатся аномально большие значения. Исправить такие значения сложно, поэтому оставьте их как есть. Тем более этот столбец не понадобится вам для исследования."
   ]
  },
  {
   "cell_type": "markdown",
   "id": "26b89fe0",
   "metadata": {
    "deletable": false,
    "editable": false,
    "id": "d8a9f147"
   },
   "source": [
    "**Задание 8. Выведите перечень уникальных значений столбца `children`.**"
   ]
  },
  {
   "cell_type": "code",
   "execution_count": 8,
   "id": "b5c3a933",
   "metadata": {
    "deletable": false,
    "id": "ef5056eb",
    "outputId": "6975b15c-7f95-4697-d16d-a0c79b657b03"
   },
   "outputs": [
    {
     "data": {
      "text/plain": [
       "array([ 1,  0,  3,  2, -1,  4, 20,  5])"
      ]
     },
     "execution_count": 8,
     "metadata": {},
     "output_type": "execute_result"
    }
   ],
   "source": [
    "data['children'].unique()"
   ]
  },
  {
   "cell_type": "markdown",
   "id": "1da22881",
   "metadata": {
    "deletable": false,
    "editable": false,
    "id": "40b9ebf2"
   },
   "source": [
    "**Задание 9. В столбце `children` есть два аномальных значения. Удалите строки, в которых встречаются такие аномальные значения из датафрейма `data`.**"
   ]
  },
  {
   "cell_type": "code",
   "execution_count": 9,
   "id": "efebf698",
   "metadata": {
    "deletable": false,
    "id": "3ff9801d"
   },
   "outputs": [],
   "source": [
    "data = data[(data['children'] != -1) & (data['children'] != 20)]"
   ]
  },
  {
   "cell_type": "markdown",
   "id": "225d39a8",
   "metadata": {
    "deletable": false,
    "editable": false,
    "id": "bbc4d0ce"
   },
   "source": [
    "**Задание 10. Ещё раз выведите перечень уникальных значений столбца `children`, чтобы убедиться, что артефакты удалены.**"
   ]
  },
  {
   "cell_type": "code",
   "execution_count": 10,
   "id": "b02d97c2",
   "metadata": {
    "deletable": false,
    "id": "ad4fa8b7",
    "outputId": "b2097101-d49d-44d9-901b-32a65c9463d1"
   },
   "outputs": [
    {
     "data": {
      "text/plain": [
       "array([1, 0, 3, 2, 4, 5])"
      ]
     },
     "execution_count": 10,
     "metadata": {},
     "output_type": "execute_result"
    }
   ],
   "source": [
    "data['children'].unique()"
   ]
  },
  {
   "cell_type": "markdown",
   "id": "5904627e",
   "metadata": {
    "deletable": false,
    "editable": false,
    "id": "75440b63"
   },
   "source": [
    "### Удаление пропусков (продолжение)"
   ]
  },
  {
   "cell_type": "markdown",
   "id": "7679ca11",
   "metadata": {
    "deletable": false,
    "editable": false,
    "id": "f4ea573f"
   },
   "source": [
    "**Задание 11. Заполните пропуски в столбце `days_employed` медианными значениями по каждого типа занятости `income_type`.**"
   ]
  },
  {
   "cell_type": "code",
   "execution_count": 11,
   "id": "b9e7d906",
   "metadata": {
    "deletable": false,
    "id": "af6b1a7e"
   },
   "outputs": [],
   "source": [
    "for t in data['income_type'].unique():\n",
    "    data.loc[(data['income_type'] == t) & (data['days_employed'].isna()), 'days_employed'] = \\\n",
    "    data.loc[(data['income_type'] == t), 'days_employed'].median()"
   ]
  },
  {
   "cell_type": "markdown",
   "id": "45721ba7",
   "metadata": {
    "deletable": false,
    "editable": false,
    "id": "2753f40d"
   },
   "source": [
    "**Задание 12. Убедитесь, что все пропуски заполнены. Проверьте себя и ещё раз выведите количество пропущенных значений для каждого столбца с помощью двух методов.**"
   ]
  },
  {
   "cell_type": "code",
   "execution_count": 12,
   "id": "3d7fdc1e",
   "metadata": {
    "deletable": false,
    "id": "55f78bc2",
    "outputId": "8da1e4e1-358e-4e87-98c9-f261bce0a7b2"
   },
   "outputs": [
    {
     "data": {
      "text/plain": [
       "children            0\n",
       "days_employed       0\n",
       "dob_years           0\n",
       "education           0\n",
       "education_id        0\n",
       "family_status       0\n",
       "family_status_id    0\n",
       "gender              0\n",
       "income_type         0\n",
       "debt                0\n",
       "total_income        0\n",
       "purpose             0\n",
       "dtype: int64"
      ]
     },
     "execution_count": 12,
     "metadata": {},
     "output_type": "execute_result"
    }
   ],
   "source": [
    "data.isna().sum()"
   ]
  },
  {
   "cell_type": "markdown",
   "id": "f8e80b79",
   "metadata": {
    "deletable": false,
    "editable": false,
    "id": "ddc81e43"
   },
   "source": [
    "### Изменение типов данных"
   ]
  },
  {
   "cell_type": "markdown",
   "id": "d1896f93",
   "metadata": {
    "deletable": false,
    "editable": false,
    "id": "42d19d24"
   },
   "source": [
    "**Задание 13. Замените вещественный тип данных в столбце `total_income` на целочисленный с помощью метода `astype()`.**"
   ]
  },
  {
   "cell_type": "code",
   "execution_count": 13,
   "id": "c565b0f4",
   "metadata": {
    "deletable": false,
    "id": "920b65ad"
   },
   "outputs": [],
   "source": [
    "data['total_income'] = data['total_income'].astype(int)"
   ]
  },
  {
   "cell_type": "markdown",
   "id": "461a91bc",
   "metadata": {
    "deletable": false,
    "editable": false,
    "id": "80c420ba"
   },
   "source": [
    "### Обработка дубликатов"
   ]
  },
  {
   "cell_type": "markdown",
   "id": "572b7894",
   "metadata": {
    "deletable": false,
    "editable": false
   },
   "source": [
    "**Задание 14. Обработайте неявные дубликаты в столбце `education`. В этом столбце есть одни и те же значения, но записанные по-разному: с использованием заглавных и строчных букв. Приведите их к нижнему регистру. Проверьте остальные столбцы.**"
   ]
  },
  {
   "cell_type": "code",
   "execution_count": 14,
   "id": "c1645a96",
   "metadata": {
    "deletable": false
   },
   "outputs": [],
   "source": [
    "data['education'] = data['education'].str.lower()"
   ]
  },
  {
   "cell_type": "markdown",
   "id": "81f28ea2",
   "metadata": {
    "deletable": false,
    "editable": false,
    "id": "dc587695"
   },
   "source": [
    "**Задание 15. Выведите на экран количество строк-дубликатов в данных. Если такие строки присутствуют, удалите их.**"
   ]
  },
  {
   "cell_type": "code",
   "execution_count": 15,
   "id": "8d3758f2",
   "metadata": {
    "deletable": false,
    "id": "3ee445e4",
    "outputId": "9684deba-1934-42d1-99e1-cda61740f822"
   },
   "outputs": [
    {
     "data": {
      "text/plain": [
       "71"
      ]
     },
     "execution_count": 15,
     "metadata": {},
     "output_type": "execute_result"
    }
   ],
   "source": [
    "data.duplicated().sum()"
   ]
  },
  {
   "cell_type": "code",
   "execution_count": 16,
   "id": "8281e0ab",
   "metadata": {
    "deletable": false,
    "id": "8575fe05"
   },
   "outputs": [],
   "source": [
    "data = data.drop_duplicates()"
   ]
  },
  {
   "cell_type": "markdown",
   "id": "f6405917",
   "metadata": {
    "deletable": false,
    "editable": false,
    "id": "9904cf55"
   },
   "source": [
    "### Категоризация данных"
   ]
  },
  {
   "cell_type": "markdown",
   "id": "778ee148",
   "metadata": {
    "deletable": false,
    "editable": false,
    "id": "72fcc8a2"
   },
   "source": [
    "**Задание 16. На основании диапазонов, указанных ниже, создайте в датафрейме `data` столбец `total_income_category` с категориями:**\n",
    "\n",
    "- 0–30000 — `'E'`;\n",
    "- 30001–50000 — `'D'`;\n",
    "- 50001–200000 — `'C'`;\n",
    "- 200001–1000000 — `'B'`;\n",
    "- 1000001 и выше — `'A'`.\n",
    "\n",
    "\n",
    "**Например, кредитополучателю с доходом 25000 нужно назначить категорию `'E'`, а клиенту, получающему 235000, — `'B'`. Используйте собственную функцию с именем `categorize_income()` и метод `apply()`.**"
   ]
  },
  {
   "cell_type": "code",
   "execution_count": 17,
   "id": "f7732a9f",
   "metadata": {
    "deletable": false,
    "id": "e1771346"
   },
   "outputs": [],
   "source": [
    "def categorize_income(income):\n",
    "    try:\n",
    "        if 0 <= income <= 30000:\n",
    "            return 'E'\n",
    "        elif 30001 <= income <= 50000:\n",
    "            return 'D'\n",
    "        elif 50001 <= income <= 200000:\n",
    "            return 'C'\n",
    "        elif 200001 <= income <= 1000000:\n",
    "            return 'B'\n",
    "        elif income >= 1000001:\n",
    "            return 'A'\n",
    "    except:\n",
    "        pass"
   ]
  },
  {
   "cell_type": "code",
   "execution_count": 18,
   "id": "4d93e677",
   "metadata": {
    "deletable": false,
    "id": "d5f3586d"
   },
   "outputs": [],
   "source": [
    "data['total_income_category'] = data['total_income'].apply(categorize_income)"
   ]
  },
  {
   "cell_type": "markdown",
   "id": "8c920592",
   "metadata": {
    "deletable": false,
    "editable": false,
    "id": "dde49b5c"
   },
   "source": [
    "**Задание 17. Выведите на экран перечень уникальных целей взятия кредита из столбца `purpose`.**"
   ]
  },
  {
   "cell_type": "code",
   "execution_count": 19,
   "id": "d734509c",
   "metadata": {
    "deletable": false,
    "id": "f67ce9b3",
    "outputId": "673c12d9-7d7e-4ae0-9812-c622c89dd244"
   },
   "outputs": [
    {
     "data": {
      "text/plain": [
       "array(['покупка жилья', 'приобретение автомобиля',\n",
       "       'дополнительное образование', 'сыграть свадьбу',\n",
       "       'операции с жильем', 'образование', 'на проведение свадьбы',\n",
       "       'покупка жилья для семьи', 'покупка недвижимости',\n",
       "       'покупка коммерческой недвижимости', 'покупка жилой недвижимости',\n",
       "       'строительство собственной недвижимости', 'недвижимость',\n",
       "       'строительство недвижимости', 'на покупку подержанного автомобиля',\n",
       "       'на покупку своего автомобиля',\n",
       "       'операции с коммерческой недвижимостью',\n",
       "       'строительство жилой недвижимости', 'жилье',\n",
       "       'операции со своей недвижимостью', 'автомобили',\n",
       "       'заняться образованием', 'сделка с подержанным автомобилем',\n",
       "       'получение образования', 'автомобиль', 'свадьба',\n",
       "       'получение дополнительного образования', 'покупка своего жилья',\n",
       "       'операции с недвижимостью', 'получение высшего образования',\n",
       "       'свой автомобиль', 'сделка с автомобилем',\n",
       "       'профильное образование', 'высшее образование',\n",
       "       'покупка жилья для сдачи', 'на покупку автомобиля', 'ремонт жилью',\n",
       "       'заняться высшим образованием'], dtype=object)"
      ]
     },
     "execution_count": 19,
     "metadata": {},
     "output_type": "execute_result"
    }
   ],
   "source": [
    "data['purpose'].unique()"
   ]
  },
  {
   "cell_type": "markdown",
   "id": "1f1a845c",
   "metadata": {
    "deletable": false,
    "editable": false,
    "id": "85d0aef0"
   },
   "source": [
    "**Задание 18. Создайте функцию, которая на основании данных из столбца `purpose` сформирует новый столбец `purpose_category`, в который войдут следующие категории:**\n",
    "\n",
    "- `'операции с автомобилем'`,\n",
    "- `'операции с недвижимостью'`,\n",
    "- `'проведение свадьбы'`,\n",
    "- `'получение образования'`.\n",
    "\n",
    "**Например, если в столбце `purpose` находится подстрока `'на покупку автомобиля'`, то в столбце `purpose_category` должна появиться строка `'операции с автомобилем'`.**\n",
    "\n",
    "**Используйте собственную функцию с именем `categorize_purpose()` и метод `apply()`. Изучите данные в столбце `purpose` и определите, какие подстроки помогут вам правильно определить категорию.**"
   ]
  },
  {
   "cell_type": "code",
   "execution_count": 20,
   "id": "9526d5bd",
   "metadata": {
    "deletable": false,
    "id": "e149fab4"
   },
   "outputs": [],
   "source": [
    "def categorize_purpose(row):\n",
    "    try:\n",
    "        if 'автом' in row:\n",
    "            return 'операции с автомобилем'\n",
    "        elif 'жил' in row or 'недвиж' in row:\n",
    "            return 'операции с недвижимостью'\n",
    "        elif 'свад' in row:\n",
    "            return 'проведение свадьбы'\n",
    "        elif 'образов' in row:\n",
    "            return 'получение образования'\n",
    "    except:\n",
    "        return 'нет категории'"
   ]
  },
  {
   "cell_type": "code",
   "execution_count": 21,
   "id": "b60c1ccd",
   "metadata": {
    "deletable": false,
    "id": "bf36e69b"
   },
   "outputs": [],
   "source": [
    "data['purpose_category'] = data['purpose'].apply(categorize_purpose)"
   ]
  },
  {
   "cell_type": "markdown",
   "id": "690a15b2",
   "metadata": {
    "deletable": false,
    "editable": false,
    "id": "09b242bf"
   },
   "source": [
    "### Шаг 3. Исследуйте данные и ответьте на вопросы"
   ]
  },
  {
   "cell_type": "markdown",
   "id": "5f429a5c",
   "metadata": {
    "deletable": false,
    "editable": false,
    "id": "c5d66278"
   },
   "source": [
    "#### 3.1 Есть ли зависимость между количеством детей и возвратом кредита в срок?"
   ]
  },
  {
   "cell_type": "markdown",
   "id": "af1ebace",
   "metadata": {},
   "source": [
    "Для определения зависимости между количеством детей и возвратом кредита в срок построим сводную таблицу"
   ]
  },
  {
   "cell_type": "code",
   "execution_count": 22,
   "id": "5e4b0b6e",
   "metadata": {
    "deletable": false,
    "id": "2cacfc4a"
   },
   "outputs": [
    {
     "data": {
      "text/html": [
       "<div>\n",
       "<style scoped>\n",
       "    .dataframe tbody tr th:only-of-type {\n",
       "        vertical-align: middle;\n",
       "    }\n",
       "\n",
       "    .dataframe tbody tr th {\n",
       "        vertical-align: top;\n",
       "    }\n",
       "\n",
       "    .dataframe thead th {\n",
       "        text-align: right;\n",
       "    }\n",
       "</style>\n",
       "<table border=\"1\" class=\"dataframe\">\n",
       "  <thead>\n",
       "    <tr style=\"text-align: right;\">\n",
       "      <th>debt</th>\n",
       "      <th>0</th>\n",
       "      <th>1</th>\n",
       "    </tr>\n",
       "    <tr>\n",
       "      <th>children</th>\n",
       "      <th></th>\n",
       "      <th></th>\n",
       "    </tr>\n",
       "  </thead>\n",
       "  <tbody>\n",
       "    <tr>\n",
       "      <th>0</th>\n",
       "      <td>13028.0</td>\n",
       "      <td>1063.0</td>\n",
       "    </tr>\n",
       "    <tr>\n",
       "      <th>1</th>\n",
       "      <td>4364.0</td>\n",
       "      <td>444.0</td>\n",
       "    </tr>\n",
       "    <tr>\n",
       "      <th>2</th>\n",
       "      <td>1858.0</td>\n",
       "      <td>194.0</td>\n",
       "    </tr>\n",
       "    <tr>\n",
       "      <th>3</th>\n",
       "      <td>303.0</td>\n",
       "      <td>27.0</td>\n",
       "    </tr>\n",
       "    <tr>\n",
       "      <th>4</th>\n",
       "      <td>37.0</td>\n",
       "      <td>4.0</td>\n",
       "    </tr>\n",
       "    <tr>\n",
       "      <th>5</th>\n",
       "      <td>9.0</td>\n",
       "      <td>NaN</td>\n",
       "    </tr>\n",
       "  </tbody>\n",
       "</table>\n",
       "</div>"
      ],
      "text/plain": [
       "debt            0       1\n",
       "children                 \n",
       "0         13028.0  1063.0\n",
       "1          4364.0   444.0\n",
       "2          1858.0   194.0\n",
       "3           303.0    27.0\n",
       "4            37.0     4.0\n",
       "5             9.0     NaN"
      ]
     },
     "execution_count": 22,
     "metadata": {},
     "output_type": "execute_result"
    }
   ],
   "source": [
    "data_pivot_children_1 = data.pivot_table(index='children', columns='debt', values='total_income', aggfunc='count')\n",
    "data_pivot_children_1"
   ]
  },
  {
   "cell_type": "markdown",
   "id": "61ec36fc",
   "metadata": {},
   "source": [
    "<span style=\"color:green\">Вычислим процент семей, возвращающих кредит в срок:</span>"
   ]
  },
  {
   "cell_type": "code",
   "execution_count": 23,
   "id": "4b503074",
   "metadata": {},
   "outputs": [
    {
     "data": {
      "text/html": [
       "<div>\n",
       "<style scoped>\n",
       "    .dataframe tbody tr th:only-of-type {\n",
       "        vertical-align: middle;\n",
       "    }\n",
       "\n",
       "    .dataframe tbody tr th {\n",
       "        vertical-align: top;\n",
       "    }\n",
       "\n",
       "    .dataframe thead th {\n",
       "        text-align: right;\n",
       "    }\n",
       "</style>\n",
       "<table border=\"1\" class=\"dataframe\">\n",
       "  <thead>\n",
       "    <tr style=\"text-align: right;\">\n",
       "      <th>debt</th>\n",
       "      <th>0</th>\n",
       "      <th>1</th>\n",
       "      <th>debt_prop</th>\n",
       "    </tr>\n",
       "    <tr>\n",
       "      <th>children</th>\n",
       "      <th></th>\n",
       "      <th></th>\n",
       "      <th></th>\n",
       "    </tr>\n",
       "  </thead>\n",
       "  <tbody>\n",
       "    <tr>\n",
       "      <th>0</th>\n",
       "      <td>13028.0</td>\n",
       "      <td>1063.0</td>\n",
       "      <td>0.925</td>\n",
       "    </tr>\n",
       "    <tr>\n",
       "      <th>1</th>\n",
       "      <td>4364.0</td>\n",
       "      <td>444.0</td>\n",
       "      <td>0.908</td>\n",
       "    </tr>\n",
       "    <tr>\n",
       "      <th>2</th>\n",
       "      <td>1858.0</td>\n",
       "      <td>194.0</td>\n",
       "      <td>0.905</td>\n",
       "    </tr>\n",
       "    <tr>\n",
       "      <th>3</th>\n",
       "      <td>303.0</td>\n",
       "      <td>27.0</td>\n",
       "      <td>0.918</td>\n",
       "    </tr>\n",
       "    <tr>\n",
       "      <th>4</th>\n",
       "      <td>37.0</td>\n",
       "      <td>4.0</td>\n",
       "      <td>0.902</td>\n",
       "    </tr>\n",
       "    <tr>\n",
       "      <th>5</th>\n",
       "      <td>9.0</td>\n",
       "      <td>NaN</td>\n",
       "      <td>NaN</td>\n",
       "    </tr>\n",
       "  </tbody>\n",
       "</table>\n",
       "</div>"
      ],
      "text/plain": [
       "debt            0       1  debt_prop\n",
       "children                            \n",
       "0         13028.0  1063.0      0.925\n",
       "1          4364.0   444.0      0.908\n",
       "2          1858.0   194.0      0.905\n",
       "3           303.0    27.0      0.918\n",
       "4            37.0     4.0      0.902\n",
       "5             9.0     NaN        NaN"
      ]
     },
     "execution_count": 23,
     "metadata": {},
     "output_type": "execute_result"
    }
   ],
   "source": [
    "data_pivot_children_1['debt_prop'] = (data_pivot_children_1[0] / (data_pivot_children_1[0] + data_pivot_children_1[1])).round(3)\n",
    "data_pivot_children_1"
   ]
  },
  {
   "cell_type": "markdown",
   "id": "68de3542",
   "metadata": {},
   "source": [
    "<span style=\"color:green\">Расчет процента должников по первоначальным группам не дает сделать корректный анализ, т.к. группы с 3, 4 и 5 детьми слишком малочисленны, чтобы сделать по ним правильные выводы.</span>"
   ]
  },
  {
   "cell_type": "markdown",
   "id": "9908ec14",
   "metadata": {},
   "source": [
    "<div class=\"alert alert-warning\">\n",
    "    <h3> Комментарий ревьюера v2 ⚠️<a class=\"tocSkip\"> </h3>\n",
    "\n",
    " Верно, именно поэтому можно сравнить группы с 0-2 детьми.\n",
    "</div>"
   ]
  },
  {
   "cell_type": "markdown",
   "id": "9de42871",
   "metadata": {},
   "source": [
    "На основании получившейся сводной таблицы можно сделать вывод, что есть смысл семьи сгруппировать на две категории: без детей (0 детей) и с детьми (более 1 ребенка).\n",
    "Для этого создадим функцию, которая на основании данных из столбца `children` сформирует новый столбец `children_category`."
   ]
  },
  {
   "cell_type": "markdown",
   "id": "6892d648",
   "metadata": {},
   "source": [
    "<div class=\"alert alert-warning\">\n",
    "    <h3> Комментарий ревьюера ⚠️<a class=\"tocSkip\"> </h3>\n",
    "\n",
    "Да, можно разделить все группы на две категории, но имеет смысл также сравнить процент должников по первоначальным группам, так как эта информация может быть важна для заказчика.\n",
    "\n",
    "</div>"
   ]
  },
  {
   "cell_type": "markdown",
   "id": "b032dd41",
   "metadata": {},
   "source": [
    "<div class=\"alert alert-block alert-info\">\n",
    "    \n",
    "<h3> Комментарий студента  <a class=\"tocSkip\"></h3>\n",
    "    \n",
    "Добавил расчеты по первоначальным группам, изменения выделил зеленым цветом\n",
    "    \n",
    "</div>"
   ]
  },
  {
   "cell_type": "code",
   "execution_count": 24,
   "id": "f8f10b78",
   "metadata": {},
   "outputs": [],
   "source": [
    "def categorize_children(row):\n",
    "    if row == 0:\n",
    "        return 'семья без детей'\n",
    "    if row >= 1:\n",
    "        return 'семья с детьми'"
   ]
  },
  {
   "cell_type": "code",
   "execution_count": 25,
   "id": "9f29197d",
   "metadata": {},
   "outputs": [],
   "source": [
    "data['children_category'] = data['children'].apply(categorize_children)"
   ]
  },
  {
   "cell_type": "markdown",
   "id": "851f87e2",
   "metadata": {},
   "source": [
    "Построим сводную таблицу по полученному датафрейму:"
   ]
  },
  {
   "cell_type": "code",
   "execution_count": 26,
   "id": "8a6daf3c",
   "metadata": {},
   "outputs": [
    {
     "data": {
      "text/html": [
       "<div>\n",
       "<style scoped>\n",
       "    .dataframe tbody tr th:only-of-type {\n",
       "        vertical-align: middle;\n",
       "    }\n",
       "\n",
       "    .dataframe tbody tr th {\n",
       "        vertical-align: top;\n",
       "    }\n",
       "\n",
       "    .dataframe thead th {\n",
       "        text-align: right;\n",
       "    }\n",
       "</style>\n",
       "<table border=\"1\" class=\"dataframe\">\n",
       "  <thead>\n",
       "    <tr style=\"text-align: right;\">\n",
       "      <th>debt</th>\n",
       "      <th>children_category</th>\n",
       "      <th>0</th>\n",
       "      <th>1</th>\n",
       "    </tr>\n",
       "  </thead>\n",
       "  <tbody>\n",
       "    <tr>\n",
       "      <th>0</th>\n",
       "      <td>семья без детей</td>\n",
       "      <td>13028</td>\n",
       "      <td>1063</td>\n",
       "    </tr>\n",
       "    <tr>\n",
       "      <th>1</th>\n",
       "      <td>семья с детьми</td>\n",
       "      <td>6571</td>\n",
       "      <td>669</td>\n",
       "    </tr>\n",
       "  </tbody>\n",
       "</table>\n",
       "</div>"
      ],
      "text/plain": [
       "debt children_category      0     1\n",
       "0      семья без детей  13028  1063\n",
       "1       семья с детьми   6571   669"
      ]
     },
     "execution_count": 26,
     "metadata": {},
     "output_type": "execute_result"
    }
   ],
   "source": [
    "data_pivot_children = data.pivot_table(index='children_category', columns='debt', values='total_income', aggfunc='count').reset_index()\n",
    "data_pivot_children"
   ]
  },
  {
   "cell_type": "markdown",
   "id": "2a1757af",
   "metadata": {},
   "source": [
    "Вычислим процент семей, возвращающих кредит в срок:"
   ]
  },
  {
   "cell_type": "code",
   "execution_count": 27,
   "id": "00045af7",
   "metadata": {},
   "outputs": [
    {
     "data": {
      "text/html": [
       "<div>\n",
       "<style scoped>\n",
       "    .dataframe tbody tr th:only-of-type {\n",
       "        vertical-align: middle;\n",
       "    }\n",
       "\n",
       "    .dataframe tbody tr th {\n",
       "        vertical-align: top;\n",
       "    }\n",
       "\n",
       "    .dataframe thead th {\n",
       "        text-align: right;\n",
       "    }\n",
       "</style>\n",
       "<table border=\"1\" class=\"dataframe\">\n",
       "  <thead>\n",
       "    <tr style=\"text-align: right;\">\n",
       "      <th>debt</th>\n",
       "      <th>children_category</th>\n",
       "      <th>0</th>\n",
       "      <th>1</th>\n",
       "      <th>debt_prop</th>\n",
       "    </tr>\n",
       "  </thead>\n",
       "  <tbody>\n",
       "    <tr>\n",
       "      <th>0</th>\n",
       "      <td>семья без детей</td>\n",
       "      <td>13028</td>\n",
       "      <td>1063</td>\n",
       "      <td>0.925</td>\n",
       "    </tr>\n",
       "    <tr>\n",
       "      <th>1</th>\n",
       "      <td>семья с детьми</td>\n",
       "      <td>6571</td>\n",
       "      <td>669</td>\n",
       "      <td>0.908</td>\n",
       "    </tr>\n",
       "  </tbody>\n",
       "</table>\n",
       "</div>"
      ],
      "text/plain": [
       "debt children_category      0     1  debt_prop\n",
       "0      семья без детей  13028  1063      0.925\n",
       "1       семья с детьми   6571   669      0.908"
      ]
     },
     "execution_count": 27,
     "metadata": {},
     "output_type": "execute_result"
    }
   ],
   "source": [
    "data_pivot_children['debt_prop'] = (data_pivot_children[0] / (data_pivot_children[0] + data_pivot_children[1])).round(3)\n",
    "data_pivot_children"
   ]
  },
  {
   "cell_type": "markdown",
   "id": "d1d02486",
   "metadata": {
    "deletable": false,
    "id": "3a6b99ec"
   },
   "source": [
    "**Вывод:** из полученных данных можно сделать вывод, что прослеживается зависимость между количеством детей и возвратом кредита в срок - семьи без детей возвращают кредит в срок чаще, чем семьи без детей"
   ]
  },
  {
   "cell_type": "markdown",
   "id": "2a0ea047",
   "metadata": {
    "deletable": false,
    "editable": false,
    "id": "97be82ca"
   },
   "source": [
    "#### 3.2 Есть ли зависимость между семейным положением и возвратом кредита в срок?"
   ]
  },
  {
   "cell_type": "markdown",
   "id": "b0c6e595",
   "metadata": {},
   "source": [
    "Для определения зависимости между семейным положением и возвратом кредита в срок построим сводную таблицу"
   ]
  },
  {
   "cell_type": "code",
   "execution_count": 28,
   "id": "85046431",
   "metadata": {
    "deletable": false,
    "id": "dc3f7ee8"
   },
   "outputs": [
    {
     "data": {
      "text/html": [
       "<div>\n",
       "<style scoped>\n",
       "    .dataframe tbody tr th:only-of-type {\n",
       "        vertical-align: middle;\n",
       "    }\n",
       "\n",
       "    .dataframe tbody tr th {\n",
       "        vertical-align: top;\n",
       "    }\n",
       "\n",
       "    .dataframe thead th {\n",
       "        text-align: right;\n",
       "    }\n",
       "</style>\n",
       "<table border=\"1\" class=\"dataframe\">\n",
       "  <thead>\n",
       "    <tr style=\"text-align: right;\">\n",
       "      <th>debt</th>\n",
       "      <th>0</th>\n",
       "      <th>1</th>\n",
       "    </tr>\n",
       "    <tr>\n",
       "      <th>family_status</th>\n",
       "      <th></th>\n",
       "      <th></th>\n",
       "    </tr>\n",
       "  </thead>\n",
       "  <tbody>\n",
       "    <tr>\n",
       "      <th>Не женат / не замужем</th>\n",
       "      <td>2523</td>\n",
       "      <td>273</td>\n",
       "    </tr>\n",
       "    <tr>\n",
       "      <th>в разводе</th>\n",
       "      <td>1105</td>\n",
       "      <td>84</td>\n",
       "    </tr>\n",
       "    <tr>\n",
       "      <th>вдовец / вдова</th>\n",
       "      <td>888</td>\n",
       "      <td>63</td>\n",
       "    </tr>\n",
       "    <tr>\n",
       "      <th>гражданский брак</th>\n",
       "      <td>3749</td>\n",
       "      <td>385</td>\n",
       "    </tr>\n",
       "    <tr>\n",
       "      <th>женат / замужем</th>\n",
       "      <td>11334</td>\n",
       "      <td>927</td>\n",
       "    </tr>\n",
       "  </tbody>\n",
       "</table>\n",
       "</div>"
      ],
      "text/plain": [
       "debt                       0    1\n",
       "family_status                    \n",
       "Не женат / не замужем   2523  273\n",
       "в разводе               1105   84\n",
       "вдовец / вдова           888   63\n",
       "гражданский брак        3749  385\n",
       "женат / замужем        11334  927"
      ]
     },
     "execution_count": 28,
     "metadata": {},
     "output_type": "execute_result"
    }
   ],
   "source": [
    "data_pivot_family_status_1 = data.pivot_table(index='family_status', columns='debt', values='total_income', aggfunc='count')\n",
    "data_pivot_family_status_1"
   ]
  },
  {
   "cell_type": "markdown",
   "id": "3775a88c",
   "metadata": {},
   "source": [
    "<span style=\"color:green\">Вычислим процент семей, возвращающих кредит в срок:</span>"
   ]
  },
  {
   "cell_type": "code",
   "execution_count": 29,
   "id": "76661750",
   "metadata": {},
   "outputs": [
    {
     "data": {
      "text/html": [
       "<div>\n",
       "<style scoped>\n",
       "    .dataframe tbody tr th:only-of-type {\n",
       "        vertical-align: middle;\n",
       "    }\n",
       "\n",
       "    .dataframe tbody tr th {\n",
       "        vertical-align: top;\n",
       "    }\n",
       "\n",
       "    .dataframe thead th {\n",
       "        text-align: right;\n",
       "    }\n",
       "</style>\n",
       "<table border=\"1\" class=\"dataframe\">\n",
       "  <thead>\n",
       "    <tr style=\"text-align: right;\">\n",
       "      <th>debt</th>\n",
       "      <th>0</th>\n",
       "      <th>1</th>\n",
       "      <th>debt_prop</th>\n",
       "    </tr>\n",
       "    <tr>\n",
       "      <th>family_status</th>\n",
       "      <th></th>\n",
       "      <th></th>\n",
       "      <th></th>\n",
       "    </tr>\n",
       "  </thead>\n",
       "  <tbody>\n",
       "    <tr>\n",
       "      <th>Не женат / не замужем</th>\n",
       "      <td>2523</td>\n",
       "      <td>273</td>\n",
       "      <td>0.902</td>\n",
       "    </tr>\n",
       "    <tr>\n",
       "      <th>в разводе</th>\n",
       "      <td>1105</td>\n",
       "      <td>84</td>\n",
       "      <td>0.929</td>\n",
       "    </tr>\n",
       "    <tr>\n",
       "      <th>вдовец / вдова</th>\n",
       "      <td>888</td>\n",
       "      <td>63</td>\n",
       "      <td>0.934</td>\n",
       "    </tr>\n",
       "    <tr>\n",
       "      <th>гражданский брак</th>\n",
       "      <td>3749</td>\n",
       "      <td>385</td>\n",
       "      <td>0.907</td>\n",
       "    </tr>\n",
       "    <tr>\n",
       "      <th>женат / замужем</th>\n",
       "      <td>11334</td>\n",
       "      <td>927</td>\n",
       "      <td>0.924</td>\n",
       "    </tr>\n",
       "  </tbody>\n",
       "</table>\n",
       "</div>"
      ],
      "text/plain": [
       "debt                       0    1  debt_prop\n",
       "family_status                               \n",
       "Не женат / не замужем   2523  273      0.902\n",
       "в разводе               1105   84      0.929\n",
       "вдовец / вдова           888   63      0.934\n",
       "гражданский брак        3749  385      0.907\n",
       "женат / замужем        11334  927      0.924"
      ]
     },
     "execution_count": 29,
     "metadata": {},
     "output_type": "execute_result"
    }
   ],
   "source": [
    "data_pivot_family_status_1['debt_prop'] = (data_pivot_family_status_1[0] / (data_pivot_family_status_1[0] + data_pivot_family_status_1[1])).round(3)\n",
    "data_pivot_family_status_1"
   ]
  },
  {
   "cell_type": "markdown",
   "id": "733998d5",
   "metadata": {},
   "source": [
    "<span style=\"color:green\">На основании текущих групп прослеживается зависимость между семейным положением и возвратом кредита в срок</span>"
   ]
  },
  {
   "cell_type": "markdown",
   "id": "946b5714",
   "metadata": {},
   "source": [
    "Попробуем сгруппировать данные на две категории: не женат / не замужем и женат / замужем.\n",
    "Для этого создадим функцию, которая на основании данных из столбца `family_status` сформирует новый столбец `family_status_category`."
   ]
  },
  {
   "cell_type": "code",
   "execution_count": 30,
   "id": "d9f22e4e",
   "metadata": {},
   "outputs": [],
   "source": [
    "def categorize_family_status(row):\n",
    "    if row in ['Не женат / не замужем', 'в разводе', 'вдовец / вдова']:\n",
    "        return 'не женат / не замужем'\n",
    "    if row in ['гражданский брак', 'женат / замужем']:\n",
    "        return 'женат / замужем'"
   ]
  },
  {
   "cell_type": "code",
   "execution_count": 31,
   "id": "db07627f",
   "metadata": {},
   "outputs": [],
   "source": [
    "data['family_status_category'] = data['family_status'].apply(categorize_family_status)"
   ]
  },
  {
   "cell_type": "markdown",
   "id": "4afcf73c",
   "metadata": {},
   "source": [
    "Построим сводную таблицу по полученному датафрейму:"
   ]
  },
  {
   "cell_type": "code",
   "execution_count": 32,
   "id": "51e3f8aa",
   "metadata": {},
   "outputs": [
    {
     "data": {
      "text/html": [
       "<div>\n",
       "<style scoped>\n",
       "    .dataframe tbody tr th:only-of-type {\n",
       "        vertical-align: middle;\n",
       "    }\n",
       "\n",
       "    .dataframe tbody tr th {\n",
       "        vertical-align: top;\n",
       "    }\n",
       "\n",
       "    .dataframe thead th {\n",
       "        text-align: right;\n",
       "    }\n",
       "</style>\n",
       "<table border=\"1\" class=\"dataframe\">\n",
       "  <thead>\n",
       "    <tr style=\"text-align: right;\">\n",
       "      <th>debt</th>\n",
       "      <th>family_status_category</th>\n",
       "      <th>0</th>\n",
       "      <th>1</th>\n",
       "    </tr>\n",
       "  </thead>\n",
       "  <tbody>\n",
       "    <tr>\n",
       "      <th>0</th>\n",
       "      <td>женат / замужем</td>\n",
       "      <td>15083</td>\n",
       "      <td>1312</td>\n",
       "    </tr>\n",
       "    <tr>\n",
       "      <th>1</th>\n",
       "      <td>не женат / не замужем</td>\n",
       "      <td>4516</td>\n",
       "      <td>420</td>\n",
       "    </tr>\n",
       "  </tbody>\n",
       "</table>\n",
       "</div>"
      ],
      "text/plain": [
       "debt family_status_category      0     1\n",
       "0           женат / замужем  15083  1312\n",
       "1     не женат / не замужем   4516   420"
      ]
     },
     "execution_count": 32,
     "metadata": {},
     "output_type": "execute_result"
    }
   ],
   "source": [
    "data_pivot_family_status_2 = data.pivot_table(index='family_status_category', columns='debt', values='total_income', aggfunc='count').reset_index()\n",
    "data_pivot_family_status_2"
   ]
  },
  {
   "cell_type": "markdown",
   "id": "d5a61d4d",
   "metadata": {},
   "source": [
    "Вычислим процент возвращающих кредит в срок по получившимся категориям:"
   ]
  },
  {
   "cell_type": "code",
   "execution_count": 33,
   "id": "957025dc",
   "metadata": {},
   "outputs": [
    {
     "data": {
      "text/html": [
       "<div>\n",
       "<style scoped>\n",
       "    .dataframe tbody tr th:only-of-type {\n",
       "        vertical-align: middle;\n",
       "    }\n",
       "\n",
       "    .dataframe tbody tr th {\n",
       "        vertical-align: top;\n",
       "    }\n",
       "\n",
       "    .dataframe thead th {\n",
       "        text-align: right;\n",
       "    }\n",
       "</style>\n",
       "<table border=\"1\" class=\"dataframe\">\n",
       "  <thead>\n",
       "    <tr style=\"text-align: right;\">\n",
       "      <th>debt</th>\n",
       "      <th>family_status_category</th>\n",
       "      <th>0</th>\n",
       "      <th>1</th>\n",
       "      <th>debt_prop</th>\n",
       "    </tr>\n",
       "  </thead>\n",
       "  <tbody>\n",
       "    <tr>\n",
       "      <th>0</th>\n",
       "      <td>женат / замужем</td>\n",
       "      <td>15083</td>\n",
       "      <td>1312</td>\n",
       "      <td>0.920</td>\n",
       "    </tr>\n",
       "    <tr>\n",
       "      <th>1</th>\n",
       "      <td>не женат / не замужем</td>\n",
       "      <td>4516</td>\n",
       "      <td>420</td>\n",
       "      <td>0.915</td>\n",
       "    </tr>\n",
       "  </tbody>\n",
       "</table>\n",
       "</div>"
      ],
      "text/plain": [
       "debt family_status_category      0     1  debt_prop\n",
       "0           женат / замужем  15083  1312      0.920\n",
       "1     не женат / не замужем   4516   420      0.915"
      ]
     },
     "execution_count": 33,
     "metadata": {},
     "output_type": "execute_result"
    }
   ],
   "source": [
    "data_pivot_family_status_2['debt_prop'] = (data_pivot_family_status_2[0] / (data_pivot_family_status_2[0] + data_pivot_family_status_2[1])).round(3)\n",
    "data_pivot_family_status_2"
   ]
  },
  {
   "cell_type": "markdown",
   "id": "bfbf07f4",
   "metadata": {},
   "source": [
    "<span style=\"color:green\">По полученным двум группам зависимость между семейным положением и возвратом кредита в срок в целом не прослеживается (около 92% семей возвращают кредит в срок незавивисимо от семейного положения). Т.к. при разделении всех групп на две категории различия могут размываться, попробуем объединить начальные категории на большее количество групп.</span>"
   ]
  },
  {
   "cell_type": "markdown",
   "id": "dd84ad93",
   "metadata": {},
   "source": [
    "<span style=\"color:green\">Для этого создадим функцию, которая на основании данных из столбца `family_status` сформирует новый столбец `family_status_category_2`.</span>"
   ]
  },
  {
   "cell_type": "code",
   "execution_count": 34,
   "id": "5b6dda9d",
   "metadata": {},
   "outputs": [],
   "source": [
    "def categorize_family_status_2(row):\n",
    "    if row in ['женат / замужем']:\n",
    "        return 'в браке'\n",
    "    if row in ['Не женат / не замужем', 'гражданский брак']:\n",
    "        return 'не в браке'\n",
    "    if row in ['в разводе', 'вдовец / вдова']:\n",
    "        return 'был в браке'"
   ]
  },
  {
   "cell_type": "code",
   "execution_count": 35,
   "id": "f3f931b9",
   "metadata": {},
   "outputs": [],
   "source": [
    "data['family_status_category_2'] = data['family_status'].apply(categorize_family_status_2)"
   ]
  },
  {
   "cell_type": "markdown",
   "id": "20e5e88c",
   "metadata": {},
   "source": [
    "<span style=\"color:green\">Построим сводную таблицу по полученному датафрейму:</span>"
   ]
  },
  {
   "cell_type": "code",
   "execution_count": 36,
   "id": "b63bf97e",
   "metadata": {},
   "outputs": [
    {
     "data": {
      "text/html": [
       "<div>\n",
       "<style scoped>\n",
       "    .dataframe tbody tr th:only-of-type {\n",
       "        vertical-align: middle;\n",
       "    }\n",
       "\n",
       "    .dataframe tbody tr th {\n",
       "        vertical-align: top;\n",
       "    }\n",
       "\n",
       "    .dataframe thead th {\n",
       "        text-align: right;\n",
       "    }\n",
       "</style>\n",
       "<table border=\"1\" class=\"dataframe\">\n",
       "  <thead>\n",
       "    <tr style=\"text-align: right;\">\n",
       "      <th>debt</th>\n",
       "      <th>family_status_category_2</th>\n",
       "      <th>0</th>\n",
       "      <th>1</th>\n",
       "    </tr>\n",
       "  </thead>\n",
       "  <tbody>\n",
       "    <tr>\n",
       "      <th>0</th>\n",
       "      <td>был в браке</td>\n",
       "      <td>1993</td>\n",
       "      <td>147</td>\n",
       "    </tr>\n",
       "    <tr>\n",
       "      <th>1</th>\n",
       "      <td>в браке</td>\n",
       "      <td>11334</td>\n",
       "      <td>927</td>\n",
       "    </tr>\n",
       "    <tr>\n",
       "      <th>2</th>\n",
       "      <td>не в браке</td>\n",
       "      <td>6272</td>\n",
       "      <td>658</td>\n",
       "    </tr>\n",
       "  </tbody>\n",
       "</table>\n",
       "</div>"
      ],
      "text/plain": [
       "debt family_status_category_2      0    1\n",
       "0                 был в браке   1993  147\n",
       "1                     в браке  11334  927\n",
       "2                  не в браке   6272  658"
      ]
     },
     "execution_count": 36,
     "metadata": {},
     "output_type": "execute_result"
    }
   ],
   "source": [
    "data_pivot_family_status_3 = data.pivot_table(index='family_status_category_2', columns='debt', values='total_income', aggfunc='count').reset_index()\n",
    "data_pivot_family_status_3"
   ]
  },
  {
   "cell_type": "markdown",
   "id": "f6f06932",
   "metadata": {},
   "source": [
    "<span style=\"color:green\">Вычислим процент возвращающих кредит в срок по получившимся категориям:</span>"
   ]
  },
  {
   "cell_type": "code",
   "execution_count": 37,
   "id": "e3b89f61",
   "metadata": {},
   "outputs": [
    {
     "data": {
      "text/html": [
       "<div>\n",
       "<style scoped>\n",
       "    .dataframe tbody tr th:only-of-type {\n",
       "        vertical-align: middle;\n",
       "    }\n",
       "\n",
       "    .dataframe tbody tr th {\n",
       "        vertical-align: top;\n",
       "    }\n",
       "\n",
       "    .dataframe thead th {\n",
       "        text-align: right;\n",
       "    }\n",
       "</style>\n",
       "<table border=\"1\" class=\"dataframe\">\n",
       "  <thead>\n",
       "    <tr style=\"text-align: right;\">\n",
       "      <th>debt</th>\n",
       "      <th>family_status_category_2</th>\n",
       "      <th>0</th>\n",
       "      <th>1</th>\n",
       "      <th>debt_prop</th>\n",
       "    </tr>\n",
       "  </thead>\n",
       "  <tbody>\n",
       "    <tr>\n",
       "      <th>0</th>\n",
       "      <td>был в браке</td>\n",
       "      <td>1993</td>\n",
       "      <td>147</td>\n",
       "      <td>0.931</td>\n",
       "    </tr>\n",
       "    <tr>\n",
       "      <th>1</th>\n",
       "      <td>в браке</td>\n",
       "      <td>11334</td>\n",
       "      <td>927</td>\n",
       "      <td>0.924</td>\n",
       "    </tr>\n",
       "    <tr>\n",
       "      <th>2</th>\n",
       "      <td>не в браке</td>\n",
       "      <td>6272</td>\n",
       "      <td>658</td>\n",
       "      <td>0.905</td>\n",
       "    </tr>\n",
       "  </tbody>\n",
       "</table>\n",
       "</div>"
      ],
      "text/plain": [
       "debt family_status_category_2      0    1  debt_prop\n",
       "0                 был в браке   1993  147      0.931\n",
       "1                     в браке  11334  927      0.924\n",
       "2                  не в браке   6272  658      0.905"
      ]
     },
     "execution_count": 37,
     "metadata": {},
     "output_type": "execute_result"
    }
   ],
   "source": [
    "data_pivot_family_status_3['debt_prop'] = (data_pivot_family_status_3[0] / (data_pivot_family_status_3[0] + data_pivot_family_status_3[1])).round(3)\n",
    "data_pivot_family_status_3"
   ]
  },
  {
   "cell_type": "markdown",
   "id": "dfb461e7",
   "metadata": {
    "deletable": false,
    "id": "1cef7837"
   },
   "source": [
    "<span style=\"color:green\">**Вывод:** из полученных данных можно сделать вывод, что прослеживается зависимость между семейным положением и возвратом кредита в срок - клиенты, которые состоят в браке или были в нем возвращают кредит чаще тех, кто не состоит в браке</span>"
   ]
  },
  {
   "cell_type": "markdown",
   "id": "1423825f",
   "metadata": {
    "deletable": false,
    "editable": false,
    "id": "1e8b2fca"
   },
   "source": [
    "#### 3.3 Есть ли зависимость между уровнем дохода и возвратом кредита в срок?"
   ]
  },
  {
   "cell_type": "markdown",
   "id": "38620119",
   "metadata": {},
   "source": [
    "Для определения зависимости между уровнем дохода и возвратом кредита в срок построим сводную таблицу по категориях дохода, сформированным ранее"
   ]
  },
  {
   "cell_type": "code",
   "execution_count": 38,
   "id": "2c0af341",
   "metadata": {
    "deletable": false,
    "id": "cd7e3720",
    "scrolled": true
   },
   "outputs": [
    {
     "data": {
      "text/html": [
       "<div>\n",
       "<style scoped>\n",
       "    .dataframe tbody tr th:only-of-type {\n",
       "        vertical-align: middle;\n",
       "    }\n",
       "\n",
       "    .dataframe tbody tr th {\n",
       "        vertical-align: top;\n",
       "    }\n",
       "\n",
       "    .dataframe thead th {\n",
       "        text-align: right;\n",
       "    }\n",
       "</style>\n",
       "<table border=\"1\" class=\"dataframe\">\n",
       "  <thead>\n",
       "    <tr style=\"text-align: right;\">\n",
       "      <th>debt</th>\n",
       "      <th>total_income_category</th>\n",
       "      <th>0</th>\n",
       "      <th>1</th>\n",
       "    </tr>\n",
       "  </thead>\n",
       "  <tbody>\n",
       "    <tr>\n",
       "      <th>0</th>\n",
       "      <td>A</td>\n",
       "      <td>23</td>\n",
       "      <td>2</td>\n",
       "    </tr>\n",
       "    <tr>\n",
       "      <th>1</th>\n",
       "      <td>B</td>\n",
       "      <td>4660</td>\n",
       "      <td>354</td>\n",
       "    </tr>\n",
       "    <tr>\n",
       "      <th>2</th>\n",
       "      <td>C</td>\n",
       "      <td>14568</td>\n",
       "      <td>1353</td>\n",
       "    </tr>\n",
       "    <tr>\n",
       "      <th>3</th>\n",
       "      <td>D</td>\n",
       "      <td>328</td>\n",
       "      <td>21</td>\n",
       "    </tr>\n",
       "    <tr>\n",
       "      <th>4</th>\n",
       "      <td>E</td>\n",
       "      <td>20</td>\n",
       "      <td>2</td>\n",
       "    </tr>\n",
       "  </tbody>\n",
       "</table>\n",
       "</div>"
      ],
      "text/plain": [
       "debt total_income_category      0     1\n",
       "0                        A     23     2\n",
       "1                        B   4660   354\n",
       "2                        C  14568  1353\n",
       "3                        D    328    21\n",
       "4                        E     20     2"
      ]
     },
     "execution_count": 38,
     "metadata": {},
     "output_type": "execute_result"
    }
   ],
   "source": [
    "data_pivot_total_income = data.pivot_table(index='total_income_category', columns='debt', values='total_income', aggfunc='count').reset_index()\n",
    "data_pivot_total_income"
   ]
  },
  {
   "cell_type": "markdown",
   "id": "506f1a66",
   "metadata": {},
   "source": [
    "Вычислим процент возвращающих кредит в срок по получившимся категориям:"
   ]
  },
  {
   "cell_type": "code",
   "execution_count": 39,
   "id": "6cab9298",
   "metadata": {},
   "outputs": [
    {
     "data": {
      "text/html": [
       "<div>\n",
       "<style scoped>\n",
       "    .dataframe tbody tr th:only-of-type {\n",
       "        vertical-align: middle;\n",
       "    }\n",
       "\n",
       "    .dataframe tbody tr th {\n",
       "        vertical-align: top;\n",
       "    }\n",
       "\n",
       "    .dataframe thead th {\n",
       "        text-align: right;\n",
       "    }\n",
       "</style>\n",
       "<table border=\"1\" class=\"dataframe\">\n",
       "  <thead>\n",
       "    <tr style=\"text-align: right;\">\n",
       "      <th>debt</th>\n",
       "      <th>total_income_category</th>\n",
       "      <th>0</th>\n",
       "      <th>1</th>\n",
       "      <th>debt_prop</th>\n",
       "    </tr>\n",
       "  </thead>\n",
       "  <tbody>\n",
       "    <tr>\n",
       "      <th>0</th>\n",
       "      <td>A</td>\n",
       "      <td>23</td>\n",
       "      <td>2</td>\n",
       "      <td>0.920</td>\n",
       "    </tr>\n",
       "    <tr>\n",
       "      <th>1</th>\n",
       "      <td>B</td>\n",
       "      <td>4660</td>\n",
       "      <td>354</td>\n",
       "      <td>0.929</td>\n",
       "    </tr>\n",
       "    <tr>\n",
       "      <th>2</th>\n",
       "      <td>C</td>\n",
       "      <td>14568</td>\n",
       "      <td>1353</td>\n",
       "      <td>0.915</td>\n",
       "    </tr>\n",
       "    <tr>\n",
       "      <th>3</th>\n",
       "      <td>D</td>\n",
       "      <td>328</td>\n",
       "      <td>21</td>\n",
       "      <td>0.940</td>\n",
       "    </tr>\n",
       "    <tr>\n",
       "      <th>4</th>\n",
       "      <td>E</td>\n",
       "      <td>20</td>\n",
       "      <td>2</td>\n",
       "      <td>0.909</td>\n",
       "    </tr>\n",
       "  </tbody>\n",
       "</table>\n",
       "</div>"
      ],
      "text/plain": [
       "debt total_income_category      0     1  debt_prop\n",
       "0                        A     23     2      0.920\n",
       "1                        B   4660   354      0.929\n",
       "2                        C  14568  1353      0.915\n",
       "3                        D    328    21      0.940\n",
       "4                        E     20     2      0.909"
      ]
     },
     "execution_count": 39,
     "metadata": {},
     "output_type": "execute_result"
    }
   ],
   "source": [
    "data_pivot_total_income['debt_prop'] = (data_pivot_total_income[0] / (data_pivot_total_income[0] + data_pivot_total_income[1])).round(3)\n",
    "data_pivot_total_income"
   ]
  },
  {
   "cell_type": "markdown",
   "id": "569c5943",
   "metadata": {},
   "source": [
    "<span style=\"color:green\">Какой-либо достоверный анализ можно произвести только по группам B и C - по остальным слишком мало данных, чтобы делать какие-либо существенные выводы</span>"
   ]
  },
  {
   "cell_type": "markdown",
   "id": "4019fe68",
   "metadata": {
    "deletable": false,
    "id": "e8593def"
   },
   "source": [
    "<span style=\"color:green\">**Вывод:** из полученных данных можно сделать вывод, что прослеживается зависимость между уровнем дохода и возвратом кредита в срок - чем выше уровень дохода, тем выше вероятность возврата кредита</span>"
   ]
  },
  {
   "cell_type": "markdown",
   "id": "d7bac652",
   "metadata": {
    "deletable": false,
    "editable": false,
    "id": "99ecbd1f"
   },
   "source": [
    "#### 3.4 Как разные цели кредита влияют на его возврат в срок?"
   ]
  },
  {
   "cell_type": "markdown",
   "id": "e64cb3bb",
   "metadata": {},
   "source": [
    "Для того чтобы определить, как цели кредита влияют на его возврат в срок построим сводную таблицу по целям кредита, сформированным ранее"
   ]
  },
  {
   "cell_type": "code",
   "execution_count": 40,
   "id": "b624fb1b",
   "metadata": {
    "deletable": false,
    "id": "2b687290"
   },
   "outputs": [
    {
     "data": {
      "text/html": [
       "<div>\n",
       "<style scoped>\n",
       "    .dataframe tbody tr th:only-of-type {\n",
       "        vertical-align: middle;\n",
       "    }\n",
       "\n",
       "    .dataframe tbody tr th {\n",
       "        vertical-align: top;\n",
       "    }\n",
       "\n",
       "    .dataframe thead th {\n",
       "        text-align: right;\n",
       "    }\n",
       "</style>\n",
       "<table border=\"1\" class=\"dataframe\">\n",
       "  <thead>\n",
       "    <tr style=\"text-align: right;\">\n",
       "      <th>debt</th>\n",
       "      <th>purpose_category</th>\n",
       "      <th>0</th>\n",
       "      <th>1</th>\n",
       "    </tr>\n",
       "  </thead>\n",
       "  <tbody>\n",
       "    <tr>\n",
       "      <th>0</th>\n",
       "      <td>операции с автомобилем</td>\n",
       "      <td>3879</td>\n",
       "      <td>400</td>\n",
       "    </tr>\n",
       "    <tr>\n",
       "      <th>1</th>\n",
       "      <td>операции с недвижимостью</td>\n",
       "      <td>9971</td>\n",
       "      <td>780</td>\n",
       "    </tr>\n",
       "    <tr>\n",
       "      <th>2</th>\n",
       "      <td>получение образования</td>\n",
       "      <td>3619</td>\n",
       "      <td>369</td>\n",
       "    </tr>\n",
       "    <tr>\n",
       "      <th>3</th>\n",
       "      <td>проведение свадьбы</td>\n",
       "      <td>2130</td>\n",
       "      <td>183</td>\n",
       "    </tr>\n",
       "  </tbody>\n",
       "</table>\n",
       "</div>"
      ],
      "text/plain": [
       "debt          purpose_category     0    1\n",
       "0       операции с автомобилем  3879  400\n",
       "1     операции с недвижимостью  9971  780\n",
       "2        получение образования  3619  369\n",
       "3           проведение свадьбы  2130  183"
      ]
     },
     "execution_count": 40,
     "metadata": {},
     "output_type": "execute_result"
    }
   ],
   "source": [
    "data_pivot_purpose = data.pivot_table(index='purpose_category', columns='debt', values='total_income', aggfunc='count').reset_index()\n",
    "data_pivot_purpose"
   ]
  },
  {
   "cell_type": "markdown",
   "id": "72114f15",
   "metadata": {},
   "source": [
    "Вычислим процент возвращающих кредит в срок по получившимся категориям:"
   ]
  },
  {
   "cell_type": "code",
   "execution_count": 41,
   "id": "0efffb7c",
   "metadata": {},
   "outputs": [
    {
     "data": {
      "text/html": [
       "<div>\n",
       "<style scoped>\n",
       "    .dataframe tbody tr th:only-of-type {\n",
       "        vertical-align: middle;\n",
       "    }\n",
       "\n",
       "    .dataframe tbody tr th {\n",
       "        vertical-align: top;\n",
       "    }\n",
       "\n",
       "    .dataframe thead th {\n",
       "        text-align: right;\n",
       "    }\n",
       "</style>\n",
       "<table border=\"1\" class=\"dataframe\">\n",
       "  <thead>\n",
       "    <tr style=\"text-align: right;\">\n",
       "      <th>debt</th>\n",
       "      <th>purpose_category</th>\n",
       "      <th>0</th>\n",
       "      <th>1</th>\n",
       "      <th>debt_prop</th>\n",
       "    </tr>\n",
       "  </thead>\n",
       "  <tbody>\n",
       "    <tr>\n",
       "      <th>0</th>\n",
       "      <td>операции с автомобилем</td>\n",
       "      <td>3879</td>\n",
       "      <td>400</td>\n",
       "      <td>0.907</td>\n",
       "    </tr>\n",
       "    <tr>\n",
       "      <th>1</th>\n",
       "      <td>операции с недвижимостью</td>\n",
       "      <td>9971</td>\n",
       "      <td>780</td>\n",
       "      <td>0.927</td>\n",
       "    </tr>\n",
       "    <tr>\n",
       "      <th>2</th>\n",
       "      <td>получение образования</td>\n",
       "      <td>3619</td>\n",
       "      <td>369</td>\n",
       "      <td>0.907</td>\n",
       "    </tr>\n",
       "    <tr>\n",
       "      <th>3</th>\n",
       "      <td>проведение свадьбы</td>\n",
       "      <td>2130</td>\n",
       "      <td>183</td>\n",
       "      <td>0.921</td>\n",
       "    </tr>\n",
       "  </tbody>\n",
       "</table>\n",
       "</div>"
      ],
      "text/plain": [
       "debt          purpose_category     0    1  debt_prop\n",
       "0       операции с автомобилем  3879  400      0.907\n",
       "1     операции с недвижимостью  9971  780      0.927\n",
       "2        получение образования  3619  369      0.907\n",
       "3           проведение свадьбы  2130  183      0.921"
      ]
     },
     "execution_count": 41,
     "metadata": {},
     "output_type": "execute_result"
    }
   ],
   "source": [
    "data_pivot_purpose['debt_prop'] = (data_pivot_purpose[0] / (data_pivot_purpose[0] + data_pivot_purpose[1])).round(3)\n",
    "data_pivot_purpose"
   ]
  },
  {
   "cell_type": "markdown",
   "id": "beeef996",
   "metadata": {
    "deletable": false,
    "id": "b4bb2ce6"
   },
   "source": [
    "<span style=\"color:green\">**Вывод:** из полученных данных можно сделать вывод, что цели кредита влияют на его возврат в срок - кредит возвращают с большей долей вероятности, если он взят на приобретение недвижимости (возможно, из-за более низких процентов на ипотеку, нежели на обычный кредит) и свадьбу (скорее всего молодежены возвращают кредит из денег, подаренных гостями на свадьбу).</span> "
   ]
  },
  {
   "cell_type": "markdown",
   "id": "ade3ec9b",
   "metadata": {
    "deletable": false,
    "editable": false,
    "id": "09c3ac4c"
   },
   "source": [
    "#### 3.5 Приведите возможные причины появления пропусков в исходных данных."
   ]
  },
  {
   "cell_type": "markdown",
   "id": "a71e8e0a",
   "metadata": {
    "deletable": false,
    "id": "9da2ceda"
   },
   "source": [
    "*Ответ:* Пропуски в данных появляются разными путями. Например, пользователь не указал о себе какие-нибудь сведения или автоматизированная система сбора информации дала сбой. Иногда пропуски оставляют умышленно, рассчитывая на автозаполнение спецсимволами."
   ]
  },
  {
   "cell_type": "markdown",
   "id": "15bce293",
   "metadata": {
    "deletable": false,
    "editable": false,
    "id": "7b0487d6"
   },
   "source": [
    "#### 3.6 Объясните, почему заполнить пропуски медианным значением — лучшее решение для количественных переменных."
   ]
  },
  {
   "cell_type": "markdown",
   "id": "2089e345",
   "metadata": {
    "deletable": false,
    "id": "7ecf2b8e"
   },
   "source": [
    "*Ответ:* Среднее значение некорректно характеризует данные, когда некоторые значения сильно выделяются среди большинства, т.е. когда в данных встречаются аномальные значения. В таких случаях использование медианы дает более корректные, правильные значения, нежели среднее."
   ]
  },
  {
   "cell_type": "markdown",
   "id": "9e362bb4",
   "metadata": {
    "deletable": false,
    "editable": false,
    "id": "6db5255a"
   },
   "source": [
    "### Шаг 4: общий вывод."
   ]
  },
  {
   "cell_type": "markdown",
   "id": "db30d9f5",
   "metadata": {
    "deletable": false,
    "id": "bad65432"
   },
   "source": [
    "Для проведения исследования и получения корректных результатов были проделаны работы по обработке исходного датасета. Предобработка данных включала в себя:\n",
    "1. Удаление пропусков данных в столбце с общим трудовым стажем в днях (`days_employed`) - пропуски были заполнены медианным трудовым стажем среди всех записей с тем же типом.\n",
    "2. Удаление пропусков данных в столбце с ежемесячным доходом (`total_income`) - пропуски были заполнены медианным доходом среди всех записей с тем же типом.\n",
    "3. Замена отрицательных показателей с общим трудовым стажем в днях (`days_employed`) положительными значениями. У двух типов (безработные и пенсионеры) получились аномально большие значения медианного трудового стажа, но т.к. эти данные не использовались в ииследовании, их оставили неизменными.\n",
    "4. В столбце с количеством детей в семье (`children`) были обнаружены два аномальных значения (-1 и 20), поэтому из датасета были удалены строки, которые имели эти аномальные значения.\n",
    "5. Замена вещественного типа данных в столбце с ежемесячным доходом (`total_income`) на целочисленный.\n",
    "6. В столбце с уровенем образования клиента (`education`) были обработаны неявные дубликаты (одни и те же значения, но записанные по-разному - с использованием заглавных и строчных букв).\n",
    "7. Удаление 71 строки-дубликата в данных.\n",
    "8. Осуществлена категоризация данных для проведения дальнейшего исследования.\n",
    "\n",
    "Были проверены четыре гипотезы и установлены следующие зависимости:\n",
    "1. Имеется зависимость между количеством детей и возвратом кредита в срок - семьи без детей возвращают кредит в большем количестве случаев, нежели семьи с детьми. Скорее всего семьи без детей имеют больше свободных средств для погашения кредита, нежели семьи без детей.\n",
    "2. Прослеживается зависимость между семейным положением и возвратом кредита в срок - клиенты, которые состоят в браке или были в нем, возвращают кредит чаще тех, кто не состоит в браке. Возможно, люди в браке более дисциплинированны в финансовом плане и более ответственно относятся к своим долговым обязательствам.\n",
    "3. Подтверждена зависимость между уровнем дохода и возвратом кредита в срок. Разные категории семей по уровню дохода возвращают кредит по-разному - чем выше уровень дохода, тем выше вероятность возврата кредита.\n",
    "4. Разные цели кредита влияют на его возврат в срок. Кредит возвращают с большей долей вероятности, если он взят на приобретение недвижимости (возможно, из-за более низких процентов на ипотеку, нежели на обычный кредит) и свадьбу (скорее всего молодежены возвращают кредит из денег, подаренных гостями на свадьбу). Есть больший риск невозврата кредита, если он был взят на автомобиль и образование.\n",
    "\n",
    "С учетом представленного исследования при построении модели кредитного скоринга кредитному отделу банка рекомендуется учитывать количество детей клиентов, их семейное положение, уровень дохода и цель кредита. Наиболее высокая способность потенциального заемщика вернуть кредит банку, если он в браке, не имеет детей, имеет высокий доход и берет кредит на приобретение недвижимости."
   ]
  }
 ],
 "metadata": {
  "ExecuteTimeLog": [
   {
    "duration": 423,
    "start_time": "2024-10-21T11:49:59.290Z"
   },
   {
    "duration": 19,
    "start_time": "2024-10-21T11:49:59.715Z"
   },
   {
    "duration": 14,
    "start_time": "2024-10-21T11:49:59.735Z"
   },
   {
    "duration": 8,
    "start_time": "2024-10-21T11:49:59.750Z"
   },
   {
    "duration": 57,
    "start_time": "2024-10-21T11:49:59.760Z"
   },
   {
    "duration": 3,
    "start_time": "2024-10-21T11:49:59.818Z"
   },
   {
    "duration": 10,
    "start_time": "2024-10-21T11:49:59.823Z"
   },
   {
    "duration": 4,
    "start_time": "2024-10-21T11:49:59.834Z"
   },
   {
    "duration": 8,
    "start_time": "2024-10-21T11:49:59.839Z"
   },
   {
    "duration": 13,
    "start_time": "2024-10-21T11:49:59.848Z"
   },
   {
    "duration": 42,
    "start_time": "2024-10-21T11:49:59.862Z"
   },
   {
    "duration": 9,
    "start_time": "2024-10-21T11:49:59.905Z"
   },
   {
    "duration": 9,
    "start_time": "2024-10-21T11:49:59.915Z"
   },
   {
    "duration": 12,
    "start_time": "2024-10-21T11:49:59.927Z"
   },
   {
    "duration": 29,
    "start_time": "2024-10-21T11:49:59.941Z"
   },
   {
    "duration": 16,
    "start_time": "2024-10-21T11:49:59.971Z"
   },
   {
    "duration": 4,
    "start_time": "2024-10-21T11:49:59.988Z"
   },
   {
    "duration": 9,
    "start_time": "2024-10-21T11:49:59.993Z"
   },
   {
    "duration": 19,
    "start_time": "2024-10-21T11:50:00.004Z"
   },
   {
    "duration": 65,
    "start_time": "2024-10-21T11:50:00.025Z"
   },
   {
    "duration": 44,
    "start_time": "2024-10-21T11:50:00.091Z"
   },
   {
    "duration": 6,
    "start_time": "2024-10-21T11:50:00.137Z"
   },
   {
    "duration": 25,
    "start_time": "2024-10-21T11:50:00.144Z"
   },
   {
    "duration": 24,
    "start_time": "2024-10-21T11:50:00.170Z"
   },
   {
    "duration": 44,
    "start_time": "2024-10-21T11:50:00.195Z"
   },
   {
    "duration": 10,
    "start_time": "2024-10-21T11:50:15.155Z"
   },
   {
    "duration": 76,
    "start_time": "2024-10-21T11:58:34.495Z"
   },
   {
    "duration": 12,
    "start_time": "2024-10-21T12:01:42.753Z"
   },
   {
    "duration": 422,
    "start_time": "2024-10-21T12:04:18.207Z"
   },
   {
    "duration": 19,
    "start_time": "2024-10-21T12:04:18.631Z"
   },
   {
    "duration": 12,
    "start_time": "2024-10-21T12:04:18.651Z"
   },
   {
    "duration": 40,
    "start_time": "2024-10-21T12:04:18.664Z"
   },
   {
    "duration": 47,
    "start_time": "2024-10-21T12:04:18.706Z"
   },
   {
    "duration": 3,
    "start_time": "2024-10-21T12:04:18.754Z"
   },
   {
    "duration": 22,
    "start_time": "2024-10-21T12:04:18.759Z"
   },
   {
    "duration": 10,
    "start_time": "2024-10-21T12:04:18.783Z"
   },
   {
    "duration": 36,
    "start_time": "2024-10-21T12:04:18.794Z"
   },
   {
    "duration": 3,
    "start_time": "2024-10-21T12:04:18.832Z"
   },
   {
    "duration": 29,
    "start_time": "2024-10-21T12:04:18.836Z"
   },
   {
    "duration": 7,
    "start_time": "2024-10-21T12:04:18.867Z"
   },
   {
    "duration": 7,
    "start_time": "2024-10-21T12:04:18.875Z"
   },
   {
    "duration": 26,
    "start_time": "2024-10-21T12:04:18.884Z"
   },
   {
    "duration": 30,
    "start_time": "2024-10-21T12:04:18.911Z"
   },
   {
    "duration": 14,
    "start_time": "2024-10-21T12:04:18.942Z"
   },
   {
    "duration": 4,
    "start_time": "2024-10-21T12:04:18.957Z"
   },
   {
    "duration": 56,
    "start_time": "2024-10-21T12:04:18.962Z"
   },
   {
    "duration": 8,
    "start_time": "2024-10-21T12:04:19.020Z"
   },
   {
    "duration": 13,
    "start_time": "2024-10-21T12:04:19.030Z"
   },
   {
    "duration": 25,
    "start_time": "2024-10-21T12:04:19.044Z"
   },
   {
    "duration": 17,
    "start_time": "2024-10-21T12:04:19.070Z"
   },
   {
    "duration": 15,
    "start_time": "2024-10-21T12:04:19.088Z"
   },
   {
    "duration": 32,
    "start_time": "2024-10-21T12:04:19.104Z"
   },
   {
    "duration": 10,
    "start_time": "2024-10-21T12:04:19.138Z"
   },
   {
    "duration": 25,
    "start_time": "2024-10-21T12:05:49.219Z"
   },
   {
    "duration": 15,
    "start_time": "2024-10-21T12:06:29.428Z"
   },
   {
    "duration": 26,
    "start_time": "2024-10-21T12:07:18.134Z"
   },
   {
    "duration": 26,
    "start_time": "2024-10-21T12:08:12.422Z"
   },
   {
    "duration": 75,
    "start_time": "2024-10-21T12:08:43.567Z"
   },
   {
    "duration": 24,
    "start_time": "2024-10-21T12:09:01.646Z"
   },
   {
    "duration": 14,
    "start_time": "2024-10-21T12:09:07.157Z"
   },
   {
    "duration": 15,
    "start_time": "2024-10-21T12:10:41.807Z"
   },
   {
    "duration": 15,
    "start_time": "2024-10-21T12:32:10.185Z"
   },
   {
    "duration": 14,
    "start_time": "2024-10-21T12:32:40.259Z"
   },
   {
    "duration": 3,
    "start_time": "2024-10-21T12:39:41.024Z"
   },
   {
    "duration": 3,
    "start_time": "2024-10-21T12:39:59.167Z"
   },
   {
    "duration": 6,
    "start_time": "2024-10-21T12:40:26.239Z"
   },
   {
    "duration": 18,
    "start_time": "2024-10-21T12:40:40.543Z"
   },
   {
    "duration": 14,
    "start_time": "2024-10-21T12:42:07.840Z"
   },
   {
    "duration": 80,
    "start_time": "2024-10-21T12:44:00.914Z"
   },
   {
    "duration": 768,
    "start_time": "2024-10-21T13:03:00.054Z"
   },
   {
    "duration": 747,
    "start_time": "2024-10-21T13:03:46.596Z"
   },
   {
    "duration": 17,
    "start_time": "2024-10-21T13:04:25.765Z"
   },
   {
    "duration": 1218,
    "start_time": "2024-10-21T13:04:48.022Z"
   },
   {
    "duration": 5,
    "start_time": "2024-10-21T13:05:29.374Z"
   },
   {
    "duration": 975,
    "start_time": "2024-10-21T13:05:34.245Z"
   },
   {
    "duration": 4,
    "start_time": "2024-10-21T13:05:44.158Z"
   },
   {
    "duration": 3,
    "start_time": "2024-10-21T13:05:49.759Z"
   },
   {
    "duration": 9,
    "start_time": "2024-10-21T13:06:26.134Z"
   },
   {
    "duration": 7,
    "start_time": "2024-10-21T13:08:04.698Z"
   },
   {
    "duration": 487,
    "start_time": "2024-10-21T13:08:14.618Z"
   },
   {
    "duration": 19,
    "start_time": "2024-10-21T13:08:15.107Z"
   },
   {
    "duration": 30,
    "start_time": "2024-10-21T13:08:15.127Z"
   },
   {
    "duration": 27,
    "start_time": "2024-10-21T13:08:15.159Z"
   },
   {
    "duration": 54,
    "start_time": "2024-10-21T13:08:15.188Z"
   },
   {
    "duration": 3,
    "start_time": "2024-10-21T13:08:15.243Z"
   },
   {
    "duration": 47,
    "start_time": "2024-10-21T13:08:15.248Z"
   },
   {
    "duration": 7,
    "start_time": "2024-10-21T13:08:15.297Z"
   },
   {
    "duration": 21,
    "start_time": "2024-10-21T13:08:15.305Z"
   },
   {
    "duration": 7,
    "start_time": "2024-10-21T13:08:15.328Z"
   },
   {
    "duration": 37,
    "start_time": "2024-10-21T13:08:15.336Z"
   },
   {
    "duration": 8,
    "start_time": "2024-10-21T13:08:15.375Z"
   },
   {
    "duration": 20,
    "start_time": "2024-10-21T13:08:15.385Z"
   },
   {
    "duration": 13,
    "start_time": "2024-10-21T13:08:15.406Z"
   },
   {
    "duration": 16,
    "start_time": "2024-10-21T13:08:15.421Z"
   },
   {
    "duration": 21,
    "start_time": "2024-10-21T13:08:15.439Z"
   },
   {
    "duration": 4,
    "start_time": "2024-10-21T13:08:15.461Z"
   },
   {
    "duration": 19,
    "start_time": "2024-10-21T13:08:15.466Z"
   },
   {
    "duration": 7,
    "start_time": "2024-10-21T13:08:15.487Z"
   },
   {
    "duration": 31,
    "start_time": "2024-10-21T13:08:15.496Z"
   },
   {
    "duration": 48,
    "start_time": "2024-10-21T13:08:15.529Z"
   },
   {
    "duration": 57,
    "start_time": "2024-10-21T13:08:15.579Z"
   },
   {
    "duration": 37,
    "start_time": "2024-10-21T13:08:15.638Z"
   },
   {
    "duration": 8,
    "start_time": "2024-10-21T13:08:15.676Z"
   },
   {
    "duration": 19,
    "start_time": "2024-10-21T13:08:15.685Z"
   },
   {
    "duration": 13,
    "start_time": "2024-10-21T13:08:15.706Z"
   },
   {
    "duration": 19,
    "start_time": "2024-10-21T13:08:15.720Z"
   },
   {
    "duration": 8,
    "start_time": "2024-10-21T13:08:15.742Z"
   },
   {
    "duration": 17,
    "start_time": "2024-10-21T13:08:15.751Z"
   },
   {
    "duration": 424,
    "start_time": "2024-10-21T13:58:52.383Z"
   },
   {
    "duration": 21,
    "start_time": "2024-10-21T13:58:52.809Z"
   },
   {
    "duration": 13,
    "start_time": "2024-10-21T13:58:52.832Z"
   },
   {
    "duration": 16,
    "start_time": "2024-10-21T13:58:52.847Z"
   },
   {
    "duration": 37,
    "start_time": "2024-10-21T13:58:52.865Z"
   },
   {
    "duration": 3,
    "start_time": "2024-10-21T13:58:52.904Z"
   },
   {
    "duration": 66,
    "start_time": "2024-10-21T13:58:52.909Z"
   },
   {
    "duration": 16,
    "start_time": "2024-10-21T13:58:52.976Z"
   },
   {
    "duration": 10,
    "start_time": "2024-10-21T13:58:52.993Z"
   },
   {
    "duration": 9,
    "start_time": "2024-10-21T13:58:53.005Z"
   },
   {
    "duration": 36,
    "start_time": "2024-10-21T13:58:53.015Z"
   },
   {
    "duration": 9,
    "start_time": "2024-10-21T13:58:53.052Z"
   },
   {
    "duration": 3,
    "start_time": "2024-10-21T13:58:53.063Z"
   },
   {
    "duration": 12,
    "start_time": "2024-10-21T13:58:53.068Z"
   },
   {
    "duration": 24,
    "start_time": "2024-10-21T13:58:53.082Z"
   },
   {
    "duration": 16,
    "start_time": "2024-10-21T13:58:53.108Z"
   },
   {
    "duration": 3,
    "start_time": "2024-10-21T13:58:53.125Z"
   },
   {
    "duration": 33,
    "start_time": "2024-10-21T13:58:53.130Z"
   },
   {
    "duration": 6,
    "start_time": "2024-10-21T13:58:53.165Z"
   },
   {
    "duration": 3,
    "start_time": "2024-10-21T13:58:53.173Z"
   },
   {
    "duration": 14,
    "start_time": "2024-10-21T13:58:53.178Z"
   },
   {
    "duration": 50,
    "start_time": "2024-10-21T13:58:53.194Z"
   },
   {
    "duration": 6,
    "start_time": "2024-10-21T13:58:53.245Z"
   },
   {
    "duration": 7,
    "start_time": "2024-10-21T13:58:53.252Z"
   },
   {
    "duration": 18,
    "start_time": "2024-10-21T13:58:53.261Z"
   },
   {
    "duration": 7,
    "start_time": "2024-10-21T13:58:53.281Z"
   },
   {
    "duration": 25,
    "start_time": "2024-10-21T13:58:53.290Z"
   },
   {
    "duration": 2,
    "start_time": "2024-10-21T13:58:53.318Z"
   },
   {
    "duration": 7,
    "start_time": "2024-10-21T13:58:53.322Z"
   },
   {
    "duration": 83,
    "start_time": "2024-10-21T14:10:03.826Z"
   },
   {
    "duration": 15,
    "start_time": "2024-10-21T14:10:14.342Z"
   },
   {
    "duration": 80,
    "start_time": "2024-10-21T14:12:41.980Z"
   },
   {
    "duration": 4,
    "start_time": "2024-10-21T14:15:50.413Z"
   },
   {
    "duration": 7,
    "start_time": "2024-10-21T14:16:27.103Z"
   },
   {
    "duration": 21,
    "start_time": "2024-10-21T14:17:32.526Z"
   },
   {
    "duration": 69,
    "start_time": "2024-10-21T14:18:16.043Z"
   },
   {
    "duration": 8,
    "start_time": "2024-10-21T14:19:04.416Z"
   },
   {
    "duration": 5,
    "start_time": "2024-10-21T14:30:33.942Z"
   },
   {
    "duration": 15,
    "start_time": "2024-10-21T14:31:34.321Z"
   },
   {
    "duration": 14,
    "start_time": "2024-10-21T14:32:57.613Z"
   },
   {
    "duration": 25,
    "start_time": "2024-10-21T14:36:45.337Z"
   },
   {
    "duration": 2,
    "start_time": "2024-10-21T14:48:44.594Z"
   },
   {
    "duration": 6,
    "start_time": "2024-10-21T14:48:46.808Z"
   },
   {
    "duration": 16,
    "start_time": "2024-10-21T14:48:49.697Z"
   },
   {
    "duration": 8,
    "start_time": "2024-10-21T14:48:53.202Z"
   },
   {
    "duration": 413,
    "start_time": "2024-10-21T14:50:33.292Z"
   },
   {
    "duration": 19,
    "start_time": "2024-10-21T14:50:33.707Z"
   },
   {
    "duration": 25,
    "start_time": "2024-10-21T14:50:33.728Z"
   },
   {
    "duration": 8,
    "start_time": "2024-10-21T14:50:33.754Z"
   },
   {
    "duration": 28,
    "start_time": "2024-10-21T14:50:33.763Z"
   },
   {
    "duration": 4,
    "start_time": "2024-10-21T14:50:33.792Z"
   },
   {
    "duration": 20,
    "start_time": "2024-10-21T14:50:33.797Z"
   },
   {
    "duration": 3,
    "start_time": "2024-10-21T14:50:33.819Z"
   },
   {
    "duration": 8,
    "start_time": "2024-10-21T14:50:33.824Z"
   },
   {
    "duration": 4,
    "start_time": "2024-10-21T14:50:33.834Z"
   },
   {
    "duration": 45,
    "start_time": "2024-10-21T14:50:33.840Z"
   },
   {
    "duration": 8,
    "start_time": "2024-10-21T14:50:33.886Z"
   },
   {
    "duration": 17,
    "start_time": "2024-10-21T14:50:33.895Z"
   },
   {
    "duration": 23,
    "start_time": "2024-10-21T14:50:33.914Z"
   },
   {
    "duration": 27,
    "start_time": "2024-10-21T14:50:33.939Z"
   },
   {
    "duration": 14,
    "start_time": "2024-10-21T14:50:33.967Z"
   },
   {
    "duration": 22,
    "start_time": "2024-10-21T14:50:33.982Z"
   },
   {
    "duration": 26,
    "start_time": "2024-10-21T14:50:34.005Z"
   },
   {
    "duration": 8,
    "start_time": "2024-10-21T14:50:34.032Z"
   },
   {
    "duration": 22,
    "start_time": "2024-10-21T14:50:34.041Z"
   },
   {
    "duration": 44,
    "start_time": "2024-10-21T14:50:34.064Z"
   },
   {
    "duration": 21,
    "start_time": "2024-10-21T14:50:34.109Z"
   },
   {
    "duration": 3,
    "start_time": "2024-10-21T14:50:34.131Z"
   },
   {
    "duration": 31,
    "start_time": "2024-10-21T14:50:34.135Z"
   },
   {
    "duration": 55,
    "start_time": "2024-10-21T14:50:34.167Z"
   },
   {
    "duration": 7,
    "start_time": "2024-10-21T14:50:34.223Z"
   },
   {
    "duration": 28,
    "start_time": "2024-10-21T14:50:34.232Z"
   },
   {
    "duration": 33,
    "start_time": "2024-10-21T14:50:34.262Z"
   },
   {
    "duration": 21,
    "start_time": "2024-10-21T14:50:34.296Z"
   },
   {
    "duration": 35,
    "start_time": "2024-10-21T14:50:34.318Z"
   },
   {
    "duration": 6,
    "start_time": "2024-10-21T14:50:34.354Z"
   },
   {
    "duration": 89,
    "start_time": "2024-10-21T14:50:34.362Z"
   },
   {
    "duration": 23,
    "start_time": "2024-10-21T14:50:34.452Z"
   },
   {
    "duration": 53,
    "start_time": "2024-10-22T06:35:51.746Z"
   },
   {
    "duration": 755,
    "start_time": "2024-10-22T06:35:56.098Z"
   },
   {
    "duration": 30,
    "start_time": "2024-10-22T06:35:56.855Z"
   },
   {
    "duration": 15,
    "start_time": "2024-10-22T06:35:56.886Z"
   },
   {
    "duration": 10,
    "start_time": "2024-10-22T06:35:56.903Z"
   },
   {
    "duration": 66,
    "start_time": "2024-10-22T06:35:56.914Z"
   },
   {
    "duration": 3,
    "start_time": "2024-10-22T06:35:56.981Z"
   },
   {
    "duration": 27,
    "start_time": "2024-10-22T06:35:56.986Z"
   },
   {
    "duration": 37,
    "start_time": "2024-10-22T06:35:57.015Z"
   },
   {
    "duration": 23,
    "start_time": "2024-10-22T06:35:57.053Z"
   },
   {
    "duration": 49,
    "start_time": "2024-10-22T06:35:57.079Z"
   },
   {
    "duration": 49,
    "start_time": "2024-10-22T06:35:57.130Z"
   },
   {
    "duration": 10,
    "start_time": "2024-10-22T06:35:57.181Z"
   },
   {
    "duration": 17,
    "start_time": "2024-10-22T06:35:57.193Z"
   },
   {
    "duration": 53,
    "start_time": "2024-10-22T06:35:57.212Z"
   },
   {
    "duration": 46,
    "start_time": "2024-10-22T06:35:57.268Z"
   },
   {
    "duration": 33,
    "start_time": "2024-10-22T06:35:57.316Z"
   },
   {
    "duration": 8,
    "start_time": "2024-10-22T06:35:57.355Z"
   },
   {
    "duration": 26,
    "start_time": "2024-10-22T06:35:57.369Z"
   },
   {
    "duration": 42,
    "start_time": "2024-10-22T06:35:57.397Z"
   },
   {
    "duration": 13,
    "start_time": "2024-10-22T06:35:57.441Z"
   },
   {
    "duration": 62,
    "start_time": "2024-10-22T06:35:57.456Z"
   },
   {
    "duration": 43,
    "start_time": "2024-10-22T06:35:57.519Z"
   },
   {
    "duration": 5,
    "start_time": "2024-10-22T06:35:57.563Z"
   },
   {
    "duration": 36,
    "start_time": "2024-10-22T06:35:57.569Z"
   },
   {
    "duration": 41,
    "start_time": "2024-10-22T06:35:57.607Z"
   },
   {
    "duration": 11,
    "start_time": "2024-10-22T06:35:57.649Z"
   },
   {
    "duration": 31,
    "start_time": "2024-10-22T06:35:57.661Z"
   },
   {
    "duration": 3,
    "start_time": "2024-10-22T06:35:57.695Z"
   },
   {
    "duration": 35,
    "start_time": "2024-10-22T06:35:57.700Z"
   },
   {
    "duration": 125,
    "start_time": "2024-10-22T06:35:57.738Z"
   },
   {
    "duration": 7,
    "start_time": "2024-10-22T06:35:57.865Z"
   },
   {
    "duration": 45,
    "start_time": "2024-10-22T06:35:57.873Z"
   },
   {
    "duration": 34,
    "start_time": "2024-10-22T06:35:57.920Z"
   },
   {
    "duration": 74,
    "start_time": "2024-10-22T06:37:27.439Z"
   },
   {
    "duration": 9,
    "start_time": "2024-10-22T06:38:05.278Z"
   },
   {
    "duration": 18,
    "start_time": "2024-10-22T06:55:10.853Z"
   },
   {
    "duration": 24,
    "start_time": "2024-10-22T06:59:59.652Z"
   },
   {
    "duration": 9,
    "start_time": "2024-10-22T07:00:39.010Z"
   },
   {
    "duration": 597,
    "start_time": "2024-10-22T18:54:41.987Z"
   },
   {
    "duration": 25,
    "start_time": "2024-10-22T18:54:42.586Z"
   },
   {
    "duration": 16,
    "start_time": "2024-10-22T18:54:42.613Z"
   },
   {
    "duration": 25,
    "start_time": "2024-10-22T18:54:42.633Z"
   },
   {
    "duration": 80,
    "start_time": "2024-10-22T18:54:42.661Z"
   },
   {
    "duration": 4,
    "start_time": "2024-10-22T18:54:42.743Z"
   },
   {
    "duration": 15,
    "start_time": "2024-10-22T18:54:42.749Z"
   },
   {
    "duration": 6,
    "start_time": "2024-10-22T18:54:42.767Z"
   },
   {
    "duration": 31,
    "start_time": "2024-10-22T18:54:42.775Z"
   },
   {
    "duration": 9,
    "start_time": "2024-10-22T18:54:42.813Z"
   },
   {
    "duration": 47,
    "start_time": "2024-10-22T18:54:42.824Z"
   },
   {
    "duration": 29,
    "start_time": "2024-10-22T18:54:42.872Z"
   },
   {
    "duration": 6,
    "start_time": "2024-10-22T18:54:42.903Z"
   },
   {
    "duration": 22,
    "start_time": "2024-10-22T18:54:42.911Z"
   },
   {
    "duration": 95,
    "start_time": "2024-10-22T18:54:42.935Z"
   },
   {
    "duration": 20,
    "start_time": "2024-10-22T18:54:43.032Z"
   },
   {
    "duration": 11,
    "start_time": "2024-10-22T18:54:43.054Z"
   },
   {
    "duration": 33,
    "start_time": "2024-10-22T18:54:43.067Z"
   },
   {
    "duration": 19,
    "start_time": "2024-10-22T18:54:43.103Z"
   },
   {
    "duration": 64,
    "start_time": "2024-10-22T18:54:43.125Z"
   },
   {
    "duration": 37,
    "start_time": "2024-10-22T18:54:43.191Z"
   },
   {
    "duration": 27,
    "start_time": "2024-10-22T18:54:43.230Z"
   },
   {
    "duration": 3,
    "start_time": "2024-10-22T18:54:43.260Z"
   },
   {
    "duration": 9,
    "start_time": "2024-10-22T18:54:43.265Z"
   },
   {
    "duration": 36,
    "start_time": "2024-10-22T18:54:43.276Z"
   },
   {
    "duration": 13,
    "start_time": "2024-10-22T18:54:43.315Z"
   },
   {
    "duration": 35,
    "start_time": "2024-10-22T18:54:43.330Z"
   },
   {
    "duration": 4,
    "start_time": "2024-10-22T18:54:43.370Z"
   },
   {
    "duration": 33,
    "start_time": "2024-10-22T18:54:43.376Z"
   },
   {
    "duration": 32,
    "start_time": "2024-10-22T18:54:43.411Z"
   },
   {
    "duration": 10,
    "start_time": "2024-10-22T18:54:43.445Z"
   },
   {
    "duration": 45,
    "start_time": "2024-10-22T18:54:43.456Z"
   },
   {
    "duration": 11,
    "start_time": "2024-10-22T18:54:43.502Z"
   },
   {
    "duration": 19,
    "start_time": "2024-10-22T18:54:43.515Z"
   },
   {
    "duration": 9,
    "start_time": "2024-10-22T18:54:43.536Z"
   },
   {
    "duration": 51,
    "start_time": "2024-10-23T06:54:42.976Z"
   },
   {
    "duration": 675,
    "start_time": "2024-10-23T06:54:47.317Z"
   },
   {
    "duration": 23,
    "start_time": "2024-10-23T06:54:47.994Z"
   },
   {
    "duration": 15,
    "start_time": "2024-10-23T06:54:48.019Z"
   },
   {
    "duration": 10,
    "start_time": "2024-10-23T06:54:48.036Z"
   },
   {
    "duration": 44,
    "start_time": "2024-10-23T06:54:48.047Z"
   },
   {
    "duration": 4,
    "start_time": "2024-10-23T06:54:48.092Z"
   },
   {
    "duration": 9,
    "start_time": "2024-10-23T06:54:48.097Z"
   },
   {
    "duration": 5,
    "start_time": "2024-10-23T06:54:48.107Z"
   },
   {
    "duration": 7,
    "start_time": "2024-10-23T06:54:48.113Z"
   },
   {
    "duration": 18,
    "start_time": "2024-10-23T06:54:48.125Z"
   },
   {
    "duration": 84,
    "start_time": "2024-10-23T06:54:48.144Z"
   },
   {
    "duration": 17,
    "start_time": "2024-10-23T06:54:48.230Z"
   },
   {
    "duration": 4,
    "start_time": "2024-10-23T06:54:48.249Z"
   },
   {
    "duration": 34,
    "start_time": "2024-10-23T06:54:48.255Z"
   },
   {
    "duration": 29,
    "start_time": "2024-10-23T06:54:48.291Z"
   },
   {
    "duration": 46,
    "start_time": "2024-10-23T06:54:48.322Z"
   },
   {
    "duration": 3,
    "start_time": "2024-10-23T06:54:48.370Z"
   },
   {
    "duration": 23,
    "start_time": "2024-10-23T06:54:48.375Z"
   },
   {
    "duration": 6,
    "start_time": "2024-10-23T06:54:48.400Z"
   },
   {
    "duration": 4,
    "start_time": "2024-10-23T06:54:48.407Z"
   },
   {
    "duration": 11,
    "start_time": "2024-10-23T06:54:48.413Z"
   },
   {
    "duration": 27,
    "start_time": "2024-10-23T06:54:48.425Z"
   },
   {
    "duration": 78,
    "start_time": "2024-10-23T06:54:48.454Z"
   },
   {
    "duration": 10,
    "start_time": "2024-10-23T06:54:48.533Z"
   },
   {
    "duration": 9,
    "start_time": "2024-10-23T06:54:48.545Z"
   },
   {
    "duration": 21,
    "start_time": "2024-10-23T06:54:48.555Z"
   },
   {
    "duration": 8,
    "start_time": "2024-10-23T06:54:48.578Z"
   },
   {
    "duration": 16,
    "start_time": "2024-10-23T06:54:48.589Z"
   },
   {
    "duration": 3,
    "start_time": "2024-10-23T06:54:48.606Z"
   },
   {
    "duration": 23,
    "start_time": "2024-10-23T06:54:48.611Z"
   },
   {
    "duration": 26,
    "start_time": "2024-10-23T06:54:48.635Z"
   },
   {
    "duration": 19,
    "start_time": "2024-10-23T06:54:48.663Z"
   },
   {
    "duration": 18,
    "start_time": "2024-10-23T06:54:48.683Z"
   },
   {
    "duration": 8,
    "start_time": "2024-10-23T06:54:48.702Z"
   },
   {
    "duration": 20,
    "start_time": "2024-10-23T06:54:48.711Z"
   },
   {
    "duration": 9,
    "start_time": "2024-10-23T06:54:48.732Z"
   },
   {
    "duration": 8,
    "start_time": "2024-10-23T06:56:10.941Z"
   },
   {
    "duration": 8,
    "start_time": "2024-10-23T06:56:18.896Z"
   },
   {
    "duration": 490,
    "start_time": "2024-10-23T06:57:11.680Z"
   },
   {
    "duration": 23,
    "start_time": "2024-10-23T06:57:12.172Z"
   },
   {
    "duration": 35,
    "start_time": "2024-10-23T06:57:12.196Z"
   },
   {
    "duration": 11,
    "start_time": "2024-10-23T06:57:12.233Z"
   },
   {
    "duration": 52,
    "start_time": "2024-10-23T06:57:12.246Z"
   },
   {
    "duration": 3,
    "start_time": "2024-10-23T06:57:12.299Z"
   },
   {
    "duration": 74,
    "start_time": "2024-10-23T06:57:12.304Z"
   },
   {
    "duration": 5,
    "start_time": "2024-10-23T06:57:12.379Z"
   },
   {
    "duration": 9,
    "start_time": "2024-10-23T06:57:12.385Z"
   },
   {
    "duration": 10,
    "start_time": "2024-10-23T06:57:12.396Z"
   },
   {
    "duration": 37,
    "start_time": "2024-10-23T06:57:12.407Z"
   },
   {
    "duration": 31,
    "start_time": "2024-10-23T06:57:12.446Z"
   },
   {
    "duration": 46,
    "start_time": "2024-10-23T06:57:12.479Z"
   },
   {
    "duration": 13,
    "start_time": "2024-10-23T06:57:12.528Z"
   },
   {
    "duration": 19,
    "start_time": "2024-10-23T06:57:12.543Z"
   },
   {
    "duration": 18,
    "start_time": "2024-10-23T06:57:12.563Z"
   },
   {
    "duration": 4,
    "start_time": "2024-10-23T06:57:12.582Z"
   },
   {
    "duration": 12,
    "start_time": "2024-10-23T06:57:12.587Z"
   },
   {
    "duration": 6,
    "start_time": "2024-10-23T06:57:12.600Z"
   },
   {
    "duration": 4,
    "start_time": "2024-10-23T06:57:12.607Z"
   },
   {
    "duration": 15,
    "start_time": "2024-10-23T06:57:12.612Z"
   },
   {
    "duration": 21,
    "start_time": "2024-10-23T06:57:12.629Z"
   },
   {
    "duration": 33,
    "start_time": "2024-10-23T06:57:12.651Z"
   },
   {
    "duration": 3,
    "start_time": "2024-10-23T06:57:12.686Z"
   },
   {
    "duration": 9,
    "start_time": "2024-10-23T06:57:12.690Z"
   },
   {
    "duration": 22,
    "start_time": "2024-10-23T06:57:12.701Z"
   },
   {
    "duration": 9,
    "start_time": "2024-10-23T06:57:12.725Z"
   },
   {
    "duration": 49,
    "start_time": "2024-10-23T06:57:12.735Z"
   },
   {
    "duration": 4,
    "start_time": "2024-10-23T06:57:12.785Z"
   },
   {
    "duration": 12,
    "start_time": "2024-10-23T06:57:12.790Z"
   },
   {
    "duration": 25,
    "start_time": "2024-10-23T06:57:12.803Z"
   },
   {
    "duration": 9,
    "start_time": "2024-10-23T06:57:12.830Z"
   },
   {
    "duration": 50,
    "start_time": "2024-10-23T06:57:12.841Z"
   },
   {
    "duration": 9,
    "start_time": "2024-10-23T06:57:12.892Z"
   },
   {
    "duration": 18,
    "start_time": "2024-10-23T06:57:12.902Z"
   },
   {
    "duration": 20,
    "start_time": "2024-10-23T06:57:12.921Z"
   },
   {
    "duration": 17,
    "start_time": "2024-10-23T07:07:31.579Z"
   },
   {
    "duration": 9,
    "start_time": "2024-10-23T07:09:15.825Z"
   },
   {
    "duration": 9,
    "start_time": "2024-10-23T07:09:27.800Z"
   },
   {
    "duration": 495,
    "start_time": "2024-10-23T07:14:22.993Z"
   },
   {
    "duration": 23,
    "start_time": "2024-10-23T07:14:23.490Z"
   },
   {
    "duration": 22,
    "start_time": "2024-10-23T07:14:23.514Z"
   },
   {
    "duration": 11,
    "start_time": "2024-10-23T07:14:23.538Z"
   },
   {
    "duration": 56,
    "start_time": "2024-10-23T07:14:23.551Z"
   },
   {
    "duration": 3,
    "start_time": "2024-10-23T07:14:23.609Z"
   },
   {
    "duration": 14,
    "start_time": "2024-10-23T07:14:23.614Z"
   },
   {
    "duration": 4,
    "start_time": "2024-10-23T07:14:23.629Z"
   },
   {
    "duration": 12,
    "start_time": "2024-10-23T07:14:23.635Z"
   },
   {
    "duration": 5,
    "start_time": "2024-10-23T07:14:23.649Z"
   },
   {
    "duration": 56,
    "start_time": "2024-10-23T07:14:23.656Z"
   },
   {
    "duration": 11,
    "start_time": "2024-10-23T07:14:23.713Z"
   },
   {
    "duration": 4,
    "start_time": "2024-10-23T07:14:23.726Z"
   },
   {
    "duration": 14,
    "start_time": "2024-10-23T07:14:23.732Z"
   },
   {
    "duration": 41,
    "start_time": "2024-10-23T07:14:23.748Z"
   },
   {
    "duration": 18,
    "start_time": "2024-10-23T07:14:23.790Z"
   },
   {
    "duration": 4,
    "start_time": "2024-10-23T07:14:23.809Z"
   },
   {
    "duration": 14,
    "start_time": "2024-10-23T07:14:23.814Z"
   },
   {
    "duration": 6,
    "start_time": "2024-10-23T07:14:23.829Z"
   },
   {
    "duration": 4,
    "start_time": "2024-10-23T07:14:23.837Z"
   },
   {
    "duration": 36,
    "start_time": "2024-10-23T07:14:23.842Z"
   },
   {
    "duration": 20,
    "start_time": "2024-10-23T07:14:23.880Z"
   },
   {
    "duration": 9,
    "start_time": "2024-10-23T07:14:23.901Z"
   },
   {
    "duration": 3,
    "start_time": "2024-10-23T07:14:23.912Z"
   },
   {
    "duration": 16,
    "start_time": "2024-10-23T07:14:23.916Z"
   },
   {
    "duration": 46,
    "start_time": "2024-10-23T07:14:23.933Z"
   },
   {
    "duration": 8,
    "start_time": "2024-10-23T07:14:23.981Z"
   },
   {
    "duration": 18,
    "start_time": "2024-10-23T07:14:23.990Z"
   },
   {
    "duration": 9,
    "start_time": "2024-10-23T07:14:24.010Z"
   },
   {
    "duration": 4,
    "start_time": "2024-10-23T07:14:24.021Z"
   },
   {
    "duration": 12,
    "start_time": "2024-10-23T07:14:24.027Z"
   },
   {
    "duration": 48,
    "start_time": "2024-10-23T07:14:24.040Z"
   },
   {
    "duration": 9,
    "start_time": "2024-10-23T07:14:24.089Z"
   },
   {
    "duration": 21,
    "start_time": "2024-10-23T07:14:24.099Z"
   },
   {
    "duration": 9,
    "start_time": "2024-10-23T07:14:24.121Z"
   },
   {
    "duration": 25,
    "start_time": "2024-10-23T07:14:24.132Z"
   },
   {
    "duration": 26,
    "start_time": "2024-10-23T07:14:24.158Z"
   },
   {
    "duration": 4,
    "start_time": "2024-10-23T08:12:20.525Z"
   },
   {
    "duration": 8,
    "start_time": "2024-10-23T08:12:51.781Z"
   },
   {
    "duration": 27,
    "start_time": "2024-10-23T08:14:07.349Z"
   },
   {
    "duration": 10,
    "start_time": "2024-10-23T08:15:34.399Z"
   },
   {
    "duration": 497,
    "start_time": "2024-10-23T08:23:32.869Z"
   },
   {
    "duration": 24,
    "start_time": "2024-10-23T08:23:33.368Z"
   },
   {
    "duration": 17,
    "start_time": "2024-10-23T08:23:33.393Z"
   },
   {
    "duration": 10,
    "start_time": "2024-10-23T08:23:33.412Z"
   },
   {
    "duration": 56,
    "start_time": "2024-10-23T08:23:33.424Z"
   },
   {
    "duration": 3,
    "start_time": "2024-10-23T08:23:33.482Z"
   },
   {
    "duration": 9,
    "start_time": "2024-10-23T08:23:33.487Z"
   },
   {
    "duration": 5,
    "start_time": "2024-10-23T08:23:33.498Z"
   },
   {
    "duration": 22,
    "start_time": "2024-10-23T08:23:33.505Z"
   },
   {
    "duration": 6,
    "start_time": "2024-10-23T08:23:33.529Z"
   },
   {
    "duration": 61,
    "start_time": "2024-10-23T08:23:33.537Z"
   },
   {
    "duration": 12,
    "start_time": "2024-10-23T08:23:33.600Z"
   },
   {
    "duration": 11,
    "start_time": "2024-10-23T08:23:33.614Z"
   },
   {
    "duration": 20,
    "start_time": "2024-10-23T08:23:33.629Z"
   },
   {
    "duration": 36,
    "start_time": "2024-10-23T08:23:33.650Z"
   },
   {
    "duration": 18,
    "start_time": "2024-10-23T08:23:33.688Z"
   },
   {
    "duration": 4,
    "start_time": "2024-10-23T08:23:33.708Z"
   },
   {
    "duration": 42,
    "start_time": "2024-10-23T08:23:33.714Z"
   },
   {
    "duration": 26,
    "start_time": "2024-10-23T08:23:33.757Z"
   },
   {
    "duration": 35,
    "start_time": "2024-10-23T08:23:33.786Z"
   },
   {
    "duration": 64,
    "start_time": "2024-10-23T08:23:33.823Z"
   },
   {
    "duration": 30,
    "start_time": "2024-10-23T08:23:33.889Z"
   },
   {
    "duration": 12,
    "start_time": "2024-10-23T08:23:33.920Z"
   },
   {
    "duration": 12,
    "start_time": "2024-10-23T08:23:33.934Z"
   },
   {
    "duration": 11,
    "start_time": "2024-10-23T08:23:33.948Z"
   },
   {
    "duration": 22,
    "start_time": "2024-10-23T08:23:33.960Z"
   },
   {
    "duration": 9,
    "start_time": "2024-10-23T08:23:33.983Z"
   },
   {
    "duration": 40,
    "start_time": "2024-10-23T08:23:33.993Z"
   },
   {
    "duration": 8,
    "start_time": "2024-10-23T08:23:34.035Z"
   },
   {
    "duration": 8,
    "start_time": "2024-10-23T08:23:34.045Z"
   },
   {
    "duration": 11,
    "start_time": "2024-10-23T08:23:34.054Z"
   },
   {
    "duration": 30,
    "start_time": "2024-10-23T08:23:34.067Z"
   },
   {
    "duration": 9,
    "start_time": "2024-10-23T08:23:34.099Z"
   },
   {
    "duration": 21,
    "start_time": "2024-10-23T08:23:34.110Z"
   },
   {
    "duration": 17,
    "start_time": "2024-10-23T08:23:34.132Z"
   },
   {
    "duration": 72,
    "start_time": "2024-10-23T08:23:34.151Z"
   },
   {
    "duration": 9,
    "start_time": "2024-10-23T08:23:34.224Z"
   },
   {
    "duration": 26,
    "start_time": "2024-10-23T08:23:34.234Z"
   },
   {
    "duration": 14,
    "start_time": "2024-10-23T08:23:34.261Z"
   },
   {
    "duration": 18,
    "start_time": "2024-10-23T08:23:34.276Z"
   },
   {
    "duration": 11,
    "start_time": "2024-10-23T08:23:34.297Z"
   },
   {
    "duration": 9,
    "start_time": "2024-10-23T08:29:59.746Z"
   },
   {
    "duration": 10,
    "start_time": "2024-10-23T08:35:06.158Z"
   },
   {
    "duration": 9,
    "start_time": "2024-10-23T08:35:29.464Z"
   },
   {
    "duration": 10,
    "start_time": "2024-10-23T08:35:48.510Z"
   },
   {
    "duration": 10,
    "start_time": "2024-10-23T08:36:07.823Z"
   },
   {
    "duration": 9,
    "start_time": "2024-10-23T08:36:55.745Z"
   },
   {
    "duration": 9,
    "start_time": "2024-10-23T08:37:18.512Z"
   },
   {
    "duration": 76,
    "start_time": "2024-10-23T09:05:18.703Z"
   },
   {
    "duration": 54,
    "start_time": "2024-10-23T09:07:02.511Z"
   },
   {
    "duration": 9,
    "start_time": "2024-10-23T09:09:22.665Z"
   },
   {
    "duration": 480,
    "start_time": "2024-10-23T12:01:25.333Z"
   },
   {
    "duration": 22,
    "start_time": "2024-10-23T12:01:25.815Z"
   },
   {
    "duration": 15,
    "start_time": "2024-10-23T12:01:25.839Z"
   },
   {
    "duration": 29,
    "start_time": "2024-10-23T12:01:25.856Z"
   },
   {
    "duration": 36,
    "start_time": "2024-10-23T12:01:25.887Z"
   },
   {
    "duration": 3,
    "start_time": "2024-10-23T12:01:25.924Z"
   },
   {
    "duration": 9,
    "start_time": "2024-10-23T12:01:25.929Z"
   },
   {
    "duration": 4,
    "start_time": "2024-10-23T12:01:25.939Z"
   },
   {
    "duration": 7,
    "start_time": "2024-10-23T12:01:25.976Z"
   },
   {
    "duration": 5,
    "start_time": "2024-10-23T12:01:25.985Z"
   },
   {
    "duration": 42,
    "start_time": "2024-10-23T12:01:25.991Z"
   },
   {
    "duration": 12,
    "start_time": "2024-10-23T12:01:26.035Z"
   },
   {
    "duration": 4,
    "start_time": "2024-10-23T12:01:26.076Z"
   },
   {
    "duration": 14,
    "start_time": "2024-10-23T12:01:26.083Z"
   },
   {
    "duration": 104,
    "start_time": "2024-10-23T12:01:26.099Z"
   },
   {
    "duration": 19,
    "start_time": "2024-10-23T12:01:26.204Z"
   },
   {
    "duration": 5,
    "start_time": "2024-10-23T12:01:26.224Z"
   },
   {
    "duration": 12,
    "start_time": "2024-10-23T12:01:26.230Z"
   },
   {
    "duration": 6,
    "start_time": "2024-10-23T12:01:26.244Z"
   },
   {
    "duration": 24,
    "start_time": "2024-10-23T12:01:26.252Z"
   },
   {
    "duration": 16,
    "start_time": "2024-10-23T12:01:26.278Z"
   },
   {
    "duration": 30,
    "start_time": "2024-10-23T12:01:26.296Z"
   },
   {
    "duration": 10,
    "start_time": "2024-10-23T12:01:26.327Z"
   },
   {
    "duration": 11,
    "start_time": "2024-10-23T12:01:26.338Z"
   },
   {
    "duration": 27,
    "start_time": "2024-10-23T12:01:26.351Z"
   },
   {
    "duration": 24,
    "start_time": "2024-10-23T12:01:26.379Z"
   },
   {
    "duration": 9,
    "start_time": "2024-10-23T12:01:26.404Z"
   },
   {
    "duration": 19,
    "start_time": "2024-10-23T12:01:26.415Z"
   },
   {
    "duration": 11,
    "start_time": "2024-10-23T12:01:26.435Z"
   },
   {
    "duration": 4,
    "start_time": "2024-10-23T12:01:26.476Z"
   },
   {
    "duration": 17,
    "start_time": "2024-10-23T12:01:26.481Z"
   },
   {
    "duration": 25,
    "start_time": "2024-10-23T12:01:26.500Z"
   },
   {
    "duration": 8,
    "start_time": "2024-10-23T12:01:26.527Z"
   },
   {
    "duration": 22,
    "start_time": "2024-10-23T12:01:26.537Z"
   },
   {
    "duration": 18,
    "start_time": "2024-10-23T12:01:26.561Z"
   },
   {
    "duration": 25,
    "start_time": "2024-10-23T12:01:26.581Z"
   },
   {
    "duration": 9,
    "start_time": "2024-10-23T12:01:26.608Z"
   },
   {
    "duration": 20,
    "start_time": "2024-10-23T12:01:26.618Z"
   },
   {
    "duration": 39,
    "start_time": "2024-10-23T12:01:26.640Z"
   },
   {
    "duration": 25,
    "start_time": "2024-10-23T12:01:26.681Z"
   },
   {
    "duration": 11,
    "start_time": "2024-10-23T12:01:26.711Z"
   }
  ],
  "colab": {
   "name": "dpp_template_part2.ipynb",
   "provenance": []
  },
  "kernelspec": {
   "display_name": "Python 3 (ipykernel)",
   "language": "python",
   "name": "python3"
  },
  "language_info": {
   "codemirror_mode": {
    "name": "ipython",
    "version": 3
   },
   "file_extension": ".py",
   "mimetype": "text/x-python",
   "name": "python",
   "nbconvert_exporter": "python",
   "pygments_lexer": "ipython3",
   "version": "3.12.4"
  },
  "toc": {
   "base_numbering": 1,
   "nav_menu": {},
   "number_sections": true,
   "sideBar": true,
   "skip_h1_title": true,
   "title_cell": "Table of Contents",
   "title_sidebar": "Contents",
   "toc_cell": false,
   "toc_position": {},
   "toc_section_display": true,
   "toc_window_display": false
  }
 },
 "nbformat": 4,
 "nbformat_minor": 5
}
