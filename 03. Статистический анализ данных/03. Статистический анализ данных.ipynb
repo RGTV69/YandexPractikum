{
 "cells": [
  {
   "cell_type": "markdown",
   "id": "b2bdf319",
   "metadata": {},
   "source": [
    "# Исследование популярного сервиса аренды самокатов GoFast"
   ]
  },
  {
   "cell_type": "markdown",
   "id": "7606b166",
   "metadata": {},
   "source": [
    "В нашем распоряжении данные о некоторых пользователях популярного сервиса аренды самокатов GoFast из нескольких городов, а также об их поездках. Чтобы совершать поездки по городу, пользователи сервиса GoFast пользуются мобильным приложением. Сервисом можно пользоваться без подписки и с подпиской Ultra.\n",
    "\n",
    "**Цель исследования:**\n",
    "1. Проанализировать исходные данные\n",
    "2. Проверить некоторые гипотезы, которые могут помочь бизнесу вырасти\n",
    "\n",
    "**Ход исследования**\n",
    "\n",
    "Данные для исследования будут получены из трех файлов - пользователи, поездки и подписки. О качестве данных ничего не известно, поэтому перед тем, как приступать к целям исследования, понадобится обзор данных.\n",
    "\n",
    "Необходимо будет проверить данные на ошибки и оценить их влияние на исследование. На этапе предобработки нужно осуществить поиск возможностей исправления всех ошибок данных, которые не приведут к искажению конечного результата. При необходимости, осуществим создание новых столбцов, и приступим к проведению исследовательского анализа.\n",
    "\n",
    "**Этапы исследования:**\n",
    "\n",
    "1. Загрузка и обзор данных\n",
    "2. Предобработка данных\n",
    "3. Исследовательский анализ\n",
    "4. Объединение данных\n",
    "5. Подсчет выручки\n",
    "6. Проверка гипотез\n",
    "7. Написание общего вывода"
   ]
  },
  {
   "cell_type": "markdown",
   "id": "c42cbe00",
   "metadata": {},
   "source": [
    "### Загрузка данных"
   ]
  },
  {
   "cell_type": "markdown",
   "id": "920b0906",
   "metadata": {},
   "source": [
    "Импортируем необходимые для исследования библиотеки:"
   ]
  },
  {
   "cell_type": "code",
   "execution_count": 1,
   "id": "cfc16c74",
   "metadata": {},
   "outputs": [],
   "source": [
    "import pandas as pd\n",
    "import matplotlib.pyplot as plt\n",
    "from scipy import stats as st\n",
    "import numpy as np"
   ]
  },
  {
   "cell_type": "markdown",
   "id": "c1993fd0",
   "metadata": {},
   "source": [
    "Откроем файлы с датасетами:"
   ]
  },
  {
   "cell_type": "code",
   "execution_count": 2,
   "id": "bdff89b3",
   "metadata": {},
   "outputs": [],
   "source": [
    "try:\n",
    "    users_go = pd.read_csv('/datasets/users_go.csv', sep=',')\n",
    "except:\n",
    "    users_go = pd.read_csv('https://code.s3.yandex.net/datasets/users_go.csv', sep=',')"
   ]
  },
  {
   "cell_type": "code",
   "execution_count": 3,
   "id": "e9341dbd",
   "metadata": {},
   "outputs": [],
   "source": [
    "try:\n",
    "    rides_go = pd.read_csv('/datasets/rides_go.csv', sep=',')\n",
    "except:\n",
    "    rides_go = pd.read_csv('https://code.s3.yandex.net/datasets/rides_go.csv', sep=',')"
   ]
  },
  {
   "cell_type": "code",
   "execution_count": 4,
   "id": "55622ad5",
   "metadata": {},
   "outputs": [],
   "source": [
    "try:\n",
    "    subscriptions_go = pd.read_csv('/datasets/subscriptions_go.csv', sep=',')\n",
    "except:\n",
    "    subscriptions_go = pd.read_csv('https://code.s3.yandex.net/datasets/subscriptions_go.csv', sep=',')"
   ]
  },
  {
   "cell_type": "markdown",
   "id": "6aae4425",
   "metadata": {},
   "source": [
    "Выведем первые строки и общую информацию датасета с пользователями:"
   ]
  },
  {
   "cell_type": "code",
   "execution_count": 5,
   "id": "31145a2e",
   "metadata": {},
   "outputs": [
    {
     "data": {
      "text/html": [
       "<div>\n",
       "<style scoped>\n",
       "    .dataframe tbody tr th:only-of-type {\n",
       "        vertical-align: middle;\n",
       "    }\n",
       "\n",
       "    .dataframe tbody tr th {\n",
       "        vertical-align: top;\n",
       "    }\n",
       "\n",
       "    .dataframe thead th {\n",
       "        text-align: right;\n",
       "    }\n",
       "</style>\n",
       "<table border=\"1\" class=\"dataframe\">\n",
       "  <thead>\n",
       "    <tr style=\"text-align: right;\">\n",
       "      <th></th>\n",
       "      <th>user_id</th>\n",
       "      <th>name</th>\n",
       "      <th>age</th>\n",
       "      <th>city</th>\n",
       "      <th>subscription_type</th>\n",
       "    </tr>\n",
       "  </thead>\n",
       "  <tbody>\n",
       "    <tr>\n",
       "      <th>0</th>\n",
       "      <td>1</td>\n",
       "      <td>Кира</td>\n",
       "      <td>22</td>\n",
       "      <td>Тюмень</td>\n",
       "      <td>ultra</td>\n",
       "    </tr>\n",
       "    <tr>\n",
       "      <th>1</th>\n",
       "      <td>2</td>\n",
       "      <td>Станислав</td>\n",
       "      <td>31</td>\n",
       "      <td>Омск</td>\n",
       "      <td>ultra</td>\n",
       "    </tr>\n",
       "    <tr>\n",
       "      <th>2</th>\n",
       "      <td>3</td>\n",
       "      <td>Алексей</td>\n",
       "      <td>20</td>\n",
       "      <td>Москва</td>\n",
       "      <td>ultra</td>\n",
       "    </tr>\n",
       "    <tr>\n",
       "      <th>3</th>\n",
       "      <td>4</td>\n",
       "      <td>Константин</td>\n",
       "      <td>26</td>\n",
       "      <td>Ростов-на-Дону</td>\n",
       "      <td>ultra</td>\n",
       "    </tr>\n",
       "    <tr>\n",
       "      <th>4</th>\n",
       "      <td>5</td>\n",
       "      <td>Адель</td>\n",
       "      <td>28</td>\n",
       "      <td>Омск</td>\n",
       "      <td>ultra</td>\n",
       "    </tr>\n",
       "    <tr>\n",
       "      <th>5</th>\n",
       "      <td>6</td>\n",
       "      <td>Регина</td>\n",
       "      <td>25</td>\n",
       "      <td>Краснодар</td>\n",
       "      <td>ultra</td>\n",
       "    </tr>\n",
       "    <tr>\n",
       "      <th>6</th>\n",
       "      <td>7</td>\n",
       "      <td>Игорь</td>\n",
       "      <td>23</td>\n",
       "      <td>Омск</td>\n",
       "      <td>ultra</td>\n",
       "    </tr>\n",
       "    <tr>\n",
       "      <th>7</th>\n",
       "      <td>8</td>\n",
       "      <td>Юрий</td>\n",
       "      <td>23</td>\n",
       "      <td>Краснодар</td>\n",
       "      <td>ultra</td>\n",
       "    </tr>\n",
       "    <tr>\n",
       "      <th>8</th>\n",
       "      <td>9</td>\n",
       "      <td>Ян</td>\n",
       "      <td>21</td>\n",
       "      <td>Пятигорск</td>\n",
       "      <td>ultra</td>\n",
       "    </tr>\n",
       "    <tr>\n",
       "      <th>9</th>\n",
       "      <td>10</td>\n",
       "      <td>Валерий</td>\n",
       "      <td>18</td>\n",
       "      <td>Екатеринбург</td>\n",
       "      <td>ultra</td>\n",
       "    </tr>\n",
       "  </tbody>\n",
       "</table>\n",
       "</div>"
      ],
      "text/plain": [
       "   user_id        name  age            city subscription_type\n",
       "0        1        Кира   22          Тюмень             ultra\n",
       "1        2   Станислав   31            Омск             ultra\n",
       "2        3     Алексей   20          Москва             ultra\n",
       "3        4  Константин   26  Ростов-на-Дону             ultra\n",
       "4        5       Адель   28            Омск             ultra\n",
       "5        6      Регина   25       Краснодар             ultra\n",
       "6        7       Игорь   23            Омск             ultra\n",
       "7        8        Юрий   23       Краснодар             ultra\n",
       "8        9          Ян   21       Пятигорск             ultra\n",
       "9       10     Валерий   18    Екатеринбург             ultra"
      ]
     },
     "execution_count": 5,
     "metadata": {},
     "output_type": "execute_result"
    }
   ],
   "source": [
    "users_go.head(10)"
   ]
  },
  {
   "cell_type": "code",
   "execution_count": 6,
   "id": "a4ae5aa6",
   "metadata": {},
   "outputs": [
    {
     "name": "stdout",
     "output_type": "stream",
     "text": [
      "<class 'pandas.core.frame.DataFrame'>\n",
      "RangeIndex: 1565 entries, 0 to 1564\n",
      "Data columns (total 5 columns):\n",
      " #   Column             Non-Null Count  Dtype \n",
      "---  ------             --------------  ----- \n",
      " 0   user_id            1565 non-null   int64 \n",
      " 1   name               1565 non-null   object\n",
      " 2   age                1565 non-null   int64 \n",
      " 3   city               1565 non-null   object\n",
      " 4   subscription_type  1565 non-null   object\n",
      "dtypes: int64(2), object(3)\n",
      "memory usage: 61.3+ KB\n"
     ]
    }
   ],
   "source": [
    "users_go.info()"
   ]
  },
  {
   "cell_type": "markdown",
   "id": "a3d7ea0e",
   "metadata": {},
   "source": [
    "Выведем первые строки и общую информацию датасета с поездками:"
   ]
  },
  {
   "cell_type": "code",
   "execution_count": 7,
   "id": "ad95cda7",
   "metadata": {},
   "outputs": [
    {
     "data": {
      "text/html": [
       "<div>\n",
       "<style scoped>\n",
       "    .dataframe tbody tr th:only-of-type {\n",
       "        vertical-align: middle;\n",
       "    }\n",
       "\n",
       "    .dataframe tbody tr th {\n",
       "        vertical-align: top;\n",
       "    }\n",
       "\n",
       "    .dataframe thead th {\n",
       "        text-align: right;\n",
       "    }\n",
       "</style>\n",
       "<table border=\"1\" class=\"dataframe\">\n",
       "  <thead>\n",
       "    <tr style=\"text-align: right;\">\n",
       "      <th></th>\n",
       "      <th>user_id</th>\n",
       "      <th>distance</th>\n",
       "      <th>duration</th>\n",
       "      <th>date</th>\n",
       "    </tr>\n",
       "  </thead>\n",
       "  <tbody>\n",
       "    <tr>\n",
       "      <th>0</th>\n",
       "      <td>1</td>\n",
       "      <td>4409.919140</td>\n",
       "      <td>25.599769</td>\n",
       "      <td>2021-01-01</td>\n",
       "    </tr>\n",
       "    <tr>\n",
       "      <th>1</th>\n",
       "      <td>1</td>\n",
       "      <td>2617.592153</td>\n",
       "      <td>15.816871</td>\n",
       "      <td>2021-01-18</td>\n",
       "    </tr>\n",
       "    <tr>\n",
       "      <th>2</th>\n",
       "      <td>1</td>\n",
       "      <td>754.159807</td>\n",
       "      <td>6.232113</td>\n",
       "      <td>2021-04-20</td>\n",
       "    </tr>\n",
       "    <tr>\n",
       "      <th>3</th>\n",
       "      <td>1</td>\n",
       "      <td>2694.783254</td>\n",
       "      <td>18.511000</td>\n",
       "      <td>2021-08-11</td>\n",
       "    </tr>\n",
       "    <tr>\n",
       "      <th>4</th>\n",
       "      <td>1</td>\n",
       "      <td>4028.687306</td>\n",
       "      <td>26.265803</td>\n",
       "      <td>2021-08-28</td>\n",
       "    </tr>\n",
       "    <tr>\n",
       "      <th>5</th>\n",
       "      <td>1</td>\n",
       "      <td>2770.890808</td>\n",
       "      <td>16.650138</td>\n",
       "      <td>2021-10-09</td>\n",
       "    </tr>\n",
       "    <tr>\n",
       "      <th>6</th>\n",
       "      <td>1</td>\n",
       "      <td>3039.020292</td>\n",
       "      <td>14.927879</td>\n",
       "      <td>2021-10-19</td>\n",
       "    </tr>\n",
       "    <tr>\n",
       "      <th>7</th>\n",
       "      <td>1</td>\n",
       "      <td>2842.118050</td>\n",
       "      <td>23.117468</td>\n",
       "      <td>2021-11-06</td>\n",
       "    </tr>\n",
       "    <tr>\n",
       "      <th>8</th>\n",
       "      <td>1</td>\n",
       "      <td>3412.690668</td>\n",
       "      <td>15.238072</td>\n",
       "      <td>2021-11-14</td>\n",
       "    </tr>\n",
       "    <tr>\n",
       "      <th>9</th>\n",
       "      <td>1</td>\n",
       "      <td>748.690645</td>\n",
       "      <td>15.041884</td>\n",
       "      <td>2021-11-22</td>\n",
       "    </tr>\n",
       "  </tbody>\n",
       "</table>\n",
       "</div>"
      ],
      "text/plain": [
       "   user_id     distance   duration        date\n",
       "0        1  4409.919140  25.599769  2021-01-01\n",
       "1        1  2617.592153  15.816871  2021-01-18\n",
       "2        1   754.159807   6.232113  2021-04-20\n",
       "3        1  2694.783254  18.511000  2021-08-11\n",
       "4        1  4028.687306  26.265803  2021-08-28\n",
       "5        1  2770.890808  16.650138  2021-10-09\n",
       "6        1  3039.020292  14.927879  2021-10-19\n",
       "7        1  2842.118050  23.117468  2021-11-06\n",
       "8        1  3412.690668  15.238072  2021-11-14\n",
       "9        1   748.690645  15.041884  2021-11-22"
      ]
     },
     "execution_count": 7,
     "metadata": {},
     "output_type": "execute_result"
    }
   ],
   "source": [
    "rides_go.head(10)"
   ]
  },
  {
   "cell_type": "code",
   "execution_count": 8,
   "id": "ddce95cf",
   "metadata": {},
   "outputs": [
    {
     "name": "stdout",
     "output_type": "stream",
     "text": [
      "<class 'pandas.core.frame.DataFrame'>\n",
      "RangeIndex: 18068 entries, 0 to 18067\n",
      "Data columns (total 4 columns):\n",
      " #   Column    Non-Null Count  Dtype  \n",
      "---  ------    --------------  -----  \n",
      " 0   user_id   18068 non-null  int64  \n",
      " 1   distance  18068 non-null  float64\n",
      " 2   duration  18068 non-null  float64\n",
      " 3   date      18068 non-null  object \n",
      "dtypes: float64(2), int64(1), object(1)\n",
      "memory usage: 564.8+ KB\n"
     ]
    }
   ],
   "source": [
    "rides_go.info()"
   ]
  },
  {
   "cell_type": "markdown",
   "id": "77f6705c",
   "metadata": {},
   "source": [
    "Выведем первые строки и общую информацию датасета с подписками:"
   ]
  },
  {
   "cell_type": "code",
   "execution_count": 9,
   "id": "5c1932c1",
   "metadata": {},
   "outputs": [
    {
     "data": {
      "text/html": [
       "<div>\n",
       "<style scoped>\n",
       "    .dataframe tbody tr th:only-of-type {\n",
       "        vertical-align: middle;\n",
       "    }\n",
       "\n",
       "    .dataframe tbody tr th {\n",
       "        vertical-align: top;\n",
       "    }\n",
       "\n",
       "    .dataframe thead th {\n",
       "        text-align: right;\n",
       "    }\n",
       "</style>\n",
       "<table border=\"1\" class=\"dataframe\">\n",
       "  <thead>\n",
       "    <tr style=\"text-align: right;\">\n",
       "      <th></th>\n",
       "      <th>subscription_type</th>\n",
       "      <th>minute_price</th>\n",
       "      <th>start_ride_price</th>\n",
       "      <th>subscription_fee</th>\n",
       "    </tr>\n",
       "  </thead>\n",
       "  <tbody>\n",
       "    <tr>\n",
       "      <th>0</th>\n",
       "      <td>free</td>\n",
       "      <td>8</td>\n",
       "      <td>50</td>\n",
       "      <td>0</td>\n",
       "    </tr>\n",
       "    <tr>\n",
       "      <th>1</th>\n",
       "      <td>ultra</td>\n",
       "      <td>6</td>\n",
       "      <td>0</td>\n",
       "      <td>199</td>\n",
       "    </tr>\n",
       "  </tbody>\n",
       "</table>\n",
       "</div>"
      ],
      "text/plain": [
       "  subscription_type  minute_price  start_ride_price  subscription_fee\n",
       "0              free             8                50                 0\n",
       "1             ultra             6                 0               199"
      ]
     },
     "execution_count": 9,
     "metadata": {},
     "output_type": "execute_result"
    }
   ],
   "source": [
    "subscriptions_go.head(10)"
   ]
  },
  {
   "cell_type": "code",
   "execution_count": 10,
   "id": "04bf226f",
   "metadata": {},
   "outputs": [
    {
     "name": "stdout",
     "output_type": "stream",
     "text": [
      "<class 'pandas.core.frame.DataFrame'>\n",
      "RangeIndex: 2 entries, 0 to 1\n",
      "Data columns (total 4 columns):\n",
      " #   Column             Non-Null Count  Dtype \n",
      "---  ------             --------------  ----- \n",
      " 0   subscription_type  2 non-null      object\n",
      " 1   minute_price       2 non-null      int64 \n",
      " 2   start_ride_price   2 non-null      int64 \n",
      " 3   subscription_fee   2 non-null      int64 \n",
      "dtypes: int64(3), object(1)\n",
      "memory usage: 196.0+ bytes\n"
     ]
    }
   ],
   "source": [
    "subscriptions_go.info()"
   ]
  },
  {
   "cell_type": "markdown",
   "id": "0a123a07",
   "metadata": {},
   "source": [
    "Пропусков данных в каждом из трех датасетов нет, поэтому можно приступать к предобработке данных."
   ]
  },
  {
   "cell_type": "markdown",
   "id": "e95ebca7",
   "metadata": {},
   "source": [
    "### Предобработка данных"
   ]
  },
  {
   "cell_type": "markdown",
   "id": "58c65b58",
   "metadata": {},
   "source": [
    "Приведем столбец `date` в датасете `rides_go` к типу даты pandas:"
   ]
  },
  {
   "cell_type": "code",
   "execution_count": 11,
   "id": "ad91f5c5",
   "metadata": {},
   "outputs": [],
   "source": [
    "rides_go['date'] = pd.to_datetime(rides_go['date'], format='%Y-%m-%d')"
   ]
  },
  {
   "cell_type": "markdown",
   "id": "c9609b54",
   "metadata": {},
   "source": [
    "Убедимся, что тип столбца изменился на `datetime`:"
   ]
  },
  {
   "cell_type": "code",
   "execution_count": 12,
   "id": "c17fe54d",
   "metadata": {},
   "outputs": [
    {
     "name": "stdout",
     "output_type": "stream",
     "text": [
      "<class 'pandas.core.frame.DataFrame'>\n",
      "RangeIndex: 18068 entries, 0 to 18067\n",
      "Data columns (total 4 columns):\n",
      " #   Column    Non-Null Count  Dtype         \n",
      "---  ------    --------------  -----         \n",
      " 0   user_id   18068 non-null  int64         \n",
      " 1   distance  18068 non-null  float64       \n",
      " 2   duration  18068 non-null  float64       \n",
      " 3   date      18068 non-null  datetime64[ns]\n",
      "dtypes: datetime64[ns](1), float64(2), int64(1)\n",
      "memory usage: 564.8 KB\n"
     ]
    }
   ],
   "source": [
    "rides_go.info()"
   ]
  },
  {
   "cell_type": "markdown",
   "id": "70b83ec7",
   "metadata": {},
   "source": [
    "На основе столбца `date` создадим новый столбец с номером месяца:"
   ]
  },
  {
   "cell_type": "code",
   "execution_count": 13,
   "id": "2b185c03",
   "metadata": {},
   "outputs": [],
   "source": [
    "rides_go['month'] = pd.DatetimeIndex(rides_go['date']).month"
   ]
  },
  {
   "cell_type": "markdown",
   "id": "f409e666",
   "metadata": {},
   "source": [
    "Проверим, за какой период данные в датасете. Выведем год и месяцы, в которые были поездки:"
   ]
  },
  {
   "cell_type": "code",
   "execution_count": 14,
   "id": "95b8fdda",
   "metadata": {},
   "outputs": [
    {
     "data": {
      "text/plain": [
       "[2021]"
      ]
     },
     "execution_count": 14,
     "metadata": {},
     "output_type": "execute_result"
    }
   ],
   "source": [
    "sorted(pd.DatetimeIndex(rides_go['date']).year.unique())"
   ]
  },
  {
   "cell_type": "code",
   "execution_count": 15,
   "id": "529cd36a",
   "metadata": {},
   "outputs": [
    {
     "data": {
      "text/plain": [
       "[1, 2, 3, 4, 5, 6, 7, 8, 9, 10, 11, 12]"
      ]
     },
     "execution_count": 15,
     "metadata": {},
     "output_type": "execute_result"
    }
   ],
   "source": [
    "sorted(rides_go['month'].unique())"
   ]
  },
  {
   "cell_type": "markdown",
   "id": "f66bcc4d",
   "metadata": {},
   "source": [
    "Получается, что мы имеем данные о поездках за все месяцы 2021 года. Судя по всему поездки на самокатах осуществлялись круглый год:"
   ]
  },
  {
   "cell_type": "code",
   "execution_count": 16,
   "id": "7c724cf0",
   "metadata": {},
   "outputs": [
    {
     "data": {
      "text/plain": [
       "month\n",
       "1     1585\n",
       "5     1560\n",
       "6     1553\n",
       "3     1544\n",
       "7     1529\n",
       "12    1527\n",
       "8     1518\n",
       "9     1517\n",
       "4     1506\n",
       "10    1475\n",
       "11    1418\n",
       "2     1336\n",
       "Name: count, dtype: int64"
      ]
     },
     "execution_count": 16,
     "metadata": {},
     "output_type": "execute_result"
    }
   ],
   "source": [
    "rides_go['month'].value_counts(ascending=False)"
   ]
  },
  {
   "cell_type": "markdown",
   "id": "04d9dec8",
   "metadata": {},
   "source": [
    "Убедимся в отстутствии пропусков в каждом из трех датасетов:"
   ]
  },
  {
   "cell_type": "code",
   "execution_count": 17,
   "id": "035699ea",
   "metadata": {},
   "outputs": [
    {
     "data": {
      "text/plain": [
       "user_id              0\n",
       "name                 0\n",
       "age                  0\n",
       "city                 0\n",
       "subscription_type    0\n",
       "dtype: int64"
      ]
     },
     "execution_count": 17,
     "metadata": {},
     "output_type": "execute_result"
    }
   ],
   "source": [
    "users_go.isna().sum()"
   ]
  },
  {
   "cell_type": "code",
   "execution_count": 18,
   "id": "31c32c4f",
   "metadata": {},
   "outputs": [
    {
     "data": {
      "text/plain": [
       "user_id     0\n",
       "distance    0\n",
       "duration    0\n",
       "date        0\n",
       "month       0\n",
       "dtype: int64"
      ]
     },
     "execution_count": 18,
     "metadata": {},
     "output_type": "execute_result"
    }
   ],
   "source": [
    "rides_go.isna().sum()"
   ]
  },
  {
   "cell_type": "code",
   "execution_count": 19,
   "id": "f440451a",
   "metadata": {
    "scrolled": true
   },
   "outputs": [
    {
     "data": {
      "text/plain": [
       "subscription_type    0\n",
       "minute_price         0\n",
       "start_ride_price     0\n",
       "subscription_fee     0\n",
       "dtype: int64"
      ]
     },
     "execution_count": 19,
     "metadata": {},
     "output_type": "execute_result"
    }
   ],
   "source": [
    "subscriptions_go.isna().sum()"
   ]
  },
  {
   "cell_type": "markdown",
   "id": "a1d7a9f5",
   "metadata": {},
   "source": [
    "Проверим наличие дубликатов в датасетах `users_go` и `rides_go` (в датасете `subscriptions_go` дубликатов нет, т.к. он состоит из двух разных строк):"
   ]
  },
  {
   "cell_type": "code",
   "execution_count": 20,
   "id": "ccf6a62f",
   "metadata": {},
   "outputs": [
    {
     "data": {
      "text/plain": [
       "31"
      ]
     },
     "execution_count": 20,
     "metadata": {},
     "output_type": "execute_result"
    }
   ],
   "source": [
    "users_go.duplicated().sum()"
   ]
  },
  {
   "cell_type": "code",
   "execution_count": 21,
   "id": "19a0453a",
   "metadata": {},
   "outputs": [
    {
     "data": {
      "text/plain": [
       "0"
      ]
     },
     "execution_count": 21,
     "metadata": {},
     "output_type": "execute_result"
    }
   ],
   "source": [
    "rides_go.duplicated().sum()"
   ]
  },
  {
   "cell_type": "markdown",
   "id": "2ccb8e18",
   "metadata": {},
   "source": [
    "Удалим дубликаты в датасете `users_go`и убедимся в их отсутствии:"
   ]
  },
  {
   "cell_type": "code",
   "execution_count": 22,
   "id": "001a1fec",
   "metadata": {},
   "outputs": [
    {
     "data": {
      "text/plain": [
       "0"
      ]
     },
     "execution_count": 22,
     "metadata": {},
     "output_type": "execute_result"
    }
   ],
   "source": [
    "users_go = users_go.drop_duplicates()\n",
    "users_go.duplicated().sum()"
   ]
  },
  {
   "cell_type": "markdown",
   "id": "a9fb334f",
   "metadata": {},
   "source": [
    "В исходных данных не оказалось пропусков, но были проблемы с типом данных в столбце с датой. В базе пользователей были выявлены и удалены дубликаты. Также было определено, что сервисом пользовались круглый год (данные за все месяцы 2021 года)."
   ]
  },
  {
   "cell_type": "markdown",
   "id": "212593c7",
   "metadata": {},
   "source": [
    "### Проведение исследовательского анализа данных"
   ]
  },
  {
   "cell_type": "markdown",
   "id": "1318eea7",
   "metadata": {},
   "source": [
    "Опишем и визуализируем общую информацию о пользователях и поездках."
   ]
  },
  {
   "cell_type": "markdown",
   "id": "b9b2b985",
   "metadata": {},
   "source": [
    "#### Частота встречаемости городов"
   ]
  },
  {
   "cell_type": "markdown",
   "id": "d3d6f24f",
   "metadata": {},
   "source": [
    "Отобразим данные о частоте встречаемости городов в виде столбчатой диаграммы:"
   ]
  },
  {
   "cell_type": "code",
   "execution_count": 23,
   "id": "dab0c145",
   "metadata": {},
   "outputs": [
    {
     "data": {
      "image/png": "[encoded data removed]",
      "text/plain": [
       "<Figure size 640x480 with 1 Axes>"
      ]
     },
     "metadata": {},
     "output_type": "display_data"
    }
   ],
   "source": [
    "users_go_city_pivot_table = users_go.pivot_table(index='city', values='user_id', aggfunc='count').reset_index()\n",
    "users_go_city_pivot_table.columns = ['city', 'count']\n",
    "users_go_city_pivot_table.sort_values(by='count', ascending=True).plot(kind='bar', x='city', y='count', title='Частота встречаемости городов', label='Кол-во городов', xlabel='Город', ylabel='Количество');"
   ]
  },
  {
   "cell_type": "markdown",
   "id": "2725b78c",
   "metadata": {},
   "source": [
    "Больше всего пользователей в городах Екатеринбург и Пятигорск, меньше всего - в Москве и Омске."
   ]
  },
  {
   "cell_type": "markdown",
   "id": "4a47b387",
   "metadata": {},
   "source": [
    "#### Соотношение пользователей с подпиской и без подписки"
   ]
  },
  {
   "cell_type": "markdown",
   "id": "ac16e4d1",
   "metadata": {},
   "source": [
    "Отобразим соотношение пользователей с подпиской и без подписки в виде круговой диаграммы:"
   ]
  },
  {
   "cell_type": "code",
   "execution_count": 24,
   "id": "30e14389",
   "metadata": {},
   "outputs": [
    {
     "data": {
      "image/png": "[encoded data removed]",
      "text/plain": [
       "<Figure size 640x480 with 1 Axes>"
      ]
     },
     "metadata": {},
     "output_type": "display_data"
    }
   ],
   "source": [
    "users_go['subscription_type'].value_counts().plot(kind='pie', legend=True, ylabel='', title='Соотношение пользователей по типу подписки', autopct='%1.0f%%');"
   ]
  },
  {
   "cell_type": "markdown",
   "id": "1586ac77",
   "metadata": {},
   "source": [
    "Больше половины пользователей не используют платную подписку."
   ]
  },
  {
   "cell_type": "markdown",
   "id": "7fa885e9",
   "metadata": {},
   "source": [
    "#### Возраст пользователей"
   ]
  },
  {
   "cell_type": "markdown",
   "id": "77e947d3",
   "metadata": {},
   "source": [
    "Отобразим распределение пользователей по возрасту с помощью гистограммы:"
   ]
  },
  {
   "cell_type": "code",
   "execution_count": 25,
   "id": "5c2a4631",
   "metadata": {},
   "outputs": [
    {
     "data": {
      "image/png": "[encoded data removed]",
      "text/plain": [
       "<Figure size 640x480 with 1 Axes>"
      ]
     },
     "metadata": {},
     "output_type": "display_data"
    }
   ],
   "source": [
    "users_go.plot(kind='hist', y='age', bins=30, label='Возраст', grid=True, legend=True, title='Распределение пользователей по возрасту');"
   ]
  },
  {
   "cell_type": "markdown",
   "id": "66142101",
   "metadata": {},
   "source": [
    "Построим диаграмму размаха по данным возраста пользователей:"
   ]
  },
  {
   "cell_type": "code",
   "execution_count": 26,
   "id": "01a8fab2",
   "metadata": {},
   "outputs": [
    {
     "data": {
      "image/png": "[encoded data removed]",
      "text/plain": [
       "<Figure size 640x480 with 1 Axes>"
      ]
     },
     "metadata": {},
     "output_type": "display_data"
    }
   ],
   "source": [
    "users_go.boxplot(column='age').set_title('Диаграмма размаха возраста пользователей');"
   ]
  },
  {
   "cell_type": "markdown",
   "id": "4a783d37",
   "metadata": {},
   "source": [
    "Среднестатистический возраст пользователя аренды самокатов GoFast составляет 22-28 лет. В данных есть аномальные значения по возрасту пользователей."
   ]
  },
  {
   "cell_type": "markdown",
   "id": "c8ac2593",
   "metadata": {},
   "source": [
    "#### Расстояние, которое пользователь преодолел за одну поездку"
   ]
  },
  {
   "cell_type": "markdown",
   "id": "81a19313",
   "metadata": {},
   "source": [
    "С помощью гистограммы определим расстояние, которое пользователи преодолевают за одну поездку:"
   ]
  },
  {
   "cell_type": "code",
   "execution_count": 27,
   "id": "0083c1e9",
   "metadata": {},
   "outputs": [
    {
     "data": {
      "image/png": "[encoded data removed]",
      "text/plain": [
       "<Figure size 640x480 with 1 Axes>"
      ]
     },
     "metadata": {},
     "output_type": "display_data"
    }
   ],
   "source": [
    "rides_go.plot(kind='hist', y='distance', bins=50, label='Расстояние, м', grid=True, legend=True, title='Распределение преодоленного за одну поездку расстояния');"
   ]
  },
  {
   "cell_type": "markdown",
   "id": "1450e5da",
   "metadata": {},
   "source": [
    "Построим диаграмму размаха по данным преодоленного расстояния:"
   ]
  },
  {
   "cell_type": "code",
   "execution_count": 28,
   "id": "a01764c3",
   "metadata": {},
   "outputs": [
    {
     "data": {
      "image/png": "[encoded data removed]",
      "text/plain": [
       "<Figure size 640x480 with 1 Axes>"
      ]
     },
     "metadata": {},
     "output_type": "display_data"
    }
   ],
   "source": [
    "rides_go.boxplot(column='distance').set_title('Диаграмма размаха преодоленного расстояния');"
   ]
  },
  {
   "cell_type": "markdown",
   "id": "5551a338",
   "metadata": {},
   "source": [
    "Среднестатистический пользователь аренды самокатов GoFast за одну поездку проезжает 2.5-3.5 км, имеют место также короткие поездки до 1.5 км."
   ]
  },
  {
   "cell_type": "markdown",
   "id": "bbf014a3",
   "metadata": {},
   "source": [
    "#### Продолжительность поездок"
   ]
  },
  {
   "cell_type": "markdown",
   "id": "5f32ec33",
   "metadata": {},
   "source": [
    "С помощью гистограммы определим продолжительность сессии аренды самоката:"
   ]
  },
  {
   "cell_type": "code",
   "execution_count": 29,
   "id": "ff42f3ff",
   "metadata": {},
   "outputs": [
    {
     "data": {
      "image/png": "[encoded data removed]",
      "text/plain": [
       "<Figure size 640x480 with 1 Axes>"
      ]
     },
     "metadata": {},
     "output_type": "display_data"
    }
   ],
   "source": [
    "rides_go.plot(kind='hist', y='duration', bins=50, label='Продолжительность, мин.', grid=True, legend=True, title='Распределение продолжительности сессии');"
   ]
  },
  {
   "cell_type": "markdown",
   "id": "6bb6da46",
   "metadata": {},
   "source": [
    "Построим диаграмму размаха по данным продолжительности сессии:"
   ]
  },
  {
   "cell_type": "code",
   "execution_count": 30,
   "id": "197fe909",
   "metadata": {},
   "outputs": [
    {
     "data": {
      "image/png": "[encoded data removed]",
      "text/plain": [
       "<Figure size 640x480 with 1 Axes>"
      ]
     },
     "metadata": {},
     "output_type": "display_data"
    }
   ],
   "source": [
    "rides_go.boxplot(column='duration').set_title('Диаграмма размаха продолжительности сессии');"
   ]
  },
  {
   "cell_type": "markdown",
   "id": "0ad784c8",
   "metadata": {},
   "source": [
    "Время среднестатистической аренды самокатов GoFast составляет около 13-21 мин."
   ]
  },
  {
   "cell_type": "markdown",
   "id": "4ef51331",
   "metadata": {},
   "source": [
    "### Объединение данных"
   ]
  },
  {
   "cell_type": "markdown",
   "id": "8872db14",
   "metadata": {},
   "source": [
    "Объединим данные о пользователях, поездках и подписках в один датафрейм:"
   ]
  },
  {
   "cell_type": "code",
   "execution_count": 31,
   "id": "e51d6f04",
   "metadata": {},
   "outputs": [
    {
     "data": {
      "text/html": [
       "<div>\n",
       "<style scoped>\n",
       "    .dataframe tbody tr th:only-of-type {\n",
       "        vertical-align: middle;\n",
       "    }\n",
       "\n",
       "    .dataframe tbody tr th {\n",
       "        vertical-align: top;\n",
       "    }\n",
       "\n",
       "    .dataframe thead th {\n",
       "        text-align: right;\n",
       "    }\n",
       "</style>\n",
       "<table border=\"1\" class=\"dataframe\">\n",
       "  <thead>\n",
       "    <tr style=\"text-align: right;\">\n",
       "      <th></th>\n",
       "      <th>user_id</th>\n",
       "      <th>distance</th>\n",
       "      <th>duration</th>\n",
       "      <th>date</th>\n",
       "      <th>month</th>\n",
       "      <th>name</th>\n",
       "      <th>age</th>\n",
       "      <th>city</th>\n",
       "      <th>subscription_type</th>\n",
       "      <th>minute_price</th>\n",
       "      <th>start_ride_price</th>\n",
       "      <th>subscription_fee</th>\n",
       "    </tr>\n",
       "  </thead>\n",
       "  <tbody>\n",
       "    <tr>\n",
       "      <th>0</th>\n",
       "      <td>1</td>\n",
       "      <td>4409.919140</td>\n",
       "      <td>25.599769</td>\n",
       "      <td>2021-01-01</td>\n",
       "      <td>1</td>\n",
       "      <td>Кира</td>\n",
       "      <td>22</td>\n",
       "      <td>Тюмень</td>\n",
       "      <td>ultra</td>\n",
       "      <td>6</td>\n",
       "      <td>0</td>\n",
       "      <td>199</td>\n",
       "    </tr>\n",
       "    <tr>\n",
       "      <th>1</th>\n",
       "      <td>1</td>\n",
       "      <td>2617.592153</td>\n",
       "      <td>15.816871</td>\n",
       "      <td>2021-01-18</td>\n",
       "      <td>1</td>\n",
       "      <td>Кира</td>\n",
       "      <td>22</td>\n",
       "      <td>Тюмень</td>\n",
       "      <td>ultra</td>\n",
       "      <td>6</td>\n",
       "      <td>0</td>\n",
       "      <td>199</td>\n",
       "    </tr>\n",
       "    <tr>\n",
       "      <th>2</th>\n",
       "      <td>1</td>\n",
       "      <td>754.159807</td>\n",
       "      <td>6.232113</td>\n",
       "      <td>2021-04-20</td>\n",
       "      <td>4</td>\n",
       "      <td>Кира</td>\n",
       "      <td>22</td>\n",
       "      <td>Тюмень</td>\n",
       "      <td>ultra</td>\n",
       "      <td>6</td>\n",
       "      <td>0</td>\n",
       "      <td>199</td>\n",
       "    </tr>\n",
       "    <tr>\n",
       "      <th>3</th>\n",
       "      <td>1</td>\n",
       "      <td>2694.783254</td>\n",
       "      <td>18.511000</td>\n",
       "      <td>2021-08-11</td>\n",
       "      <td>8</td>\n",
       "      <td>Кира</td>\n",
       "      <td>22</td>\n",
       "      <td>Тюмень</td>\n",
       "      <td>ultra</td>\n",
       "      <td>6</td>\n",
       "      <td>0</td>\n",
       "      <td>199</td>\n",
       "    </tr>\n",
       "    <tr>\n",
       "      <th>4</th>\n",
       "      <td>1</td>\n",
       "      <td>4028.687306</td>\n",
       "      <td>26.265803</td>\n",
       "      <td>2021-08-28</td>\n",
       "      <td>8</td>\n",
       "      <td>Кира</td>\n",
       "      <td>22</td>\n",
       "      <td>Тюмень</td>\n",
       "      <td>ultra</td>\n",
       "      <td>6</td>\n",
       "      <td>0</td>\n",
       "      <td>199</td>\n",
       "    </tr>\n",
       "    <tr>\n",
       "      <th>5</th>\n",
       "      <td>1</td>\n",
       "      <td>2770.890808</td>\n",
       "      <td>16.650138</td>\n",
       "      <td>2021-10-09</td>\n",
       "      <td>10</td>\n",
       "      <td>Кира</td>\n",
       "      <td>22</td>\n",
       "      <td>Тюмень</td>\n",
       "      <td>ultra</td>\n",
       "      <td>6</td>\n",
       "      <td>0</td>\n",
       "      <td>199</td>\n",
       "    </tr>\n",
       "    <tr>\n",
       "      <th>6</th>\n",
       "      <td>1</td>\n",
       "      <td>3039.020292</td>\n",
       "      <td>14.927879</td>\n",
       "      <td>2021-10-19</td>\n",
       "      <td>10</td>\n",
       "      <td>Кира</td>\n",
       "      <td>22</td>\n",
       "      <td>Тюмень</td>\n",
       "      <td>ultra</td>\n",
       "      <td>6</td>\n",
       "      <td>0</td>\n",
       "      <td>199</td>\n",
       "    </tr>\n",
       "    <tr>\n",
       "      <th>7</th>\n",
       "      <td>1</td>\n",
       "      <td>2842.118050</td>\n",
       "      <td>23.117468</td>\n",
       "      <td>2021-11-06</td>\n",
       "      <td>11</td>\n",
       "      <td>Кира</td>\n",
       "      <td>22</td>\n",
       "      <td>Тюмень</td>\n",
       "      <td>ultra</td>\n",
       "      <td>6</td>\n",
       "      <td>0</td>\n",
       "      <td>199</td>\n",
       "    </tr>\n",
       "    <tr>\n",
       "      <th>8</th>\n",
       "      <td>1</td>\n",
       "      <td>3412.690668</td>\n",
       "      <td>15.238072</td>\n",
       "      <td>2021-11-14</td>\n",
       "      <td>11</td>\n",
       "      <td>Кира</td>\n",
       "      <td>22</td>\n",
       "      <td>Тюмень</td>\n",
       "      <td>ultra</td>\n",
       "      <td>6</td>\n",
       "      <td>0</td>\n",
       "      <td>199</td>\n",
       "    </tr>\n",
       "    <tr>\n",
       "      <th>9</th>\n",
       "      <td>1</td>\n",
       "      <td>748.690645</td>\n",
       "      <td>15.041884</td>\n",
       "      <td>2021-11-22</td>\n",
       "      <td>11</td>\n",
       "      <td>Кира</td>\n",
       "      <td>22</td>\n",
       "      <td>Тюмень</td>\n",
       "      <td>ultra</td>\n",
       "      <td>6</td>\n",
       "      <td>0</td>\n",
       "      <td>199</td>\n",
       "    </tr>\n",
       "  </tbody>\n",
       "</table>\n",
       "</div>"
      ],
      "text/plain": [
       "   user_id     distance   duration       date  month  name  age    city  \\\n",
       "0        1  4409.919140  25.599769 2021-01-01      1  Кира   22  Тюмень   \n",
       "1        1  2617.592153  15.816871 2021-01-18      1  Кира   22  Тюмень   \n",
       "2        1   754.159807   6.232113 2021-04-20      4  Кира   22  Тюмень   \n",
       "3        1  2694.783254  18.511000 2021-08-11      8  Кира   22  Тюмень   \n",
       "4        1  4028.687306  26.265803 2021-08-28      8  Кира   22  Тюмень   \n",
       "5        1  2770.890808  16.650138 2021-10-09     10  Кира   22  Тюмень   \n",
       "6        1  3039.020292  14.927879 2021-10-19     10  Кира   22  Тюмень   \n",
       "7        1  2842.118050  23.117468 2021-11-06     11  Кира   22  Тюмень   \n",
       "8        1  3412.690668  15.238072 2021-11-14     11  Кира   22  Тюмень   \n",
       "9        1   748.690645  15.041884 2021-11-22     11  Кира   22  Тюмень   \n",
       "\n",
       "  subscription_type  minute_price  start_ride_price  subscription_fee  \n",
       "0             ultra             6                 0               199  \n",
       "1             ultra             6                 0               199  \n",
       "2             ultra             6                 0               199  \n",
       "3             ultra             6                 0               199  \n",
       "4             ultra             6                 0               199  \n",
       "5             ultra             6                 0               199  \n",
       "6             ultra             6                 0               199  \n",
       "7             ultra             6                 0               199  \n",
       "8             ultra             6                 0               199  \n",
       "9             ultra             6                 0               199  "
      ]
     },
     "execution_count": 31,
     "metadata": {},
     "output_type": "execute_result"
    }
   ],
   "source": [
    "data = rides_go.merge(users_go, on='user_id', how='left').merge(subscriptions_go, on='subscription_type', how='left')\n",
    "data.head(10)"
   ]
  },
  {
   "cell_type": "markdown",
   "id": "467a72a9",
   "metadata": {},
   "source": [
    "Осуществим проверку размерности датасетов. Полученный датасет `data` должен иметь такую же размерность, как у датасета `rides_go` (т.к. именно к нему \"прилепляем\" данные из других датасетов с помощью `how='left'`):"
   ]
  },
  {
   "cell_type": "code",
   "execution_count": 32,
   "id": "1b4c52fa",
   "metadata": {},
   "outputs": [
    {
     "name": "stdout",
     "output_type": "stream",
     "text": [
      "Размеры датасетов совпадают\n"
     ]
    }
   ],
   "source": [
    "if rides_go.shape[0] == data.shape[0]:\n",
    "    print('Размеры датасетов совпадают')\n",
    "else:\n",
    "    print('Размеры датасетов не совпадают')"
   ]
  },
  {
   "cell_type": "markdown",
   "id": "823fdfec",
   "metadata": {},
   "source": [
    "Из полученного датафрейма создадим еще два.\n",
    "* С данными о пользователях без подписки:"
   ]
  },
  {
   "cell_type": "code",
   "execution_count": 33,
   "id": "1004eb62",
   "metadata": {},
   "outputs": [
    {
     "data": {
      "text/html": [
       "<div>\n",
       "<style scoped>\n",
       "    .dataframe tbody tr th:only-of-type {\n",
       "        vertical-align: middle;\n",
       "    }\n",
       "\n",
       "    .dataframe tbody tr th {\n",
       "        vertical-align: top;\n",
       "    }\n",
       "\n",
       "    .dataframe thead th {\n",
       "        text-align: right;\n",
       "    }\n",
       "</style>\n",
       "<table border=\"1\" class=\"dataframe\">\n",
       "  <thead>\n",
       "    <tr style=\"text-align: right;\">\n",
       "      <th></th>\n",
       "      <th>user_id</th>\n",
       "      <th>distance</th>\n",
       "      <th>duration</th>\n",
       "      <th>date</th>\n",
       "      <th>month</th>\n",
       "      <th>name</th>\n",
       "      <th>age</th>\n",
       "      <th>city</th>\n",
       "      <th>subscription_type</th>\n",
       "      <th>minute_price</th>\n",
       "      <th>start_ride_price</th>\n",
       "      <th>subscription_fee</th>\n",
       "    </tr>\n",
       "  </thead>\n",
       "  <tbody>\n",
       "    <tr>\n",
       "      <th>6500</th>\n",
       "      <td>700</td>\n",
       "      <td>2515.690719</td>\n",
       "      <td>14.944286</td>\n",
       "      <td>2021-01-02</td>\n",
       "      <td>1</td>\n",
       "      <td>Айдар</td>\n",
       "      <td>22</td>\n",
       "      <td>Омск</td>\n",
       "      <td>free</td>\n",
       "      <td>8</td>\n",
       "      <td>50</td>\n",
       "      <td>0</td>\n",
       "    </tr>\n",
       "    <tr>\n",
       "      <th>6501</th>\n",
       "      <td>700</td>\n",
       "      <td>846.932642</td>\n",
       "      <td>16.234663</td>\n",
       "      <td>2021-02-01</td>\n",
       "      <td>2</td>\n",
       "      <td>Айдар</td>\n",
       "      <td>22</td>\n",
       "      <td>Омск</td>\n",
       "      <td>free</td>\n",
       "      <td>8</td>\n",
       "      <td>50</td>\n",
       "      <td>0</td>\n",
       "    </tr>\n",
       "    <tr>\n",
       "      <th>6502</th>\n",
       "      <td>700</td>\n",
       "      <td>4004.434142</td>\n",
       "      <td>20.016628</td>\n",
       "      <td>2021-02-04</td>\n",
       "      <td>2</td>\n",
       "      <td>Айдар</td>\n",
       "      <td>22</td>\n",
       "      <td>Омск</td>\n",
       "      <td>free</td>\n",
       "      <td>8</td>\n",
       "      <td>50</td>\n",
       "      <td>0</td>\n",
       "    </tr>\n",
       "    <tr>\n",
       "      <th>6503</th>\n",
       "      <td>700</td>\n",
       "      <td>1205.911290</td>\n",
       "      <td>9.782872</td>\n",
       "      <td>2021-02-10</td>\n",
       "      <td>2</td>\n",
       "      <td>Айдар</td>\n",
       "      <td>22</td>\n",
       "      <td>Омск</td>\n",
       "      <td>free</td>\n",
       "      <td>8</td>\n",
       "      <td>50</td>\n",
       "      <td>0</td>\n",
       "    </tr>\n",
       "    <tr>\n",
       "      <th>6504</th>\n",
       "      <td>700</td>\n",
       "      <td>3047.379435</td>\n",
       "      <td>17.427673</td>\n",
       "      <td>2021-02-14</td>\n",
       "      <td>2</td>\n",
       "      <td>Айдар</td>\n",
       "      <td>22</td>\n",
       "      <td>Омск</td>\n",
       "      <td>free</td>\n",
       "      <td>8</td>\n",
       "      <td>50</td>\n",
       "      <td>0</td>\n",
       "    </tr>\n",
       "    <tr>\n",
       "      <th>6505</th>\n",
       "      <td>700</td>\n",
       "      <td>4342.002254</td>\n",
       "      <td>22.368009</td>\n",
       "      <td>2021-02-23</td>\n",
       "      <td>2</td>\n",
       "      <td>Айдар</td>\n",
       "      <td>22</td>\n",
       "      <td>Омск</td>\n",
       "      <td>free</td>\n",
       "      <td>8</td>\n",
       "      <td>50</td>\n",
       "      <td>0</td>\n",
       "    </tr>\n",
       "    <tr>\n",
       "      <th>6506</th>\n",
       "      <td>700</td>\n",
       "      <td>3798.334905</td>\n",
       "      <td>18.243756</td>\n",
       "      <td>2021-03-03</td>\n",
       "      <td>3</td>\n",
       "      <td>Айдар</td>\n",
       "      <td>22</td>\n",
       "      <td>Омск</td>\n",
       "      <td>free</td>\n",
       "      <td>8</td>\n",
       "      <td>50</td>\n",
       "      <td>0</td>\n",
       "    </tr>\n",
       "    <tr>\n",
       "      <th>6507</th>\n",
       "      <td>700</td>\n",
       "      <td>2984.551206</td>\n",
       "      <td>15.424899</td>\n",
       "      <td>2021-04-09</td>\n",
       "      <td>4</td>\n",
       "      <td>Айдар</td>\n",
       "      <td>22</td>\n",
       "      <td>Омск</td>\n",
       "      <td>free</td>\n",
       "      <td>8</td>\n",
       "      <td>50</td>\n",
       "      <td>0</td>\n",
       "    </tr>\n",
       "    <tr>\n",
       "      <th>6508</th>\n",
       "      <td>700</td>\n",
       "      <td>3360.107141</td>\n",
       "      <td>16.765497</td>\n",
       "      <td>2021-06-12</td>\n",
       "      <td>6</td>\n",
       "      <td>Айдар</td>\n",
       "      <td>22</td>\n",
       "      <td>Омск</td>\n",
       "      <td>free</td>\n",
       "      <td>8</td>\n",
       "      <td>50</td>\n",
       "      <td>0</td>\n",
       "    </tr>\n",
       "    <tr>\n",
       "      <th>6509</th>\n",
       "      <td>700</td>\n",
       "      <td>2567.543847</td>\n",
       "      <td>11.312160</td>\n",
       "      <td>2021-06-23</td>\n",
       "      <td>6</td>\n",
       "      <td>Айдар</td>\n",
       "      <td>22</td>\n",
       "      <td>Омск</td>\n",
       "      <td>free</td>\n",
       "      <td>8</td>\n",
       "      <td>50</td>\n",
       "      <td>0</td>\n",
       "    </tr>\n",
       "  </tbody>\n",
       "</table>\n",
       "</div>"
      ],
      "text/plain": [
       "      user_id     distance   duration       date  month   name  age  city  \\\n",
       "6500      700  2515.690719  14.944286 2021-01-02      1  Айдар   22  Омск   \n",
       "6501      700   846.932642  16.234663 2021-02-01      2  Айдар   22  Омск   \n",
       "6502      700  4004.434142  20.016628 2021-02-04      2  Айдар   22  Омск   \n",
       "6503      700  1205.911290   9.782872 2021-02-10      2  Айдар   22  Омск   \n",
       "6504      700  3047.379435  17.427673 2021-02-14      2  Айдар   22  Омск   \n",
       "6505      700  4342.002254  22.368009 2021-02-23      2  Айдар   22  Омск   \n",
       "6506      700  3798.334905  18.243756 2021-03-03      3  Айдар   22  Омск   \n",
       "6507      700  2984.551206  15.424899 2021-04-09      4  Айдар   22  Омск   \n",
       "6508      700  3360.107141  16.765497 2021-06-12      6  Айдар   22  Омск   \n",
       "6509      700  2567.543847  11.312160 2021-06-23      6  Айдар   22  Омск   \n",
       "\n",
       "     subscription_type  minute_price  start_ride_price  subscription_fee  \n",
       "6500              free             8                50                 0  \n",
       "6501              free             8                50                 0  \n",
       "6502              free             8                50                 0  \n",
       "6503              free             8                50                 0  \n",
       "6504              free             8                50                 0  \n",
       "6505              free             8                50                 0  \n",
       "6506              free             8                50                 0  \n",
       "6507              free             8                50                 0  \n",
       "6508              free             8                50                 0  \n",
       "6509              free             8                50                 0  "
      ]
     },
     "execution_count": 33,
     "metadata": {},
     "output_type": "execute_result"
    }
   ],
   "source": [
    "data_free = data[data['subscription_type'] == 'free']\n",
    "data_free.head(10)"
   ]
  },
  {
   "cell_type": "markdown",
   "id": "73fd1097",
   "metadata": {},
   "source": [
    "* С данными о пользователях с подпиской:"
   ]
  },
  {
   "cell_type": "code",
   "execution_count": 34,
   "id": "8e4d0e5e",
   "metadata": {},
   "outputs": [
    {
     "data": {
      "text/html": [
       "<div>\n",
       "<style scoped>\n",
       "    .dataframe tbody tr th:only-of-type {\n",
       "        vertical-align: middle;\n",
       "    }\n",
       "\n",
       "    .dataframe tbody tr th {\n",
       "        vertical-align: top;\n",
       "    }\n",
       "\n",
       "    .dataframe thead th {\n",
       "        text-align: right;\n",
       "    }\n",
       "</style>\n",
       "<table border=\"1\" class=\"dataframe\">\n",
       "  <thead>\n",
       "    <tr style=\"text-align: right;\">\n",
       "      <th></th>\n",
       "      <th>user_id</th>\n",
       "      <th>distance</th>\n",
       "      <th>duration</th>\n",
       "      <th>date</th>\n",
       "      <th>month</th>\n",
       "      <th>name</th>\n",
       "      <th>age</th>\n",
       "      <th>city</th>\n",
       "      <th>subscription_type</th>\n",
       "      <th>minute_price</th>\n",
       "      <th>start_ride_price</th>\n",
       "      <th>subscription_fee</th>\n",
       "    </tr>\n",
       "  </thead>\n",
       "  <tbody>\n",
       "    <tr>\n",
       "      <th>0</th>\n",
       "      <td>1</td>\n",
       "      <td>4409.919140</td>\n",
       "      <td>25.599769</td>\n",
       "      <td>2021-01-01</td>\n",
       "      <td>1</td>\n",
       "      <td>Кира</td>\n",
       "      <td>22</td>\n",
       "      <td>Тюмень</td>\n",
       "      <td>ultra</td>\n",
       "      <td>6</td>\n",
       "      <td>0</td>\n",
       "      <td>199</td>\n",
       "    </tr>\n",
       "    <tr>\n",
       "      <th>1</th>\n",
       "      <td>1</td>\n",
       "      <td>2617.592153</td>\n",
       "      <td>15.816871</td>\n",
       "      <td>2021-01-18</td>\n",
       "      <td>1</td>\n",
       "      <td>Кира</td>\n",
       "      <td>22</td>\n",
       "      <td>Тюмень</td>\n",
       "      <td>ultra</td>\n",
       "      <td>6</td>\n",
       "      <td>0</td>\n",
       "      <td>199</td>\n",
       "    </tr>\n",
       "    <tr>\n",
       "      <th>2</th>\n",
       "      <td>1</td>\n",
       "      <td>754.159807</td>\n",
       "      <td>6.232113</td>\n",
       "      <td>2021-04-20</td>\n",
       "      <td>4</td>\n",
       "      <td>Кира</td>\n",
       "      <td>22</td>\n",
       "      <td>Тюмень</td>\n",
       "      <td>ultra</td>\n",
       "      <td>6</td>\n",
       "      <td>0</td>\n",
       "      <td>199</td>\n",
       "    </tr>\n",
       "    <tr>\n",
       "      <th>3</th>\n",
       "      <td>1</td>\n",
       "      <td>2694.783254</td>\n",
       "      <td>18.511000</td>\n",
       "      <td>2021-08-11</td>\n",
       "      <td>8</td>\n",
       "      <td>Кира</td>\n",
       "      <td>22</td>\n",
       "      <td>Тюмень</td>\n",
       "      <td>ultra</td>\n",
       "      <td>6</td>\n",
       "      <td>0</td>\n",
       "      <td>199</td>\n",
       "    </tr>\n",
       "    <tr>\n",
       "      <th>4</th>\n",
       "      <td>1</td>\n",
       "      <td>4028.687306</td>\n",
       "      <td>26.265803</td>\n",
       "      <td>2021-08-28</td>\n",
       "      <td>8</td>\n",
       "      <td>Кира</td>\n",
       "      <td>22</td>\n",
       "      <td>Тюмень</td>\n",
       "      <td>ultra</td>\n",
       "      <td>6</td>\n",
       "      <td>0</td>\n",
       "      <td>199</td>\n",
       "    </tr>\n",
       "    <tr>\n",
       "      <th>5</th>\n",
       "      <td>1</td>\n",
       "      <td>2770.890808</td>\n",
       "      <td>16.650138</td>\n",
       "      <td>2021-10-09</td>\n",
       "      <td>10</td>\n",
       "      <td>Кира</td>\n",
       "      <td>22</td>\n",
       "      <td>Тюмень</td>\n",
       "      <td>ultra</td>\n",
       "      <td>6</td>\n",
       "      <td>0</td>\n",
       "      <td>199</td>\n",
       "    </tr>\n",
       "    <tr>\n",
       "      <th>6</th>\n",
       "      <td>1</td>\n",
       "      <td>3039.020292</td>\n",
       "      <td>14.927879</td>\n",
       "      <td>2021-10-19</td>\n",
       "      <td>10</td>\n",
       "      <td>Кира</td>\n",
       "      <td>22</td>\n",
       "      <td>Тюмень</td>\n",
       "      <td>ultra</td>\n",
       "      <td>6</td>\n",
       "      <td>0</td>\n",
       "      <td>199</td>\n",
       "    </tr>\n",
       "    <tr>\n",
       "      <th>7</th>\n",
       "      <td>1</td>\n",
       "      <td>2842.118050</td>\n",
       "      <td>23.117468</td>\n",
       "      <td>2021-11-06</td>\n",
       "      <td>11</td>\n",
       "      <td>Кира</td>\n",
       "      <td>22</td>\n",
       "      <td>Тюмень</td>\n",
       "      <td>ultra</td>\n",
       "      <td>6</td>\n",
       "      <td>0</td>\n",
       "      <td>199</td>\n",
       "    </tr>\n",
       "    <tr>\n",
       "      <th>8</th>\n",
       "      <td>1</td>\n",
       "      <td>3412.690668</td>\n",
       "      <td>15.238072</td>\n",
       "      <td>2021-11-14</td>\n",
       "      <td>11</td>\n",
       "      <td>Кира</td>\n",
       "      <td>22</td>\n",
       "      <td>Тюмень</td>\n",
       "      <td>ultra</td>\n",
       "      <td>6</td>\n",
       "      <td>0</td>\n",
       "      <td>199</td>\n",
       "    </tr>\n",
       "    <tr>\n",
       "      <th>9</th>\n",
       "      <td>1</td>\n",
       "      <td>748.690645</td>\n",
       "      <td>15.041884</td>\n",
       "      <td>2021-11-22</td>\n",
       "      <td>11</td>\n",
       "      <td>Кира</td>\n",
       "      <td>22</td>\n",
       "      <td>Тюмень</td>\n",
       "      <td>ultra</td>\n",
       "      <td>6</td>\n",
       "      <td>0</td>\n",
       "      <td>199</td>\n",
       "    </tr>\n",
       "  </tbody>\n",
       "</table>\n",
       "</div>"
      ],
      "text/plain": [
       "   user_id     distance   duration       date  month  name  age    city  \\\n",
       "0        1  4409.919140  25.599769 2021-01-01      1  Кира   22  Тюмень   \n",
       "1        1  2617.592153  15.816871 2021-01-18      1  Кира   22  Тюмень   \n",
       "2        1   754.159807   6.232113 2021-04-20      4  Кира   22  Тюмень   \n",
       "3        1  2694.783254  18.511000 2021-08-11      8  Кира   22  Тюмень   \n",
       "4        1  4028.687306  26.265803 2021-08-28      8  Кира   22  Тюмень   \n",
       "5        1  2770.890808  16.650138 2021-10-09     10  Кира   22  Тюмень   \n",
       "6        1  3039.020292  14.927879 2021-10-19     10  Кира   22  Тюмень   \n",
       "7        1  2842.118050  23.117468 2021-11-06     11  Кира   22  Тюмень   \n",
       "8        1  3412.690668  15.238072 2021-11-14     11  Кира   22  Тюмень   \n",
       "9        1   748.690645  15.041884 2021-11-22     11  Кира   22  Тюмень   \n",
       "\n",
       "  subscription_type  minute_price  start_ride_price  subscription_fee  \n",
       "0             ultra             6                 0               199  \n",
       "1             ultra             6                 0               199  \n",
       "2             ultra             6                 0               199  \n",
       "3             ultra             6                 0               199  \n",
       "4             ultra             6                 0               199  \n",
       "5             ultra             6                 0               199  \n",
       "6             ultra             6                 0               199  \n",
       "7             ultra             6                 0               199  \n",
       "8             ultra             6                 0               199  \n",
       "9             ultra             6                 0               199  "
      ]
     },
     "execution_count": 34,
     "metadata": {},
     "output_type": "execute_result"
    }
   ],
   "source": [
    "data_ultra = data[data['subscription_type'] == 'ultra']\n",
    "data_ultra.head(10)"
   ]
  },
  {
   "cell_type": "markdown",
   "id": "72e56c3d",
   "metadata": {},
   "source": [
    "Визуализируем информацию о расстоянии поездок для пользователей обеих категорий:"
   ]
  },
  {
   "cell_type": "code",
   "execution_count": 35,
   "id": "e2731880",
   "metadata": {},
   "outputs": [
    {
     "data": {
      "image/png": "[encoded data removed]",
      "text/plain": [
       "<Figure size 640x480 with 1 Axes>"
      ]
     },
     "metadata": {},
     "output_type": "display_data"
    }
   ],
   "source": [
    "data_free_distance_hist = data_free.plot(kind='hist', histtype='step', linewidth=5, alpha=0.7, y='distance', bins=50, label='Расстояние (пользователи без подписки)', grid=True, legend=True)\n",
    "data_ultra.plot(kind='hist', ax=data_free_distance_hist, histtype='step', linewidth=5, alpha=0.7, y='distance', bins=50, label='Расстояние (пользователи с подпиской)', grid=True, legend=True, title='Распределение преодоленного за одну поездку расстояния, м')\n",
    "plt.legend(bbox_to_anchor=(1, 0.6));"
   ]
  },
  {
   "cell_type": "markdown",
   "id": "59ac0572",
   "metadata": {},
   "source": [
    "И пользователи с подпиской, и без нее, в среднем проезжают одно и то же расстояние - около 3 км. При этом пользователи с подпиской проезжают меньшие расстояния реже, чем пользователи без подписки. Различия в гистограмме обусловлены разным размером датафреймов."
   ]
  },
  {
   "cell_type": "markdown",
   "id": "76563411",
   "metadata": {},
   "source": [
    "Визуализируем информацию о времени поездок для пользователей обеих категорий:"
   ]
  },
  {
   "cell_type": "code",
   "execution_count": 36,
   "id": "903f291e",
   "metadata": {},
   "outputs": [
    {
     "data": {
      "image/png": "[encoded data removed]",
      "text/plain": [
       "<Figure size 640x480 with 1 Axes>"
      ]
     },
     "metadata": {},
     "output_type": "display_data"
    }
   ],
   "source": [
    "data_free_duration_hist = data_free.plot(kind='hist', histtype='step', linewidth=5, alpha=0.7, y='duration', bins=50, label='Продолжительность (пользователи без подписки)', grid=True, legend=True)\n",
    "data_ultra.plot(kind='hist', ax=data_free_duration_hist, histtype='step', linewidth=5, alpha=0.7, y='duration', bins=50, label='Продолжительность (пользователи c подпиской)', grid=True, legend=True, title='Распределение продолжительности сессии, мин.')\n",
    "plt.legend(bbox_to_anchor=(1, 0.6));"
   ]
  },
  {
   "cell_type": "markdown",
   "id": "293cb657",
   "metadata": {},
   "source": [
    "И пользователи с подпиской, и без нее, в среднем имеют равную продолжительность сессии - около 18 мин. При этом пользователи с подпиской не имеют непродолжительных сессий (менее 3 минут), в отличие от пользователей без подписки. Различия в гистограмме обусловлены разным размером датафреймов."
   ]
  },
  {
   "cell_type": "markdown",
   "id": "402d620f",
   "metadata": {},
   "source": [
    "### Подсчет выручки"
   ]
  },
  {
   "cell_type": "markdown",
   "id": "dfbb2ceb",
   "metadata": {},
   "source": [
    "Перед расчетом выручки проверим текущие данные на пропуски:"
   ]
  },
  {
   "cell_type": "code",
   "execution_count": 37,
   "id": "b214b718",
   "metadata": {},
   "outputs": [
    {
     "data": {
      "text/plain": [
       "user_id              0\n",
       "distance             0\n",
       "duration             0\n",
       "date                 0\n",
       "month                0\n",
       "name                 0\n",
       "age                  0\n",
       "city                 0\n",
       "subscription_type    0\n",
       "minute_price         0\n",
       "start_ride_price     0\n",
       "subscription_fee     0\n",
       "dtype: int64"
      ]
     },
     "execution_count": 37,
     "metadata": {},
     "output_type": "execute_result"
    }
   ],
   "source": [
    "data.isna().sum()"
   ]
  },
  {
   "cell_type": "markdown",
   "id": "d7f33bd7",
   "metadata": {},
   "source": [
    "Пропусков нет, поэтому можем работать с данными дальше.\n",
    "\n",
    "Создадим датафрейм с агрегированными данными о поездках на основе датафрейма `data` с объединенными данными - найдем суммарное расстояние, количество поездок и суммарное время для каждого пользователя за каждый месяц:"
   ]
  },
  {
   "cell_type": "code",
   "execution_count": 38,
   "id": "487ed26c",
   "metadata": {},
   "outputs": [
    {
     "data": {
      "text/html": [
       "<div>\n",
       "<style scoped>\n",
       "    .dataframe tbody tr th:only-of-type {\n",
       "        vertical-align: middle;\n",
       "    }\n",
       "\n",
       "    .dataframe tbody tr th {\n",
       "        vertical-align: top;\n",
       "    }\n",
       "\n",
       "    .dataframe thead th {\n",
       "        text-align: right;\n",
       "    }\n",
       "</style>\n",
       "<table border=\"1\" class=\"dataframe\">\n",
       "  <thead>\n",
       "    <tr style=\"text-align: right;\">\n",
       "      <th></th>\n",
       "      <th>user_id</th>\n",
       "      <th>name</th>\n",
       "      <th>subscription_type</th>\n",
       "      <th>minute_price</th>\n",
       "      <th>start_ride_price</th>\n",
       "      <th>subscription_fee</th>\n",
       "      <th>month</th>\n",
       "      <th>distance</th>\n",
       "      <th>duration</th>\n",
       "      <th>count</th>\n",
       "    </tr>\n",
       "  </thead>\n",
       "  <tbody>\n",
       "    <tr>\n",
       "      <th>0</th>\n",
       "      <td>1</td>\n",
       "      <td>Кира</td>\n",
       "      <td>ultra</td>\n",
       "      <td>6</td>\n",
       "      <td>0</td>\n",
       "      <td>199</td>\n",
       "      <td>1</td>\n",
       "      <td>7027.511294</td>\n",
       "      <td>42.0</td>\n",
       "      <td>2</td>\n",
       "    </tr>\n",
       "    <tr>\n",
       "      <th>1</th>\n",
       "      <td>1</td>\n",
       "      <td>Кира</td>\n",
       "      <td>ultra</td>\n",
       "      <td>6</td>\n",
       "      <td>0</td>\n",
       "      <td>199</td>\n",
       "      <td>4</td>\n",
       "      <td>754.159807</td>\n",
       "      <td>7.0</td>\n",
       "      <td>1</td>\n",
       "    </tr>\n",
       "    <tr>\n",
       "      <th>2</th>\n",
       "      <td>1</td>\n",
       "      <td>Кира</td>\n",
       "      <td>ultra</td>\n",
       "      <td>6</td>\n",
       "      <td>0</td>\n",
       "      <td>199</td>\n",
       "      <td>8</td>\n",
       "      <td>6723.470560</td>\n",
       "      <td>46.0</td>\n",
       "      <td>2</td>\n",
       "    </tr>\n",
       "    <tr>\n",
       "      <th>3</th>\n",
       "      <td>1</td>\n",
       "      <td>Кира</td>\n",
       "      <td>ultra</td>\n",
       "      <td>6</td>\n",
       "      <td>0</td>\n",
       "      <td>199</td>\n",
       "      <td>10</td>\n",
       "      <td>5809.911100</td>\n",
       "      <td>32.0</td>\n",
       "      <td>2</td>\n",
       "    </tr>\n",
       "    <tr>\n",
       "      <th>4</th>\n",
       "      <td>1</td>\n",
       "      <td>Кира</td>\n",
       "      <td>ultra</td>\n",
       "      <td>6</td>\n",
       "      <td>0</td>\n",
       "      <td>199</td>\n",
       "      <td>11</td>\n",
       "      <td>7003.499363</td>\n",
       "      <td>56.0</td>\n",
       "      <td>3</td>\n",
       "    </tr>\n",
       "    <tr>\n",
       "      <th>5</th>\n",
       "      <td>1</td>\n",
       "      <td>Кира</td>\n",
       "      <td>ultra</td>\n",
       "      <td>6</td>\n",
       "      <td>0</td>\n",
       "      <td>199</td>\n",
       "      <td>12</td>\n",
       "      <td>6751.629942</td>\n",
       "      <td>28.0</td>\n",
       "      <td>2</td>\n",
       "    </tr>\n",
       "    <tr>\n",
       "      <th>6</th>\n",
       "      <td>2</td>\n",
       "      <td>Станислав</td>\n",
       "      <td>ultra</td>\n",
       "      <td>6</td>\n",
       "      <td>0</td>\n",
       "      <td>199</td>\n",
       "      <td>3</td>\n",
       "      <td>10187.723006</td>\n",
       "      <td>63.0</td>\n",
       "      <td>3</td>\n",
       "    </tr>\n",
       "    <tr>\n",
       "      <th>7</th>\n",
       "      <td>2</td>\n",
       "      <td>Станислав</td>\n",
       "      <td>ultra</td>\n",
       "      <td>6</td>\n",
       "      <td>0</td>\n",
       "      <td>199</td>\n",
       "      <td>4</td>\n",
       "      <td>6164.381824</td>\n",
       "      <td>40.0</td>\n",
       "      <td>2</td>\n",
       "    </tr>\n",
       "    <tr>\n",
       "      <th>8</th>\n",
       "      <td>2</td>\n",
       "      <td>Станислав</td>\n",
       "      <td>ultra</td>\n",
       "      <td>6</td>\n",
       "      <td>0</td>\n",
       "      <td>199</td>\n",
       "      <td>6</td>\n",
       "      <td>3255.338202</td>\n",
       "      <td>14.0</td>\n",
       "      <td>1</td>\n",
       "    </tr>\n",
       "    <tr>\n",
       "      <th>9</th>\n",
       "      <td>2</td>\n",
       "      <td>Станислав</td>\n",
       "      <td>ultra</td>\n",
       "      <td>6</td>\n",
       "      <td>0</td>\n",
       "      <td>199</td>\n",
       "      <td>7</td>\n",
       "      <td>6780.722964</td>\n",
       "      <td>48.0</td>\n",
       "      <td>2</td>\n",
       "    </tr>\n",
       "  </tbody>\n",
       "</table>\n",
       "</div>"
      ],
      "text/plain": [
       "   user_id       name subscription_type  minute_price  start_ride_price  \\\n",
       "0        1       Кира             ultra             6                 0   \n",
       "1        1       Кира             ultra             6                 0   \n",
       "2        1       Кира             ultra             6                 0   \n",
       "3        1       Кира             ultra             6                 0   \n",
       "4        1       Кира             ultra             6                 0   \n",
       "5        1       Кира             ultra             6                 0   \n",
       "6        2  Станислав             ultra             6                 0   \n",
       "7        2  Станислав             ultra             6                 0   \n",
       "8        2  Станислав             ultra             6                 0   \n",
       "9        2  Станислав             ultra             6                 0   \n",
       "\n",
       "   subscription_fee  month      distance  duration  count  \n",
       "0               199      1   7027.511294      42.0      2  \n",
       "1               199      4    754.159807       7.0      1  \n",
       "2               199      8   6723.470560      46.0      2  \n",
       "3               199     10   5809.911100      32.0      2  \n",
       "4               199     11   7003.499363      56.0      3  \n",
       "5               199     12   6751.629942      28.0      2  \n",
       "6               199      3  10187.723006      63.0      3  \n",
       "7               199      4   6164.381824      40.0      2  \n",
       "8               199      6   3255.338202      14.0      1  \n",
       "9               199      7   6780.722964      48.0      2  "
      ]
     },
     "execution_count": 38,
     "metadata": {},
     "output_type": "execute_result"
    }
   ],
   "source": [
    "data['duration'] = np.ceil(data['duration'])\n",
    "data_agg = data.pivot_table(index=['user_id', 'name', 'subscription_type', 'minute_price', 'start_ride_price', 'subscription_fee', 'month'], values=['distance', 'duration'], aggfunc=['sum', 'count']).reset_index()\n",
    "data_agg.columns = ['user_id', 'name', 'subscription_type', 'minute_price', 'start_ride_price', 'subscription_fee', 'month', 'distance', 'duration', 'count', 'count2']\n",
    "data_agg = data_agg.drop('count2', axis=1)\n",
    "data_agg.head(10)"
   ]
  },
  {
   "cell_type": "markdown",
   "id": "46d1fbc9",
   "metadata": {},
   "source": [
    "В датафрейм `data_agg` добавим столбец с помесячной выручкой, которую принес каждый пользователь:"
   ]
  },
  {
   "cell_type": "code",
   "execution_count": 39,
   "id": "893b6a2f",
   "metadata": {},
   "outputs": [
    {
     "data": {
      "text/html": [
       "<div>\n",
       "<style scoped>\n",
       "    .dataframe tbody tr th:only-of-type {\n",
       "        vertical-align: middle;\n",
       "    }\n",
       "\n",
       "    .dataframe tbody tr th {\n",
       "        vertical-align: top;\n",
       "    }\n",
       "\n",
       "    .dataframe thead th {\n",
       "        text-align: right;\n",
       "    }\n",
       "</style>\n",
       "<table border=\"1\" class=\"dataframe\">\n",
       "  <thead>\n",
       "    <tr style=\"text-align: right;\">\n",
       "      <th></th>\n",
       "      <th>user_id</th>\n",
       "      <th>name</th>\n",
       "      <th>subscription_type</th>\n",
       "      <th>month</th>\n",
       "      <th>distance</th>\n",
       "      <th>duration</th>\n",
       "      <th>count</th>\n",
       "      <th>revenue</th>\n",
       "    </tr>\n",
       "  </thead>\n",
       "  <tbody>\n",
       "    <tr>\n",
       "      <th>0</th>\n",
       "      <td>1</td>\n",
       "      <td>Кира</td>\n",
       "      <td>ultra</td>\n",
       "      <td>1</td>\n",
       "      <td>7027.511294</td>\n",
       "      <td>42.0</td>\n",
       "      <td>2</td>\n",
       "      <td>451.0</td>\n",
       "    </tr>\n",
       "    <tr>\n",
       "      <th>1</th>\n",
       "      <td>1</td>\n",
       "      <td>Кира</td>\n",
       "      <td>ultra</td>\n",
       "      <td>4</td>\n",
       "      <td>754.159807</td>\n",
       "      <td>7.0</td>\n",
       "      <td>1</td>\n",
       "      <td>241.0</td>\n",
       "    </tr>\n",
       "    <tr>\n",
       "      <th>2</th>\n",
       "      <td>1</td>\n",
       "      <td>Кира</td>\n",
       "      <td>ultra</td>\n",
       "      <td>8</td>\n",
       "      <td>6723.470560</td>\n",
       "      <td>46.0</td>\n",
       "      <td>2</td>\n",
       "      <td>475.0</td>\n",
       "    </tr>\n",
       "    <tr>\n",
       "      <th>3</th>\n",
       "      <td>1</td>\n",
       "      <td>Кира</td>\n",
       "      <td>ultra</td>\n",
       "      <td>10</td>\n",
       "      <td>5809.911100</td>\n",
       "      <td>32.0</td>\n",
       "      <td>2</td>\n",
       "      <td>391.0</td>\n",
       "    </tr>\n",
       "    <tr>\n",
       "      <th>4</th>\n",
       "      <td>1</td>\n",
       "      <td>Кира</td>\n",
       "      <td>ultra</td>\n",
       "      <td>11</td>\n",
       "      <td>7003.499363</td>\n",
       "      <td>56.0</td>\n",
       "      <td>3</td>\n",
       "      <td>535.0</td>\n",
       "    </tr>\n",
       "    <tr>\n",
       "      <th>5</th>\n",
       "      <td>1</td>\n",
       "      <td>Кира</td>\n",
       "      <td>ultra</td>\n",
       "      <td>12</td>\n",
       "      <td>6751.629942</td>\n",
       "      <td>28.0</td>\n",
       "      <td>2</td>\n",
       "      <td>367.0</td>\n",
       "    </tr>\n",
       "    <tr>\n",
       "      <th>6</th>\n",
       "      <td>2</td>\n",
       "      <td>Станислав</td>\n",
       "      <td>ultra</td>\n",
       "      <td>3</td>\n",
       "      <td>10187.723006</td>\n",
       "      <td>63.0</td>\n",
       "      <td>3</td>\n",
       "      <td>577.0</td>\n",
       "    </tr>\n",
       "    <tr>\n",
       "      <th>7</th>\n",
       "      <td>2</td>\n",
       "      <td>Станислав</td>\n",
       "      <td>ultra</td>\n",
       "      <td>4</td>\n",
       "      <td>6164.381824</td>\n",
       "      <td>40.0</td>\n",
       "      <td>2</td>\n",
       "      <td>439.0</td>\n",
       "    </tr>\n",
       "    <tr>\n",
       "      <th>8</th>\n",
       "      <td>2</td>\n",
       "      <td>Станислав</td>\n",
       "      <td>ultra</td>\n",
       "      <td>6</td>\n",
       "      <td>3255.338202</td>\n",
       "      <td>14.0</td>\n",
       "      <td>1</td>\n",
       "      <td>283.0</td>\n",
       "    </tr>\n",
       "    <tr>\n",
       "      <th>9</th>\n",
       "      <td>2</td>\n",
       "      <td>Станислав</td>\n",
       "      <td>ultra</td>\n",
       "      <td>7</td>\n",
       "      <td>6780.722964</td>\n",
       "      <td>48.0</td>\n",
       "      <td>2</td>\n",
       "      <td>487.0</td>\n",
       "    </tr>\n",
       "  </tbody>\n",
       "</table>\n",
       "</div>"
      ],
      "text/plain": [
       "   user_id       name subscription_type  month      distance  duration  count  \\\n",
       "0        1       Кира             ultra      1   7027.511294      42.0      2   \n",
       "1        1       Кира             ultra      4    754.159807       7.0      1   \n",
       "2        1       Кира             ultra      8   6723.470560      46.0      2   \n",
       "3        1       Кира             ultra     10   5809.911100      32.0      2   \n",
       "4        1       Кира             ultra     11   7003.499363      56.0      3   \n",
       "5        1       Кира             ultra     12   6751.629942      28.0      2   \n",
       "6        2  Станислав             ultra      3  10187.723006      63.0      3   \n",
       "7        2  Станислав             ultra      4   6164.381824      40.0      2   \n",
       "8        2  Станислав             ultra      6   3255.338202      14.0      1   \n",
       "9        2  Станислав             ultra      7   6780.722964      48.0      2   \n",
       "\n",
       "   revenue  \n",
       "0    451.0  \n",
       "1    241.0  \n",
       "2    475.0  \n",
       "3    391.0  \n",
       "4    535.0  \n",
       "5    367.0  \n",
       "6    577.0  \n",
       "7    439.0  \n",
       "8    283.0  \n",
       "9    487.0  "
      ]
     },
     "execution_count": 39,
     "metadata": {},
     "output_type": "execute_result"
    }
   ],
   "source": [
    "data_agg['revenue'] = data_agg['start_ride_price'] * data_agg['count'] + data_agg['minute_price'] * data_agg['duration'] + data_agg['subscription_fee']\n",
    "data_agg = data_agg.drop(['minute_price', 'start_ride_price', 'subscription_fee'], axis=1)\n",
    "data_agg.head(10)"
   ]
  },
  {
   "cell_type": "markdown",
   "id": "41545ac0",
   "metadata": {},
   "source": [
    "### Проверка гипотез"
   ]
  },
  {
   "cell_type": "markdown",
   "id": "d2bbc4a1",
   "metadata": {},
   "source": [
    "Т.к. продакт-менеджеры сервиса хотят увеличить количество пользователей с подпиской и планируют для этого проводить различные акции, необходимо проверить несколько гипотез. Для всех проверяемых гипотез зададим один уровень значимости:"
   ]
  },
  {
   "cell_type": "code",
   "execution_count": 40,
   "id": "4b54a957",
   "metadata": {},
   "outputs": [],
   "source": [
    "alpha = 0.05"
   ]
  },
  {
   "cell_type": "markdown",
   "id": "bf26faa3",
   "metadata": {},
   "source": [
    "#### Гипотеза 1"
   ]
  },
  {
   "cell_type": "markdown",
   "id": "a7cdfd34",
   "metadata": {},
   "source": [
    "Важно понять, тратят ли пользователи с подпиской больше времени на поездки? Если да, то пользователи с подпиской могут быть \"выгоднее\" для компании. Проверим гипотезу, используя исходные данные о продолжительности каждой сессии - отдельно для подписчиков и тех, у кого нет подписки.\n",
    "\n",
    "Т.к. выборки данных с продолжительностью поездки для пользователей с подпиской и без нее независимы, то для проверки гипотезы будем использовать двухвыборочный t-тест для независимых выборок.\n",
    "\n",
    "*Нулевая гипотеза*: средние значения продолжительности поездки пользователей из двух групп равны.\n",
    "\n",
    "*Альтернативная гипотеза*: среднее значение продолжительности поездки пользователей с подпиской больше, чем среднее значение продолжительности поездки пользователей без подписки."
   ]
  },
  {
   "cell_type": "code",
   "execution_count": 41,
   "id": "a53dacd5",
   "metadata": {},
   "outputs": [
    {
     "name": "stdout",
     "output_type": "stream",
     "text": [
      "p-value: 1.2804098316645618e-34\n",
      "Отвергаем нулевую гипотезу\n"
     ]
    }
   ],
   "source": [
    "results = st.ttest_ind(data_ultra['duration'], data_free['duration'], alternative='greater')\n",
    "print(f'p-value: {results.pvalue}')\n",
    "if results.pvalue < alpha:\n",
    "    print('Отвергаем нулевую гипотезу')\n",
    "else:\n",
    "    print('Нет оснований отвергнуть нулевую гипотезу')"
   ]
  },
  {
   "cell_type": "markdown",
   "id": "e5035edd",
   "metadata": {},
   "source": [
    "Полученное значение p-value меньше заданного уровня значимости, поэтому можно отвергнуть нулевую гипотезу. Есть основания говорить, что пользователи с подпиской имеют в сервисе более продолжительные поездки. Поэтому можно сделать вывод о том, что для сервиса пользователи с подпиской \"выгоднее\", чем пользователи без подписки. "
   ]
  },
  {
   "cell_type": "markdown",
   "id": "e07510bd",
   "metadata": {},
   "source": [
    "#### Гипотеза 2"
   ]
  },
  {
   "cell_type": "markdown",
   "id": "62967b99",
   "metadata": {},
   "source": [
    "Расстояние одной поездки в 3130 метров - оптимальное с точки зрения износа самоката. Проверим гипотезу, что среднее расстояние, которое проезжают пользователи с подпиской за одну поездку, не превышает 3130 метров.\n",
    "\n",
    "Т.к. имеем одну выборку данных с расстоянием поездки для пользователей с подпиской, то для проверки гипотезы будем использовать одновыборочный t-тест о равенстве среднего генеральной совокупности числу.\n",
    "\n",
    "*Нулевая гипотеза*: среднее расстояние поездки для пользователей с подпиской равно 3130 метров.\n",
    "\n",
    "*Альтернативная гипотеза*: среднее расстояние поездки для пользователей с подпиской меньше, чем 3130 метров."
   ]
  },
  {
   "cell_type": "code",
   "execution_count": 42,
   "id": "52e321d2",
   "metadata": {},
   "outputs": [
    {
     "name": "stdout",
     "output_type": "stream",
     "text": [
      "p-value: 0.08046311521502146\n",
      "Нет оснований отвергнуть нулевую гипотезу\n"
     ]
    }
   ],
   "source": [
    "results = st.ttest_1samp(data_ultra['distance'], 3130, alternative='less')\n",
    "print(f'p-value: {results.pvalue}')\n",
    "if (results.pvalue < alpha):\n",
    "    print('Отвергаем нулевую гипотезу')\n",
    "else:\n",
    "    print('Нет оснований отвергнуть нулевую гипотезу')"
   ]
  },
  {
   "cell_type": "markdown",
   "id": "b5f64c51",
   "metadata": {},
   "source": [
    "Полученное значение p-value больше заданного уровня значимости, поэтому нет оснований отвергать нулевую гипотезу. Выборочное среднее отличается от 3130 метров, но это отличие недостаточно велико, чтобы сделать вывод о том, что истинное среднее генеральной совокупности, из которой взята выборка, отличается от 3130 метров при уровне статистической значимости 5%."
   ]
  },
  {
   "cell_type": "markdown",
   "id": "f000a517",
   "metadata": {},
   "source": [
    "#### Гипотеза 3"
   ]
  },
  {
   "cell_type": "markdown",
   "id": "692b3715",
   "metadata": {},
   "source": [
    "Проверим гипотезу о том, будет ли помесячная выручка от пользователей с подпиской по месяцам выше, чем выручка от пользователей без подписки.\n",
    "\n",
    "Т.к. выборки данных с выручкой от пользователей с подпиской и без нее независимы, то для проверки гипотезы будем использовать двухвыборочный t-тест для независимых выборок.\n",
    "\n",
    "*Нулевая гипотеза*: средние значения выручки от пользователей из двух групп равны.\n",
    "\n",
    "*Альтернативная гипотеза*: среднее значение выручки от пользователей с подпиской больше, чем среднее значение выручки от пользователей без подписки."
   ]
  },
  {
   "cell_type": "code",
   "execution_count": 43,
   "id": "49c37041",
   "metadata": {},
   "outputs": [
    {
     "name": "stdout",
     "output_type": "stream",
     "text": [
      "p-value: 1.8850394384715216e-31\n",
      "Отвергаем нулевую гипотезу\n"
     ]
    }
   ],
   "source": [
    "results = st.ttest_ind(data_agg[data_agg['subscription_type'] == 'ultra']['revenue'], data_agg[data_agg['subscription_type'] == 'free']['revenue'], alternative='greater')\n",
    "print(f'p-value: {results.pvalue}')\n",
    "if results.pvalue < alpha:\n",
    "    print('Отвергаем нулевую гипотезу')\n",
    "else:\n",
    "    print('Нет оснований отвергнуть нулевую гипотезу')"
   ]
  },
  {
   "cell_type": "markdown",
   "id": "665ab5c1",
   "metadata": {},
   "source": [
    "Полученное значение p-value меньше заданного уровня значимости, поэтому можно отвергнуть нулевую гипотезу. Есть основания говорить, что пользователи с подпиской приносят сервису больше выручки, нежели пользователи без подписки. Поэтому можно сделать вывод о том, что для сервиса пользователи с подпиской \"выгоднее\", чем пользователи без подписки."
   ]
  },
  {
   "cell_type": "markdown",
   "id": "cad7bd6f",
   "metadata": {},
   "source": [
    "#### Гипотеза 4"
   ]
  },
  {
   "cell_type": "markdown",
   "id": "2d334d80",
   "metadata": {},
   "source": [
    "Представим такую ситуацию: техническая команда сервиса обновила сервера, с которыми взаимодействует мобильное приложение. Она надеется, что из-за этого количество обращений в техподдержку значимо снизилось. Некоторый файл содержит для каждого пользователя данные о количестве обращений до обновления и после него. В таком случае для проверки этой гипотезы понадобился бы двухвыборочный t-тест для зависимых выборок."
   ]
  },
  {
   "cell_type": "markdown",
   "id": "6111c468",
   "metadata": {},
   "source": [
    "### Общий вывод"
   ]
  },
  {
   "cell_type": "markdown",
   "id": "497c7d4e",
   "metadata": {},
   "source": [
    "В ходе исследования были проанализированы данные популярного сервиса аренды самокатов GoFast.\n",
    "\n",
    "Предобработка данных включала в себя:\n",
    "1. Приведение столбца с датами в датасете к типу даты pandas\n",
    "2. Создание нового столбца с номером месяца\n",
    "3. Удаление дубликатов в датасете с пользователями\n",
    "\n",
    "Проведенный исследовательский анализ данных показал:\n",
    "1. Больше всего пользователей в городах Екатеринбург и Пятигорск, меньше всего - в Москве и Омске\n",
    "2. Больше половины пользователей не используют платную подписку\n",
    "3. Среднестатистический возраст пользователя аренды самокатов GoFast составляет 22-28 лет\n",
    "4. Среднестатистический пользователь аренды самокатов GoFast за одну поездку проезжает 2.5-3.5 км, имеют место также короткие поездки около полукилометра\n",
    "5. Время среднестатистической аренды самокатов GoFast составляет около 13-21 мин.\n",
    "\n",
    "В процессе объединения данных были решены следующие задачи:\n",
    "1. Объединены данные о пользователях, поездках и подписках в один датафрейм\n",
    "2. Из полученного датафрейма были созданы еще два - с данными о пользователях без подписки и с подпиской\n",
    "3. Визуализирована информации о расстоянии поездок для пользователей обеих категорий, в ходе чего было выявлено, что и пользователи с подпиской, и без нее, в среднем проезжают одно и то же расстояние - около 3 км, при этом пользователи с подпиской проезжают меньшие расстояния реже, чем пользователи без подписки\n",
    "4. Визуализируем информацию о времени поездок для пользователей обеих категорий, в ходе чего было выявлено, что и пользователи с подпиской, и без нее, в среднем имеют равную продолжительность сессии - около 18 мин., при этом пользователи с подпиской не имеют непродолжительных сессий (менее 3 минут), в отличие от пользователей без подписки\n",
    "\n",
    "В процессе исследования была посчитана помесячная выручкая, которую принес каждый пользователь.\n",
    "\n",
    "Также были проверены три гипотезы, которые показали:\n",
    "1. Пользователи с подпиской имеют в сервисе более продолжительные поездки, нежели пользователи без подписки\n",
    "2. Среднее расстояние, которое проезжают пользователи с подпиской за одну поездку, не превышает 3130 метров, что оптимально с точки зрения износа самоката\n",
    "3. Пользователи с подпиской приносят сервису больше выручки, нежели пользователи без подписки\n",
    "\n",
    "По итогу исследования можно сделать вывод о том, что для сервиса пользователи с подпиской \"выгоднее\", чем пользователи без подписки - они имеют более продолжительные поездки, не превышающие оптимальное с точки зрения износа самоката, приносят больше выручки, в сравнении с пользователями без подписки. Для того, чтобы бизнес мог вырасти, в сервис необходимо привлекать новых пользователей, стимулировать новых пользователей и пользователей без подписки оформлять подписку, для чего нужно проводить различные акции, расширять географию городов, осуществлять маркетинговые мероприятия."
   ]
  }
 ],
 "metadata": {
  "ExecuteTimeLog": [
   {
    "duration": 9,
    "start_time": "2024-11-18T07:15:32.956Z"
   },
   {
    "duration": 1241,
    "start_time": "2024-11-18T07:21:03.448Z"
   },
   {
    "duration": 75,
    "start_time": "2024-11-18T07:27:13.531Z"
   },
   {
    "duration": 11,
    "start_time": "2024-11-18T07:27:22.452Z"
   },
   {
    "duration": 91,
    "start_time": "2024-11-18T07:27:39.868Z"
   },
   {
    "duration": 29,
    "start_time": "2024-11-18T07:27:41.899Z"
   },
   {
    "duration": 7,
    "start_time": "2024-11-18T07:27:43.420Z"
   },
   {
    "duration": 7,
    "start_time": "2024-11-18T07:31:39.670Z"
   },
   {
    "duration": 988,
    "start_time": "2024-11-18T07:33:15.387Z"
   },
   {
    "duration": 30,
    "start_time": "2024-11-18T07:33:16.376Z"
   },
   {
    "duration": 154,
    "start_time": "2024-11-18T07:33:16.407Z"
   },
   {
    "duration": 67,
    "start_time": "2024-11-18T07:33:16.563Z"
   },
   {
    "duration": 10,
    "start_time": "2024-11-18T07:33:16.632Z"
   },
   {
    "duration": 12,
    "start_time": "2024-11-18T07:33:16.643Z"
   },
   {
    "duration": 6,
    "start_time": "2024-11-18T07:33:16.656Z"
   },
   {
    "duration": 7,
    "start_time": "2024-11-18T07:38:10.367Z"
   },
   {
    "duration": 63,
    "start_time": "2024-11-18T07:38:48.227Z"
   },
   {
    "duration": 7,
    "start_time": "2024-11-18T07:39:16.770Z"
   },
   {
    "duration": 68,
    "start_time": "2024-11-18T07:39:43.523Z"
   },
   {
    "duration": 9,
    "start_time": "2024-11-18T07:39:50.283Z"
   },
   {
    "duration": 6,
    "start_time": "2024-11-18T07:40:14.195Z"
   },
   {
    "duration": 8,
    "start_time": "2024-11-18T07:41:16.939Z"
   },
   {
    "duration": 10,
    "start_time": "2024-11-18T07:41:34.523Z"
   },
   {
    "duration": 12,
    "start_time": "2024-11-18T07:42:05.491Z"
   },
   {
    "duration": 9,
    "start_time": "2024-11-18T07:44:18.036Z"
   },
   {
    "duration": 985,
    "start_time": "2024-11-18T07:45:21.591Z"
   },
   {
    "duration": 28,
    "start_time": "2024-11-18T07:45:22.578Z"
   },
   {
    "duration": 27,
    "start_time": "2024-11-18T07:45:22.608Z"
   },
   {
    "duration": 15,
    "start_time": "2024-11-18T07:45:22.636Z"
   },
   {
    "duration": 11,
    "start_time": "2024-11-18T07:45:22.652Z"
   },
   {
    "duration": 9,
    "start_time": "2024-11-18T07:45:22.664Z"
   },
   {
    "duration": 7,
    "start_time": "2024-11-18T07:45:22.674Z"
   },
   {
    "duration": 10,
    "start_time": "2024-11-18T07:45:22.682Z"
   },
   {
    "duration": 8,
    "start_time": "2024-11-18T07:45:22.693Z"
   },
   {
    "duration": 9,
    "start_time": "2024-11-18T07:45:22.704Z"
   },
   {
    "duration": 7,
    "start_time": "2024-11-18T07:52:23.992Z"
   },
   {
    "duration": 8,
    "start_time": "2024-11-18T07:52:34.606Z"
   },
   {
    "duration": 8,
    "start_time": "2024-11-18T07:52:42.233Z"
   },
   {
    "duration": 4,
    "start_time": "2024-11-18T07:56:19.291Z"
   },
   {
    "duration": 11,
    "start_time": "2024-11-18T07:56:32.979Z"
   },
   {
    "duration": 5,
    "start_time": "2024-11-18T07:58:00.612Z"
   },
   {
    "duration": 5,
    "start_time": "2024-11-18T07:59:04.916Z"
   },
   {
    "duration": 4,
    "start_time": "2024-11-18T07:59:20.417Z"
   },
   {
    "duration": 6,
    "start_time": "2024-11-18T07:59:22.157Z"
   },
   {
    "duration": 5,
    "start_time": "2024-11-18T08:03:10.855Z"
   },
   {
    "duration": 8,
    "start_time": "2024-11-18T08:05:56.985Z"
   },
   {
    "duration": 6,
    "start_time": "2024-11-18T08:06:15.640Z"
   },
   {
    "duration": 6,
    "start_time": "2024-11-18T08:06:17.153Z"
   },
   {
    "duration": 6,
    "start_time": "2024-11-18T08:11:32.781Z"
   },
   {
    "duration": 6,
    "start_time": "2024-11-18T08:12:14.541Z"
   },
   {
    "duration": 2,
    "start_time": "2024-11-18T08:28:42.318Z"
   },
   {
    "duration": 2,
    "start_time": "2024-11-18T08:29:16.677Z"
   },
   {
    "duration": 13,
    "start_time": "2024-11-18T08:37:38.867Z"
   },
   {
    "duration": 8,
    "start_time": "2024-11-18T08:39:50.405Z"
   },
   {
    "duration": 15,
    "start_time": "2024-11-18T08:39:58.989Z"
   },
   {
    "duration": 190,
    "start_time": "2024-11-18T08:40:16.437Z"
   },
   {
    "duration": 151,
    "start_time": "2024-11-18T08:44:54.512Z"
   },
   {
    "duration": 143,
    "start_time": "2024-11-18T08:45:13.207Z"
   },
   {
    "duration": 141,
    "start_time": "2024-11-18T08:45:19.480Z"
   },
   {
    "duration": 140,
    "start_time": "2024-11-18T08:46:52.414Z"
   },
   {
    "duration": 146,
    "start_time": "2024-11-18T08:47:15.434Z"
   },
   {
    "duration": 159,
    "start_time": "2024-11-18T08:50:09.868Z"
   },
   {
    "duration": 168,
    "start_time": "2024-11-18T08:50:39.430Z"
   },
   {
    "duration": 163,
    "start_time": "2024-11-18T08:52:58.389Z"
   },
   {
    "duration": 242,
    "start_time": "2024-11-18T08:53:54.541Z"
   },
   {
    "duration": 185,
    "start_time": "2024-11-18T08:54:01.548Z"
   },
   {
    "duration": 170,
    "start_time": "2024-11-18T08:54:09.884Z"
   },
   {
    "duration": 182,
    "start_time": "2024-11-18T08:54:15.970Z"
   },
   {
    "duration": 159,
    "start_time": "2024-11-18T08:54:23.877Z"
   },
   {
    "duration": 174,
    "start_time": "2024-11-18T08:54:38.174Z"
   },
   {
    "duration": 184,
    "start_time": "2024-11-18T08:55:27.437Z"
   },
   {
    "duration": 143,
    "start_time": "2024-11-18T08:58:19.007Z"
   },
   {
    "duration": 151,
    "start_time": "2024-11-18T08:59:06.472Z"
   },
   {
    "duration": 21,
    "start_time": "2024-11-18T08:59:52.352Z"
   },
   {
    "duration": 1059,
    "start_time": "2024-11-18T09:00:56.413Z"
   },
   {
    "duration": 30,
    "start_time": "2024-11-18T09:00:57.477Z"
   },
   {
    "duration": 26,
    "start_time": "2024-11-18T09:00:57.509Z"
   },
   {
    "duration": 15,
    "start_time": "2024-11-18T09:00:57.536Z"
   },
   {
    "duration": 79,
    "start_time": "2024-11-18T09:00:57.552Z"
   },
   {
    "duration": 13,
    "start_time": "2024-11-18T09:00:57.632Z"
   },
   {
    "duration": 8,
    "start_time": "2024-11-18T09:00:57.646Z"
   },
   {
    "duration": 15,
    "start_time": "2024-11-18T09:00:57.655Z"
   },
   {
    "duration": 7,
    "start_time": "2024-11-18T09:00:57.672Z"
   },
   {
    "duration": 12,
    "start_time": "2024-11-18T09:00:57.681Z"
   },
   {
    "duration": 8,
    "start_time": "2024-11-18T09:00:57.695Z"
   },
   {
    "duration": 8,
    "start_time": "2024-11-18T09:00:57.704Z"
   },
   {
    "duration": 4,
    "start_time": "2024-11-18T09:00:57.713Z"
   },
   {
    "duration": 6,
    "start_time": "2024-11-18T09:00:57.718Z"
   },
   {
    "duration": 6,
    "start_time": "2024-11-18T09:00:57.725Z"
   },
   {
    "duration": 31,
    "start_time": "2024-11-18T09:00:57.732Z"
   },
   {
    "duration": 6,
    "start_time": "2024-11-18T09:00:57.767Z"
   },
   {
    "duration": 99,
    "start_time": "2024-11-18T09:00:57.775Z"
   },
   {
    "duration": 10,
    "start_time": "2024-11-18T09:00:57.876Z"
   },
   {
    "duration": 159,
    "start_time": "2024-11-18T09:00:57.888Z"
   },
   {
    "duration": 1054,
    "start_time": "2024-11-18T10:31:23.115Z"
   },
   {
    "duration": 29,
    "start_time": "2024-11-18T10:31:24.170Z"
   },
   {
    "duration": 58,
    "start_time": "2024-11-18T10:31:24.200Z"
   },
   {
    "duration": 15,
    "start_time": "2024-11-18T10:31:24.259Z"
   },
   {
    "duration": 11,
    "start_time": "2024-11-18T10:31:24.275Z"
   },
   {
    "duration": 16,
    "start_time": "2024-11-18T10:31:24.287Z"
   },
   {
    "duration": 9,
    "start_time": "2024-11-18T10:31:24.305Z"
   },
   {
    "duration": 9,
    "start_time": "2024-11-18T10:31:24.316Z"
   },
   {
    "duration": 6,
    "start_time": "2024-11-18T10:31:24.326Z"
   },
   {
    "duration": 8,
    "start_time": "2024-11-18T10:31:24.334Z"
   },
   {
    "duration": 6,
    "start_time": "2024-11-18T10:31:24.358Z"
   },
   {
    "duration": 10,
    "start_time": "2024-11-18T10:31:24.365Z"
   },
   {
    "duration": 3,
    "start_time": "2024-11-18T10:31:24.376Z"
   },
   {
    "duration": 6,
    "start_time": "2024-11-18T10:31:24.380Z"
   },
   {
    "duration": 5,
    "start_time": "2024-11-18T10:31:24.387Z"
   },
   {
    "duration": 4,
    "start_time": "2024-11-18T10:31:24.394Z"
   },
   {
    "duration": 5,
    "start_time": "2024-11-18T10:31:24.400Z"
   },
   {
    "duration": 6,
    "start_time": "2024-11-18T10:31:24.407Z"
   },
   {
    "duration": 44,
    "start_time": "2024-11-18T10:31:24.414Z"
   },
   {
    "duration": 159,
    "start_time": "2024-11-18T10:31:24.459Z"
   },
   {
    "duration": 369,
    "start_time": "2024-11-18T10:33:45.272Z"
   },
   {
    "duration": 11,
    "start_time": "2024-11-18T10:34:58.980Z"
   },
   {
    "duration": 12,
    "start_time": "2024-11-18T10:35:35.674Z"
   },
   {
    "duration": 120,
    "start_time": "2024-11-18T10:35:50.642Z"
   },
   {
    "duration": 96,
    "start_time": "2024-11-18T10:35:58.818Z"
   },
   {
    "duration": 100,
    "start_time": "2024-11-18T10:36:03.417Z"
   },
   {
    "duration": 110,
    "start_time": "2024-11-18T10:37:01.695Z"
   },
   {
    "duration": 110,
    "start_time": "2024-11-18T10:37:59.274Z"
   },
   {
    "duration": 101,
    "start_time": "2024-11-18T10:39:28.649Z"
   },
   {
    "duration": 112,
    "start_time": "2024-11-18T10:41:05.260Z"
   },
   {
    "duration": 11,
    "start_time": "2024-11-18T10:41:39.254Z"
   },
   {
    "duration": 282,
    "start_time": "2024-11-18T10:41:53.806Z"
   },
   {
    "duration": 112,
    "start_time": "2024-11-18T10:42:07.661Z"
   },
   {
    "duration": 154,
    "start_time": "2024-11-18T10:42:14.678Z"
   },
   {
    "duration": 111,
    "start_time": "2024-11-18T10:46:04.370Z"
   },
   {
    "duration": 71,
    "start_time": "2024-11-18T10:46:09.271Z"
   },
   {
    "duration": 115,
    "start_time": "2024-11-18T10:46:39.776Z"
   },
   {
    "duration": 117,
    "start_time": "2024-11-18T10:47:12.152Z"
   },
   {
    "duration": 114,
    "start_time": "2024-11-18T10:47:22.879Z"
   },
   {
    "duration": 5,
    "start_time": "2024-11-18T10:51:40.211Z"
   },
   {
    "duration": 69,
    "start_time": "2024-11-18T10:51:57.875Z"
   },
   {
    "duration": 71,
    "start_time": "2024-11-18T10:52:24.564Z"
   },
   {
    "duration": 113,
    "start_time": "2024-11-18T10:52:57.091Z"
   },
   {
    "duration": 112,
    "start_time": "2024-11-18T10:53:32.707Z"
   },
   {
    "duration": 5,
    "start_time": "2024-11-18T10:59:50.023Z"
   },
   {
    "duration": 8,
    "start_time": "2024-11-18T11:00:56.225Z"
   },
   {
    "duration": 122,
    "start_time": "2024-11-18T11:01:14.347Z"
   },
   {
    "duration": 120,
    "start_time": "2024-11-18T11:01:26.269Z"
   },
   {
    "duration": 120,
    "start_time": "2024-11-18T11:01:32.104Z"
   },
   {
    "duration": 146,
    "start_time": "2024-11-18T11:01:43.937Z"
   },
   {
    "duration": 197,
    "start_time": "2024-11-18T11:01:51.994Z"
   },
   {
    "duration": 143,
    "start_time": "2024-11-18T11:02:00.443Z"
   },
   {
    "duration": 140,
    "start_time": "2024-11-18T11:03:34.130Z"
   },
   {
    "duration": 143,
    "start_time": "2024-11-18T11:04:00.785Z"
   },
   {
    "duration": 184,
    "start_time": "2024-11-18T11:06:14.708Z"
   },
   {
    "duration": 167,
    "start_time": "2024-11-18T11:06:22.539Z"
   },
   {
    "duration": 168,
    "start_time": "2024-11-18T11:06:26.195Z"
   },
   {
    "duration": 188,
    "start_time": "2024-11-18T11:14:12.248Z"
   },
   {
    "duration": 160,
    "start_time": "2024-11-18T11:14:35.359Z"
   },
   {
    "duration": 181,
    "start_time": "2024-11-18T11:14:40.104Z"
   },
   {
    "duration": 268,
    "start_time": "2024-11-18T11:14:44.466Z"
   },
   {
    "duration": 211,
    "start_time": "2024-11-18T11:14:50.560Z"
   },
   {
    "duration": 200,
    "start_time": "2024-11-18T11:14:55.151Z"
   },
   {
    "duration": 167,
    "start_time": "2024-11-18T11:14:59.816Z"
   },
   {
    "duration": 178,
    "start_time": "2024-11-18T11:15:05.351Z"
   },
   {
    "duration": 181,
    "start_time": "2024-11-18T11:15:09.384Z"
   },
   {
    "duration": 187,
    "start_time": "2024-11-18T11:15:40.752Z"
   },
   {
    "duration": 251,
    "start_time": "2024-11-18T11:16:20.020Z"
   },
   {
    "duration": 170,
    "start_time": "2024-11-18T11:16:40.915Z"
   },
   {
    "duration": 158,
    "start_time": "2024-11-18T11:16:50.690Z"
   },
   {
    "duration": 140,
    "start_time": "2024-11-18T11:19:01.258Z"
   },
   {
    "duration": 137,
    "start_time": "2024-11-18T11:19:04.991Z"
   },
   {
    "duration": 158,
    "start_time": "2024-11-18T11:19:08.434Z"
   },
   {
    "duration": 193,
    "start_time": "2024-11-18T11:25:30.206Z"
   },
   {
    "duration": 194,
    "start_time": "2024-11-18T11:27:01.152Z"
   },
   {
    "duration": 64,
    "start_time": "2024-11-18T11:28:03.591Z"
   },
   {
    "duration": 21,
    "start_time": "2024-11-18T11:49:18.650Z"
   },
   {
    "duration": 9,
    "start_time": "2024-11-18T11:50:23.580Z"
   },
   {
    "duration": 27,
    "start_time": "2024-11-18T11:51:27.623Z"
   },
   {
    "duration": 23,
    "start_time": "2024-11-18T11:53:23.399Z"
   },
   {
    "duration": 27,
    "start_time": "2024-11-18T11:53:28.392Z"
   },
   {
    "duration": 12,
    "start_time": "2024-11-18T11:53:53.896Z"
   },
   {
    "duration": 18,
    "start_time": "2024-11-18T12:01:14.361Z"
   },
   {
    "duration": 16,
    "start_time": "2024-11-18T12:01:41.181Z"
   },
   {
    "duration": 28,
    "start_time": "2024-11-18T12:02:11.020Z"
   },
   {
    "duration": 22,
    "start_time": "2024-11-18T12:02:16.434Z"
   },
   {
    "duration": 17,
    "start_time": "2024-11-18T12:02:37.899Z"
   },
   {
    "duration": 13,
    "start_time": "2024-11-18T12:02:42.755Z"
   },
   {
    "duration": 251,
    "start_time": "2024-11-18T12:34:32.926Z"
   },
   {
    "duration": 201,
    "start_time": "2024-11-18T12:36:10.062Z"
   },
   {
    "duration": 183,
    "start_time": "2024-11-18T12:36:30.870Z"
   },
   {
    "duration": 193,
    "start_time": "2024-11-18T12:36:57.927Z"
   },
   {
    "duration": 185,
    "start_time": "2024-11-18T12:37:02.071Z"
   },
   {
    "duration": 65,
    "start_time": "2024-11-18T12:49:02.585Z"
   },
   {
    "duration": 168,
    "start_time": "2024-11-18T12:51:56.226Z"
   },
   {
    "duration": 161,
    "start_time": "2024-11-18T12:52:21.042Z"
   },
   {
    "duration": 169,
    "start_time": "2024-11-18T12:53:57.792Z"
   },
   {
    "duration": 153,
    "start_time": "2024-11-18T12:54:36.225Z"
   },
   {
    "duration": 241,
    "start_time": "2024-11-18T12:54:45.611Z"
   },
   {
    "duration": 179,
    "start_time": "2024-11-18T12:54:51.816Z"
   },
   {
    "duration": 180,
    "start_time": "2024-11-18T12:55:01.610Z"
   },
   {
    "duration": 168,
    "start_time": "2024-11-18T12:55:07.140Z"
   },
   {
    "duration": 180,
    "start_time": "2024-11-18T12:55:32.049Z"
   },
   {
    "duration": 151,
    "start_time": "2024-11-18T12:55:58.763Z"
   },
   {
    "duration": 220,
    "start_time": "2024-11-18T12:56:02.225Z"
   },
   {
    "duration": 152,
    "start_time": "2024-11-18T12:56:23.082Z"
   },
   {
    "duration": 170,
    "start_time": "2024-11-18T12:56:40.251Z"
   },
   {
    "duration": 141,
    "start_time": "2024-11-18T12:59:03.499Z"
   },
   {
    "duration": 112,
    "start_time": "2024-11-18T12:59:13.748Z"
   },
   {
    "duration": 114,
    "start_time": "2024-11-18T12:59:38.124Z"
   },
   {
    "duration": 215,
    "start_time": "2024-11-18T13:01:43.133Z"
   },
   {
    "duration": 148,
    "start_time": "2024-11-18T13:01:49.580Z"
   },
   {
    "duration": 171,
    "start_time": "2024-11-18T13:02:50.053Z"
   },
   {
    "duration": 171,
    "start_time": "2024-11-18T13:02:58.237Z"
   },
   {
    "duration": 158,
    "start_time": "2024-11-18T13:03:35.019Z"
   },
   {
    "duration": 144,
    "start_time": "2024-11-18T13:03:55.357Z"
   },
   {
    "duration": 179,
    "start_time": "2024-11-18T13:04:02.222Z"
   },
   {
    "duration": 133,
    "start_time": "2024-11-18T13:04:57.175Z"
   },
   {
    "duration": 164,
    "start_time": "2024-11-18T13:05:07.017Z"
   },
   {
    "duration": 162,
    "start_time": "2024-11-18T13:06:14.231Z"
   },
   {
    "duration": 163,
    "start_time": "2024-11-18T13:07:08.407Z"
   },
   {
    "duration": 163,
    "start_time": "2024-11-18T13:15:28.664Z"
   },
   {
    "duration": 170,
    "start_time": "2024-11-18T13:15:45.771Z"
   },
   {
    "duration": 169,
    "start_time": "2024-11-18T13:15:57.700Z"
   },
   {
    "duration": 24,
    "start_time": "2024-11-18T14:04:53.126Z"
   },
   {
    "duration": 14,
    "start_time": "2024-11-18T14:04:59.582Z"
   },
   {
    "duration": 18,
    "start_time": "2024-11-18T14:05:06.246Z"
   },
   {
    "duration": 14,
    "start_time": "2024-11-18T14:05:12.336Z"
   },
   {
    "duration": 7,
    "start_time": "2024-11-18T14:08:13.280Z"
   },
   {
    "duration": 7,
    "start_time": "2024-11-18T14:08:27.968Z"
   },
   {
    "duration": 10,
    "start_time": "2024-11-18T14:14:34.436Z"
   },
   {
    "duration": 9,
    "start_time": "2024-11-18T14:14:36.635Z"
   },
   {
    "duration": 3,
    "start_time": "2024-11-18T14:19:39.729Z"
   },
   {
    "duration": 1041,
    "start_time": "2024-11-18T14:19:43.726Z"
   },
   {
    "duration": 29,
    "start_time": "2024-11-18T14:19:44.768Z"
   },
   {
    "duration": 27,
    "start_time": "2024-11-18T14:19:44.798Z"
   },
   {
    "duration": 14,
    "start_time": "2024-11-18T14:19:44.827Z"
   },
   {
    "duration": 19,
    "start_time": "2024-11-18T14:19:44.843Z"
   },
   {
    "duration": 9,
    "start_time": "2024-11-18T14:19:44.863Z"
   },
   {
    "duration": 8,
    "start_time": "2024-11-18T14:19:44.873Z"
   },
   {
    "duration": 8,
    "start_time": "2024-11-18T14:19:44.883Z"
   },
   {
    "duration": 5,
    "start_time": "2024-11-18T14:19:44.893Z"
   },
   {
    "duration": 9,
    "start_time": "2024-11-18T14:19:44.899Z"
   },
   {
    "duration": 11,
    "start_time": "2024-11-18T14:19:44.910Z"
   },
   {
    "duration": 36,
    "start_time": "2024-11-18T14:19:44.923Z"
   },
   {
    "duration": 4,
    "start_time": "2024-11-18T14:19:44.961Z"
   },
   {
    "duration": 7,
    "start_time": "2024-11-18T14:19:44.969Z"
   },
   {
    "duration": 8,
    "start_time": "2024-11-18T14:19:44.977Z"
   },
   {
    "duration": 9,
    "start_time": "2024-11-18T14:19:44.986Z"
   },
   {
    "duration": 6,
    "start_time": "2024-11-18T14:19:44.997Z"
   },
   {
    "duration": 56,
    "start_time": "2024-11-18T14:19:45.004Z"
   },
   {
    "duration": 60,
    "start_time": "2024-11-18T14:19:45.062Z"
   },
   {
    "duration": 262,
    "start_time": "2024-11-18T14:19:45.124Z"
   },
   {
    "duration": 115,
    "start_time": "2024-11-18T14:19:45.388Z"
   },
   {
    "duration": 157,
    "start_time": "2024-11-18T14:19:45.504Z"
   },
   {
    "duration": 198,
    "start_time": "2024-11-18T14:19:45.662Z"
   },
   {
    "duration": 201,
    "start_time": "2024-11-18T14:19:45.861Z"
   },
   {
    "duration": 23,
    "start_time": "2024-11-18T14:19:46.063Z"
   },
   {
    "duration": 15,
    "start_time": "2024-11-18T14:19:46.087Z"
   },
   {
    "duration": 12,
    "start_time": "2024-11-18T14:19:46.104Z"
   },
   {
    "duration": 201,
    "start_time": "2024-11-18T14:19:46.117Z"
   },
   {
    "duration": 8,
    "start_time": "2024-11-18T14:19:46.319Z"
   },
   {
    "duration": 13,
    "start_time": "2024-11-18T14:19:46.328Z"
   },
   {
    "duration": 177,
    "start_time": "2024-11-18T14:19:46.342Z"
   },
   {
    "duration": 19,
    "start_time": "2024-11-18T14:37:49.788Z"
   },
   {
    "duration": 31,
    "start_time": "2024-11-18T14:38:12.577Z"
   },
   {
    "duration": 100,
    "start_time": "2024-11-18T14:40:25.203Z"
   },
   {
    "duration": 43,
    "start_time": "2024-11-18T14:40:51.470Z"
   },
   {
    "duration": 38,
    "start_time": "2024-11-18T14:44:28.861Z"
   },
   {
    "duration": 40,
    "start_time": "2024-11-18T14:45:55.873Z"
   },
   {
    "duration": 46,
    "start_time": "2024-11-18T14:46:11.006Z"
   },
   {
    "duration": 43,
    "start_time": "2024-11-18T14:46:55.422Z"
   },
   {
    "duration": 37,
    "start_time": "2024-11-18T14:47:09.767Z"
   },
   {
    "duration": 1417,
    "start_time": "2024-11-19T06:23:23.735Z"
   },
   {
    "duration": 107,
    "start_time": "2024-11-19T06:23:25.154Z"
   },
   {
    "duration": 170,
    "start_time": "2024-11-19T06:23:25.263Z"
   },
   {
    "duration": 73,
    "start_time": "2024-11-19T06:23:25.435Z"
   },
   {
    "duration": 13,
    "start_time": "2024-11-19T06:23:25.509Z"
   },
   {
    "duration": 11,
    "start_time": "2024-11-19T06:23:25.524Z"
   },
   {
    "duration": 9,
    "start_time": "2024-11-19T06:23:25.537Z"
   },
   {
    "duration": 11,
    "start_time": "2024-11-19T06:23:25.548Z"
   },
   {
    "duration": 7,
    "start_time": "2024-11-19T06:23:25.561Z"
   },
   {
    "duration": 11,
    "start_time": "2024-11-19T06:23:25.572Z"
   },
   {
    "duration": 8,
    "start_time": "2024-11-19T06:23:25.585Z"
   },
   {
    "duration": 11,
    "start_time": "2024-11-19T06:23:25.595Z"
   },
   {
    "duration": 5,
    "start_time": "2024-11-19T06:23:25.608Z"
   },
   {
    "duration": 41,
    "start_time": "2024-11-19T06:23:25.615Z"
   },
   {
    "duration": 7,
    "start_time": "2024-11-19T06:23:25.659Z"
   },
   {
    "duration": 15,
    "start_time": "2024-11-19T06:23:25.668Z"
   },
   {
    "duration": 7,
    "start_time": "2024-11-19T06:23:25.685Z"
   },
   {
    "duration": 10,
    "start_time": "2024-11-19T06:23:25.695Z"
   },
   {
    "duration": 47,
    "start_time": "2024-11-19T06:23:25.706Z"
   },
   {
    "duration": 204,
    "start_time": "2024-11-19T06:23:25.755Z"
   },
   {
    "duration": 150,
    "start_time": "2024-11-19T06:23:25.961Z"
   },
   {
    "duration": 205,
    "start_time": "2024-11-19T06:23:26.113Z"
   },
   {
    "duration": 254,
    "start_time": "2024-11-19T06:23:26.320Z"
   },
   {
    "duration": 260,
    "start_time": "2024-11-19T06:23:26.576Z"
   },
   {
    "duration": 37,
    "start_time": "2024-11-19T06:23:26.838Z"
   },
   {
    "duration": 21,
    "start_time": "2024-11-19T06:23:26.877Z"
   },
   {
    "duration": 17,
    "start_time": "2024-11-19T06:23:26.899Z"
   },
   {
    "duration": 226,
    "start_time": "2024-11-19T06:23:26.920Z"
   },
   {
    "duration": 12,
    "start_time": "2024-11-19T06:23:27.147Z"
   },
   {
    "duration": 79,
    "start_time": "2024-11-19T06:23:27.161Z"
   },
   {
    "duration": 195,
    "start_time": "2024-11-19T06:23:27.242Z"
   },
   {
    "duration": 350,
    "start_time": "2024-11-19T06:23:27.438Z"
   },
   {
    "duration": 65,
    "start_time": "2024-11-19T06:24:24.895Z"
   },
   {
    "duration": 67,
    "start_time": "2024-11-19T06:25:02.551Z"
   },
   {
    "duration": 136,
    "start_time": "2024-11-19T06:25:40.754Z"
   },
   {
    "duration": 45,
    "start_time": "2024-11-19T06:26:12.936Z"
   },
   {
    "duration": 919,
    "start_time": "2024-11-19T06:26:32.592Z"
   },
   {
    "duration": 62,
    "start_time": "2024-11-19T06:26:47.680Z"
   },
   {
    "duration": 62,
    "start_time": "2024-11-19T06:27:12.194Z"
   },
   {
    "duration": 62,
    "start_time": "2024-11-19T06:27:24.320Z"
   },
   {
    "duration": 63,
    "start_time": "2024-11-19T06:29:32.049Z"
   },
   {
    "duration": 62,
    "start_time": "2024-11-19T06:29:38.193Z"
   },
   {
    "duration": 64,
    "start_time": "2024-11-19T06:29:42.321Z"
   },
   {
    "duration": 6,
    "start_time": "2024-11-19T06:35:52.819Z"
   },
   {
    "duration": 15,
    "start_time": "2024-11-19T06:36:08.179Z"
   },
   {
    "duration": 16,
    "start_time": "2024-11-19T06:38:50.255Z"
   },
   {
    "duration": 772,
    "start_time": "2024-11-19T06:48:27.868Z"
   },
   {
    "duration": 818,
    "start_time": "2024-11-19T06:48:56.508Z"
   },
   {
    "duration": 1118,
    "start_time": "2024-11-19T06:49:12.317Z"
   },
   {
    "duration": 31,
    "start_time": "2024-11-19T06:49:13.437Z"
   },
   {
    "duration": 31,
    "start_time": "2024-11-19T06:49:13.470Z"
   },
   {
    "duration": 16,
    "start_time": "2024-11-19T06:49:13.504Z"
   },
   {
    "duration": 13,
    "start_time": "2024-11-19T06:49:13.521Z"
   },
   {
    "duration": 10,
    "start_time": "2024-11-19T06:49:13.536Z"
   },
   {
    "duration": 11,
    "start_time": "2024-11-19T06:49:13.548Z"
   },
   {
    "duration": 11,
    "start_time": "2024-11-19T06:49:13.561Z"
   },
   {
    "duration": 15,
    "start_time": "2024-11-19T06:49:13.574Z"
   },
   {
    "duration": 10,
    "start_time": "2024-11-19T06:49:13.592Z"
   },
   {
    "duration": 25,
    "start_time": "2024-11-19T06:49:13.604Z"
   },
   {
    "duration": 10,
    "start_time": "2024-11-19T06:49:13.631Z"
   },
   {
    "duration": 9,
    "start_time": "2024-11-19T06:49:13.643Z"
   },
   {
    "duration": 6,
    "start_time": "2024-11-19T06:49:13.653Z"
   },
   {
    "duration": 7,
    "start_time": "2024-11-19T06:49:13.660Z"
   },
   {
    "duration": 5,
    "start_time": "2024-11-19T06:49:13.668Z"
   },
   {
    "duration": 6,
    "start_time": "2024-11-19T06:49:13.675Z"
   },
   {
    "duration": 7,
    "start_time": "2024-11-19T06:49:13.683Z"
   },
   {
    "duration": 7,
    "start_time": "2024-11-19T06:49:13.692Z"
   },
   {
    "duration": 256,
    "start_time": "2024-11-19T06:49:13.701Z"
   },
   {
    "duration": 167,
    "start_time": "2024-11-19T06:49:13.959Z"
   },
   {
    "duration": 205,
    "start_time": "2024-11-19T06:49:14.128Z"
   },
   {
    "duration": 245,
    "start_time": "2024-11-19T06:49:14.335Z"
   },
   {
    "duration": 248,
    "start_time": "2024-11-19T06:49:14.582Z"
   },
   {
    "duration": 37,
    "start_time": "2024-11-19T06:49:14.832Z"
   },
   {
    "duration": 19,
    "start_time": "2024-11-19T06:49:14.870Z"
   },
   {
    "duration": 16,
    "start_time": "2024-11-19T06:49:14.891Z"
   },
   {
    "duration": 247,
    "start_time": "2024-11-19T06:49:14.910Z"
   },
   {
    "duration": 9,
    "start_time": "2024-11-19T06:49:15.159Z"
   },
   {
    "duration": 40,
    "start_time": "2024-11-19T06:49:15.169Z"
   },
   {
    "duration": 198,
    "start_time": "2024-11-19T06:49:15.211Z"
   },
   {
    "duration": 74,
    "start_time": "2024-11-19T06:49:15.411Z"
   },
   {
    "duration": 17,
    "start_time": "2024-11-19T06:49:15.487Z"
   },
   {
    "duration": 2,
    "start_time": "2024-11-19T06:50:37.102Z"
   },
   {
    "duration": 2,
    "start_time": "2024-11-19T06:51:13.991Z"
   },
   {
    "duration": 6,
    "start_time": "2024-11-19T07:14:47.950Z"
   },
   {
    "duration": 7,
    "start_time": "2024-11-19T07:20:10.422Z"
   },
   {
    "duration": 7,
    "start_time": "2024-11-19T07:20:21.669Z"
   },
   {
    "duration": 6,
    "start_time": "2024-11-19T07:25:26.220Z"
   },
   {
    "duration": 6,
    "start_time": "2024-11-19T07:25:31.048Z"
   },
   {
    "duration": 2,
    "start_time": "2024-11-19T07:27:06.598Z"
   },
   {
    "duration": 6,
    "start_time": "2024-11-19T07:27:11.029Z"
   },
   {
    "duration": 10,
    "start_time": "2024-11-19T07:39:07.843Z"
   },
   {
    "duration": 11,
    "start_time": "2024-11-19T07:39:09.867Z"
   },
   {
    "duration": 9,
    "start_time": "2024-11-19T07:41:42.749Z"
   },
   {
    "duration": 10,
    "start_time": "2024-11-19T07:41:53.149Z"
   },
   {
    "duration": 925,
    "start_time": "2024-11-19T10:32:34.791Z"
   },
   {
    "duration": 16,
    "start_time": "2024-11-19T10:32:38.257Z"
   },
   {
    "duration": 7,
    "start_time": "2024-11-19T12:47:17.102Z"
   },
   {
    "duration": 5,
    "start_time": "2024-11-19T12:47:50.737Z"
   },
   {
    "duration": 11,
    "start_time": "2024-11-19T13:19:20.984Z"
   },
   {
    "duration": 53,
    "start_time": "2024-11-19T13:19:24.241Z"
   },
   {
    "duration": 60,
    "start_time": "2024-11-19T13:19:32.394Z"
   },
   {
    "duration": 13,
    "start_time": "2024-11-19T13:19:35.767Z"
   },
   {
    "duration": 19,
    "start_time": "2024-11-19T13:19:49.776Z"
   },
   {
    "duration": 115,
    "start_time": "2024-11-19T13:20:04.448Z"
   },
   {
    "duration": 13,
    "start_time": "2024-11-19T13:20:33.770Z"
   },
   {
    "duration": 9,
    "start_time": "2024-11-19T13:21:17.704Z"
   },
   {
    "duration": 10,
    "start_time": "2024-11-19T13:23:07.282Z"
   },
   {
    "duration": 10,
    "start_time": "2024-11-19T13:23:20.786Z"
   },
   {
    "duration": 19,
    "start_time": "2024-11-19T14:01:03.988Z"
   },
   {
    "duration": 907,
    "start_time": "2024-11-19T14:01:29.443Z"
   },
   {
    "duration": 796,
    "start_time": "2024-11-19T14:03:11.677Z"
   },
   {
    "duration": 824,
    "start_time": "2024-11-19T14:03:27.421Z"
   },
   {
    "duration": 828,
    "start_time": "2024-11-19T14:04:42.071Z"
   },
   {
    "duration": 10,
    "start_time": "2024-11-19T14:05:15.247Z"
   },
   {
    "duration": 1189,
    "start_time": "2024-11-19T14:05:20.020Z"
   },
   {
    "duration": 31,
    "start_time": "2024-11-19T14:05:21.211Z"
   },
   {
    "duration": 32,
    "start_time": "2024-11-19T14:05:21.243Z"
   },
   {
    "duration": 86,
    "start_time": "2024-11-19T14:05:21.276Z"
   },
   {
    "duration": 13,
    "start_time": "2024-11-19T14:05:21.365Z"
   },
   {
    "duration": 11,
    "start_time": "2024-11-19T14:05:21.380Z"
   },
   {
    "duration": 12,
    "start_time": "2024-11-19T14:05:21.393Z"
   },
   {
    "duration": 16,
    "start_time": "2024-11-19T14:05:21.406Z"
   },
   {
    "duration": 23,
    "start_time": "2024-11-19T14:05:21.424Z"
   },
   {
    "duration": 16,
    "start_time": "2024-11-19T14:05:21.449Z"
   },
   {
    "duration": 23,
    "start_time": "2024-11-19T14:05:21.466Z"
   },
   {
    "duration": 10,
    "start_time": "2024-11-19T14:05:21.491Z"
   },
   {
    "duration": 5,
    "start_time": "2024-11-19T14:05:21.503Z"
   },
   {
    "duration": 24,
    "start_time": "2024-11-19T14:05:21.511Z"
   },
   {
    "duration": 7,
    "start_time": "2024-11-19T14:05:21.536Z"
   },
   {
    "duration": 5,
    "start_time": "2024-11-19T14:05:21.545Z"
   },
   {
    "duration": 7,
    "start_time": "2024-11-19T14:05:21.552Z"
   },
   {
    "duration": 23,
    "start_time": "2024-11-19T14:05:21.561Z"
   },
   {
    "duration": 8,
    "start_time": "2024-11-19T14:05:21.585Z"
   },
   {
    "duration": 182,
    "start_time": "2024-11-19T14:05:21.594Z"
   },
   {
    "duration": 138,
    "start_time": "2024-11-19T14:05:21.778Z"
   },
   {
    "duration": 207,
    "start_time": "2024-11-19T14:05:21.918Z"
   },
   {
    "duration": 251,
    "start_time": "2024-11-19T14:05:22.127Z"
   },
   {
    "duration": 254,
    "start_time": "2024-11-19T14:05:22.380Z"
   },
   {
    "duration": 37,
    "start_time": "2024-11-19T14:05:22.636Z"
   },
   {
    "duration": 91,
    "start_time": "2024-11-19T14:05:22.675Z"
   },
   {
    "duration": 22,
    "start_time": "2024-11-19T14:05:22.768Z"
   },
   {
    "duration": 202,
    "start_time": "2024-11-19T14:05:22.792Z"
   },
   {
    "duration": 233,
    "start_time": "2024-11-19T14:05:22.996Z"
   },
   {
    "duration": 148,
    "start_time": "2024-11-19T14:05:23.230Z"
   },
   {
    "duration": 17,
    "start_time": "2024-11-19T14:05:23.380Z"
   },
   {
    "duration": 4,
    "start_time": "2024-11-19T14:05:23.398Z"
   },
   {
    "duration": 11,
    "start_time": "2024-11-19T14:05:23.403Z"
   },
   {
    "duration": 19,
    "start_time": "2024-11-19T14:05:23.416Z"
   },
   {
    "duration": 21,
    "start_time": "2024-11-19T14:05:23.437Z"
   },
   {
    "duration": 108,
    "start_time": "2024-11-19T14:05:23.460Z"
   },
   {
    "duration": 1605,
    "start_time": "2024-11-19T14:05:52.486Z"
   },
   {
    "duration": 81,
    "start_time": "2024-11-19T14:06:13.717Z"
   },
   {
    "duration": 81,
    "start_time": "2024-11-19T14:07:29.088Z"
   },
   {
    "duration": 82,
    "start_time": "2024-11-19T14:07:49.768Z"
   },
   {
    "duration": 1525,
    "start_time": "2024-11-19T14:08:57.040Z"
   },
   {
    "duration": 234,
    "start_time": "2024-11-19T14:09:07.626Z"
   },
   {
    "duration": 83,
    "start_time": "2024-11-19T14:10:38.826Z"
   },
   {
    "duration": 844,
    "start_time": "2024-11-19T14:11:36.796Z"
   },
   {
    "duration": 1161,
    "start_time": "2024-11-19T14:48:15.723Z"
   },
   {
    "duration": 31,
    "start_time": "2024-11-19T14:48:16.886Z"
   },
   {
    "duration": 32,
    "start_time": "2024-11-19T14:48:16.918Z"
   },
   {
    "duration": 17,
    "start_time": "2024-11-19T14:48:16.951Z"
   },
   {
    "duration": 14,
    "start_time": "2024-11-19T14:48:16.970Z"
   },
   {
    "duration": 63,
    "start_time": "2024-11-19T14:48:16.985Z"
   },
   {
    "duration": 17,
    "start_time": "2024-11-19T14:48:17.049Z"
   },
   {
    "duration": 13,
    "start_time": "2024-11-19T14:48:17.068Z"
   },
   {
    "duration": 7,
    "start_time": "2024-11-19T14:48:17.083Z"
   },
   {
    "duration": 22,
    "start_time": "2024-11-19T14:48:17.092Z"
   },
   {
    "duration": 7,
    "start_time": "2024-11-19T14:48:17.116Z"
   },
   {
    "duration": 13,
    "start_time": "2024-11-19T14:48:17.125Z"
   },
   {
    "duration": 5,
    "start_time": "2024-11-19T14:48:17.140Z"
   },
   {
    "duration": 6,
    "start_time": "2024-11-19T14:48:17.153Z"
   },
   {
    "duration": 7,
    "start_time": "2024-11-19T14:48:17.160Z"
   },
   {
    "duration": 6,
    "start_time": "2024-11-19T14:48:17.168Z"
   },
   {
    "duration": 6,
    "start_time": "2024-11-19T14:48:17.175Z"
   },
   {
    "duration": 9,
    "start_time": "2024-11-19T14:48:17.182Z"
   },
   {
    "duration": 9,
    "start_time": "2024-11-19T14:48:17.193Z"
   },
   {
    "duration": 225,
    "start_time": "2024-11-19T14:48:17.203Z"
   },
   {
    "duration": 142,
    "start_time": "2024-11-19T14:48:17.429Z"
   },
   {
    "duration": 213,
    "start_time": "2024-11-19T14:48:17.573Z"
   },
   {
    "duration": 244,
    "start_time": "2024-11-19T14:48:17.788Z"
   },
   {
    "duration": 251,
    "start_time": "2024-11-19T14:48:18.034Z"
   },
   {
    "duration": 28,
    "start_time": "2024-11-19T14:48:18.287Z"
   },
   {
    "duration": 37,
    "start_time": "2024-11-19T14:48:18.316Z"
   },
   {
    "duration": 17,
    "start_time": "2024-11-19T14:48:18.354Z"
   },
   {
    "duration": 204,
    "start_time": "2024-11-19T14:48:18.373Z"
   },
   {
    "duration": 202,
    "start_time": "2024-11-19T14:48:18.579Z"
   },
   {
    "duration": 142,
    "start_time": "2024-11-19T14:48:18.783Z"
   },
   {
    "duration": 15,
    "start_time": "2024-11-19T14:48:18.926Z"
   },
   {
    "duration": 3,
    "start_time": "2024-11-19T14:48:18.951Z"
   },
   {
    "duration": 18,
    "start_time": "2024-11-19T14:48:18.956Z"
   },
   {
    "duration": 90,
    "start_time": "2024-11-19T14:48:18.976Z"
   },
   {
    "duration": 19,
    "start_time": "2024-11-19T14:48:19.068Z"
   },
   {
    "duration": 1495,
    "start_time": "2024-11-19T15:59:08.219Z"
   },
   {
    "duration": 88,
    "start_time": "2024-11-19T15:59:09.716Z"
   },
   {
    "duration": 165,
    "start_time": "2024-11-19T15:59:09.806Z"
   },
   {
    "duration": 72,
    "start_time": "2024-11-19T15:59:09.975Z"
   },
   {
    "duration": 17,
    "start_time": "2024-11-19T15:59:10.049Z"
   },
   {
    "duration": 22,
    "start_time": "2024-11-19T15:59:10.068Z"
   },
   {
    "duration": 12,
    "start_time": "2024-11-19T15:59:10.091Z"
   },
   {
    "duration": 32,
    "start_time": "2024-11-19T15:59:10.105Z"
   },
   {
    "duration": 85,
    "start_time": "2024-11-19T15:59:10.138Z"
   },
   {
    "duration": 11,
    "start_time": "2024-11-19T15:59:10.225Z"
   },
   {
    "duration": 17,
    "start_time": "2024-11-19T15:59:10.237Z"
   },
   {
    "duration": 15,
    "start_time": "2024-11-19T15:59:10.256Z"
   },
   {
    "duration": 6,
    "start_time": "2024-11-19T15:59:10.273Z"
   },
   {
    "duration": 24,
    "start_time": "2024-11-19T15:59:10.281Z"
   },
   {
    "duration": 20,
    "start_time": "2024-11-19T15:59:10.308Z"
   },
   {
    "duration": 16,
    "start_time": "2024-11-19T15:59:10.330Z"
   },
   {
    "duration": 14,
    "start_time": "2024-11-19T15:59:10.348Z"
   },
   {
    "duration": 9,
    "start_time": "2024-11-19T15:59:10.364Z"
   },
   {
    "duration": 9,
    "start_time": "2024-11-19T15:59:10.376Z"
   },
   {
    "duration": 235,
    "start_time": "2024-11-19T15:59:10.386Z"
   },
   {
    "duration": 155,
    "start_time": "2024-11-19T15:59:10.623Z"
   },
   {
    "duration": 507,
    "start_time": "2024-11-19T15:59:10.780Z"
   },
   {
    "duration": 594,
    "start_time": "2024-11-19T15:59:11.289Z"
   },
   {
    "duration": 577,
    "start_time": "2024-11-19T15:59:11.885Z"
   },
   {
    "duration": 32,
    "start_time": "2024-11-19T15:59:12.464Z"
   },
   {
    "duration": 65,
    "start_time": "2024-11-19T15:59:12.498Z"
   },
   {
    "duration": 30,
    "start_time": "2024-11-19T15:59:12.566Z"
   },
   {
    "duration": 231,
    "start_time": "2024-11-19T15:59:12.600Z"
   },
   {
    "duration": 236,
    "start_time": "2024-11-19T15:59:12.832Z"
   },
   {
    "duration": 163,
    "start_time": "2024-11-19T15:59:13.070Z"
   },
   {
    "duration": 27,
    "start_time": "2024-11-19T15:59:13.235Z"
   },
   {
    "duration": 3,
    "start_time": "2024-11-19T15:59:13.264Z"
   },
   {
    "duration": 32,
    "start_time": "2024-11-19T15:59:13.269Z"
   },
   {
    "duration": 19,
    "start_time": "2024-11-19T15:59:13.303Z"
   },
   {
    "duration": 27,
    "start_time": "2024-11-19T15:59:13.323Z"
   },
   {
    "duration": 1101,
    "start_time": "2024-11-19T16:02:05.288Z"
   },
   {
    "duration": 1211,
    "start_time": "2024-11-19T16:02:16.137Z"
   },
   {
    "duration": 29,
    "start_time": "2024-11-19T16:02:17.350Z"
   },
   {
    "duration": 29,
    "start_time": "2024-11-19T16:02:17.381Z"
   },
   {
    "duration": 16,
    "start_time": "2024-11-19T16:02:17.412Z"
   },
   {
    "duration": 20,
    "start_time": "2024-11-19T16:02:17.430Z"
   },
   {
    "duration": 15,
    "start_time": "2024-11-19T16:02:17.452Z"
   },
   {
    "duration": 26,
    "start_time": "2024-11-19T16:02:17.469Z"
   },
   {
    "duration": 15,
    "start_time": "2024-11-19T16:02:17.497Z"
   },
   {
    "duration": 14,
    "start_time": "2024-11-19T16:02:17.514Z"
   },
   {
    "duration": 27,
    "start_time": "2024-11-19T16:02:17.529Z"
   },
   {
    "duration": 12,
    "start_time": "2024-11-19T16:02:17.558Z"
   },
   {
    "duration": 15,
    "start_time": "2024-11-19T16:02:17.572Z"
   },
   {
    "duration": 8,
    "start_time": "2024-11-19T16:02:17.589Z"
   },
   {
    "duration": 7,
    "start_time": "2024-11-19T16:02:17.601Z"
   },
   {
    "duration": 41,
    "start_time": "2024-11-19T16:02:17.610Z"
   },
   {
    "duration": 9,
    "start_time": "2024-11-19T16:02:17.652Z"
   },
   {
    "duration": 7,
    "start_time": "2024-11-19T16:02:17.663Z"
   },
   {
    "duration": 10,
    "start_time": "2024-11-19T16:02:17.672Z"
   },
   {
    "duration": 20,
    "start_time": "2024-11-19T16:02:17.683Z"
   },
   {
    "duration": 226,
    "start_time": "2024-11-19T16:02:17.706Z"
   },
   {
    "duration": 150,
    "start_time": "2024-11-19T16:02:17.934Z"
   },
   {
    "duration": 379,
    "start_time": "2024-11-19T16:02:18.085Z"
   },
   {
    "duration": 722,
    "start_time": "2024-11-19T16:02:18.467Z"
   },
   {
    "duration": 622,
    "start_time": "2024-11-19T16:02:19.243Z"
   },
   {
    "duration": 91,
    "start_time": "2024-11-19T16:02:19.867Z"
   },
   {
    "duration": 24,
    "start_time": "2024-11-19T16:02:19.960Z"
   },
   {
    "duration": 108,
    "start_time": "2024-11-19T16:02:19.985Z"
   },
   {
    "duration": 226,
    "start_time": "2024-11-19T16:02:20.095Z"
   },
   {
    "duration": 210,
    "start_time": "2024-11-19T16:02:20.323Z"
   },
   {
    "duration": 177,
    "start_time": "2024-11-19T16:02:20.535Z"
   },
   {
    "duration": 16,
    "start_time": "2024-11-19T16:02:20.714Z"
   },
   {
    "duration": 8,
    "start_time": "2024-11-19T16:02:20.744Z"
   },
   {
    "duration": 53,
    "start_time": "2024-11-19T16:02:20.754Z"
   },
   {
    "duration": 24,
    "start_time": "2024-11-19T16:02:20.809Z"
   },
   {
    "duration": 39,
    "start_time": "2024-11-19T16:02:20.835Z"
   },
   {
    "duration": 16,
    "start_time": "2024-11-19T16:02:24.569Z"
   },
   {
    "duration": 69,
    "start_time": "2024-11-20T07:09:49.598Z"
   },
   {
    "duration": 1325,
    "start_time": "2024-11-20T07:09:55.428Z"
   },
   {
    "duration": 102,
    "start_time": "2024-11-20T07:09:56.756Z"
   },
   {
    "duration": 138,
    "start_time": "2024-11-20T07:09:56.859Z"
   },
   {
    "duration": 69,
    "start_time": "2024-11-20T07:09:56.998Z"
   },
   {
    "duration": 13,
    "start_time": "2024-11-20T07:09:57.069Z"
   },
   {
    "duration": 11,
    "start_time": "2024-11-20T07:09:57.084Z"
   },
   {
    "duration": 13,
    "start_time": "2024-11-20T07:09:57.097Z"
   },
   {
    "duration": 12,
    "start_time": "2024-11-20T07:09:57.111Z"
   },
   {
    "duration": 8,
    "start_time": "2024-11-20T07:09:57.124Z"
   },
   {
    "duration": 11,
    "start_time": "2024-11-20T07:09:57.169Z"
   },
   {
    "duration": 11,
    "start_time": "2024-11-20T07:09:57.182Z"
   },
   {
    "duration": 23,
    "start_time": "2024-11-20T07:09:57.195Z"
   },
   {
    "duration": 5,
    "start_time": "2024-11-20T07:09:57.219Z"
   },
   {
    "duration": 6,
    "start_time": "2024-11-20T07:09:57.227Z"
   },
   {
    "duration": 9,
    "start_time": "2024-11-20T07:09:57.235Z"
   },
   {
    "duration": 25,
    "start_time": "2024-11-20T07:09:57.246Z"
   },
   {
    "duration": 6,
    "start_time": "2024-11-20T07:09:57.272Z"
   },
   {
    "duration": 13,
    "start_time": "2024-11-20T07:09:57.280Z"
   },
   {
    "duration": 20,
    "start_time": "2024-11-20T07:09:57.294Z"
   },
   {
    "duration": 8,
    "start_time": "2024-11-20T07:09:57.315Z"
   },
   {
    "duration": 202,
    "start_time": "2024-11-20T07:09:57.325Z"
   },
   {
    "duration": 145,
    "start_time": "2024-11-20T07:09:57.530Z"
   },
   {
    "duration": 211,
    "start_time": "2024-11-20T07:09:57.677Z"
   },
   {
    "duration": 248,
    "start_time": "2024-11-20T07:09:57.889Z"
   },
   {
    "duration": 282,
    "start_time": "2024-11-20T07:09:58.139Z"
   },
   {
    "duration": 33,
    "start_time": "2024-11-20T07:09:58.423Z"
   },
   {
    "duration": 31,
    "start_time": "2024-11-20T07:09:58.457Z"
   },
   {
    "duration": 16,
    "start_time": "2024-11-20T07:09:58.489Z"
   },
   {
    "duration": 231,
    "start_time": "2024-11-20T07:09:58.506Z"
   },
   {
    "duration": 211,
    "start_time": "2024-11-20T07:09:58.739Z"
   },
   {
    "duration": 141,
    "start_time": "2024-11-20T07:09:58.951Z"
   },
   {
    "duration": 16,
    "start_time": "2024-11-20T07:09:59.093Z"
   },
   {
    "duration": 2,
    "start_time": "2024-11-20T07:09:59.111Z"
   },
   {
    "duration": 5,
    "start_time": "2024-11-20T07:09:59.115Z"
   },
   {
    "duration": 5,
    "start_time": "2024-11-20T07:09:59.121Z"
   },
   {
    "duration": 9,
    "start_time": "2024-11-20T07:09:59.127Z"
   },
   {
    "duration": 13,
    "start_time": "2024-11-20T07:11:05.792Z"
   },
   {
    "duration": 18,
    "start_time": "2024-11-20T07:11:39.807Z"
   },
   {
    "duration": 13,
    "start_time": "2024-11-20T07:12:02.207Z"
   },
   {
    "duration": 6,
    "start_time": "2024-11-20T07:15:14.849Z"
   },
   {
    "duration": 6,
    "start_time": "2024-11-20T07:15:34.582Z"
   },
   {
    "duration": 7,
    "start_time": "2024-11-20T07:16:37.464Z"
   },
   {
    "duration": 5,
    "start_time": "2024-11-20T07:16:44.504Z"
   },
   {
    "duration": 6,
    "start_time": "2024-11-20T07:16:50.505Z"
   },
   {
    "duration": 63,
    "start_time": "2024-11-20T07:17:28.544Z"
   },
   {
    "duration": 6,
    "start_time": "2024-11-20T07:17:51.093Z"
   },
   {
    "duration": 12,
    "start_time": "2024-11-20T07:18:00.249Z"
   },
   {
    "duration": 6,
    "start_time": "2024-11-20T07:18:08.249Z"
   },
   {
    "duration": 6,
    "start_time": "2024-11-20T07:22:31.570Z"
   },
   {
    "duration": 6,
    "start_time": "2024-11-20T07:22:53.275Z"
   },
   {
    "duration": 6,
    "start_time": "2024-11-20T07:23:01.442Z"
   },
   {
    "duration": 5,
    "start_time": "2024-11-20T07:24:28.579Z"
   },
   {
    "duration": 227,
    "start_time": "2024-11-20T07:35:39.465Z"
   },
   {
    "duration": 11,
    "start_time": "2024-11-20T07:35:50.288Z"
   },
   {
    "duration": 9,
    "start_time": "2024-11-20T07:35:54.376Z"
   },
   {
    "duration": 1090,
    "start_time": "2024-11-20T07:35:58.421Z"
   },
   {
    "duration": 30,
    "start_time": "2024-11-20T07:35:59.513Z"
   },
   {
    "duration": 30,
    "start_time": "2024-11-20T07:35:59.544Z"
   },
   {
    "duration": 16,
    "start_time": "2024-11-20T07:35:59.576Z"
   },
   {
    "duration": 13,
    "start_time": "2024-11-20T07:35:59.594Z"
   },
   {
    "duration": 11,
    "start_time": "2024-11-20T07:35:59.609Z"
   },
   {
    "duration": 19,
    "start_time": "2024-11-20T07:35:59.622Z"
   },
   {
    "duration": 29,
    "start_time": "2024-11-20T07:35:59.642Z"
   },
   {
    "duration": 7,
    "start_time": "2024-11-20T07:35:59.673Z"
   },
   {
    "duration": 12,
    "start_time": "2024-11-20T07:35:59.682Z"
   },
   {
    "duration": 7,
    "start_time": "2024-11-20T07:35:59.696Z"
   },
   {
    "duration": 12,
    "start_time": "2024-11-20T07:35:59.704Z"
   },
   {
    "duration": 4,
    "start_time": "2024-11-20T07:35:59.718Z"
   },
   {
    "duration": 6,
    "start_time": "2024-11-20T07:35:59.725Z"
   },
   {
    "duration": 38,
    "start_time": "2024-11-20T07:35:59.733Z"
   },
   {
    "duration": 6,
    "start_time": "2024-11-20T07:35:59.773Z"
   },
   {
    "duration": 7,
    "start_time": "2024-11-20T07:35:59.781Z"
   },
   {
    "duration": 7,
    "start_time": "2024-11-20T07:35:59.789Z"
   },
   {
    "duration": 5,
    "start_time": "2024-11-20T07:35:59.798Z"
   },
   {
    "duration": 6,
    "start_time": "2024-11-20T07:35:59.805Z"
   },
   {
    "duration": 8,
    "start_time": "2024-11-20T07:35:59.813Z"
   },
   {
    "duration": 53,
    "start_time": "2024-11-20T07:35:59.822Z"
   },
   {
    "duration": 186,
    "start_time": "2024-11-20T07:35:59.876Z"
   },
   {
    "duration": 134,
    "start_time": "2024-11-20T07:36:00.064Z"
   },
   {
    "duration": 194,
    "start_time": "2024-11-20T07:36:00.200Z"
   },
   {
    "duration": 103,
    "start_time": "2024-11-20T07:36:00.396Z"
   },
   {
    "duration": 0,
    "start_time": "2024-11-20T07:36:00.501Z"
   },
   {
    "duration": 0,
    "start_time": "2024-11-20T07:36:00.502Z"
   },
   {
    "duration": 0,
    "start_time": "2024-11-20T07:36:00.503Z"
   },
   {
    "duration": 0,
    "start_time": "2024-11-20T07:36:00.504Z"
   },
   {
    "duration": 0,
    "start_time": "2024-11-20T07:36:00.505Z"
   },
   {
    "duration": 0,
    "start_time": "2024-11-20T07:36:00.506Z"
   },
   {
    "duration": 0,
    "start_time": "2024-11-20T07:36:00.506Z"
   },
   {
    "duration": 0,
    "start_time": "2024-11-20T07:36:00.507Z"
   },
   {
    "duration": 0,
    "start_time": "2024-11-20T07:36:00.508Z"
   },
   {
    "duration": 0,
    "start_time": "2024-11-20T07:36:00.509Z"
   },
   {
    "duration": 0,
    "start_time": "2024-11-20T07:36:00.510Z"
   },
   {
    "duration": 0,
    "start_time": "2024-11-20T07:36:00.511Z"
   },
   {
    "duration": 0,
    "start_time": "2024-11-20T07:36:00.512Z"
   },
   {
    "duration": 115,
    "start_time": "2024-11-20T07:37:53.795Z"
   },
   {
    "duration": 115,
    "start_time": "2024-11-20T07:38:05.179Z"
   },
   {
    "duration": 107,
    "start_time": "2024-11-20T07:38:17.019Z"
   },
   {
    "duration": 94,
    "start_time": "2024-11-20T07:41:46.608Z"
   },
   {
    "duration": 96,
    "start_time": "2024-11-20T07:43:04.444Z"
   },
   {
    "duration": 107,
    "start_time": "2024-11-20T07:43:09.485Z"
   },
   {
    "duration": 194,
    "start_time": "2024-11-20T07:43:14.302Z"
   },
   {
    "duration": 110,
    "start_time": "2024-11-20T07:44:05.534Z"
   },
   {
    "duration": 96,
    "start_time": "2024-11-20T07:48:39.106Z"
   },
   {
    "duration": 99,
    "start_time": "2024-11-20T07:50:24.140Z"
   },
   {
    "duration": 102,
    "start_time": "2024-11-20T07:51:12.283Z"
   },
   {
    "duration": 251,
    "start_time": "2024-11-20T07:52:40.407Z"
   },
   {
    "duration": 1128,
    "start_time": "2024-11-20T07:52:44.509Z"
   },
   {
    "duration": 30,
    "start_time": "2024-11-20T07:52:45.639Z"
   },
   {
    "duration": 29,
    "start_time": "2024-11-20T07:52:45.670Z"
   },
   {
    "duration": 15,
    "start_time": "2024-11-20T07:52:45.702Z"
   },
   {
    "duration": 12,
    "start_time": "2024-11-20T07:52:45.719Z"
   },
   {
    "duration": 37,
    "start_time": "2024-11-20T07:52:45.733Z"
   },
   {
    "duration": 9,
    "start_time": "2024-11-20T07:52:45.772Z"
   },
   {
    "duration": 17,
    "start_time": "2024-11-20T07:52:45.782Z"
   },
   {
    "duration": 7,
    "start_time": "2024-11-20T07:52:45.800Z"
   },
   {
    "duration": 10,
    "start_time": "2024-11-20T07:52:45.810Z"
   },
   {
    "duration": 16,
    "start_time": "2024-11-20T07:52:45.821Z"
   },
   {
    "duration": 10,
    "start_time": "2024-11-20T07:52:45.838Z"
   },
   {
    "duration": 21,
    "start_time": "2024-11-20T07:52:45.850Z"
   },
   {
    "duration": 6,
    "start_time": "2024-11-20T07:52:45.873Z"
   },
   {
    "duration": 4,
    "start_time": "2024-11-20T07:52:45.881Z"
   },
   {
    "duration": 6,
    "start_time": "2024-11-20T07:52:45.887Z"
   },
   {
    "duration": 6,
    "start_time": "2024-11-20T07:52:45.895Z"
   },
   {
    "duration": 11,
    "start_time": "2024-11-20T07:52:45.902Z"
   },
   {
    "duration": 10,
    "start_time": "2024-11-20T07:52:45.914Z"
   },
   {
    "duration": 6,
    "start_time": "2024-11-20T07:52:45.925Z"
   },
   {
    "duration": 44,
    "start_time": "2024-11-20T07:52:45.932Z"
   },
   {
    "duration": 8,
    "start_time": "2024-11-20T07:52:45.978Z"
   },
   {
    "duration": 197,
    "start_time": "2024-11-20T07:52:45.987Z"
   },
   {
    "duration": 144,
    "start_time": "2024-11-20T07:52:46.186Z"
   },
   {
    "duration": 197,
    "start_time": "2024-11-20T07:52:46.332Z"
   },
   {
    "duration": 116,
    "start_time": "2024-11-20T07:52:46.531Z"
   },
   {
    "duration": 238,
    "start_time": "2024-11-20T07:52:46.649Z"
   },
   {
    "duration": 252,
    "start_time": "2024-11-20T07:52:46.890Z"
   },
   {
    "duration": 35,
    "start_time": "2024-11-20T07:52:47.144Z"
   },
   {
    "duration": 18,
    "start_time": "2024-11-20T07:52:47.180Z"
   },
   {
    "duration": 16,
    "start_time": "2024-11-20T07:52:47.199Z"
   },
   {
    "duration": 204,
    "start_time": "2024-11-20T07:52:47.216Z"
   },
   {
    "duration": 267,
    "start_time": "2024-11-20T07:52:47.422Z"
   },
   {
    "duration": 58,
    "start_time": "2024-11-20T07:52:47.691Z"
   },
   {
    "duration": 29,
    "start_time": "2024-11-20T07:52:47.751Z"
   },
   {
    "duration": 3,
    "start_time": "2024-11-20T07:52:47.781Z"
   },
   {
    "duration": 5,
    "start_time": "2024-11-20T07:52:47.785Z"
   },
   {
    "duration": 11,
    "start_time": "2024-11-20T07:52:47.792Z"
   },
   {
    "duration": 11,
    "start_time": "2024-11-20T07:52:47.805Z"
   },
   {
    "duration": 203,
    "start_time": "2024-11-20T07:56:40.924Z"
   },
   {
    "duration": 122,
    "start_time": "2024-11-20T07:56:50.877Z"
   },
   {
    "duration": 125,
    "start_time": "2024-11-20T07:58:27.502Z"
   },
   {
    "duration": 5,
    "start_time": "2024-11-20T08:19:41.469Z"
   },
   {
    "duration": 4,
    "start_time": "2024-11-20T08:19:46.751Z"
   },
   {
    "duration": 4,
    "start_time": "2024-11-20T08:20:20.650Z"
   },
   {
    "duration": 3,
    "start_time": "2024-11-20T08:22:21.638Z"
   },
   {
    "duration": 11,
    "start_time": "2024-11-20T08:24:58.781Z"
   },
   {
    "duration": 19,
    "start_time": "2024-11-20T08:28:23.767Z"
   },
   {
    "duration": 6,
    "start_time": "2024-11-20T08:28:39.335Z"
   },
   {
    "duration": 5,
    "start_time": "2024-11-20T08:29:24.146Z"
   },
   {
    "duration": 6,
    "start_time": "2024-11-20T08:29:35.072Z"
   },
   {
    "duration": 1207,
    "start_time": "2024-11-20T08:30:07.629Z"
   },
   {
    "duration": 29,
    "start_time": "2024-11-20T08:30:08.838Z"
   },
   {
    "duration": 29,
    "start_time": "2024-11-20T08:30:08.868Z"
   },
   {
    "duration": 16,
    "start_time": "2024-11-20T08:30:08.899Z"
   },
   {
    "duration": 13,
    "start_time": "2024-11-20T08:30:08.916Z"
   },
   {
    "duration": 12,
    "start_time": "2024-11-20T08:30:08.931Z"
   },
   {
    "duration": 88,
    "start_time": "2024-11-20T08:30:08.944Z"
   },
   {
    "duration": 12,
    "start_time": "2024-11-20T08:30:09.033Z"
   },
   {
    "duration": 8,
    "start_time": "2024-11-20T08:30:09.046Z"
   },
   {
    "duration": 11,
    "start_time": "2024-11-20T08:30:09.056Z"
   },
   {
    "duration": 9,
    "start_time": "2024-11-20T08:30:09.069Z"
   },
   {
    "duration": 10,
    "start_time": "2024-11-20T08:30:09.080Z"
   },
   {
    "duration": 5,
    "start_time": "2024-11-20T08:30:09.091Z"
   },
   {
    "duration": 92,
    "start_time": "2024-11-20T08:30:09.097Z"
   },
   {
    "duration": 11,
    "start_time": "2024-11-20T08:30:09.191Z"
   },
   {
    "duration": 5,
    "start_time": "2024-11-20T08:30:09.204Z"
   },
   {
    "duration": 26,
    "start_time": "2024-11-20T08:30:09.211Z"
   },
   {
    "duration": 6,
    "start_time": "2024-11-20T08:30:09.239Z"
   },
   {
    "duration": 6,
    "start_time": "2024-11-20T08:30:09.247Z"
   },
   {
    "duration": 10,
    "start_time": "2024-11-20T08:30:09.254Z"
   },
   {
    "duration": 10,
    "start_time": "2024-11-20T08:30:09.266Z"
   },
   {
    "duration": 8,
    "start_time": "2024-11-20T08:30:09.278Z"
   },
   {
    "duration": 197,
    "start_time": "2024-11-20T08:30:09.288Z"
   },
   {
    "duration": 149,
    "start_time": "2024-11-20T08:30:09.486Z"
   },
   {
    "duration": 208,
    "start_time": "2024-11-20T08:30:09.637Z"
   },
   {
    "duration": 119,
    "start_time": "2024-11-20T08:30:09.847Z"
   },
   {
    "duration": 247,
    "start_time": "2024-11-20T08:30:09.970Z"
   },
   {
    "duration": 141,
    "start_time": "2024-11-20T08:30:10.222Z"
   },
   {
    "duration": 262,
    "start_time": "2024-11-20T08:30:10.365Z"
   },
   {
    "duration": 218,
    "start_time": "2024-11-20T08:30:10.629Z"
   },
   {
    "duration": 34,
    "start_time": "2024-11-20T08:30:10.849Z"
   },
   {
    "duration": 3,
    "start_time": "2024-11-20T08:30:10.885Z"
   },
   {
    "duration": 25,
    "start_time": "2024-11-20T08:30:10.890Z"
   },
   {
    "duration": 16,
    "start_time": "2024-11-20T08:30:10.917Z"
   },
   {
    "duration": 202,
    "start_time": "2024-11-20T08:30:10.934Z"
   },
   {
    "duration": 200,
    "start_time": "2024-11-20T08:30:11.138Z"
   },
   {
    "duration": 9,
    "start_time": "2024-11-20T08:30:11.339Z"
   },
   {
    "duration": 75,
    "start_time": "2024-11-20T08:30:11.350Z"
   },
   {
    "duration": 16,
    "start_time": "2024-11-20T08:30:11.427Z"
   },
   {
    "duration": 2,
    "start_time": "2024-11-20T08:30:11.445Z"
   },
   {
    "duration": 22,
    "start_time": "2024-11-20T08:30:11.449Z"
   },
   {
    "duration": 6,
    "start_time": "2024-11-20T08:30:11.473Z"
   },
   {
    "duration": 9,
    "start_time": "2024-11-20T08:30:11.481Z"
   },
   {
    "duration": 5,
    "start_time": "2024-11-20T08:36:50.757Z"
   },
   {
    "duration": 4,
    "start_time": "2024-11-20T08:37:08.655Z"
   },
   {
    "duration": 1134,
    "start_time": "2024-11-20T08:54:57.391Z"
   },
   {
    "duration": 29,
    "start_time": "2024-11-20T08:54:58.527Z"
   },
   {
    "duration": 29,
    "start_time": "2024-11-20T08:54:58.558Z"
   },
   {
    "duration": 15,
    "start_time": "2024-11-20T08:54:58.589Z"
   },
   {
    "duration": 13,
    "start_time": "2024-11-20T08:54:58.607Z"
   },
   {
    "duration": 12,
    "start_time": "2024-11-20T08:54:58.622Z"
   },
   {
    "duration": 10,
    "start_time": "2024-11-20T08:54:58.636Z"
   },
   {
    "duration": 26,
    "start_time": "2024-11-20T08:54:58.647Z"
   },
   {
    "duration": 9,
    "start_time": "2024-11-20T08:54:58.675Z"
   },
   {
    "duration": 10,
    "start_time": "2024-11-20T08:54:58.686Z"
   },
   {
    "duration": 9,
    "start_time": "2024-11-20T08:54:58.698Z"
   },
   {
    "duration": 12,
    "start_time": "2024-11-20T08:54:58.709Z"
   },
   {
    "duration": 5,
    "start_time": "2024-11-20T08:54:58.723Z"
   },
   {
    "duration": 7,
    "start_time": "2024-11-20T08:54:58.772Z"
   },
   {
    "duration": 5,
    "start_time": "2024-11-20T08:54:58.780Z"
   },
   {
    "duration": 6,
    "start_time": "2024-11-20T08:54:58.787Z"
   },
   {
    "duration": 6,
    "start_time": "2024-11-20T08:54:58.794Z"
   },
   {
    "duration": 6,
    "start_time": "2024-11-20T08:54:58.802Z"
   },
   {
    "duration": 6,
    "start_time": "2024-11-20T08:54:58.810Z"
   },
   {
    "duration": 6,
    "start_time": "2024-11-20T08:54:58.817Z"
   },
   {
    "duration": 8,
    "start_time": "2024-11-20T08:54:58.871Z"
   },
   {
    "duration": 8,
    "start_time": "2024-11-20T08:54:58.881Z"
   },
   {
    "duration": 193,
    "start_time": "2024-11-20T08:54:58.891Z"
   },
   {
    "duration": 142,
    "start_time": "2024-11-20T08:54:59.085Z"
   },
   {
    "duration": 217,
    "start_time": "2024-11-20T08:54:59.229Z"
   },
   {
    "duration": 136,
    "start_time": "2024-11-20T08:54:59.448Z"
   },
   {
    "duration": 234,
    "start_time": "2024-11-20T08:54:59.586Z"
   },
   {
    "duration": 126,
    "start_time": "2024-11-20T08:54:59.821Z"
   },
   {
    "duration": 241,
    "start_time": "2024-11-20T08:54:59.948Z"
   },
   {
    "duration": 213,
    "start_time": "2024-11-20T08:55:00.190Z"
   },
   {
    "duration": 25,
    "start_time": "2024-11-20T08:55:00.405Z"
   },
   {
    "duration": 95,
    "start_time": "2024-11-20T08:55:00.431Z"
   },
   {
    "duration": 51,
    "start_time": "2024-11-20T08:55:00.528Z"
   },
   {
    "duration": 22,
    "start_time": "2024-11-20T08:55:00.581Z"
   },
   {
    "duration": 221,
    "start_time": "2024-11-20T08:55:00.605Z"
   },
   {
    "duration": 203,
    "start_time": "2024-11-20T08:55:00.828Z"
   },
   {
    "duration": 10,
    "start_time": "2024-11-20T08:55:01.033Z"
   },
   {
    "duration": 106,
    "start_time": "2024-11-20T08:55:01.044Z"
   },
   {
    "duration": 17,
    "start_time": "2024-11-20T08:55:01.152Z"
   },
   {
    "duration": 3,
    "start_time": "2024-11-20T08:55:01.171Z"
   },
   {
    "duration": 6,
    "start_time": "2024-11-20T08:55:01.179Z"
   },
   {
    "duration": 69,
    "start_time": "2024-11-20T08:55:01.187Z"
   },
   {
    "duration": 55,
    "start_time": "2024-11-20T08:55:01.258Z"
   },
   {
    "duration": 1154,
    "start_time": "2024-11-20T11:25:59.293Z"
   },
   {
    "duration": 34,
    "start_time": "2024-11-20T11:26:00.452Z"
   },
   {
    "duration": 60,
    "start_time": "2024-11-20T11:26:00.488Z"
   },
   {
    "duration": 17,
    "start_time": "2024-11-20T11:26:00.550Z"
   },
   {
    "duration": 26,
    "start_time": "2024-11-20T11:26:00.569Z"
   },
   {
    "duration": 14,
    "start_time": "2024-11-20T11:26:00.597Z"
   },
   {
    "duration": 10,
    "start_time": "2024-11-20T11:26:00.613Z"
   },
   {
    "duration": 23,
    "start_time": "2024-11-20T11:26:00.624Z"
   },
   {
    "duration": 16,
    "start_time": "2024-11-20T11:26:00.649Z"
   },
   {
    "duration": 16,
    "start_time": "2024-11-20T11:26:00.666Z"
   },
   {
    "duration": 30,
    "start_time": "2024-11-20T11:26:00.684Z"
   },
   {
    "duration": 11,
    "start_time": "2024-11-20T11:26:00.715Z"
   },
   {
    "duration": 21,
    "start_time": "2024-11-20T11:26:00.727Z"
   },
   {
    "duration": 7,
    "start_time": "2024-11-20T11:26:00.751Z"
   },
   {
    "duration": 5,
    "start_time": "2024-11-20T11:26:00.759Z"
   },
   {
    "duration": 7,
    "start_time": "2024-11-20T11:26:00.765Z"
   },
   {
    "duration": 90,
    "start_time": "2024-11-20T11:26:00.773Z"
   },
   {
    "duration": 11,
    "start_time": "2024-11-20T11:26:00.864Z"
   },
   {
    "duration": 16,
    "start_time": "2024-11-20T11:26:00.876Z"
   },
   {
    "duration": 24,
    "start_time": "2024-11-20T11:26:00.893Z"
   },
   {
    "duration": 26,
    "start_time": "2024-11-20T11:26:00.919Z"
   },
   {
    "duration": 16,
    "start_time": "2024-11-20T11:26:00.947Z"
   },
   {
    "duration": 189,
    "start_time": "2024-11-20T11:26:00.965Z"
   },
   {
    "duration": 147,
    "start_time": "2024-11-20T11:26:01.156Z"
   },
   {
    "duration": 210,
    "start_time": "2024-11-20T11:26:01.305Z"
   },
   {
    "duration": 117,
    "start_time": "2024-11-20T11:26:01.517Z"
   },
   {
    "duration": 250,
    "start_time": "2024-11-20T11:26:01.635Z"
   },
   {
    "duration": 139,
    "start_time": "2024-11-20T11:26:01.887Z"
   },
   {
    "duration": 367,
    "start_time": "2024-11-20T11:26:02.028Z"
   },
   {
    "duration": 227,
    "start_time": "2024-11-20T11:26:02.397Z"
   },
   {
    "duration": 37,
    "start_time": "2024-11-20T11:26:02.626Z"
   },
   {
    "duration": 3,
    "start_time": "2024-11-20T11:26:02.665Z"
   },
   {
    "duration": 20,
    "start_time": "2024-11-20T11:26:02.669Z"
   },
   {
    "duration": 36,
    "start_time": "2024-11-20T11:26:02.690Z"
   },
   {
    "duration": 192,
    "start_time": "2024-11-20T11:26:02.728Z"
   },
   {
    "duration": 195,
    "start_time": "2024-11-20T11:26:02.921Z"
   },
   {
    "duration": 10,
    "start_time": "2024-11-20T11:26:03.117Z"
   },
   {
    "duration": 133,
    "start_time": "2024-11-20T11:26:03.128Z"
   },
   {
    "duration": 16,
    "start_time": "2024-11-20T11:26:03.262Z"
   },
   {
    "duration": 25,
    "start_time": "2024-11-20T11:26:03.279Z"
   },
   {
    "duration": 16,
    "start_time": "2024-11-20T11:26:03.307Z"
   },
   {
    "duration": 30,
    "start_time": "2024-11-20T11:26:03.325Z"
   },
   {
    "duration": 84,
    "start_time": "2024-11-20T11:26:03.356Z"
   }
  ],
  "kernelspec": {
   "display_name": "Python 3 (ipykernel)",
   "language": "python",
   "name": "python3"
  },
  "language_info": {
   "codemirror_mode": {
    "name": "ipython",
    "version": 3
   },
   "file_extension": ".py",
   "mimetype": "text/x-python",
   "name": "python",
   "nbconvert_exporter": "python",
   "pygments_lexer": "ipython3",
   "version": "3.12.4"
  },
  "toc": {
   "base_numbering": 1,
   "nav_menu": {},
   "number_sections": true,
   "sideBar": true,
   "skip_h1_title": true,
   "title_cell": "Table of Contents",
   "title_sidebar": "Contents",
   "toc_cell": false,
   "toc_position": {
    "height": "calc(100% - 180px)",
    "left": "10px",
    "top": "150px",
    "width": "234.385px"
   },
   "toc_section_display": true,
   "toc_window_display": true
  }
 },
 "nbformat": 4,
 "nbformat_minor": 5
}
